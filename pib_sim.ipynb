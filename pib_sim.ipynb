{
 "cells": [
  {
   "cell_type": "code",
   "execution_count": null,
   "metadata": {
    "collapsed": false
   },
   "outputs": [],
   "source": [
    "import sympy\n",
    "sympy.init_printing()\n",
    "from sympy.abc import x,phi,v,g,k\n",
    "import matplotlib.style\n",
    "matplotlib.style.use('ggplot')"
   ]
  },
  {
   "cell_type": "code",
   "execution_count": null,
   "metadata": {
    "collapsed": false
   },
   "outputs": [],
   "source": [
    "eq=1/(2*pi)-1/(2*pi*v)*sympy.sin(phi)"
   ]
  },
  {
   "cell_type": "code",
   "execution_count": null,
   "metadata": {
    "collapsed": false
   },
   "outputs": [],
   "source": [
    "sympy.solve(sympy.Eq(eq,0),v)"
   ]
  },
  {
   "cell_type": "code",
   "execution_count": null,
   "metadata": {
    "collapsed": false
   },
   "outputs": [],
   "source": [
    "b=sympy.asin(.2)\n",
    "b"
   ]
  },
  {
   "cell_type": "code",
   "execution_count": null,
   "metadata": {
    "collapsed": false
   },
   "outputs": [],
   "source": [
    "bb=sympy.integrate(eq,(phi,pi-g,2*pi+g))\n",
    "bb"
   ]
  },
  {
   "cell_type": "code",
   "execution_count": null,
   "metadata": {
    "collapsed": false
   },
   "outputs": [],
   "source": [
    "bb.subs(g,sympy.asin(v)).subs(v,1).evalf()"
   ]
  },
  {
   "cell_type": "code",
   "execution_count": null,
   "metadata": {
    "collapsed": false
   },
   "outputs": [],
   "source": [
    "%matplotlib notebook\n",
    "sympy.plot(2*pi*eq.subs(v,.9),(phi,0,2*pi))"
   ]
  },
  {
   "cell_type": "code",
   "execution_count": null,
   "metadata": {
    "collapsed": false
   },
   "outputs": [],
   "source": [
    "sympy.limit(x*sympy.log(x)/x,x,.1)"
   ]
  },
  {
   "cell_type": "code",
   "execution_count": null,
   "metadata": {
    "collapsed": false
   },
   "outputs": [],
   "source": [
    "\"\"\"\n",
    "Animation of Elastic collisions with Gravity\n",
    "\n",
    "author: Jake Vanderplas\n",
    "email: vanderplas@astro.washington.edu\n",
    "website: http://jakevdp.github.com\n",
    "license: BSD\n",
    "Please feel free to use and modify this, but keep the above information. Thanks!\n",
    "\"\"\"\n",
    "# Extend\n",
    "# http://www.mate.tue.nl/mate/pdfs/12804.pdf\n",
    "\n",
    "%matplotlib notebook\n",
    "import numpy as np\n",
    "from scipy.spatial.distance import pdist, squareform\n",
    "\n",
    "import matplotlib.pyplot as plt\n",
    "import scipy.integrate as integrate\n",
    "import matplotlib.animation as animation\n",
    "\n",
    "class ParticleBox:\n",
    "    \"\"\"Orbits class\n",
    "    \n",
    "    init_state is an [N x 4] array, where N is the number of particles:\n",
    "       [[x1, y1, vx1, vy1],\n",
    "        [x2, y2, vx2, vy2],\n",
    "        ...               ]\n",
    "\n",
    "    bounds is the size of the box: [xmin, xmax, ymin, ymax]\n",
    "    \"\"\"\n",
    "    def __init__(self,\n",
    "                 init_state = [[1, 0, 0, -1],\n",
    "                               [-0.5, 0.5, 0.5, 0.5],\n",
    "                               [-0.5, -0.5, -0.5, 0.5]],\n",
    "                 bounds = [-2, 2, -2, 2],\n",
    "                 size = 0.04,\n",
    "                 M = 0.05,\n",
    "                 G = 9.8):\n",
    "        self.init_state = np.asarray(init_state, dtype=float)\n",
    "        self.M = M * np.ones(self.init_state.shape[0])\n",
    "        self.size = size\n",
    "        self.state = self.init_state.copy()\n",
    "        self.time_elapsed = 0\n",
    "        self.bounds = bounds\n",
    "        self.G = G\n",
    "\n",
    "    def step(self, dt):\n",
    "        \"\"\"step once by dt seconds\"\"\"\n",
    "        self.time_elapsed += dt\n",
    "        \n",
    "        # update positions\n",
    "        self.state[:, :2] += dt * self.state[:, 2:]\n",
    "\n",
    "        # find pairs of particles undergoing a collision\n",
    "        D = squareform(pdist(self.state[:, :2]))\n",
    "        ind1, ind2 = np.where(D < 2 * self.size)\n",
    "        unique = (ind1 < ind2)\n",
    "        ind1 = ind1[unique]\n",
    "        ind2 = ind2[unique]\n",
    "\n",
    "        # update velocities of colliding pairs\n",
    "        for i1, i2 in zip(ind1, ind2):\n",
    "            # mass\n",
    "            m1 = self.M[i1]\n",
    "            m2 = self.M[i2]\n",
    "\n",
    "            # location vector\n",
    "            r1 = self.state[i1, :2]\n",
    "            r2 = self.state[i2, :2]\n",
    "\n",
    "            # velocity vector\n",
    "            v1 = self.state[i1, 2:]\n",
    "            v2 = self.state[i2, 2:]\n",
    "\n",
    "            # relative location & velocity vectors\n",
    "            r_rel = r1 - r2\n",
    "            v_rel = v1 - v2\n",
    "\n",
    "            # momentum vector of the center of mass\n",
    "            v_cm = (m1 * v1 + m2 * v2) / (m1 + m2)\n",
    "\n",
    "            # collisions of spheres reflect v_rel over r_rel\n",
    "            rr_rel = np.dot(r_rel, r_rel)\n",
    "            vr_rel = np.dot(v_rel, r_rel)\n",
    "            v_rel = 2 * r_rel * vr_rel / rr_rel - v_rel\n",
    "\n",
    "            # assign new velocities\n",
    "            self.state[i1, 2:] = v_cm + v_rel * m2 / (m1 + m2)\n",
    "            self.state[i2, 2:] = v_cm - v_rel * m1 / (m1 + m2) \n",
    "\n",
    "        # check for crossing boundary\n",
    "        crossed_x1 = (self.state[:, 0] < self.bounds[0] + self.size)\n",
    "        crossed_x2 = (self.state[:, 0] > self.bounds[1] - self.size)\n",
    "        crossed_y1 = (self.state[:, 1] < self.bounds[2] + self.size)\n",
    "        crossed_y2 = (self.state[:, 1] > self.bounds[3] - self.size)\n",
    "\n",
    "        self.state[crossed_x1, 0] = self.bounds[0] + self.size\n",
    "        self.state[crossed_x2, 0] = self.bounds[1] - self.size\n",
    "\n",
    "        self.state[crossed_y1, 1] = self.bounds[2] + self.size\n",
    "        self.state[crossed_y2, 1] = self.bounds[3] - self.size\n",
    "\n",
    "        self.state[crossed_x1 | crossed_x2, 2] *= -1\n",
    "        self.state[crossed_y1 | crossed_y2, 3] *= -1\n",
    "\n",
    "        # add gravity\n",
    "        self.state[:, 3] -= self.M * self.G * dt\n",
    "\n",
    "\n",
    "#------------------------------------------------------------\n",
    "# set up initial state\n",
    "np.random.seed(0)\n",
    "init_state = -0.5 + np.random.random((10, 4))\n",
    "init_state[:, :2] *= 3.9\n",
    "np.random.seed(0)\n",
    "init_state2 = -0.5 + np.random.random((50, 4))\n",
    "init_state2[:, :2] *= 3.9\n",
    "\n",
    "box = ParticleBox(init_state, bounds = [-.4, .4, -2, 2],size=0.04)\n",
    "box2 = ParticleBox(init_state2, bounds = [-2, 2, -2, 2],size=0.04)\n",
    "dt = 1. / 30 # 30fps\n",
    "\n",
    "\n",
    "#------------------------------------------------------------\n",
    "# set up figure and animation\n",
    "fig = plt.figure()\n",
    "fig.subplots_adjust(left=0, right=1, bottom=0, top=1)\n",
    "ax = fig.add_subplot(131, aspect='equal', autoscale_on=False,\n",
    "                     xlim=(-3.2, 3.2), ylim=(-2.4, 2.4))\n",
    "ax2 = fig.add_subplot(132, aspect='equal', autoscale_on=False,\n",
    "                     xlim=(-3.2, 3.2), ylim=(-2.4, 2.4))\n",
    "ax3 = fig.add_subplot(133,xlim=(0, 1000), ylim=(-2.4, 2.4))\n",
    "\n",
    "# particles holds the locations of the particles\n",
    "particles, = ax.plot([], [], 'bo', ms=6)\n",
    "particles2, = ax2.plot([], [], 'bo', ms=6)\n",
    "avg_line, = ax3.plot([],[],'b')\n",
    "avg_line2, = ax3.plot([],[],'g')\n",
    "avg_text  = ax3.text(200,2,str(0))\n",
    "avg_text2  = ax3.text(200,1,str(0))\n",
    "avg=[]\n",
    "avg2=[]\n",
    "tt=[]\n",
    "\n",
    "# rect is the box edge\n",
    "rect = plt.Rectangle(box.bounds[::2],\n",
    "                     box.bounds[1] - box.bounds[0],\n",
    "                     box.bounds[3] - box.bounds[2],\n",
    "                     ec='none', lw=2, fc='none')\n",
    "ax.add_patch(rect)\n",
    "\n",
    "rect2 = plt.Rectangle(box2.bounds[::2],\n",
    "                     box2.bounds[1] - box2.bounds[0],\n",
    "                     box2.bounds[3] - box2.bounds[2],\n",
    "                     ec='none', lw=2, fc='none')\n",
    "ax2.add_patch(rect2)\n",
    "\n",
    "\n",
    "def init():\n",
    "    \"\"\"initialize animation\"\"\"\n",
    "    global box, rect,avg_line,avg_text,rect2,avg_text,avg_text2\n",
    "    particles.set_data([], [])\n",
    "    rect.set_edgecolor('none')\n",
    "    rect2.set_edgecolor('none')\n",
    "    avg_line.set_data([],[])\n",
    "    avg_line2.set_data([],[])\n",
    "    return particles, rect ,particles2,rect2,avg_line,avg_line2,avg_text,avg_text2\n",
    "\n",
    "def animate(i):\n",
    "    \"\"\"perform animation step\"\"\"\n",
    "    global box, rect, dt, ax, fig,avg_line,avg_text, rect2,avg_text,avg_text2\n",
    "    box.step(dt)\n",
    "    box2.step(dt)\n",
    "\n",
    "    ms = int(fig.dpi * 2 * box.size * fig.get_figwidth()\n",
    "             / np.diff(ax.get_xbound())[0])\n",
    "    \n",
    "    # update pieces of the animation\n",
    "    rect.set_edgecolor('k')\n",
    "    rect2.set_edgecolor('k')\n",
    "    particles.set_data(box.state[:, 0], box.state[:, 1])\n",
    "    particles2.set_data(box2.state[:, 0], box2.state[:, 1])\n",
    "    avg.append(np.mean(box.state[:, 1]))\n",
    "    avg2.append(np.mean(box2.state[:, 1]))\n",
    "    tt.append(i*dt)\n",
    "    \n",
    "    avgv=np.mean(avg)\n",
    "    avgv2=np.mean(avg2)\n",
    "    avg_line.set_data(tt,avg)\n",
    "    avg_line2.set_data(tt,avg2)\n",
    "    avg_text.set_text(str(avgv))\n",
    "    avg_text2.set_text(str(avgv2))\n",
    "    particles.set_markersize(ms)\n",
    "    particles2.set_markersize(ms)\n",
    "    return particles, rect ,particles2,rect2,avg_line,avg_line2,avg_text,avg_text2\n",
    "\n",
    "ani = animation.FuncAnimation(fig, animate, frames=600,\n",
    "                              interval=10, blit=True, init_func=init)\n",
    "\n",
    "\n",
    "# save the animation as an mp4.  This requires ffmpeg or mencoder to be\n",
    "# installed.  The extra_args ensure that the x264 codec is used, so that\n",
    "# the video can be embedded in html5.  You may need to adjust this for\n",
    "# your system: for more information, see\n",
    "# http://matplotlib.sourceforge.net/api/animation_api.html\n",
    "#ani.save('particle_box.mp4', fps=30, extra_args=['-vcodec', 'libx264'])\n",
    "\n",
    "plt.show()"
   ]
  },
  {
   "cell_type": "code",
   "execution_count": null,
   "metadata": {
    "collapsed": true
   },
   "outputs": [],
   "source": [
    "#pause\n",
    "ani.event_source.stop()"
   ]
  },
  {
   "cell_type": "code",
   "execution_count": null,
   "metadata": {
    "collapsed": true
   },
   "outputs": [],
   "source": [
    "#unpause\n",
    "ani.event_source.start()"
   ]
  },
  {
   "cell_type": "code",
   "execution_count": null,
   "metadata": {
    "collapsed": true
   },
   "outputs": [],
   "source": [
    "ax.set_ylim(-2.4,2.4)"
   ]
  },
  {
   "cell_type": "code",
   "execution_count": null,
   "metadata": {
    "collapsed": true
   },
   "outputs": [],
   "source": [
    "np."
   ]
  }
 ],
 "metadata": {
  "kernelspec": {
   "display_name": "Python 3",
   "language": "python",
   "name": "python3"
  },
  "language_info": {
   "codemirror_mode": {
    "name": "ipython",
    "version": 3
   },
   "file_extension": ".py",
   "mimetype": "text/x-python",
   "name": "python",
   "nbconvert_exporter": "python",
   "pygments_lexer": "ipython3",
   "version": "3.4.4"
  }
 },
 "nbformat": 4,
 "nbformat_minor": 1
}
