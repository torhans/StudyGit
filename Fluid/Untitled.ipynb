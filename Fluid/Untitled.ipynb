{
 "cells": [
  {
   "cell_type": "code",
   "execution_count": 1,
   "metadata": {},
   "outputs": [],
   "source": [
    "from sympy import *\n",
    "init_printing()"
   ]
  },
  {
   "cell_type": "code",
   "execution_count": 54,
   "metadata": {},
   "outputs": [],
   "source": [
    "rho1=Symbol(r\"\\rho_{1}\")\n",
    "rho2=Symbol(r\"\\rho_{2}\")\n",
    "u1=Symbol(r\"u_{1}\")\n",
    "u2=Symbol(r\"u_{2}\")\n",
    "p0=Symbol(r\"p_{0}\")\n",
    "p1=Symbol(r\"p_{1}\")\n",
    "p2=Symbol(r\"p_{2}\")\n",
    "h1=Symbol(r\"h_{1}\")\n",
    "h2=Symbol(r\"h_{2}\")\n",
    "h0=Symbol(r\"h_{0}\")\n",
    "gamma=Symbol(r\"\\gamma\")\n",
    "M1=Symbol(r\"M_{1}\")\n",
    "M2=Symbol(r\"M_{2}\")\n",
    "M=Symbol(r\"M\")\n",
    "a1=Symbol(r\"a_{1}\")\n",
    "a2=Symbol(r\"a_{2}\")\n",
    "p=Symbol(r\"p\")\n",
    "h=Symbol(r\"h\")\n",
    "R=Symbol(r\"R\")\n",
    "T=Symbol(r\"T\")\n",
    "cv=Symbol(r\"c_{v}\")\n",
    "cp=Symbol(r\"c_{p}\")\n",
    "rho=Symbol(r\"\\rho\")\n",
    "a=Symbol(r\"a\")\n",
    "a1=Symbol(r\"a_{1}\")\n",
    "a2=Symbol(r\"a_{2}\")\n",
    "k1=Symbol(r\"k_{1}\")\n",
    "k2=Symbol(r\"k_{2}\")\n",
    "M22=Symbol(r\"M_{2}^{2}\")\n",
    "T1=Symbol(r\"T_{1}\")\n",
    "T2=Symbol(r\"T_{2}\")\n",
    "V1=Symbol(r\"V_{1}\")\n",
    "V2=Symbol(r\"V_{2}\")\n",
    "ds=Symbol(r\"\\mathrm{d}s\")\n",
    "dT=Symbol(r\"\\mathrm{d}T\")\n",
    "dirho=Symbol(r\"\\mathrm{d}\\left(\\frac{1}{\\rho}\\right)\")\n",
    "de=Symbol(r\"\\mathrm{d}e\")\n",
    "dh=Symbol(r\"\\mathrm{d}h\")\n",
    "dp=Symbol(r\"\\mathrm{d}p\")\n",
    "drho=Symbol(r\"\\mathrm{d}{\\rho}\")\n",
    "d=Function(r\"\\mathrm{d}\")"
   ]
  },
  {
   "cell_type": "code",
   "execution_count": 3,
   "metadata": {},
   "outputs": [
    {
     "data": {
      "image/png": "[encoded data removed]",
      "text/latex": [
       "$$p = R T \\rho$$"
      ],
      "text/plain": [
       "p = R⋅T⋅\\rho"
      ]
     },
     "execution_count": 3,
     "metadata": {},
     "output_type": "execute_result"
    }
   ],
   "source": [
    "Eq(p,rho*R*T)"
   ]
  },
  {
   "cell_type": "code",
   "execution_count": 16,
   "metadata": {},
   "outputs": [
    {
     "data": {
      "image/png": "[encoded data removed]",
      "text/latex": [
       "$$T_{1} c_{v} + 0.5 V_{1}^{2} + \\frac{p_{1}}{\\rho_{1}} = T_{2} c_{v} + 0.5 V_{2}^{2} + \\frac{p_{2}}{\\rho_{2}}$$"
      ],
      "text/plain": [
       "                       2    p_{1}                            2    p_{2}  \n",
       "T_{1}⋅c_{v} + 0.5⋅V_{1}  + ──────── = T_{2}⋅c_{v} + 0.5⋅V_{2}  + ────────\n",
       "                           \\rho_{1}                              \\rho_{2}"
      ]
     },
     "execution_count": 16,
     "metadata": {},
     "output_type": "execute_result"
    }
   ],
   "source": [
    "Eq(cv*T1+p1/rho1+1/2*V1**2,cv*T2+p2/rho2+1/2*V2**2)"
   ]
  },
  {
   "cell_type": "code",
   "execution_count": 40,
   "metadata": {},
   "outputs": [
    {
     "data": {
      "image/png": "[encoded data removed]",
      "text/latex": [
       "$$T \\mathrm{d}s = \\mathrm{d}\\left(\\frac{1}{\\rho}\\right) p + \\mathrm{d}e = \\mathrm{d}\\left(\\frac{1}{\\rho}\\right) p + \\mathrm{d}h - \\mathrm{d}{\\left (\\frac{p}{\\rho} \\right )} = \\mathrm{d}h - \\frac{\\mathrm{d}p}{\\rho}$$"
      ],
      "text/plain": [
       "                                                                              \n",
       "T⋅\\mathrm{d}s = \\mathrm{d}\\left(\\frac{1}{\\rho}\\right)⋅p + \\mathrm{d}e = \\mathr\n",
       "                                                                              \n",
       "\n",
       "                                                            ⎛ p  ⎞            \n",
       "m{d}\\left(\\frac{1}{\\rho}\\right)⋅p + \\mathrm{d}h - \\mathrm{d}⎜────⎟ = \\mathrm{d\n",
       "                                                            ⎝\\rho⎠            \n",
       "\n",
       "     \\mathrm{d}p\n",
       "}h - ───────────\n",
       "         \\rho   "
      ]
     },
     "execution_count": 40,
     "metadata": {},
     "output_type": "execute_result"
    }
   ],
   "source": [
    "Eq(Eq(Eq(T*ds,de+p*dirho),p*dirho+dh-d(p/rho)),dh-1/rho*dp)"
   ]
  },
  {
   "cell_type": "code",
   "execution_count": 43,
   "metadata": {},
   "outputs": [
    {
     "data": {
      "image/png": "[encoded data removed]",
      "text/latex": [
       "$$\\mathrm{d}T c_{p} = \\frac{R T}{p} \\mathrm{d}p$$"
      ],
      "text/plain": [
       "                    R⋅T⋅\\mathrm{d}p\n",
       "\\mathrm{d}T⋅c_{p} = ───────────────\n",
       "                           p       "
      ]
     },
     "execution_count": 43,
     "metadata": {},
     "output_type": "execute_result"
    }
   ],
   "source": [
    "Eq(cp*dT,R*T/p*dp)"
   ]
  },
  {
   "cell_type": "code",
   "execution_count": 44,
   "metadata": {},
   "outputs": [
    {
     "data": {
      "image/png": "[encoded data removed]",
      "text/latex": [
       "$$\\mathrm{d}T c_{p} = \\frac{T \\mathrm{d}p}{p} \\left(c_{p} - c_{v}\\right)$$"
      ],
      "text/plain": [
       "                    T⋅\\mathrm{d}p⋅(c_{p} - c_{v})\n",
       "\\mathrm{d}T⋅c_{p} = ─────────────────────────────\n",
       "                                  p              "
      ]
     },
     "execution_count": 44,
     "metadata": {},
     "output_type": "execute_result"
    }
   ],
   "source": [
    "_.subs(R,cp-cv)"
   ]
  },
  {
   "cell_type": "code",
   "execution_count": 45,
   "metadata": {},
   "outputs": [
    {
     "data": {
      "image/png": "[encoded data removed]",
      "text/latex": [
       "$$\\frac{\\mathrm{d}T}{\\mathrm{d}p} = \\frac{T}{p} \\left(1 - \\frac{1}{\\gamma}\\right)$$"
      ],
      "text/plain": [
       "                ⎛      1   ⎞\n",
       "              T⋅⎜1 - ──────⎟\n",
       "\\mathrm{d}T     ⎝    \\gamma⎠\n",
       "─────────── = ──────────────\n",
       "\\mathrm{d}p         p       "
      ]
     },
     "execution_count": 45,
     "metadata": {},
     "output_type": "execute_result"
    }
   ],
   "source": [
    "Eq(dT/dp,T/p*(1-1/gamma))"
   ]
  },
  {
   "cell_type": "code",
   "execution_count": 46,
   "metadata": {},
   "outputs": [
    {
     "data": {
      "image/png": "[encoded data removed]",
      "text/latex": [
       "$$\\frac{\\mathrm{d}T}{T} = \\frac{\\mathrm{d}p}{p} \\left(1 - \\frac{1}{\\gamma}\\right)$$"
      ],
      "text/plain": [
       "                          ⎛      1   ⎞\n",
       "              \\mathrm{d}p⋅⎜1 - ──────⎟\n",
       "\\mathrm{d}T               ⎝    \\gamma⎠\n",
       "─────────── = ────────────────────────\n",
       "     T                   p            "
      ]
     },
     "execution_count": 46,
     "metadata": {},
     "output_type": "execute_result"
    }
   ],
   "source": [
    "Eq(1/T*dT,(1-1/gamma)*1/p*dp)"
   ]
  },
  {
   "cell_type": "code",
   "execution_count": 49,
   "metadata": {},
   "outputs": [
    {
     "data": {
      "image/png": "[encoded data removed]",
      "text/latex": [
       "$$\\log{\\left (\\frac{T}{T_{1}} \\right )} = \\left(1 - \\frac{1}{\\gamma}\\right) \\log{\\left (\\frac{p}{p_{1}} \\right )}$$"
      ],
      "text/plain": [
       "   ⎛  T  ⎞   ⎛      1   ⎞    ⎛  p  ⎞\n",
       "log⎜─────⎟ = ⎜1 - ──────⎟⋅log⎜─────⎟\n",
       "   ⎝T_{1}⎠   ⎝    \\gamma⎠    ⎝p_{1}⎠"
      ]
     },
     "execution_count": 49,
     "metadata": {},
     "output_type": "execute_result"
    }
   ],
   "source": [
    "Eq(log(T/T1),(1-1/gamma)*log(p/p1))"
   ]
  },
  {
   "cell_type": "code",
   "execution_count": 50,
   "metadata": {},
   "outputs": [
    {
     "data": {
      "image/png": "[encoded data removed]",
      "text/latex": [
       "$$\\frac{T}{T_{1}} = \\left(\\frac{p}{p_{1}}\\right)^{1 - \\frac{1}{\\gamma}}$$"
      ],
      "text/plain": [
       "                     1   \n",
       "               1 - ──────\n",
       "                   \\gamma\n",
       "  T     ⎛  p  ⎞          \n",
       "───── = ⎜─────⎟          \n",
       "T_{1}   ⎝p_{1}⎠          "
      ]
     },
     "execution_count": 50,
     "metadata": {},
     "output_type": "execute_result"
    }
   ],
   "source": [
    "Eq(T/T1,(p/p1)**(1-1/gamma))"
   ]
  },
  {
   "cell_type": "code",
   "execution_count": 57,
   "metadata": {},
   "outputs": [
    {
     "data": {
      "image/png": "[encoded data removed]",
      "text/latex": [
       "$$\\mathrm{d}T c_{v} = - R T \\mathrm{d}\\left(\\frac{1}{\\rho}\\right) \\rho$$"
      ],
      "text/plain": [
       "\\mathrm{d}T⋅c_{v} = -R⋅T⋅\\mathrm{d}\\left(\\frac{1}{\\rho}\\right)⋅\\rho"
      ]
     },
     "execution_count": 57,
     "metadata": {},
     "output_type": "execute_result"
    }
   ],
   "source": [
    "Eq(cv*dT,-dirho*R*T*rho)"
   ]
  },
  {
   "cell_type": "code",
   "execution_count": 58,
   "metadata": {},
   "outputs": [
    {
     "data": {
      "image/png": "[encoded data removed]",
      "text/latex": [
       "$$\\mathrm{d}T c_{v} = \\frac{R T}{\\rho} \\mathrm{d}{\\rho}$$"
      ],
      "text/plain": [
       "                    R⋅T⋅\\mathrm{d}{\\rho}\n",
       "\\mathrm{d}T⋅c_{v} = ────────────────────\n",
       "                            \\rho        "
      ]
     },
     "execution_count": 58,
     "metadata": {},
     "output_type": "execute_result"
    }
   ],
   "source": [
    "Eq(cv*dT,drho*R*T/rho)"
   ]
  },
  {
   "cell_type": "code",
   "execution_count": 59,
   "metadata": {},
   "outputs": [
    {
     "data": {
      "image/png": "[encoded data removed]",
      "text/latex": [
       "$$\\mathrm{d}T c_{v} = \\frac{T \\mathrm{d}{\\rho}}{\\rho} \\left(c_{p} - c_{v}\\right)$$"
      ],
      "text/plain": [
       "                    T⋅\\mathrm{d}{\\rho}⋅(c_{p} - c_{v})\n",
       "\\mathrm{d}T⋅c_{v} = ──────────────────────────────────\n",
       "                                   \\rho               "
      ]
     },
     "execution_count": 59,
     "metadata": {},
     "output_type": "execute_result"
    }
   ],
   "source": [
    "_.subs(R,cp-cv)"
   ]
  },
  {
   "cell_type": "code",
   "execution_count": 60,
   "metadata": {},
   "outputs": [
    {
     "data": {
      "image/png": "[encoded data removed]",
      "text/latex": [
       "$$\\frac{\\mathrm{d}T}{T} = \\frac{\\mathrm{d}{\\rho}}{\\rho} \\left(\\gamma - 1\\right)$$"
      ],
      "text/plain": [
       "\\mathrm{d}T   \\mathrm{d}{\\rho}⋅(\\gamma - 1)\n",
       "─────────── = ─────────────────────────────\n",
       "     T                     \\rho            "
      ]
     },
     "execution_count": 60,
     "metadata": {},
     "output_type": "execute_result"
    }
   ],
   "source": [
    "Eq(dT/T,drho/rho*(gamma-1))"
   ]
  },
  {
   "cell_type": "code",
   "execution_count": 61,
   "metadata": {},
   "outputs": [
    {
     "data": {
      "image/png": "[encoded data removed]",
      "text/latex": [
       "$$\\frac{T}{T_{1}} = \\left(\\frac{\\rho}{\\rho_{1}}\\right)^{\\gamma - 1}$$"
      ],
      "text/plain": [
       "                  \\gamma - 1\n",
       "  T     ⎛  \\rho  ⎞          \n",
       "───── = ⎜────────⎟          \n",
       "T_{1}   ⎝\\rho_{1}⎠          "
      ]
     },
     "execution_count": 61,
     "metadata": {},
     "output_type": "execute_result"
    }
   ],
   "source": [
    "Eq(T/T1,(rho/rho1)**(gamma-1))"
   ]
  },
  {
   "cell_type": "code",
   "execution_count": 62,
   "metadata": {},
   "outputs": [
    {
     "data": {
      "image/png": "[encoded data removed]",
      "text/latex": [
       "$$\\frac{p}{p_{1}} = \\left(\\frac{\\rho}{\\rho_{1}}\\right)^{\\gamma}$$"
      ],
      "text/plain": [
       "                  \\gamma\n",
       "  p     ⎛  \\rho  ⎞      \n",
       "───── = ⎜────────⎟      \n",
       "p_{1}   ⎝\\rho_{1}⎠      "
      ]
     },
     "execution_count": 62,
     "metadata": {},
     "output_type": "execute_result"
    }
   ],
   "source": [
    "Eq(p/p1,(rho/rho1)**gamma)"
   ]
  },
  {
   "cell_type": "code",
   "execution_count": 63,
   "metadata": {},
   "outputs": [
    {
     "ename": "NameError",
     "evalue": "name 'f' is not defined",
     "output_type": "error",
     "traceback": [
      "\u001b[0;31m---------------------------------------------------------------------------\u001b[0m",
      "\u001b[0;31mNameError\u001b[0m                                 Traceback (most recent call last)",
      "\u001b[0;32m<ipython-input-63-2ce735ec6c68>\u001b[0m in \u001b[0;36m<module>\u001b[0;34m()\u001b[0m\n\u001b[0;32m----> 1\u001b[0;31m \u001b[0mdiff\u001b[0m\u001b[0;34m(\u001b[0m\u001b[0mf\u001b[0m\u001b[0;34m,\u001b[0m\u001b[0mx\u001b[0m\u001b[0;34m)\u001b[0m\u001b[0;34m\u001b[0m\u001b[0m\n\u001b[0m",
      "\u001b[0;31mNameError\u001b[0m: name 'f' is not defined"
     ]
    }
   ],
   "source": [
    "diff(f,x)"
   ]
  },
  {
   "cell_type": "code",
   "execution_count": null,
   "metadata": {},
   "outputs": [],
   "source": []
  }
 ],
 "metadata": {
  "kernelspec": {
   "display_name": "Python 3.6",
   "language": "python",
   "name": "python_3.6"
  },
  "language_info": {
   "codemirror_mode": {
    "name": "ipython",
    "version": 3
   },
   "file_extension": ".py",
   "mimetype": "text/x-python",
   "name": "python",
   "nbconvert_exporter": "python",
   "pygments_lexer": "ipython3",
   "version": "3.6.5"
  }
 },
 "nbformat": 4,
 "nbformat_minor": 2
}
