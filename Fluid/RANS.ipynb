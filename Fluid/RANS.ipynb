{
 "cells": [
  {
   "cell_type": "code",
   "execution_count": 11,
   "metadata": {},
   "outputs": [
    {
     "data": {
      "text/html": [
       "<style>\n",
       "table {float:left;text-align:left}\n",
       "</style>\n",
       "<style>\n",
       "tr,td {text-align:right}\n",
       "</style>"
      ],
      "text/plain": [
       "<IPython.core.display.HTML object>"
      ]
     },
     "metadata": {},
     "output_type": "display_data"
    }
   ],
   "source": [
    "%%html\n",
    "<style>\n",
    "table {float:left;text-align:left}\n",
    "</style>\n",
    "<style>\n",
    "tr,td {text-align:right}\n",
    "</style>\n"
   ]
  },
  {
   "cell_type": "code",
   "execution_count": 12,
   "metadata": {},
   "outputs": [
    {
     "data": {
      "text/html": [
       "<style>\n",
       "    table {\n",
       "        display: inline-block\n",
       "    }\n",
       "</style>"
      ],
      "text/plain": [
       "<IPython.core.display.HTML object>"
      ]
     },
     "metadata": {},
     "output_type": "display_data"
    }
   ],
   "source": [
    "%%html\n",
    "<style>\n",
    "    table {\n",
    "        display: inline-block\n",
    "    }\n",
    "</style>"
   ]
  },
  {
   "cell_type": "code",
   "execution_count": 13,
   "metadata": {},
   "outputs": [
    {
     "data": {
      "text/html": [
       "<style>\n",
       "    /* Jupyter */\n",
       "    .rendered_html table,\n",
       "    /* Jupyter Lab*/\n",
       "    div[data-mime-type=\"text-markdown\"] table {\n",
       "        margin-left: 0\n",
       "    }\n",
       "</style>"
      ],
      "text/plain": [
       "<IPython.core.display.HTML object>"
      ]
     },
     "metadata": {},
     "output_type": "display_data"
    }
   ],
   "source": [
    "%%html\n",
    "<style>\n",
    "    /* Jupyter */\n",
    "    .rendered_html table,\n",
    "    /* Jupyter Lab*/\n",
    "    div[data-mime-type=\"text-markdown\"] table {\n",
    "        margin-left: 0\n",
    "    }\n",
    "</style>"
   ]
  },
  {
   "cell_type": "code",
   "execution_count": 14,
   "metadata": {},
   "outputs": [
    {
     "data": {
      "application/javascript": [
       "MathJax.Hub.Config({\n",
       "    TeX: { equationNumbers: { autoNumber: \"AMS\" } }\n",
       "});"
      ],
      "text/plain": [
       "<IPython.core.display.Javascript object>"
      ]
     },
     "metadata": {},
     "output_type": "display_data"
    }
   ],
   "source": [
    "%%javascript\n",
    "MathJax.Hub.Config({\n",
    "    TeX: { equationNumbers: { autoNumber: \"AMS\" } }\n",
    "});"
   ]
  },
  {
   "cell_type": "markdown",
   "metadata": {},
   "source": [
    "Mean flow -> largest eddies -> smaller eddies -> smallest eddies -> viscous dissipation\n",
    "<table>\n",
    "    <tr>\n",
    "        <td>\n",
    "$l$\n",
    "        </td>\n",
    "        <td>\n",
    "            Length scale of largest eddies\n",
    "        </td>\n",
    "    </tr>\n",
    "    <tr>\n",
    "        <td>\n",
    "$\\eta$\n",
    "        </td>\n",
    "        <td>\n",
    "            Length scale of smallest eddies, called Kalmogorov length scale\n",
    "        </td>\n",
    "    </tr>\n",
    "    <tr>\n",
    "        <td>\n",
    "$u$\n",
    "        </td>\n",
    "        <td>\n",
    "            Velocity scale  of largest eddies\n",
    "        </td>\n",
    "    </tr>\n",
    "    <tr>\n",
    "        <td>\n",
    "$v$\n",
    "        </td>\n",
    "        <td>\n",
    "            Velocity scale of smallest eddies\n",
    "        </td>\n",
    "    </tr>\n",
    "    <tr>\n",
    "        <td>\n",
    "$t_{tg}$\n",
    "        </td>\n",
    "        <td>\n",
    "            Time scale of largest eddie\n",
    "        </td>\n",
    "    </tr>\n",
    "    <tr>\n",
    "        <td>\n",
    "$\\nu$ \n",
    "        </td>\n",
    "        <td>\n",
    "            Dynamic viscosity\n",
    "        </td>\n",
    "    </tr>\n",
    "    <tr>\n",
    "        <td>\n",
    "$\\pi$\n",
    "        </td>\n",
    "        <td>\n",
    "            Rate of extration of turbulent kinetic energy from mean flow\n",
    "        </td>\n",
    "    </tr>\n",
    "    <tr>\n",
    "        <td>\n",
    "$\\epsilon$\n",
    "        </td>\n",
    "        <td>\n",
    "            Rate of dissipation of turbulent kinetic energy from smallest eddies\n",
    "        </td>\n",
    "    </tr>\n",
    "    <tr>\n",
    "        <td>\n",
    "$e_{ij}$\n",
    "        </td>\n",
    "        <td>\n",
    "            Rate of deformation (tensor)\n",
    "        </td>\n",
    "    </tr>\n",
    "    <tr>\n",
    "        <td>\n",
    "$Re_{l}$\n",
    "        </td>\n",
    "        <td>\n",
    "            System Renolds number\n",
    "        </td>\n",
    "    </tr>\n",
    "</table>"
   ]
  },
  {
   "cell_type": "markdown",
   "metadata": {},
   "source": [
    "$\\pi$ ~ $ \\frac{\\frac{1}{2} m u^2}{m} \\frac{1}{t_{te}} $\n",
    "\n",
    "$t_{tg}$ ~ $ \\frac{l}{u} $\n",
    "\n",
    "$\\pi$ ~ $ \\frac{u^3}{l} $"
   ]
  },
  {
   "cell_type": "markdown",
   "metadata": {},
   "source": [
    "$\\epsilon$ ~ $  \\nu e_{ij} e_{ij}$\n",
    "\n",
    "$e_{ij}$ ~ $ \\frac{v}{\\eta}$\n",
    "\n",
    "$\\epsilon$ ~ $  \\nu \\frac{v^2}{\\eta^2} $"
   ]
  },
  {
   "cell_type": "markdown",
   "metadata": {},
   "source": [
    "Steady turbulent flow\n",
    "\n",
    "$ \\pi = \\epsilon $"
   ]
  },
  {
   "cell_type": "markdown",
   "metadata": {},
   "source": [
    "$Re_\\eta $ ~ 1\n",
    "\n",
    "$ \\frac{v \\eta} {\\nu} $ ~ 1"
   ]
  },
  {
   "cell_type": "markdown",
   "metadata": {},
   "source": [
    "From equation for $\\epsilon$\n",
    "\n",
    "$ \\eta^2 $ ~ $ \\frac{ \\nu v^2}{\\epsilon} $\n",
    "\n",
    "Using equation for Renolds number to replace $v$\n",
    "\n",
    "$ \\eta^2 $ ~ $ \\frac { \\nu \\nu^2} { \\epsilon \\eta^2} $\n",
    "\n",
    "$ \\eta^2 $ ~ $ \\frac{\\nu^3}{\\epsilon} $\n",
    "\n",
    "$ \\eta $ ~ $ {\\left( \\frac{\\nu^3}{\\epsilon} \\right)}^{1/4} $\n",
    "\n",
    "Using that both rates are of same order\n",
    "\n",
    "$ \\eta $ ~ $ {\\left( \\frac{\\nu^3 l}{u^3} \\right)}^{1/4} $\n",
    "\n",
    "$ \\eta^4 $ ~ $ {\\left( \\frac{\\nu^3 l}{u^3} \\right)} $\n",
    "\n",
    "$ \\frac{\\eta^4}{l^4} $ ~ $ {\\left( \\frac{\\nu^3}{u^3 l^3} \\right)} $ ~ $ Re_l^{-3} $\n",
    "\n",
    "$ \\frac{\\eta}{l} $ ~ $ {\\left( \\frac{\\nu^3}{u^3 l^3} \\right)} $ ~ $ Re_l^{-3/4} $"
   ]
  },
  {
   "cell_type": "markdown",
   "metadata": {},
   "source": [
    "# Continuity\n",
    "\n",
    "$ \\frac{\\partial u_j}{\\partial x_j} = 0 $\n",
    "\n",
    "$ u_j = \\bar{u}_j +  u'_j$, where $\\bar{u}_j$ is the average and $u'_j$ is the local fluctation\n",
    "\n",
    "$ \\frac{\\partial }{\\partial x_j}\\left( \\bar{u}_j +  u'_j \\right) = 0 $\n",
    "\n",
    "Taking again the average\n",
    "\n",
    "$ \\frac{\\partial \\bar{u_j}}{\\partial x_j} + \\bar{\\frac{\\partial u'_j}{\\partial x_j}} = \\frac{\\partial \\bar{u}_j}{\\partial x_j} +\\frac{\\partial \\bar{u'_j}}{\\partial x_j} = 0 $\n",
    "\n",
    "Since the average of $u'_j$ is $0$ this becomes\n",
    "\n",
    "$ \\frac{\\partial \\bar{u}_j}{\\partial x_j}  = 0 $\n",
    "\n",
    "inserting this in the first equation\n",
    "\n",
    "$ \\frac{\\partial u'_j }{\\partial x_j}  = 0 $"
   ]
  },
  {
   "cell_type": "markdown",
   "metadata": {},
   "source": [
    "# Momentum RANS\n",
    "\n",
    "\n",
    "$ \\rho \\left[ \\frac{\\partial u_i}{\\partial t} +  u_j \\frac{\\partial u_i}{\\partial x_j}\\right] =\n",
    "-\\frac{\\partial p}{\\partial x_i} + \\frac{\\partial}{\\partial x_j} \\left(\\mu \\left( \\frac{\\partial u_i}{\\partial x_j} + \\frac{\\partial u_j}{\\partial x_i} \\right) \\right)\n",
    "$"
   ]
  },
  {
   "cell_type": "markdown",
   "metadata": {},
   "source": [
    "by continuity $ \\frac{\\partial u_j}{\\partial x_j} = 0 $.\n",
    "\n",
    "$\n",
    "\\frac{\\partial}{\\partial x_j} \\left( u_i u_j \\right) =\n",
    "\\frac{\\partial u_i}{\\partial x_j} u_j + u_i {\\frac{\\partial u_j}{\\partial x_j}} =\n",
    "\\frac{\\partial u_i}{\\partial x_j} u_j\n",
    "$\n",
    "\n",
    "\n"
   ]
  },
  {
   "cell_type": "markdown",
   "metadata": {},
   "source": [
    "Assuming $\\mu$ is constant the derivatives can be interchanged and the last term on rhs cancel too due to continuity.\n",
    "\n",
    "$ \\rho \\left[ \\frac{\\partial u_i}{\\partial t} +   \\frac{\\partial }{\\partial x_j} \\left( u_i u_j \\right) \\right] =\n",
    "-\\frac{\\partial p}{\\partial x_i} + \\frac{\\partial}{\\partial x_j} \\left(\\mu  \\frac{\\partial u_i}{\\partial x_j} \\right)\n",
    "$"
   ]
  },
  {
   "cell_type": "markdown",
   "metadata": {},
   "source": [
    "inserting $ u_i = \\bar{u}_i + u'_j $ ,$ u_i = \\bar{u}_i + u'_i $ and $ p = \\bar{p} + p' $"
   ]
  },
  {
   "cell_type": "markdown",
   "metadata": {},
   "source": [
    "$ \\rho \\left[ \\frac{\\partial }{\\partial t}\\left( \\bar{u}_i + u'_i \\right) +   \\frac{\\partial }{\\partial x_j} \\left[ \\left( \\bar{u}_i + u'_i \\right) \\left( \\bar{u}_j + u'_j \\right) \\right]  \\right] =\n",
    "-\\frac{\\partial}{\\partial x_i} \\left( \\bar{p} + p' \\right) + \\frac{\\partial}{\\partial x_j} \\left(\\mu  \\frac{\\partial }{\\partial x_j}\\left( \\bar{u}_i + u'_i \\right) \\right)\n",
    "$"
   ]
  },
  {
   "cell_type": "markdown",
   "metadata": {},
   "source": [
    "$ \\rho \\left[ \\, \\overline{ \\frac{\\partial }{\\partial t}\\left( \\bar{u}_i + u'_i \\right) } +   \\overline{ \\frac{\\partial }{\\partial x_j} \\left[ \\left( \\bar{u}_i + u'_i \\right) \\left( \\bar{u}_j + u'_j \\right) \\right] } \\, \\right]  =\n",
    "- \\overline{\\frac{\\partial}{\\partial x_i} \\left( \\bar{p} + p' \\right) }\n",
    "+ \\overline{ \\frac{\\partial}{\\partial x_j} \\left(\\mu  \\frac{\\partial }{\\partial x_j}\\left( \\bar{u}_i + u'_i \\right) \\right) }\n",
    "$"
   ]
  },
  {
   "cell_type": "markdown",
   "metadata": {},
   "source": [
    "$ \\rho \\left[   \\frac{\\partial }{\\partial t} \\overline{ \\left( \\bar{u}_i + u'_i \\right) } +    \\frac{\\partial }{\\partial x_j} \\overline{ \\left[ \\left( \\bar{u}_i + u'_i \\right) \\left( \\bar{u}_j + u'_j \\right) \\right] } \\, \\right]  =\n",
    "-\\frac{\\partial}{\\partial x_i} \\overline{ \\left( \\bar{p} + p' \\right) }\n",
    "+  \\frac{\\partial}{\\partial x_j} \\left(\\mu  \\frac{\\partial }{\\partial x_j} \\overline{ \\left( \\bar{u}_i + u'_i \\right) } \\right) \n",
    "$"
   ]
  },
  {
   "cell_type": "markdown",
   "metadata": {},
   "source": [
    "$ \\rho \\left[   \\frac{\\partial }{\\partial t} \\overline{ \\left( \\bar{u}_i + u'_i \\right) } \n",
    "+ \\frac{\\partial }{\\partial x_j} \\overline{ \\left[ \\bar{u}_i \\bar{u}_j + u'_i u'_j + \\bar{u}_i u'_j + u'_i \\bar{u}_j \\right] } \\, \\right]  =\n",
    "-\\frac{\\partial}{\\partial x_i} \\overline{ \\left( \\bar{p} + p' \\right) }\n",
    "+  \\frac{\\partial}{\\partial x_j} \\left(\\mu  \\frac{\\partial }{\\partial x_j} \\overline{ \\left( \\bar{u}_i + u'_i \\right) } \\right) \n",
    "$"
   ]
  },
  {
   "cell_type": "markdown",
   "metadata": {},
   "source": [
    "Using $ \\overline{u'_j} = 0 $, $ \\overline{u'_i} = 0 $, $ \\overline{p'} = 0 $,\n",
    "\n",
    "$ \\rho \\left[   \\frac{\\partial \\bar{u}_i}{\\partial t} \n",
    "+ \\frac{\\partial }{\\partial x_j}  \\left[ \\bar{u}_i \\bar{u}_j + \\overline{ u'_i u'_j }  \\right]  \\right]  =\n",
    "-\\frac{\\partial \\bar{p}}{\\partial x_i}    \n",
    "+  \\frac{\\partial}{\\partial x_j} \\left(\\mu  \\frac{\\partial \\bar{u}_i}{\\partial x_j}  \\right) \n",
    "$"
   ]
  },
  {
   "cell_type": "markdown",
   "metadata": {},
   "source": [
    "$ \\rho \\left[   \\frac{\\partial \\bar{u}_i}{\\partial t} \n",
    "+ \\frac{\\partial }{\\partial x_j}  \\left(  \\bar{u}_i \\bar{u}_j   \\right)  \\right]  =\n",
    "-\\frac{\\partial \\bar{p}}{\\partial x_i}    \n",
    "+  \\frac{\\partial}{\\partial x_j} \\left(\\mu  \\frac{\\partial \\bar{u}_i}{\\partial x_j}  \\right) \n",
    "- \\rho \\frac{\\partial }{\\partial x_j}  \\left(   \\overline{ u'_i u'_j }  \\right)\n",
    "$"
   ]
  },
  {
   "cell_type": "markdown",
   "metadata": {},
   "source": [
    "$ \\rho \\left[   \\frac{\\partial \\bar{u}_i}{\\partial t} \n",
    "+ \\frac{\\partial \\bar{u}_j }{\\partial x_j}     \\bar{u}_i   \n",
    "+ \\bar{u}_i \\frac{\\partial \\bar{u}_i }{\\partial x_j}        \n",
    "\\right]  =\n",
    "-\\frac{\\partial \\bar{p}}{\\partial x_i}    \n",
    "+  \\frac{\\partial}{\\partial x_j} \\left(\\mu  \\frac{\\partial \\bar{u}_i}{\\partial x_j}  \\right) \n",
    "- \\rho \\frac{\\partial }{\\partial x_j}  \\left(   \\overline{ u'_i u'_j }  \\right)\n",
    "$"
   ]
  },
  {
   "cell_type": "markdown",
   "metadata": {},
   "source": [
    "Again by continuity\n",
    "\n",
    "$ \\rho \\left[   \\frac{\\partial \\bar{u}_i}{\\partial t} \n",
    "+ \\bar{u}_i \\frac{\\partial \\bar{u}_i }{\\partial x_j}        \n",
    "\\right]  =\n",
    "-\\frac{\\partial \\bar{p}}{\\partial x_i}    \n",
    "+  \\frac{\\partial}{\\partial x_j} \\left(\\mu  \\frac{\\partial \\bar{u}_i}{\\partial x_j}  \\right) \n",
    "-  \\frac{\\partial }{\\partial x_j}  \\left( \\rho  \\overline{ u'_i u'_j }  \\right)\n",
    "$\n",
    "\n",
    "$ \\rho \\left[   \\frac{\\partial \\bar{u}_i}{\\partial t} \n",
    "+ \\bar{u}_i \\frac{\\partial \\bar{u}_i }{\\partial x_j}        \n",
    "\\right]  =\n",
    "-\\frac{\\partial \\bar{p} \\delta_{ij}}{\\partial x_j}    \n",
    "+  \\frac{\\partial}{\\partial x_j} \\left(\\mu  \\frac{\\partial \\bar{u}_i}{\\partial x_j}  \\right) \n",
    "-  \\frac{\\partial }{\\partial x_j}  \\left( \\rho  \\overline{ u'_i u'_j }  \\right)\n",
    "$"
   ]
  },
  {
   "cell_type": "markdown",
   "metadata": {},
   "source": [
    "Writing the last term as an expanded tensor\n",
    "\n",
    "$ - \\rho \\overline{u'_i u'_j} = - \\rho \\begin{bmatrix}\n",
    "{\\overline{{u'_1}^2   }} & {\\overline{{u'_1 u'_2}}} & {\\overline{{u'_1 u'_3}}}\\\\\n",
    "{\\overline{{u'_2 u'_1}}} & {\\overline{{u'_2}^2}} & {\\overline{{u'_2 u'_3}}}\\\\\n",
    "{\\overline{{u'_3 u'_1}}} & {\\overline{{u'_3 u'_2}}} & {\\overline{{u'_3}^2}}\n",
    "\\end{bmatrix} $\n",
    "\n",
    "This is also called the Reynolds stress"
   ]
  },
  {
   "cell_type": "markdown",
   "metadata": {},
   "source": [
    "With $ \\overline{u'_i u'_j} = \\overline{u'_j u'_i} $ we have 6 new unknowns."
   ]
  },
  {
   "cell_type": "markdown",
   "metadata": {},
   "source": [
    "<table>\n",
    "    <tr>\n",
    "        <td>\n",
    "Zero\n",
    "        </td>\n",
    "        <td style=\"text-align:left\">\n",
    "            Mixing length\n",
    "        </td>\n",
    "    </tr>\n",
    "    <tr>\n",
    "        <td>\n",
    "One\n",
    "        </td>\n",
    "        <td style=\"text-align:left\">\n",
    "            Spalart-Allmaras model\n",
    "        </td>\n",
    "    </tr>\n",
    "    <tr>\n",
    "        <td span=2>\n",
    "Two\n",
    "        </td>\n",
    "        <td style=\"text-align:left\">\n",
    "            Standard k-$\\epsilon$ model\n",
    "        </td>\n",
    "    </tr>\n",
    "    <tr>\n",
    "        <td>\n",
    "        </td>\n",
    "        <td style=\"text-align:left\">\n",
    "            RNG k-$\\epsilon$ model\n",
    "        </td>\n",
    "    </tr>\n",
    "    <tr>\n",
    "        <td>\n",
    "        </td>\n",
    "        <td style=\"text-align:left\">\n",
    "            Realizable k-$\\epsilon$ model\n",
    "        </td>\n",
    "    </tr>\n",
    "    <tr>\n",
    "        <td>\n",
    "        </td>\n",
    "        <td style=\"text-align:left\">\n",
    "            k-$\\omega$ model\n",
    "        </td>\n",
    "    </tr>\n",
    "    <tr>\n",
    "        <td>\n",
    "Seven\n",
    "        </td>\n",
    "        <td style=\"text-align:left\">\n",
    "            Reynolds stress model\n",
    "        </td>\n",
    "    </tr>\n",
    "</table>"
   ]
  },
  {
   "cell_type": "markdown",
   "metadata": {},
   "source": [
    "\n",
    "\n",
    "$ -\\rho \\overline{u'_j u'_i} = \n",
    "- \\rho \\frac{\\overline{{u'_1}^2}+\\overline{{u'_2}^2}+\\overline{{u'_3}^2}}{3} \\delta_{ij}\n",
    "+ \\mu_e \\left( \\frac{\\partial \\bar{u}_i}{\\partial x_j} + \\frac{\\partial \\bar{u}_j}{\\partial x_i} \\right) $\n",
    "\n",
    "$ -\\rho \\overline{u'_j u'_i} = \n",
    "- \\frac{2 \\rho}{3} \\frac{\\overline{{u'_1}^2}+\\overline{{u'_2}^2}+\\overline{{u'_3}^2}}{2} \\delta_{ij}\n",
    "+ \\mu_e \\left( \\frac{\\partial \\bar{u}_i}{\\partial x_j} + \\frac{\\partial \\bar{u}_j}{\\partial x_i} \\right) $\n",
    "\n",
    "$ -\\rho \\overline{u'_j u'_i} = \n",
    "- \\frac{2 \\rho}{3} k \\delta_{ij}\n",
    "+ \\mu_e \\left( \\frac{\\partial \\bar{u}_i}{\\partial x_j} + \\frac{\\partial \\bar{u}_j}{\\partial x_i} \\right) $,\n",
    "\n",
    "where $k$ is called the turbulence kinetic energy"
   ]
  },
  {
   "cell_type": "markdown",
   "metadata": {},
   "source": [
    "Now we put the RANS equation back to the original form\n",
    "\n",
    "$ \\rho \\left[   \\frac{\\partial \\bar{u}_i}{\\partial t} \n",
    "+ \\bar{u}_i \\frac{\\partial \\bar{u}_i }{\\partial x_j}        \n",
    "\\right]  =\n",
    "-\\frac{\\partial \\bar{p} \\delta_{ij}}{\\partial x_j}    \n",
    "+  \\frac{\\partial}{\\partial x_j} \\left(\\mu  \\left( \\frac{\\partial \\bar{u}_i}{\\partial x_j}  + \\frac{\\partial \\bar{u}_j}{\\partial x_i}  \\right) \\right) \n",
    "-  \\frac{\\partial }{\\partial x_j}  \\left( \\rho  \\overline{ u'_j u'_i }  \\right) \n",
    "$"
   ]
  },
  {
   "cell_type": "markdown",
   "metadata": {},
   "source": [
    "$ \\rho \\left[   \\frac{\\partial \\bar{u}_i}{\\partial t} \n",
    "+ \\bar{u}_i \\frac{\\partial \\bar{u}_i }{\\partial x_j}        \n",
    "\\right]  =\n",
    "\\frac{\\partial }{\\partial x_j} \\left( - \\bar{p}  \\delta_{ij}\n",
    "+  \\mu  \\left( \\frac{\\partial \\bar{u}_i}{\\partial x_j}  + \\frac{\\partial \\bar{u}_j}{\\partial x_i}  \\right)  - \\rho  \\overline{ u'_j u'_i }  \\right) \n",
    "$"
   ]
  },
  {
   "cell_type": "markdown",
   "metadata": {},
   "source": [
    "and insert the above equation\n",
    "\n",
    "$ \\rho \\left[   \\frac{\\partial \\bar{u}_i}{\\partial t} \n",
    "+ \\bar{u}_i \\frac{\\partial \\bar{u}_i }{\\partial x_j}        \n",
    "\\right]  =\n",
    "-\\frac{\\partial }{\\partial x_j} \\left( \\bar{p}  \\delta_{ij}\n",
    "+  \\mu  \\left( \\frac{\\partial \\bar{u}_i}{\\partial x_j}  + \\frac{\\partial \\bar{u}_j}{\\partial x_i}  \\right)  - \\frac{2 \\rho}{3} k \\delta_{ij}\n",
    "+ \\mu_e \\left( \\frac{\\partial \\bar{u}_i}{\\partial x_j} + \\frac{\\partial \\bar{u}_j}{\\partial x_i} \\right)  \\right) \n",
    "$"
   ]
  },
  {
   "cell_type": "markdown",
   "metadata": {},
   "source": [
    "$ \\rho \\left[   \\frac{\\partial \\bar{u}_i}{\\partial t} \n",
    "+ \\bar{u}_i \\frac{\\partial \\bar{u}_i }{\\partial x_j}        \n",
    "\\right]  =\n",
    "-\\frac{\\partial }{\\partial x_j} \\left( \\bar{p}_{eff}  \\delta_{ij}\n",
    "+  \\mu_{eff}  \\left( \\frac{\\partial \\bar{u}_i}{\\partial x_j}  + \\frac{\\partial \\bar{u}_j}{\\partial x_i}  \\right) \\right) \n",
    "$,\n",
    "\n",
    "where\n",
    "\n",
    "$ \\bar{p}_{eff} = \\bar{p} + \\frac{2 \\rho}{3} k $\n",
    "\n",
    "$ \\mu_{eff} = \\mu + \\mu_e $"
   ]
  },
  {
   "cell_type": "markdown",
   "metadata": {},
   "source": [
    "# Prandtl mixing length model\n",
    "\n",
    "$ u'_i = - \\xi' \\frac{\\partial \\bar{u_i} }{\\partial x_j }$\n",
    "\n",
    "$ \\rho \\overline{u'_j u'_i} = \n",
    "\\rho \\xi'^2 \\left| \\frac{\\partial \\bar{u}_j}{\\partial x_i} \\right| \\frac{\\partial \\bar{u}_i}{\\partial x_j}\n",
    "= \\mu_e \\frac{\\partial \\bar{u}_i}{\\partial x_j}$\n",
    "\n",
    "$\\mu_e = \\rho \\xi'^2 \\left| \\frac{\\partial \\bar{u}_j}{\\partial x_i} \\right|$\n",
    "\n",
    "$ \\mu_e = \\rho \\xi'^2 \\sqrt{ \\sum_{i \\neq j}{ \\left( \\frac{\\partial \\bar{u}_i}{\\partial x_j} \\right)^2 } } $\n",
    "\n",
    "$ k = 0 $ ?"
   ]
  },
  {
   "cell_type": "markdown",
   "metadata": {},
   "source": [
    "# k-$\\epsilon$ model"
   ]
  },
  {
   "cell_type": "markdown",
   "metadata": {},
   "source": [
    "$ \\bar{k} = \\frac12 \\sum_j{\\overline{u}_j^2} $\n",
    "\n",
    "$ k = \\frac12 \\sum_j{\\overline{u'^2_j}} $\n",
    "\n",
    "$ k\\left(t\\right) = \\bar{k} + k $\n",
    "\n",
    "$ \\epsilon = \\nu \\overline{ \\frac{\\partial u'_i}{\\partial x_j}\\frac{\\partial u'_j}{\\partial x_i}  }  $"
   ]
  },
  {
   "cell_type": "markdown",
   "metadata": {},
   "source": [
    "From above\n",
    "\n",
    "$\\rho \\left[   \\frac{\\partial \\bar{u}_i}{\\partial t} \n",
    "+ \\frac{\\partial }{\\partial x_j}  \\left(  \\bar{u}_i \\bar{u}_j   \\right)  \\right]  =\n",
    "-\\frac{\\partial \\bar{p}}{\\partial x_i}    \n",
    "+  \\frac{\\partial}{\\partial x_j} \\left(\\mu  \\frac{\\partial \\bar{u}_i}{\\partial x_j}  \\right) \n",
    "- \\rho \\frac{\\partial }{\\partial x_j}  \\left(   \\overline{ u'_i u'_j }  \\right)\n",
    "$\n",
    "\n",
    "deviding through with $\\rho$\n",
    "\n",
    "$\\left[   \\frac{\\partial \\bar{u}_i}{\\partial t} \n",
    "+ \\frac{\\partial }{\\partial x_j}  \\left(  \\bar{u}_i \\bar{u}_j   \\right)  \\right]  =\n",
    "-\\frac1{\\rho}  \\frac{\\partial \\bar{p}}{\\partial x_i}    \n",
    "+  \\frac{\\partial}{\\partial x_j} \\left(\\nu  \\frac{\\partial \\bar{u}_i}{\\partial x_j}  \\right) \n",
    "- \\frac{\\partial }{\\partial x_j}  \\left(   \\overline{ u'_i u'_j }  \\right)\n",
    "$\n",
    "\n",
    "\\begin{equation}\n",
    "\\left[\\frac{\\partial \\bar{u}_i}{\\partial t}+\\frac{\\partial }{\\partial x_j}  \\left(  \\bar{u}_i \\bar{u}_j  +  \\overline{ u'_i u'_j }  \\right)  \\right]  =\n",
    "-\\frac1{\\rho}  \\frac{\\partial \\bar{p}}{\\partial x_i}    \n",
    "+  \\frac{\\partial}{\\partial x_j} \\left(\\nu  \\frac{\\partial \\bar{u}_i}{\\partial x_j}  \\right) \n",
    "\\end{equation}"
   ]
  },
  {
   "cell_type": "markdown",
   "metadata": {},
   "source": [
    "Also from above\n",
    "\n",
    "$ \\rho \\left[ \\frac{\\partial }{\\partial t}\\left( \\bar{u}_i + u'_i \\right) +   \\frac{\\partial }{\\partial x_j} \\left[ \\left( \\bar{u}_i + u'_i \\right) \\left( \\bar{u}_j + u'_j \\right) \\right]  \\right] =\n",
    "-\\frac{\\partial}{\\partial x_i} \\left( \\bar{p} + p' \\right) + \\frac{\\partial}{\\partial x_j} \\left(\\mu  \\frac{\\partial }{\\partial x_j}\\left( \\bar{u}_i + u'_i \\right) \\right)\n",
    "$\n",
    "\n",
    "$ \\left[ \\frac{\\partial }{\\partial t}\\left( \\bar{u}_i + u'_i \\right) +   \\frac{\\partial }{\\partial x_j} \\left[ \\left( \\bar{u}_i + u'_i \\right) \\left( \\bar{u}_j + u'_j \\right) \\right]  \\right] \n",
    "=\n",
    "-\\frac1{\\rho} \\frac{\\partial}{\\partial x_i} \\left( \\bar{p} + p' \\right) + \\frac{\\partial}{\\partial x_j} \\left(\\nu  \\frac{\\partial }{\\partial x_j}\\left( \\bar{u}_i + u'_i \\right) \\right)\n",
    "$\n"
   ]
  },
  {
   "cell_type": "markdown",
   "metadata": {},
   "source": [
    "\\begin{equation}\n",
    "\\left[ \\frac{\\partial }{\\partial t}\\left( \\bar{u}_i + u'_i \\right) +   \\frac{\\partial }{\\partial x_j} \\left[  \\bar{u}_i \\bar{u}_j + \\bar{u}_i u'_j + u'_i \\bar{u}_j + u'_i u'_j  \\right]  \\right] \n",
    "=\n",
    "-\\frac1{\\rho} \\frac{\\partial}{\\partial x_i} \\left( \\bar{p} + p' \\right) + \\frac{\\partial}{\\partial x_j} \\left(\\nu  \\frac{\\partial }{\\partial x_j}\\left( \\bar{u}_i + u'_i \\right) \\right)\n",
    "\\end{equation}"
   ]
  },
  {
   "cell_type": "markdown",
   "metadata": {},
   "source": [
    "Subtracting (1) from (1)\n",
    "\n",
    "$\n",
    " \\frac{\\partial u'_i}{\\partial t} +   \\frac{\\partial }{\\partial x_j} \\left[  \\bar{u}_i u'_j + u'_i \\bar{u}_j + u'_i u'_j - \\overline{u'_i u'_j} \\right]  \n",
    "$\n",
    "=\n",
    "$\n",
    "-\\frac1{\\rho} \\frac{\\partial p'}{\\partial x_i}  + \\frac{\\partial}{\\partial x_j} \\left(\\nu  \\frac{\\partial u'_i}{\\partial x_j} \\right)\n",
    "$"
   ]
  },
  {
   "cell_type": "code",
   "execution_count": null,
   "metadata": {},
   "outputs": [],
   "source": []
  }
 ],
 "metadata": {
  "kernelspec": {
   "display_name": "Python 3.6",
   "language": "python",
   "name": "python_3.6"
  },
  "language_info": {
   "codemirror_mode": {
    "name": "ipython",
    "version": 3
   },
   "file_extension": ".py",
   "mimetype": "text/x-python",
   "name": "python",
   "nbconvert_exporter": "python",
   "pygments_lexer": "ipython3",
   "version": "3.6.5"
  }
 },
 "nbformat": 4,
 "nbformat_minor": 2
}
