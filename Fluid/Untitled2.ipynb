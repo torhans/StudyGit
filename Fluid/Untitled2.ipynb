{
 "cells": [
  {
   "cell_type": "markdown",
   "metadata": {},
   "source": [
    "$\n",
    "   \\frac{\\partial k}{\\partial t} + \\nabla_h \\cdot (\\textbf{u} k)\n",
    "        + \\frac{\\partial (w k)}{\\partial z}\n",
    "        = \\frac{\\partial}{\\partial z}\\left(\\frac{\\nu}{\\sigma_k} \\frac{\\partial k}{\\partial z}\\right)\n",
    "        + P + B - \\varepsilon\n",
    "$"
   ]
  },
  {
   "cell_type": "markdown",
   "metadata": {},
   "source": [
    "$\n",
    "    \\frac{\\partial \\psi}{\\partial t} + \\nabla_h \\cdot (\\textbf{u} \\psi)\n",
    "        + \\frac{\\partial (w \\psi)}{\\partial z}\n",
    "        = \\frac{\\partial}{\\partial z}\\left(\\frac{\\nu}{\\sigma_\\psi} \\frac{\\partial \\psi}{\\partial z}\\right)\n",
    "        + \\frac{\\psi}{k} (c_1 P + c_3 B - c_2 \\varepsilon f_{wall})\n",
    "$"
   ]
  },
  {
   "cell_type": "markdown",
   "metadata": {},
   "source": [
    "$\n",
    "    P = \\nu M^2 $\n",
    "    \n",
    "    \n",
    "$    B = -\\mu N^2\n",
    "$"
   ]
  },
  {
   "cell_type": "markdown",
   "metadata": {},
   "source": [
    "$\n",
    "   M^2 = \\left(\\frac{\\partial u}{\\partial z}\\right)^2\n",
    "        + \\left(\\frac{\\partial v}{\\partial z}\\right)^2 \n",
    "$\n",
    "        \n",
    "$\n",
    "    N^2 = -\\frac{g}{\\rho_0}\\frac{\\partial \\rho}{\\partial z}\n",
    "$"
   ]
  },
  {
   "cell_type": "markdown",
   "metadata": {},
   "source": [
    "$\n",
    "\\psi = (c_\\mu^0)^p k^m l^n\n",
    "$"
   ]
  },
  {
   "cell_type": "markdown",
   "metadata": {},
   "source": [
    "$\n",
    "    l = (c_\\mu^0)^3 k^{3/2} \\varepsilon^{-1} \n",
    "$    \n",
    " \n",
    "$ \n",
    "    \\varepsilon = (c_\\mu^0)^{3+p/n} k^{3/2 + m/n} \\psi^{-1/n}\n",
    "$"
   ]
  },
  {
   "cell_type": "markdown",
   "metadata": {},
   "source": [
    "$\n",
    "    \\nu = \\sqrt{2k} l S_m\n",
    "$\n",
    "\n",
    "$\n",
    "    \\mu = \\sqrt{2k} l S_\\rho\n",
    "$"
   ]
  },
  {
   "cell_type": "code",
   "execution_count": null,
   "metadata": {},
   "outputs": [],
   "source": []
  }
 ],
 "metadata": {
  "kernelspec": {
   "display_name": "Python 3.6",
   "language": "python",
   "name": "python_3.6"
  },
  "language_info": {
   "codemirror_mode": {
    "name": "ipython",
    "version": 3
   },
   "file_extension": ".py",
   "mimetype": "text/x-python",
   "name": "python",
   "nbconvert_exporter": "python",
   "pygments_lexer": "ipython3",
   "version": "3.6.5"
  }
 },
 "nbformat": 4,
 "nbformat_minor": 2
}
