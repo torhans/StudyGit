{
 "cells": [
  {
   "cell_type": "code",
   "execution_count": 14,
   "metadata": {},
   "outputs": [],
   "source": [
    "from sympy import *\n",
    "init_printing()\n",
    "from IPython.display import display"
   ]
  },
  {
   "cell_type": "code",
   "execution_count": 267,
   "metadata": {},
   "outputs": [],
   "source": [
    "rho1=Symbol(r\"\\rho_{1}\")\n",
    "rho2=Symbol(r\"\\rho_{2}\")\n",
    "u1=Symbol(r\"u_{1}\")\n",
    "u2=Symbol(r\"u_{2}\")\n",
    "p0=Symbol(r\"p_{0}\")\n",
    "p1=Symbol(r\"p_{1}\")\n",
    "p2=Symbol(r\"p_{2}\")\n",
    "h1=Symbol(r\"h_{1}\")\n",
    "h2=Symbol(r\"h_{2}\")\n",
    "h0=Symbol(r\"h_{0}\")\n",
    "gamma=Symbol(r\"\\gamma\")\n",
    "M1=Symbol(r\"M_{1}\")\n",
    "M2=Symbol(r\"M_{2}\")\n",
    "M=Symbol(r\"M\")\n",
    "a1=Symbol(r\"a_{1}\")\n",
    "a2=Symbol(r\"a_{2}\")\n",
    "p=Symbol(r\"p\")\n",
    "h=Symbol(r\"h\")\n",
    "R=Symbol(r\"R\")\n",
    "T=Symbol(r\"T\")\n",
    "cv=Symbol(r\"c_{v}\")\n",
    "cp=Symbol(r\"c_{p}\")\n",
    "rho=Symbol(r\"\\rho\")\n",
    "a=Symbol(r\"a\")\n",
    "a1=Symbol(r\"a_{1}\")\n",
    "a2=Symbol(r\"a_{2}\")\n",
    "k1=Symbol(r\"k_{1}\")\n",
    "k2=Symbol(r\"k_{2}\")\n",
    "M22=Symbol(r\"M_{2}^{2}\")"
   ]
  },
  {
   "cell_type": "code",
   "execution_count": 72,
   "metadata": {},
   "outputs": [
    {
     "data": {
      "image/png": "[encoded data removed]",
      "text/latex": [
       "$$\\rho_{1} u_{1} = \\rho_{2} u_{2}$$"
      ],
      "text/plain": [
       "\\rho_{1}⋅u_{1} = \\rho_{2}⋅u_{2}"
      ]
     },
     "metadata": {},
     "output_type": "display_data"
    },
    {
     "data": {
      "image/png": "[encoded data removed]",
      "text/latex": [
       "$$\\rho_{1} u_{1}^{2} + p_{1} = \\rho_{2} u_{2}^{2} + p_{2}$$"
      ],
      "text/plain": [
       "              2                         2        \n",
       "\\rho_{1}⋅u_{1}  + p_{1} = \\rho_{2}⋅u_{2}  + p_{2}"
      ]
     },
     "metadata": {},
     "output_type": "display_data"
    },
    {
     "data": {
      "image/png": "[encoded data removed]",
      "text/latex": [
       "$$h_{1} + 0.5 u_{1}^{2} = h_{2} + 0.5 u_{2}^{2}$$"
      ],
      "text/plain": [
       "                 2                    2\n",
       "h_{1} + 0.5⋅u_{1}  = h_{2} + 0.5⋅u_{2} "
      ]
     },
     "metadata": {},
     "output_type": "display_data"
    },
    {
     "data": {
      "image/png": "[encoded data removed]",
      "text/latex": [
       "$$p_{2} = \\frac{\\rho_{2} h_{2}}{\\gamma} \\left(\\gamma - 1\\right)$$"
      ],
      "text/plain": [
       "        \\rho_{2}⋅h_{2}⋅(\\gamma - 1)\n",
       "p_{2} = ───────────────────────────\n",
       "                   \\gamma          "
      ]
     },
     "metadata": {},
     "output_type": "display_data"
    }
   ],
   "source": [
    "continuity=Eq(rho1*u1,rho2*u2)\n",
    "xmomentum=Eq(rho1*u1**2+p1,rho2*u2**2+p2)\n",
    "energy=Eq(h1+1/2*u1**2,h2+1/2*u2**2)\n",
    "e_state1=Eq(p1,(gamma-1)/gamma*rho1*h1)\n",
    "e_state2=Eq(p2,(gamma-1)/gamma*rho2*h2)\n",
    "display(continuity)\n",
    "display(xmomentum)\n",
    "display(energy)\n",
    "display(e_state2)"
   ]
  },
  {
   "cell_type": "code",
   "execution_count": 29,
   "metadata": {},
   "outputs": [
    {
     "data": {
      "image/png": "[encoded data removed]",
      "text/latex": [
       "$$p = R T \\rho$$"
      ],
      "text/plain": [
       "p = R⋅T⋅\\rho"
      ]
     },
     "metadata": {},
     "output_type": "display_data"
    },
    {
     "data": {
      "image/png": "[encoded data removed]",
      "text/latex": [
       "$$h = T c_{p}$$"
      ],
      "text/plain": [
       "h = T⋅c_{p}"
      ]
     },
     "metadata": {},
     "output_type": "display_data"
    },
    {
     "data": {
      "image/png": "[encoded data removed]",
      "text/latex": [
       "$$T = \\frac{h}{c_{p}}$$"
      ],
      "text/plain": [
       "      h  \n",
       "T = ─────\n",
       "    c_{p}"
      ]
     },
     "metadata": {},
     "output_type": "display_data"
    },
    {
     "data": {
      "image/png": "[encoded data removed]",
      "text/latex": [
       "$$p = \\frac{R \\rho}{c_{p}} h$$"
      ],
      "text/plain": [
       "    R⋅\\rho⋅h\n",
       "p = ────────\n",
       "     c_{p}  "
      ]
     },
     "metadata": {},
     "output_type": "display_data"
    },
    {
     "data": {
      "image/png": "[encoded data removed]",
      "text/latex": [
       "$$c_{p} = R + c_{v}$$"
      ],
      "text/plain": [
       "c_{p} = R + c_{v}"
      ]
     },
     "metadata": {},
     "output_type": "display_data"
    },
    {
     "data": {
      "image/png": "[encoded data removed]",
      "text/latex": [
       "$$R = c_{p} - c_{v}$$"
      ],
      "text/plain": [
       "R = c_{p} - c_{v}"
      ]
     },
     "metadata": {},
     "output_type": "display_data"
    },
    {
     "data": {
      "image/png": "[encoded data removed]",
      "text/latex": [
       "$$\\frac{R}{c_{p}} = 1 - \\frac{c_{v}}{c_{p}} = 1 - \\frac{1}{\\gamma}$$"
      ],
      "text/plain": [
       "  R         c_{v}         1   \n",
       "───── = 1 - ───── = 1 - ──────\n",
       "c_{p}       c_{p}       \\gamma"
      ]
     },
     "metadata": {},
     "output_type": "display_data"
    },
    {
     "data": {
      "image/png": "[encoded data removed]",
      "text/latex": [
       "$$p = \\rho h \\left(1 - \\frac{1}{\\gamma}\\right) = \\frac{\\rho h}{\\gamma} \\left(\\gamma - 1\\right)$$"
      ],
      "text/plain": [
       "           ⎛      1   ⎞   \\rho⋅h⋅(\\gamma - 1)\n",
       "p = \\rho⋅h⋅⎜1 - ──────⎟ = ───────────────────\n",
       "           ⎝    \\gamma⎠          \\gamma      "
      ]
     },
     "metadata": {},
     "output_type": "display_data"
    }
   ],
   "source": [
    "display(Eq(p,rho*R*T))\n",
    "display(Eq(h,cp*T))\n",
    "display(Eq(T,h/cp))\n",
    "display(Eq(p,rho*R*h/cp))\n",
    "display(Eq(cp,cv+R))\n",
    "display(Eq(R,cp-cv))\n",
    "display(Eq(Eq(R/cp,1-cv/cp),1-1/gamma))\n",
    "display(Eq(p,(Eq((1-1/gamma)*rho*h,((gamma-1)/gamma)*rho*h))))"
   ]
  },
  {
   "cell_type": "code",
   "execution_count": 41,
   "metadata": {},
   "outputs": [
    {
     "data": {
      "image/png": "[encoded data removed]",
      "text/latex": [
       "$$a^{2} = R T \\gamma$$"
      ],
      "text/plain": [
       " 2             \n",
       "a  = R⋅T⋅\\gamma"
      ]
     },
     "metadata": {},
     "output_type": "display_data"
    },
    {
     "data": {
      "image/png": "[encoded data removed]",
      "text/latex": [
       "$$a^{2} = \\frac{R \\gamma}{c_{p}} h$$"
      ],
      "text/plain": [
       " 2   R⋅\\gamma⋅h\n",
       "a  = ──────────\n",
       "       c_{p}   "
      ]
     },
     "metadata": {},
     "output_type": "display_data"
    },
    {
     "data": {
      "image/png": "[encoded data removed]",
      "text/latex": [
       "$$a^{2} = \\gamma h \\left(1 - \\frac{1}{\\gamma}\\right)$$"
      ],
      "text/plain": [
       " 2            ⎛      1   ⎞\n",
       "a  = \\gamma⋅h⋅⎜1 - ──────⎟\n",
       "              ⎝    \\gamma⎠"
      ]
     },
     "metadata": {},
     "output_type": "display_data"
    },
    {
     "data": {
      "image/png": "[encoded data removed]",
      "text/latex": [
       "$$a^{2} = h \\left(\\gamma - 1\\right)$$"
      ],
      "text/plain": [
       " 2                 \n",
       "a  = h⋅(\\gamma - 1)"
      ]
     },
     "metadata": {},
     "output_type": "display_data"
    },
    {
     "data": {
      "image/png": "[encoded data removed]",
      "text/latex": [
       "$$h = \\frac{a^{2}}{\\gamma - 1}$$"
      ],
      "text/plain": [
       "         2    \n",
       "        a     \n",
       "h = ──────────\n",
       "    \\gamma - 1"
      ]
     },
     "metadata": {},
     "output_type": "display_data"
    }
   ],
   "source": [
    "display(Eq(a**2,gamma*R*T))\n",
    "display(Eq(a**2,gamma*R*h/cp))\n",
    "display(Eq(a**2,(1-1/gamma)*gamma*h))\n",
    "display(Eq(a**2,(gamma-1)*h))\n",
    "display(Eq(h,a**2/(gamma-1)))"
   ]
  },
  {
   "cell_type": "code",
   "execution_count": 26,
   "metadata": {},
   "outputs": [
    {
     "data": {
      "image/png": "[encoded data removed]",
      "text/latex": [
       "$$p_{1} = \\frac{\\rho_{1} h_{1}}{\\gamma} \\left(\\gamma - 1\\right)$$"
      ],
      "text/plain": [
       "        \\rho_{1}⋅h_{1}⋅(\\gamma - 1)\n",
       "p_{1} = ───────────────────────────\n",
       "                   \\gamma          "
      ]
     },
     "execution_count": 26,
     "metadata": {},
     "output_type": "execute_result"
    }
   ],
   "source": [
    "e_state1"
   ]
  },
  {
   "cell_type": "code",
   "execution_count": 74,
   "metadata": {},
   "outputs": [
    {
     "data": {
      "image/png": "[encoded data removed]",
      "text/latex": [
       "$$\\frac{\\rho_{1} u_{1}^{2} + p_{1}}{\\rho_{1} u_{1}} = \\frac{\\rho_{2} u_{2}^{2} + p_{2}}{\\rho_{2} u_{2}}$$"
      ],
      "text/plain": [
       "              2                         2        \n",
       "\\rho_{1}⋅u_{1}  + p_{1}   \\rho_{2}⋅u_{2}  + p_{2}\n",
       "─────────────────────── = ───────────────────────\n",
       "     \\rho_{1}⋅u_{1}            \\rho_{2}⋅u_{2}    "
      ]
     },
     "execution_count": 74,
     "metadata": {},
     "output_type": "execute_result"
    }
   ],
   "source": [
    "eq1=Eq(xmomentum.lhs/continuity.lhs,xmomentum.rhs/continuity.rhs)\n",
    "eq1"
   ]
  },
  {
   "cell_type": "code",
   "execution_count": 82,
   "metadata": {},
   "outputs": [],
   "source": [
    "eq2=simplify(eq1)"
   ]
  },
  {
   "cell_type": "code",
   "execution_count": 83,
   "metadata": {},
   "outputs": [
    {
     "data": {
      "image/png": "[encoded data removed]",
      "text/latex": [
       "$$u_{1} - u_{2} = \\frac{p_{2}}{\\rho_{2} u_{2}} - \\frac{p_{1}}{\\rho_{1} u_{1}}$$"
      ],
      "text/plain": [
       "                    p_{2}            p_{1}     \n",
       "u_{1} - u_{2} = ────────────── - ──────────────\n",
       "                \\rho_{2}⋅u_{2}   \\rho_{1}⋅u_{1}"
      ]
     },
     "execution_count": 83,
     "metadata": {},
     "output_type": "execute_result"
    }
   ],
   "source": [
    "eq3=Eq(eq2.lhs-p1/(rho1*u1)-u2,eq2.rhs-p1/(rho1*u1)-u2)\n",
    "eq3"
   ]
  },
  {
   "cell_type": "code",
   "execution_count": 88,
   "metadata": {},
   "outputs": [
    {
     "data": {
      "image/png": "[encoded data removed]",
      "text/latex": [
       "$$u_{1} - u_{2} = \\frac{1}{\\gamma u_{1} u_{2}} \\left(\\gamma - 1\\right) \\left(- h_{1} u_{2} + h_{2} u_{1}\\right)$$"
      ],
      "text/plain": [
       "                (\\gamma - 1)⋅(-h_{1}⋅u_{2} + h_{2}⋅u_{1})\n",
       "u_{1} - u_{2} = ─────────────────────────────────────────\n",
       "                            \\gamma⋅u_{1}⋅u_{2}           "
      ]
     },
     "execution_count": 88,
     "metadata": {},
     "output_type": "execute_result"
    }
   ],
   "source": [
    "eq4=simplify(eq3.subs(e_state1.lhs,e_state1.rhs).subs(e_state2.lhs,e_state2.rhs))\n",
    "eq4"
   ]
  },
  {
   "cell_type": "code",
   "execution_count": 92,
   "metadata": {},
   "outputs": [
    {
     "data": {
      "image/png": "[encoded data removed]",
      "text/latex": [
       "$$h_{0} = h_{1} + 0.5 u_{1}^{2} = h_{2} + 0.5 u_{2}^{2}$$"
      ],
      "text/plain": [
       "                         2                    2\n",
       "h_{0} = h_{1} + 0.5⋅u_{1}  = h_{2} + 0.5⋅u_{2} "
      ]
     },
     "metadata": {},
     "output_type": "display_data"
    },
    {
     "data": {
      "image/png": "[encoded data removed]",
      "text/latex": [
       "$$h_{1} = h_{0} - 0.5 u_{1}^{2}$$"
      ],
      "text/plain": [
       "                         2\n",
       "h_{1} = h_{0} - 0.5⋅u_{1} "
      ]
     },
     "metadata": {},
     "output_type": "display_data"
    },
    {
     "data": {
      "image/png": "[encoded data removed]",
      "text/latex": [
       "$$h_{2} = h_{0} - 0.5 u_{2}^{2}$$"
      ],
      "text/plain": [
       "                         2\n",
       "h_{2} = h_{0} - 0.5⋅u_{2} "
      ]
     },
     "metadata": {},
     "output_type": "display_data"
    }
   ],
   "source": [
    "display(Eq(h0,energy))\n",
    "display(Eq(h1,h0-1/2*u1**2))\n",
    "display(Eq(h2,h0-1/2*u2**2))"
   ]
  },
  {
   "cell_type": "code",
   "execution_count": 121,
   "metadata": {},
   "outputs": [
    {
     "data": {
      "image/png": "[encoded data removed]",
      "text/latex": [
       "$$u_{1} - u_{2} = \\frac{1}{\\gamma u_{1} u_{2}} \\left(\\gamma - 1\\right) \\left(u_{1} \\left(h_{0} - 0.5 u_{2}^{2}\\right) - u_{2} \\left(h_{0} - 0.5 u_{1}^{2}\\right)\\right)$$"
      ],
      "text/plain": [
       "                             ⎛      ⎛                 2⎞         ⎛            \n",
       "                (\\gamma - 1)⋅⎝u_{1}⋅⎝h_{0} - 0.5⋅u_{2} ⎠ - u_{2}⋅⎝h_{0} - 0.5⋅\n",
       "u_{1} - u_{2} = ──────────────────────────────────────────────────────────────\n",
       "                                          \\gamma⋅u_{1}⋅u_{2}                  \n",
       "\n",
       "     2⎞⎞\n",
       "u_{1} ⎠⎠\n",
       "────────\n",
       "        "
      ]
     },
     "execution_count": 121,
     "metadata": {},
     "output_type": "execute_result"
    }
   ],
   "source": [
    "eq4.subs(h1,h0-1/2*u1**2).subs(h2,h0-1/2*u2**2)"
   ]
  },
  {
   "cell_type": "code",
   "execution_count": 122,
   "metadata": {},
   "outputs": [
    {
     "data": {
      "image/png": "[encoded data removed]",
      "text/latex": [
       "$$\\frac{\\gamma}{2} + \\frac{1}{2} = h_{0} \\left(\\frac{1.0 \\gamma}{u_{1} u_{2}} - \\frac{1.0}{u_{1} u_{2}}\\right)$$"
      ],
      "text/plain": [
       "\\gamma   1         ⎛ 1.0⋅\\gamma       1.0    ⎞\n",
       "────── + ─ = h_{0}⋅⎜─────────── - ───────────⎟\n",
       "  2      2         ⎝u_{1}⋅u_{2}   u_{1}⋅u_{2}⎠"
      ]
     },
     "execution_count": 122,
     "metadata": {},
     "output_type": "execute_result"
    }
   ],
   "source": [
    "eq5=Eq(_.lhs/(u1-u2)*gamma-(gamma-1)/2,collect(expand(simplify(_.rhs/(u1-u2)*gamma)),h0)-(gamma-1)/2)\n",
    "eq5"
   ]
  },
  {
   "cell_type": "code",
   "execution_count": 185,
   "metadata": {},
   "outputs": [
    {
     "data": {
      "image/png": "[encoded data removed]",
      "text/latex": [
       "$$\\left(\\frac{\\gamma}{2} + \\frac{1}{2}\\right)^{2} = h_{0}^{2} \\left(\\frac{1.0 \\gamma}{u_{1} u_{2}} - \\frac{1.0}{u_{1} u_{2}}\\right)^{2}$$"
      ],
      "text/plain": [
       "            2                                     2\n",
       "⎛\\gamma   1⎞         2 ⎛ 1.0⋅\\gamma       1.0    ⎞ \n",
       "⎜────── + ─⎟  = h_{0} ⋅⎜─────────── - ───────────⎟ \n",
       "⎝  2      2⎠           ⎝u_{1}⋅u_{2}   u_{1}⋅u_{2}⎠ "
      ]
     },
     "execution_count": 185,
     "metadata": {},
     "output_type": "execute_result"
    }
   ],
   "source": [
    "Eq(eq5.lhs**2,eq5.rhs**2)"
   ]
  },
  {
   "cell_type": "code",
   "execution_count": 186,
   "metadata": {},
   "outputs": [
    {
     "data": {
      "image/png": "[encoded data removed]",
      "text/latex": [
       "$$\\left(\\frac{\\gamma}{2} + \\frac{1}{2}\\right)^{2} = \\left(h_{1} + \\frac{u_{1}^{2}}{2}\\right) \\left(h_{2} + \\frac{u_{2}^{2}}{2}\\right) \\left(\\frac{1.0 \\gamma}{u_{1} u_{2}} - \\frac{1.0}{u_{1} u_{2}}\\right)^{2}$$"
      ],
      "text/plain": [
       "            2   ⎛             2⎞ ⎛             2⎞                            2\n",
       "⎛\\gamma   1⎞    ⎜        u_{1} ⎟ ⎜        u_{2} ⎟ ⎛ 1.0⋅\\gamma       1.0    ⎞ \n",
       "⎜────── + ─⎟  = ⎜h_{1} + ──────⎟⋅⎜h_{2} + ──────⎟⋅⎜─────────── - ───────────⎟ \n",
       "⎝  2      2⎠    ⎝          2   ⎠ ⎝          2   ⎠ ⎝u_{1}⋅u_{2}   u_{1}⋅u_{2}⎠ "
      ]
     },
     "execution_count": 186,
     "metadata": {},
     "output_type": "execute_result"
    }
   ],
   "source": [
    "_.subs(h0**2,(h1+u1**2/2)*(h2+u2**2/2))"
   ]
  },
  {
   "cell_type": "code",
   "execution_count": 187,
   "metadata": {},
   "outputs": [
    {
     "data": {
      "image/png": "[encoded data removed]",
      "text/latex": [
       "$$\\left(\\frac{\\gamma}{2} + \\frac{1}{2}\\right)^{2} = \\left(\\frac{a_{1}^{2}}{\\gamma - 1} + \\frac{u_{1}^{2}}{2}\\right) \\left(\\frac{a_{2}^{2}}{\\gamma - 1} + \\frac{u_{2}^{2}}{2}\\right) \\left(\\frac{1.0 \\gamma}{u_{1} u_{2}} - \\frac{1.0}{u_{1} u_{2}}\\right)^{2}$$"
      ],
      "text/plain": [
       "            2   ⎛       2          2⎞ ⎛       2          2⎞                   \n",
       "⎛\\gamma   1⎞    ⎜  a_{1}      u_{1} ⎟ ⎜  a_{2}      u_{2} ⎟ ⎛ 1.0⋅\\gamma      \n",
       "⎜────── + ─⎟  = ⎜────────── + ──────⎟⋅⎜────────── + ──────⎟⋅⎜─────────── - ───\n",
       "⎝  2      2⎠    ⎝\\gamma - 1     2   ⎠ ⎝\\gamma - 1     2   ⎠ ⎝u_{1}⋅u_{2}   u_{\n",
       "\n",
       "         2\n",
       " 1.0    ⎞ \n",
       "────────⎟ \n",
       "1}⋅u_{2}⎠ "
      ]
     },
     "execution_count": 187,
     "metadata": {},
     "output_type": "execute_result"
    }
   ],
   "source": [
    "_.subs(h1,a1**2/(gamma-1)).subs(h2,a2**2/(gamma-1))"
   ]
  },
  {
   "cell_type": "code",
   "execution_count": 188,
   "metadata": {},
   "outputs": [
    {
     "data": {
      "image/png": "[encoded data removed]",
      "text/latex": [
       "$$\\left(\\frac{\\gamma}{2} + \\frac{1}{2}\\right)^{2} = \\left(\\frac{M_{1}^{2} a_{1}^{2}}{2} + \\frac{a_{1}^{2}}{\\gamma - 1}\\right) \\left(\\frac{M_{2}^{2} a_{2}^{2}}{2} + \\frac{a_{2}^{2}}{\\gamma - 1}\\right) \\left(\\frac{1.0 \\gamma}{M_{1} M_{2} a_{1} a_{2}} - \\frac{1.0}{M_{1} M_{2} a_{1} a_{2}}\\right)^{2}$$"
      ],
      "text/plain": [
       "            2   ⎛     2      2          2  ⎞ ⎛     2      2          2  ⎞     \n",
       "⎛\\gamma   1⎞    ⎜M_{1} ⋅a_{1}      a_{1}   ⎟ ⎜M_{2} ⋅a_{2}      a_{2}   ⎟ ⎛   \n",
       "⎜────── + ─⎟  = ⎜───────────── + ──────────⎟⋅⎜───────────── + ──────────⎟⋅⎜───\n",
       "⎝  2      2⎠    ⎝      2         \\gamma - 1⎠ ⎝      2         \\gamma - 1⎠ ⎝M_{\n",
       "\n",
       "                                               2\n",
       "    1.0⋅\\gamma                   1.0          ⎞ \n",
       "──────────────────── - ───────────────────────⎟ \n",
       "1}⋅M_{2}⋅a_{1}⋅a_{2}   M_{1}⋅M_{2}⋅a_{1}⋅a_{2}⎠ "
      ]
     },
     "execution_count": 188,
     "metadata": {},
     "output_type": "execute_result"
    }
   ],
   "source": [
    "_.subs(u1,a1*M1).subs(u2,a2*M2)"
   ]
  },
  {
   "cell_type": "code",
   "execution_count": 189,
   "metadata": {},
   "outputs": [
    {
     "data": {
      "image/png": "[encoded data removed]",
      "text/latex": [
       "$$\\frac{1}{4} \\left(\\gamma + 1\\right)^{2} = \\frac{0.25}{M_{1}^{2} M_{2}^{2}} \\left(M_{1}^{2} \\left(\\gamma - 1\\right) + 2\\right) \\left(M_{2}^{2} \\left(\\gamma - 1\\right) + 2\\right)$$"
      ],
      "text/plain": [
       "            2        ⎛     2                 ⎞ ⎛     2                 ⎞\n",
       "(\\gamma + 1)    0.25⋅⎝M_{1} ⋅(\\gamma - 1) + 2⎠⋅⎝M_{2} ⋅(\\gamma - 1) + 2⎠\n",
       "───────────── = ────────────────────────────────────────────────────────\n",
       "      4                                   2      2                      \n",
       "                                     M_{1} ⋅M_{2}                       "
      ]
     },
     "execution_count": 189,
     "metadata": {},
     "output_type": "execute_result"
    }
   ],
   "source": [
    "simplify(_)"
   ]
  },
  {
   "cell_type": "code",
   "execution_count": 190,
   "metadata": {},
   "outputs": [
    {
     "data": {
      "image/png": "[encoded data removed]",
      "text/latex": [
       "$$\\left [ \\frac{M_{1}^{2} \\gamma - M_{1}^{2} + 2.0}{2.0 M_{1}^{2} \\gamma - \\gamma + 1.0}\\right ]$$"
      ],
      "text/plain": [
       "⎡       2               2        ⎤\n",
       "⎢  M_{1} ⋅\\gamma - M_{1}  + 2.0  ⎥\n",
       "⎢────────────────────────────────⎥\n",
       "⎢         2                      ⎥\n",
       "⎣2.0⋅M_{1} ⋅\\gamma - \\gamma + 1.0⎦"
      ]
     },
     "execution_count": 190,
     "metadata": {},
     "output_type": "execute_result"
    }
   ],
   "source": [
    "solve(_,M2**2)"
   ]
  },
  {
   "cell_type": "code",
   "execution_count": 191,
   "metadata": {},
   "outputs": [],
   "source": [
    "solM2=_[0]"
   ]
  },
  {
   "cell_type": "code",
   "execution_count": 192,
   "metadata": {},
   "outputs": [
    {
     "data": {
      "image/png": "[encoded data removed]",
      "text/latex": [
       "$$M_{2} = \\sqrt[4]{\\frac{M_{1}^{2} \\gamma - M_{1}^{2} + 2.0}{2.0 M_{1}^{2} \\gamma - \\gamma + 1.0}}$$"
      ],
      "text/plain": [
       "              __________________________________\n",
       "             ╱        2               2         \n",
       "            ╱    M_{1} ⋅\\gamma - M_{1}  + 2.0   \n",
       "M_{2} =    ╱   ──────────────────────────────── \n",
       "        4 ╱             2                       \n",
       "        ╲╱     2.0⋅M_{1} ⋅\\gamma - \\gamma + 1.0 "
      ]
     },
     "execution_count": 192,
     "metadata": {},
     "output_type": "execute_result"
    }
   ],
   "source": [
    "Eq(M2,sqrt(sqrt(solM2)))"
   ]
  },
  {
   "cell_type": "code",
   "execution_count": 147,
   "metadata": {},
   "outputs": [
    {
     "data": {
      "image/png": "[encoded data removed]",
      "text/latex": [
       "$$\\frac{u_{1}}{u_{2}} = \\frac{M_{1} a_{1}}{M_{2} a_{2}}$$"
      ],
      "text/plain": [
       "u_{1}   M_{1}⋅a_{1}\n",
       "───── = ───────────\n",
       "u_{2}   M_{2}⋅a_{2}"
      ]
     },
     "execution_count": 147,
     "metadata": {},
     "output_type": "execute_result"
    }
   ],
   "source": [
    "Eq(u1/u2,M1*a1/(M2*a2))"
   ]
  },
  {
   "cell_type": "code",
   "execution_count": 150,
   "metadata": {},
   "outputs": [
    {
     "data": {
      "image/png": "[encoded data removed]",
      "text/latex": [
       "$$\\frac{M_{1}^{2} h_{1}}{M_{2}^{2} h_{2}}$$"
      ],
      "text/plain": [
       "     2      \n",
       "M_{1} ⋅h_{1}\n",
       "────────────\n",
       "     2      \n",
       "M_{2} ⋅h_{2}"
      ]
     },
     "execution_count": 150,
     "metadata": {},
     "output_type": "execute_result"
    }
   ],
   "source": [
    "((M1*a1)**2/(M2*a2)**2).subs(a1**2,h1*(gamma-1)).subs(a2**2,h2*(gamma-1))"
   ]
  },
  {
   "cell_type": "code",
   "execution_count": 151,
   "metadata": {},
   "outputs": [
    {
     "data": {
      "image/png": "[encoded data removed]",
      "text/latex": [
       "$$\\frac{M_{1}^{2} \\left(h_{0} - \\frac{u_{1}^{2}}{2}\\right)}{M_{2}^{2} \\left(h_{0} - \\frac{u_{2}^{2}}{2}\\right)}$$"
      ],
      "text/plain": [
       "       ⎛             2⎞\n",
       "     2 ⎜        u_{1} ⎟\n",
       "M_{1} ⋅⎜h_{0} - ──────⎟\n",
       "       ⎝          2   ⎠\n",
       "───────────────────────\n",
       "       ⎛             2⎞\n",
       "     2 ⎜        u_{2} ⎟\n",
       "M_{2} ⋅⎜h_{0} - ──────⎟\n",
       "       ⎝          2   ⎠"
      ]
     },
     "execution_count": 151,
     "metadata": {},
     "output_type": "execute_result"
    }
   ],
   "source": [
    "_.subs(h1,h0-u1**2/2).subs(h2,h0-u2**2/2)"
   ]
  },
  {
   "cell_type": "code",
   "execution_count": 172,
   "metadata": {},
   "outputs": [],
   "source": [
    "rr1=xmomentum.lhs.subs(e_state1.lhs,e_state1.rhs).subs(h1,a1**2/(gamma-1)).subs(u1,a1*M1)"
   ]
  },
  {
   "cell_type": "code",
   "execution_count": 173,
   "metadata": {},
   "outputs": [],
   "source": [
    "rrh=xmomentum.rhs.subs(e_state2.lhs,e_state2.rhs).subs(h2,a2**2/(gamma-1)).subs(u2,a2*M2)"
   ]
  },
  {
   "cell_type": "code",
   "execution_count": 174,
   "metadata": {},
   "outputs": [
    {
     "data": {
      "image/png": "[encoded data removed]",
      "text/latex": [
       "$$\\frac{a_{2}^{2} \\left(M_{2}^{2} \\gamma - M_{2}^{2} + 2\\right)}{M_{1}^{2} \\gamma - M_{1}^{2} + 2}$$"
      ],
      "text/plain": [
       "     2 ⎛     2               2    ⎞\n",
       "a_{2} ⋅⎝M_{2} ⋅\\gamma - M_{2}  + 2⎠\n",
       "───────────────────────────────────\n",
       "          2               2        \n",
       "     M_{1} ⋅\\gamma - M_{1}  + 2    "
      ]
     },
     "execution_count": 174,
     "metadata": {},
     "output_type": "execute_result"
    }
   ],
   "source": [
    "a1*2\n",
    "a12=solve((h1*(gamma-1)).subs(h1,h0-u1**2/2).subs(h0,h2+u2**2/2).subs(h2,a2**2/(gamma-1)).subs(u1,a1*M1).subs(u2,a2*M2)-a1**2,a1**2)[0]\n",
    "a12"
   ]
  },
  {
   "cell_type": "code",
   "execution_count": 176,
   "metadata": {},
   "outputs": [
    {
     "data": {
      "image/png": "[encoded data removed]",
      "text/latex": [
       "$$\\frac{M_{1}^{2} \\rho_{1} a_{2}^{2} \\left(M_{2}^{2} \\gamma - M_{2}^{2} + 2\\right)}{M_{1}^{2} \\gamma - M_{1}^{2} + 2} + \\frac{\\rho_{1} a_{2}^{2} \\left(M_{2}^{2} \\gamma - M_{2}^{2} + 2\\right)}{\\gamma \\left(M_{1}^{2} \\gamma - M_{1}^{2} + 2\\right)}$$"
      ],
      "text/plain": [
       "     2               2 ⎛     2               2    ⎞                 2 ⎛     2 \n",
       "M_{1} ⋅\\rho_{1}⋅a_{2} ⋅⎝M_{2} ⋅\\gamma - M_{2}  + 2⎠   \\rho_{1}⋅a_{2} ⋅⎝M_{2} ⋅\n",
       "─────────────────────────────────────────────────── + ────────────────────────\n",
       "                  2               2                              ⎛     2      \n",
       "             M_{1} ⋅\\gamma - M_{1}  + 2                   \\gamma⋅⎝M_{1} ⋅\\gamm\n",
       "\n",
       "              2    ⎞\n",
       "\\gamma - M_{2}  + 2⎠\n",
       "────────────────────\n",
       "         2    ⎞     \n",
       "a - M_{1}  + 2⎠     "
      ]
     },
     "execution_count": 176,
     "metadata": {},
     "output_type": "execute_result"
    }
   ],
   "source": [
    "rr1.subs(a1**2,a12)"
   ]
  },
  {
   "cell_type": "code",
   "execution_count": 205,
   "metadata": {},
   "outputs": [
    {
     "data": {
      "image/png": "[encoded data removed]",
      "text/latex": [
       "$$\\frac{\\rho_{2}}{\\rho_{1} \\left(M_{2}^{2} \\rho_{2} a_{2}^{2} + \\frac{\\rho_{2} a_{2}^{2}}{\\gamma}\\right)} \\left(\\frac{M_{1}^{2} \\rho_{1} a_{2}^{2} \\left(M_{2}^{2} \\gamma - M_{2}^{2} + 2\\right)}{M_{1}^{2} \\gamma - M_{1}^{2} + 2} + \\frac{\\rho_{1} a_{2}^{2} \\left(M_{2}^{2} \\gamma - M_{2}^{2} + 2\\right)}{\\gamma \\left(M_{1}^{2} \\gamma - M_{1}^{2} + 2\\right)}\\right) = \\frac{\\rho_{2}}{\\rho_{1}}$$"
      ],
      "text/plain": [
       "         ⎛     2               2 ⎛     2               2    ⎞                 \n",
       "         ⎜M_{1} ⋅\\rho_{1}⋅a_{2} ⋅⎝M_{2} ⋅\\gamma - M_{2}  + 2⎠   \\rho_{1}⋅a_{2}\n",
       "\\rho_{2}⋅⎜─────────────────────────────────────────────────── + ──────────────\n",
       "         ⎜                  2               2                              ⎛  \n",
       "         ⎝             M_{1} ⋅\\gamma - M_{1}  + 2                   \\gamma⋅⎝M_\n",
       "──────────────────────────────────────────────────────────────────────────────\n",
       "                                      ⎛                                       \n",
       "                                      ⎜     2               2   \\rho_{2}⋅a_{2}\n",
       "                             \\rho_{1}⋅⎜M_{2} ⋅\\rho_{2}⋅a_{2}  + ──────────────\n",
       "                                      ⎝                              \\gamma   \n",
       "\n",
       "2 ⎛     2               2    ⎞⎞           \n",
       " ⋅⎝M_{2} ⋅\\gamma - M_{2}  + 2⎠⎟           \n",
       "──────────────────────────────⎟           \n",
       "   2               2    ⎞     ⎟           \n",
       "{1} ⋅\\gamma - M_{1}  + 2⎠     ⎠   \\rho_{2}\n",
       "─────────────────────────────── = ────────\n",
       "2⎞                                \\rho_{1}\n",
       " ⎟                                        \n",
       "─⎟                                        \n",
       " ⎠                                        "
      ]
     },
     "execution_count": 205,
     "metadata": {},
     "output_type": "execute_result"
    }
   ],
   "source": [
    "Eq(rr1.subs(a1**2,a12)/rho1/(rrh/rho2),rho2/rho1)"
   ]
  },
  {
   "cell_type": "code",
   "execution_count": 206,
   "metadata": {},
   "outputs": [
    {
     "data": {
      "image/png": "[encoded data removed]",
      "text/latex": [
       "$$\\frac{\\rho_{2}}{\\rho_{1}} = \\frac{1.0 M_{1}^{2} \\left(\\gamma + 1\\right)}{1.0 M_{1}^{2} \\gamma - 1.0 M_{1}^{2} + 2.0}$$"
      ],
      "text/plain": [
       "                          2                    \n",
       "\\rho_{2}         1.0⋅M_{1} ⋅(\\gamma + 1)       \n",
       "──────── = ────────────────────────────────────\n",
       "\\rho_{1}            2                   2      \n",
       "           1.0⋅M_{1} ⋅\\gamma - 1.0⋅M_{1}  + 2.0"
      ]
     },
     "execution_count": 206,
     "metadata": {},
     "output_type": "execute_result"
    }
   ],
   "source": [
    "simplify(_.subs(M2**2,solM2))"
   ]
  },
  {
   "cell_type": "code",
   "execution_count": 207,
   "metadata": {},
   "outputs": [
    {
     "data": {
      "image/png": "[encoded data removed]",
      "text/latex": [
       "$$\\frac{1.0 M_{1}^{2} \\left(\\gamma + 1\\right)}{1.0 M_{1}^{2} \\gamma - 1.0 M_{1}^{2} + 2.0}$$"
      ],
      "text/plain": [
       "               2                    \n",
       "      1.0⋅M_{1} ⋅(\\gamma + 1)       \n",
       "────────────────────────────────────\n",
       "         2                   2      \n",
       "1.0⋅M_{1} ⋅\\gamma - 1.0⋅M_{1}  + 2.0"
      ]
     },
     "execution_count": 207,
     "metadata": {},
     "output_type": "execute_result"
    }
   ],
   "source": [
    "rhorr=_.rhs\n",
    "rhorr"
   ]
  },
  {
   "cell_type": "code",
   "execution_count": 218,
   "metadata": {},
   "outputs": [
    {
     "data": {
      "image/png": "[encoded data removed]",
      "text/latex": [
       "$$\\frac{1.0 M_{1}^{2} h_{2} \\left(\\gamma + 1\\right)}{h_{1} \\left(1.0 M_{1}^{2} \\gamma - 1.0 M_{1}^{2} + 2.0\\right)}$$"
      ],
      "text/plain": [
       "                2                           \n",
       "       1.0⋅M_{1} ⋅h_{2}⋅(\\gamma + 1)        \n",
       "────────────────────────────────────────────\n",
       "      ⎛         2                   2      ⎞\n",
       "h_{1}⋅⎝1.0⋅M_{1} ⋅\\gamma - 1.0⋅M_{1}  + 2.0⎠"
      ]
     },
     "execution_count": 218,
     "metadata": {},
     "output_type": "execute_result"
    }
   ],
   "source": [
    "(e_state2.rhs/e_state1.rhs).subs(rho2/rho1,rhorr)"
   ]
  },
  {
   "cell_type": "code",
   "execution_count": 219,
   "metadata": {},
   "outputs": [
    {
     "data": {
      "image/png": "[encoded data removed]",
      "text/latex": [
       "$$\\frac{1.0 M_{1}^{2} a_{2}^{2} \\left(\\gamma + 1\\right)}{a_{1}^{2} \\left(1.0 M_{1}^{2} \\gamma - 1.0 M_{1}^{2} + 2.0\\right)}$$"
      ],
      "text/plain": [
       "                 2      2                    \n",
       "        1.0⋅M_{1} ⋅a_{2} ⋅(\\gamma + 1)       \n",
       "─────────────────────────────────────────────\n",
       "     2 ⎛         2                   2      ⎞\n",
       "a_{1} ⋅⎝1.0⋅M_{1} ⋅\\gamma - 1.0⋅M_{1}  + 2.0⎠"
      ]
     },
     "execution_count": 219,
     "metadata": {},
     "output_type": "execute_result"
    }
   ],
   "source": [
    "_.subs(h1,a1**2/(gamma-1)).subs(h2,a2**2/(gamma-1))"
   ]
  },
  {
   "cell_type": "code",
   "execution_count": 220,
   "metadata": {},
   "outputs": [
    {
     "data": {
      "image/png": "[encoded data removed]",
      "text/latex": [
       "$$\\frac{1.0 M_{1}^{2} \\left(\\gamma + 1\\right) \\left(M_{1}^{2} \\gamma - M_{1}^{2} + 2\\right)}{\\left(1.0 M_{1}^{2} \\gamma - 1.0 M_{1}^{2} + 2.0\\right) \\left(M_{2}^{2} \\gamma - M_{2}^{2} + 2\\right)}$$"
      ],
      "text/plain": [
       "                 2              ⎛     2               2    ⎞       \n",
       "        1.0⋅M_{1} ⋅(\\gamma + 1)⋅⎝M_{1} ⋅\\gamma - M_{1}  + 2⎠       \n",
       "───────────────────────────────────────────────────────────────────\n",
       "⎛         2                   2      ⎞ ⎛     2               2    ⎞\n",
       "⎝1.0⋅M_{1} ⋅\\gamma - 1.0⋅M_{1}  + 2.0⎠⋅⎝M_{2} ⋅\\gamma - M_{2}  + 2⎠"
      ]
     },
     "execution_count": 220,
     "metadata": {},
     "output_type": "execute_result"
    }
   ],
   "source": [
    "_.subs(a1**2,a12)"
   ]
  },
  {
   "cell_type": "code",
   "execution_count": 221,
   "metadata": {},
   "outputs": [
    {
     "data": {
      "image/png": "[encoded data removed]",
      "text/latex": [
       "$$\\frac{1.0 M_{1}^{2} \\left(\\gamma + 1\\right) \\left(M_{1}^{2} \\gamma - M_{1}^{2} + 2\\right)}{\\left(1.0 M_{1}^{2} \\gamma - 1.0 M_{1}^{2} + 2.0\\right) \\left(\\frac{\\gamma \\left(M_{1}^{2} \\gamma - M_{1}^{2} + 2.0\\right)}{2.0 M_{1}^{2} \\gamma - \\gamma + 1.0} - \\frac{M_{1}^{2} \\gamma - M_{1}^{2} + 2.0}{2.0 M_{1}^{2} \\gamma - \\gamma + 1.0} + 2\\right)}$$"
      ],
      "text/plain": [
       "                                          2              ⎛     2              \n",
       "                                 1.0⋅M_{1} ⋅(\\gamma + 1)⋅⎝M_{1} ⋅\\gamma - M_{1\n",
       "──────────────────────────────────────────────────────────────────────────────\n",
       "                                       ⎛       ⎛     2               2      ⎞ \n",
       "⎛         2                   2      ⎞ ⎜\\gamma⋅⎝M_{1} ⋅\\gamma - M_{1}  + 2.0⎠ \n",
       "⎝1.0⋅M_{1} ⋅\\gamma - 1.0⋅M_{1}  + 2.0⎠⋅⎜───────────────────────────────────── \n",
       "                                       ⎜            2                         \n",
       "                                       ⎝   2.0⋅M_{1} ⋅\\gamma - \\gamma + 1.0   \n",
       "\n",
       " 2    ⎞                                \n",
       "}  + 2⎠                                \n",
       "───────────────────────────────────────\n",
       "         2               2            ⎞\n",
       "    M_{1} ⋅\\gamma - M_{1}  + 2.0      ⎟\n",
       "- ──────────────────────────────── + 2⎟\n",
       "           2                          ⎟\n",
       "  2.0⋅M_{1} ⋅\\gamma - \\gamma + 1.0    ⎠"
      ]
     },
     "execution_count": 221,
     "metadata": {},
     "output_type": "execute_result"
    }
   ],
   "source": [
    "_.subs(M2**2,solM2)"
   ]
  },
  {
   "cell_type": "code",
   "execution_count": 222,
   "metadata": {},
   "outputs": [
    {
     "data": {
      "image/png": "[encoded data removed]",
      "text/latex": [
       "$$\\frac{1.0}{\\gamma + 1} \\left(2.0 M_{1}^{2} \\gamma - 1.0 \\gamma + 1.0\\right)$$"
      ],
      "text/plain": [
       "    ⎛         2                          ⎞\n",
       "1.0⋅⎝2.0⋅M_{1} ⋅\\gamma - 1.0⋅\\gamma + 1.0⎠\n",
       "──────────────────────────────────────────\n",
       "                \\gamma + 1                "
      ]
     },
     "execution_count": 222,
     "metadata": {},
     "output_type": "execute_result"
    }
   ],
   "source": [
    "simplify(_)"
   ]
  },
  {
   "cell_type": "code",
   "execution_count": 223,
   "metadata": {},
   "outputs": [],
   "source": [
    "prr=_"
   ]
  },
  {
   "cell_type": "code",
   "execution_count": 228,
   "metadata": {},
   "outputs": [],
   "source": [
    "M1s=solve(Eq(prr.subs(gamma,1.4),1.5),M1)[1]"
   ]
  },
  {
   "cell_type": "code",
   "execution_count": 242,
   "metadata": {},
   "outputs": [
    {
     "data": {
      "image/png": "[encoded data removed]",
      "text/latex": [
       "$$\\frac{1.0}{M_{1}^{2} \\left(\\gamma + 1\\right)^{2}} \\left(1.0 M_{1}^{2} \\gamma - 1.0 M_{1}^{2} + 2.0\\right) \\left(2.0 M_{1}^{2} \\gamma - 1.0 \\gamma + 1.0\\right)$$"
      ],
      "text/plain": [
       "    ⎛         2                   2      ⎞ ⎛         2                        \n",
       "1.0⋅⎝1.0⋅M_{1} ⋅\\gamma - 1.0⋅M_{1}  + 2.0⎠⋅⎝2.0⋅M_{1} ⋅\\gamma - 1.0⋅\\gamma + 1\n",
       "──────────────────────────────────────────────────────────────────────────────\n",
       "                                    2             2                           \n",
       "                               M_{1} ⋅(\\gamma + 1)                            \n",
       "\n",
       "  ⎞\n",
       ".0⎠\n",
       "───\n",
       "   \n",
       "   "
      ]
     },
     "execution_count": 242,
     "metadata": {},
     "output_type": "execute_result"
    }
   ],
   "source": [
    "trr=prr/rhorr\n",
    "trr"
   ]
  },
  {
   "cell_type": "code",
   "execution_count": 244,
   "metadata": {},
   "outputs": [
    {
     "data": {
      "image/png": "[encoded data removed]",
      "text/latex": [
       "$$337.5$$"
      ],
      "text/plain": [
       "337.500000000000"
      ]
     },
     "execution_count": 244,
     "metadata": {},
     "output_type": "execute_result"
    }
   ],
   "source": [
    "trr.subs(gamma,1.4).subs(M1,M1s)*300"
   ]
  },
  {
   "cell_type": "code",
   "execution_count": 230,
   "metadata": {},
   "outputs": [
    {
     "data": {
      "image/png": "[encoded data removed]",
      "text/latex": [
       "$$1.19522860933439$$"
      ],
      "text/plain": [
       "1.19522860933439"
      ]
     },
     "execution_count": 230,
     "metadata": {},
     "output_type": "execute_result"
    }
   ],
   "source": [
    "M1s"
   ]
  },
  {
   "cell_type": "code",
   "execution_count": 247,
   "metadata": {},
   "outputs": [
    {
     "data": {
      "image/png": "[encoded data removed]",
      "text/latex": [
       "$$14.1421356237309 \\sqrt{861}$$"
      ],
      "text/plain": [
       "14.1421356237309⋅√861"
      ]
     },
     "execution_count": 247,
     "metadata": {},
     "output_type": "execute_result"
    }
   ],
   "source": [
    "(M1*sqrt(gamma*R*T)).subs(M1,M1s).subs(T,300).subs(R,287).subs(gamma,1.4)"
   ]
  },
  {
   "cell_type": "code",
   "execution_count": 248,
   "metadata": {},
   "outputs": [
    {
     "data": {
      "image/png": "[encoded data removed]",
      "text/latex": [
       "$$414.96987842492854$$"
      ],
      "text/plain": [
       "414.96987842492854"
      ]
     },
     "execution_count": 248,
     "metadata": {},
     "output_type": "execute_result"
    }
   ],
   "source": [
    "float(_)"
   ]
  },
  {
   "cell_type": "code",
   "execution_count": 260,
   "metadata": {},
   "outputs": [
    {
     "data": {
      "image/png": "[encoded data removed]",
      "text/latex": [
       "$$- 18.3711730708738 \\sqrt{287} + 14.1421356237309 \\sqrt{861}$$"
      ],
      "text/plain": [
       "-18.3711730708738⋅√287 + 14.1421356237309⋅√861"
      ]
     },
     "execution_count": 260,
     "metadata": {},
     "output_type": "execute_result"
    }
   ],
   "source": [
    "(M1*sqrt(gamma*R*T)).subs(M1,M1s).subs(T,300).subs(R,287).subs(gamma,1.4)-(sqrt(solM2*gamma*R*T)).subs(M1,M1s).subs(T,trr.subs(gamma,1.4).subs(M1,M1s)*300).subs(R,287).subs(gamma,1.4)"
   ]
  },
  {
   "cell_type": "code",
   "execution_count": 261,
   "metadata": {},
   "outputs": [
    {
     "data": {
      "image/png": "[encoded data removed]",
      "text/latex": [
       "$$103.74246960623208$$"
      ],
      "text/plain": [
       "103.74246960623208"
      ]
     },
     "execution_count": 261,
     "metadata": {},
     "output_type": "execute_result"
    }
   ],
   "source": [
    "float(_)"
   ]
  },
  {
   "cell_type": "code",
   "execution_count": 258,
   "metadata": {},
   "outputs": [
    {
     "data": {
      "image/png": "[encoded data removed]",
      "text/latex": [
       "$$18.3711730708738 \\sqrt{287}$$"
      ],
      "text/plain": [
       "18.3711730708738⋅√287"
      ]
     },
     "execution_count": 258,
     "metadata": {},
     "output_type": "execute_result"
    }
   ],
   "source": [
    "(sqrt(solM2*gamma*R*T)).subs(T,trr*300).subs(R,287).subs(gamma,1.4).subs(M1,M1s)"
   ]
  },
  {
   "cell_type": "code",
   "execution_count": 259,
   "metadata": {},
   "outputs": [
    {
     "data": {
      "image/png": "[encoded data removed]",
      "text/latex": [
       "$$311.22740881869646$$"
      ],
      "text/plain": [
       "311.22740881869646"
      ]
     },
     "execution_count": 259,
     "metadata": {},
     "output_type": "execute_result"
    }
   ],
   "source": [
    "float(_)"
   ]
  },
  {
   "cell_type": "code",
   "execution_count": 255,
   "metadata": {},
   "outputs": [
    {
     "data": {
      "image/png": "[encoded data removed]",
      "text/latex": [
       "$$337.5$$"
      ],
      "text/plain": [
       "337.500000000000"
      ]
     },
     "execution_count": 255,
     "metadata": {},
     "output_type": "execute_result"
    }
   ],
   "source": [
    "trr.subs(gamma,1.4).subs(M1,M1s)*300"
   ]
  },
  {
   "cell_type": "code",
   "execution_count": null,
   "metadata": {},
   "outputs": [],
   "source": []
  },
  {
   "cell_type": "code",
   "execution_count": 268,
   "metadata": {},
   "outputs": [
    {
     "data": {
      "image/png": "[encoded data removed]",
      "text/latex": [
       "$$\\frac{p_{0}}{p} = \\left(M^{2} \\left(\\frac{\\gamma}{2} - \\frac{1}{2}\\right) + 1\\right)^{\\frac{\\gamma}{\\gamma - 1}}$$"
      ],
      "text/plain": [
       "                               \\gamma  \n",
       "                             ──────────\n",
       "                             \\gamma - 1\n",
       "p_{0}   ⎛ 2 ⎛\\gamma   1⎞    ⎞          \n",
       "───── = ⎜M ⋅⎜────── - ─⎟ + 1⎟          \n",
       "  p     ⎝   ⎝  2      2⎠    ⎠          "
      ]
     },
     "execution_count": 268,
     "metadata": {},
     "output_type": "execute_result"
    }
   ],
   "source": [
    "Eq(p0/p,(1+(gamma-1)/2*M**2)**(gamma/(gamma-1)))"
   ]
  },
  {
   "cell_type": "code",
   "execution_count": null,
   "metadata": {},
   "outputs": [],
   "source": []
  }
 ],
 "metadata": {
  "kernelspec": {
   "display_name": "Python 3.6",
   "language": "python",
   "name": "python_3.6"
  },
  "language_info": {
   "codemirror_mode": {
    "name": "ipython",
    "version": 3
   },
   "file_extension": ".py",
   "mimetype": "text/x-python",
   "name": "python",
   "nbconvert_exporter": "python",
   "pygments_lexer": "ipython3",
   "version": "3.6.5"
  }
 },
 "nbformat": 4,
 "nbformat_minor": 2
}
