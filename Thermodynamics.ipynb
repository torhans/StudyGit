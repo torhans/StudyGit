{
 "cells": [
  {
   "cell_type": "code",
   "execution_count": 3,
   "metadata": {},
   "outputs": [],
   "source": [
    "from sympy import *\n",
    "init_printing()\n",
    "import numpy as np"
   ]
  },
  {
   "cell_type": "code",
   "execution_count": null,
   "metadata": {},
   "outputs": [],
   "source": [
    "xp,xr,x,k,Er,Ep,Er0,Ep0=symbols(\"xp xr x k Er Ep Er0 Ep0\")"
   ]
  },
  {
   "cell_type": "code",
   "execution_count": null,
   "metadata": {},
   "outputs": [],
   "source": [
    "eq=Eq(k*(x-xp)**2+Ep0,k*(x-xr)**2+Er0)\n",
    "eq"
   ]
  },
  {
   "cell_type": "code",
   "execution_count": null,
   "metadata": {},
   "outputs": [],
   "source": [
    "solx=solve(eq,x)\n",
    "solx"
   ]
  },
  {
   "cell_type": "code",
   "execution_count": null,
   "metadata": {},
   "outputs": [],
   "source": [
    "Ep=eq.rhs.subs(x,solx[0])\n",
    "Er=eq.lhs.subs(x,solx[0])"
   ]
  },
  {
   "cell_type": "code",
   "execution_count": null,
   "metadata": {},
   "outputs": [],
   "source": [
    "simplify(Er-Er0-Ep+Ep0)"
   ]
  },
  {
   "cell_type": "code",
   "execution_count": 148,
   "metadata": {},
   "outputs": [],
   "source": [
    "b=1/(1.38e-23*30)\n",
    "S1=np.array([0.002,0.0021,1.,2.,10.])*1.6e-19\n",
    "S2=np.array([0.001,0.004,2.,3.,4.,10.])*1.6e-19"
   ]
  },
  {
   "cell_type": "code",
   "execution_count": 149,
   "metadata": {},
   "outputs": [],
   "source": [
    "Z1=np.sum(np.exp(-b*S1))\n",
    "Z2=np.sum(np.exp(-b*S2))"
   ]
  },
  {
   "cell_type": "code",
   "execution_count": 150,
   "metadata": {},
   "outputs": [
    {
     "name": "stdout",
     "output_type": "stream",
     "text": [
      "0.0020490339366661886\n",
      "0.0017163179124087807\n"
     ]
    }
   ],
   "source": [
    "E1=np.sum(S1*np.exp(-b*S1))/Z1\n",
    "E2=np.sum(S2*np.exp(-b*S2))/Z2\n",
    "print(E1/1.6e-19)\n",
    "print(E2/1.6e-19)"
   ]
  },
  {
   "cell_type": "code",
   "execution_count": 151,
   "metadata": {},
   "outputs": [
    {
     "name": "stdout",
     "output_type": "stream",
     "text": [
      "0.00025599860857546504\n",
      "0.00029406997612081454\n",
      "3.807136754534944e-05\n"
     ]
    }
   ],
   "source": [
    "print(-1.0/b*np.log(Z1)/1.6e-19)\n",
    "print(-1.0/b*np.log(Z2)/1.6e-19)\n",
    "print(-1.0/b*(np.log(Z2)-np.log(Z1))/1.6e-19)"
   ]
  },
  {
   "cell_type": "code",
   "execution_count": null,
   "metadata": {},
   "outputs": [],
   "source": []
  }
 ],
 "metadata": {
  "kernelspec": {
   "display_name": "Python 3",
   "language": "python",
   "name": "python3"
  },
  "language_info": {
   "codemirror_mode": {
    "name": "ipython",
    "version": 3
   },
   "file_extension": ".py",
   "mimetype": "text/x-python",
   "name": "python",
   "nbconvert_exporter": "python",
   "pygments_lexer": "ipython3",
   "version": "3.4.6"
  }
 },
 "nbformat": 4,
 "nbformat_minor": 2
}
