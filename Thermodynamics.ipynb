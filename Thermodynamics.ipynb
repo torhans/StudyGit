{
 "cells": [
  {
   "cell_type": "code",
   "execution_count": 43,
   "metadata": {},
   "outputs": [],
   "source": [
    "from IPython.display import HTML"
   ]
  },
  {
   "cell_type": "code",
   "execution_count": 2,
   "metadata": {},
   "outputs": [],
   "source": [
    "from sympy import *\n",
    "init_printing()\n",
    "import numpy as np"
   ]
  },
  {
   "cell_type": "code",
   "execution_count": 42,
   "metadata": {},
   "outputs": [
    {
     "data": {
      "image/png": "[encoded data removed]",
      "text/latex": [
       "$${\\Delta U} = {\\Delta T} {{\\left(\\frac{\\partial U}{\\partial T}\\right)}_V} + {\\Delta V} {{\\left(\\frac{\\partial U}{\\partial V}\\right)}_T}$$"
      ],
      "text/plain": [
       "{\\Delta U} = {\\Delta T}⋅{{\\left(\\frac{\\partial U}{\\partial T}\\right)}_V} + {\\D\n",
       "elta V}⋅{{\\left(\\frac{\\partial U}{\\partial V}\\right)}_T}"
      ]
     },
     "metadata": {},
     "output_type": "display_data"
    },
    {
     "data": {
      "image/png": "[encoded data removed]",
      "text/latex": [
       "$${\\Delta U} = - P {\\Delta V} + {\\Delta Q}$$"
      ],
      "text/plain": [
       "{\\Delta U} = -P⋅{\\Delta V} + {\\Delta Q}"
      ]
     },
     "metadata": {},
     "output_type": "display_data"
    }
   ],
   "source": [
    "xp,xr,x,k,Er,Ep,Er0,Ep0,V,P,T,Q,U,dU,dV,dT,dP,n,R=symbols(\"xp xr x k Er Ep Er0 Ep0 V P T Q U dU dV dT dP n R\")\n",
    "dE=Symbol(\"{\\Delta E}\")\n",
    "dV=Symbol(\"{\\Delta V}\")\n",
    "dT=Symbol(\"{\\Delta T}\")\n",
    "dQ=Symbol(\"{\\Delta Q}\")\n",
    "dU=Symbol(\"{\\Delta U}\")\n",
    "dUdT_V=Symbol(\"{{\\\\left(\\\\frac{\\partial U}{\\partial T}\\\\right)}_V}\")\n",
    "dUdV_T=Symbol(\"{{\\\\left(\\\\frac{\\partial U}{\\partial V}\\\\right)}_T}\")\n",
    "dPdT_V=Symbol(\"{{\\\\left(\\\\frac{\\partial P}{\\partial T}\\\\right)}_V}\")\n",
    "dE+dPdT_V*dT\n",
    "eq1=Eq(dU,dUdT_V*dT+dUdV_T*dV)\n",
    "eq2=Eq(dU,dQ-P*dV)\n",
    "display(eq1)\n",
    "display(eq2)"
   ]
  },
  {
   "cell_type": "code",
   "execution_count": null,
   "metadata": {},
   "outputs": [],
   "source": [
    "eq=Eq(k*(x-xp)**2+Ep0,k*(x-xr)**2+Er0)\n",
    "eq"
   ]
  },
  {
   "cell_type": "code",
   "execution_count": null,
   "metadata": {},
   "outputs": [],
   "source": [
    "solx=solve(eq,x)\n",
    "solx"
   ]
  },
  {
   "cell_type": "code",
   "execution_count": null,
   "metadata": {},
   "outputs": [],
   "source": [
    "Ep=eq.rhs.subs(x,solx[0])\n",
    "Er=eq.lhs.subs(x,solx[0])"
   ]
  },
  {
   "cell_type": "code",
   "execution_count": null,
   "metadata": {},
   "outputs": [],
   "source": [
    "simplify(Er-Er0-Ep+Ep0)"
   ]
  },
  {
   "cell_type": "code",
   "execution_count": null,
   "metadata": {},
   "outputs": [],
   "source": [
    "b=1/(1.38e-23*30)\n",
    "S1=np.array([0.002,0.0021,1.,2.,10.])*1.6e-19\n",
    "S2=np.array([0.001,0.004,2.,3.,4.,10.])*1.6e-19"
   ]
  },
  {
   "cell_type": "code",
   "execution_count": null,
   "metadata": {},
   "outputs": [],
   "source": [
    "Z1=np.sum(np.exp(-b*S1))\n",
    "Z2=np.sum(np.exp(-b*S2))"
   ]
  },
  {
   "cell_type": "code",
   "execution_count": null,
   "metadata": {},
   "outputs": [],
   "source": [
    "E1=np.sum(S1*np.exp(-b*S1))/Z1\n",
    "E2=np.sum(S2*np.exp(-b*S2))/Z2\n",
    "print(E1/1.6e-19)\n",
    "print(E2/1.6e-19)"
   ]
  },
  {
   "cell_type": "code",
   "execution_count": null,
   "metadata": {},
   "outputs": [],
   "source": [
    "print(-1.0/b*np.log(Z1)/1.6e-19)\n",
    "print(-1.0/b*np.log(Z2)/1.6e-19)\n",
    "print(-1.0/b*(np.log(Z2)-np.log(Z1))/1.6e-19)"
   ]
  },
  {
   "cell_type": "code",
   "execution_count": 11,
   "metadata": {},
   "outputs": [
    {
     "data": {
      "image/png": "[encoded data removed]",
      "text/latex": [
       "$$\\frac{dU}{dV} = - P + \\frac{T dP}{dT}$$"
      ],
      "text/plain": [
       "dU        T⋅dP\n",
       "── = -P + ────\n",
       "dV         dT "
      ]
     },
     "execution_count": 11,
     "metadata": {},
     "output_type": "execute_result"
    }
   ],
   "source": [
    "eq1=Eq(dU/dV,T*(dP/dT)-P)\n",
    "eq1"
   ]
  },
  {
   "cell_type": "code",
   "execution_count": 13,
   "metadata": {},
   "outputs": [
    {
     "data": {
      "image/png": "[encoded data removed]",
      "text/latex": [
       "$$\\frac{dU}{dV} = 0$$"
      ],
      "text/plain": [
       "dU    \n",
       "── = 0\n",
       "dV    "
      ]
     },
     "execution_count": 13,
     "metadata": {},
     "output_type": "execute_result"
    }
   ],
   "source": [
    "eq1.subs(P,n*R*T/V).subs(dP,n*R*dT/V)"
   ]
  },
  {
   "cell_type": "code",
   "execution_count": 5,
   "metadata": {},
   "outputs": [
    {
     "data": {
      "image/png": "[encoded data removed]",
      "text/latex": [
       "$$\\frac{xr}{3}$$"
      ],
      "text/plain": [
       "xr\n",
       "──\n",
       "3 "
      ]
     },
     "execution_count": 5,
     "metadata": {},
     "output_type": "execute_result"
    }
   ],
   "source": [
    "integrate(xr*xp**2,(xp,0,1))"
   ]
  },
  {
   "cell_type": "code",
   "execution_count": 8,
   "metadata": {},
   "outputs": [
    {
     "data": {
      "image/png": "[encoded data removed]",
      "text/latex": [
       "$$\\left [ - \\sqrt{\\frac{U}{xr}}, \\quad \\sqrt{\\frac{U}{xr}}\\right ]$$"
      ],
      "text/plain": [
       "⎡     ____      ____⎤\n",
       "⎢    ╱ U       ╱ U  ⎥\n",
       "⎢-  ╱  ── ,   ╱  ── ⎥\n",
       "⎣ ╲╱   xr   ╲╱   xr ⎦"
      ]
     },
     "execution_count": 8,
     "metadata": {},
     "output_type": "execute_result"
    }
   ],
   "source": [
    "solve(Eq(U,xr*xp**2),xp)"
   ]
  },
  {
   "cell_type": "code",
   "execution_count": 14,
   "metadata": {},
   "outputs": [
    {
     "data": {
      "image/png": "[encoded data removed]",
      "text/latex": [
       "$$\\frac{2 xr}{3}$$"
      ],
      "text/plain": [
       "2⋅xr\n",
       "────\n",
       " 3  "
      ]
     },
     "execution_count": 14,
     "metadata": {},
     "output_type": "execute_result"
    }
   ],
   "source": [
    "integrate(sqrt(U/xr),(U,0,xr))"
   ]
  },
  {
   "cell_type": "code",
   "execution_count": 16,
   "metadata": {},
   "outputs": [
    {
     "data": {
      "image/png": "[encoded data removed]",
      "text/latex": [
       "$$delta-E$$"
      ],
      "text/plain": [
       "delta-E"
      ]
     },
     "execution_count": 16,
     "metadata": {},
     "output_type": "execute_result"
    }
   ],
   "source": [
    "dE"
   ]
  },
  {
   "cell_type": "code",
   "execution_count": 46,
   "metadata": {},
   "outputs": [
    {
     "data": {
      "text/html": [
       "<script>\n",
       "code_show=true; \n",
       "function code_toggle() {\n",
       " if (code_show){\n",
       " $('div.input').hide();\n",
       " $('div.prompt').hide();\n",
       " } else {\n",
       " $('div.input').show();\n",
       " $('div.prompt').show();\n",
       " }\n",
       " code_show = !code_show\n",
       "} \n",
       "$( document ).ready(code_toggle);\n",
       "</script>\n",
       "The raw code for this IPython notebook is by default hidden for easier reading.\n",
       "To toggle on/off the raw code, click <a href=\"javascript:code_toggle()\">here</a>."
      ],
      "text/plain": [
       "<IPython.core.display.HTML object>"
      ]
     },
     "execution_count": 46,
     "metadata": {},
     "output_type": "execute_result"
    }
   ],
   "source": [
    "HTML('''<script>\n",
    "code_show=true; \n",
    "function code_toggle() {\n",
    " if (code_show){\n",
    " $('div.input').hide();\n",
    " $('div.prompt').hide();\n",
    " } else {\n",
    " $('div.input').show();\n",
    " $('div.prompt').show();\n",
    " }\n",
    " code_show = !code_show\n",
    "} \n",
    "$( document ).ready(code_toggle);\n",
    "</script>\n",
    "The raw code for this IPython notebook is by default hidden for easier reading.\n",
    "To toggle on/off the raw code, click <a href=\"javascript:code_toggle()\">here</a>.''')"
   ]
  },
  {
   "cell_type": "code",
   "execution_count": null,
   "metadata": {},
   "outputs": [],
   "source": []
  }
 ],
 "metadata": {
  "kernelspec": {
   "display_name": "Python 3",
   "language": "python",
   "name": "python3"
  },
  "language_info": {
   "codemirror_mode": {
    "name": "ipython",
    "version": 3
   },
   "file_extension": ".py",
   "mimetype": "text/x-python",
   "name": "python",
   "nbconvert_exporter": "python",
   "pygments_lexer": "ipython3",
   "version": "3.4.6"
  }
 },
 "nbformat": 4,
 "nbformat_minor": 2
}
