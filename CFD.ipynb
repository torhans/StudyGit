{
 "cells": [
  {
   "cell_type": "code",
   "execution_count": null,
   "metadata": {},
   "outputs": [],
   "source": [
    "from sympy import *\n",
    "init_printing()\n",
    "import numpy as np\n",
    "np.set_printoptions(linewidth=160)\n",
    "from mpl_toolkits.mplot3d import Axes3D\n",
    "import matplotlib.pyplot as plt\n",
    "import matplotlib.animation as animation"
   ]
  },
  {
   "cell_type": "markdown",
   "metadata": {},
   "source": [
    "## 1D linear convection"
   ]
  },
  {
   "cell_type": "markdown",
   "metadata": {},
   "source": [
    "$$\\frac{\\partial u}{\\partial t} + c \\frac{\\partial u}{\\partial x} = 0$$\n",
    "\n",
    "Using finite difference, forward difference in time, backward difference in space\n",
    "\n",
    "$$ \\frac{u_i^{n+1}-u_i^n}{\\Delta t} + c \\frac{ u_i^n-u_{i-1}^n }{\\Delta x} = 0 $$\n",
    "\n",
    "We can reorganize\n",
    "\n",
    "$$ u_i^{n+1} = u_i^n - c \\frac {\\Delta t} {\\Delta x}  \\left( u_i^n - u_{i-1}^n \\right) $$\n",
    "\n",
    "Interestingly if we choose $ \\frac{\\Delta x}{\\Delta t} = c $ we get\n",
    "\n",
    "$$ u_i^{n+1} = u_{i-1}^n $$"
   ]
  },
  {
   "cell_type": "code",
   "execution_count": null,
   "metadata": {},
   "outputs": [],
   "source": [
    "nx=2000\n",
    "nt=50\n",
    "dt=0.0001\n",
    "c=1\n",
    "dx=2/(nx-1)\n",
    "x=np.linspace(0,2,nx)\n",
    "u=np.ones((nx,1))\n",
    "u[(x>=.5) & (x<=1)]=2\n"
   ]
  },
  {
   "cell_type": "code",
   "execution_count": null,
   "metadata": {},
   "outputs": [],
   "source": [
    "%matplotlib notebook\n",
    "fig = plt.figure()\n",
    "fig.subplots_adjust(left=0, right=1, bottom=0, top=1)\n",
    "ax = fig.add_subplot(111)\n",
    "\n",
    "\n",
    "curve,=ax.plot(x,u)\n",
    "\n",
    "def init():\n",
    "    global curve\n",
    "    curve.set_data(x,u)\n",
    "    return curve,\n",
    "\n",
    "def animate(i):\n",
    "    global curve\n",
    "    u[1:]=u[1:] - c*dt/dx*(u[1:]-u[:-1])\n",
    "    u[0]=1\n",
    "    curve.set_data(x,u)\n",
    "    return curve,\n",
    "\n",
    "ani = animation.FuncAnimation(fig, animate, frames=5,\n",
    "                              interval=20,blit=True , init_func=init)"
   ]
  },
  {
   "cell_type": "code",
   "execution_count": null,
   "metadata": {},
   "outputs": [],
   "source": [
    "%matplotlib notebook\n",
    "\n",
    "u=np.ones((nx,1))\n",
    "u[(x>=.5) & (x<=1)]=2\n",
    "\n",
    "fig = plt.figure()\n",
    "fig.subplots_adjust(left=0, right=1, bottom=0, top=1)\n",
    "ax = fig.add_subplot(111,autoscale_on=True, ylim=(-5, 5))\n",
    "\n",
    "\n",
    "curve,=ax.plot(x,u)\n",
    "\n",
    "def init():\n",
    "    global curve\n",
    "    curve.set_data(x,u)\n",
    "    return curve,\n",
    "\n",
    "def animate(i):\n",
    "    global curve\n",
    "    u[1:]=u[1:] - u[1:]*dt/dx*(u[1:]-u[:-1])\n",
    "    u[0]=1\n",
    "    curve.set_data(x,u)\n",
    "    return curve,\n",
    "\n",
    "ani = animation.FuncAnimation(fig, animate, frames=5,\n",
    "                              interval=1,blit=True , init_func=init)"
   ]
  },
  {
   "cell_type": "markdown",
   "metadata": {},
   "source": [
    "## 1D diffusion\n",
    "\n",
    "$$ \\frac{\\partial u}{\\partial t} = \\nu \\frac{\\partial^2 u}{\\partial x^2} $$"
   ]
  },
  {
   "cell_type": "code",
   "execution_count": null,
   "metadata": {},
   "outputs": [],
   "source": [
    "%matplotlib notebook\n",
    "\n",
    "nx=20\n",
    "nt=50\n",
    "dt=0.01\n",
    "nu=0.1\n",
    "dx=2/(nx-1)\n",
    "x=np.linspace(0,2,nx)\n",
    "u=np.ones((nx,1))\n",
    "u[(x>=.5) & (x<=1)]=2\n",
    "\n",
    "\n",
    "fig = plt.figure()\n",
    "fig.subplots_adjust(left=0, right=1, bottom=0, top=1)\n",
    "ax = fig.add_subplot(111,autoscale_on=True, ylim=(0, 3))\n",
    "\n",
    "\n",
    "curve,=ax.plot(x,u)\n",
    "ax.grid()\n",
    "\n",
    "def init():\n",
    "    global curve\n",
    "    curve.set_data(x,u)\n",
    "    return curve,\n",
    "\n",
    "def animate(i):\n",
    "    global curve\n",
    "    u[1:-1]=u[1:-1] + nu*dt/dx*(u[:-2]-2*u[1:-1]+u[2:])\n",
    "    u[0]=1\n",
    "    curve.set_data(x,u)\n",
    "    return curve,\n",
    "\n",
    "ani = animation.FuncAnimation(fig, animate, frames=5,\n",
    "                              interval=1,blit=True , init_func=init)"
   ]
  },
  {
   "cell_type": "code",
   "execution_count": null,
   "metadata": {},
   "outputs": [],
   "source": [
    "%matplotlib notebook\n",
    "\n",
    "nx=2000\n",
    "nt=50\n",
    "dt=0.0001\n",
    "nu=1\n",
    "dx=2/(nx-1)\n",
    "x=np.linspace(0,2*np.pi,nx)\n",
    "u=1/(np.exp(np.pi/nu*(-x+np.pi))+1)*(x*np.exp(np.pi/nu*(-x+np.pi))+x+4*np.exp(np.pi/nu*(-x+np.pi))-2*np.pi+4)\n",
    "\n",
    "u=4\n",
    "\n",
    "for i in range(1,2):\n",
    "    u-=np.sin(i*x)/i\n",
    "\n",
    "\n",
    "fig = plt.figure()\n",
    "fig.subplots_adjust(left=0, right=1, bottom=0, top=1)\n",
    "ax = fig.add_subplot(111,autoscale_on=True, ylim=(0, 10))\n",
    "t=0\n",
    "\n",
    "\n",
    "curve,=ax.plot(x,u,\"-\")\n",
    "#curve2,=ax.plot(x,u,\"+\")\n",
    "ax.grid()\n",
    "\n",
    "def init():\n",
    "    global curve,curve2\n",
    "    curve.set_data(x,u)\n",
    "    return curve,#curve2\n",
    "\n",
    "def animate(i):\n",
    "    global curve,curve2,t\n",
    "    t=t+dt\n",
    "    up=u\n",
    "    u[1:-1]=u[1:-1] + nu*dt/dx*(u[:-2]-2*u[1:-1]+u[2:])- u[1:-1]*dt/dx*(u[1:-1]-u[:-2])\n",
    "    u[0]=up[0]+ nu*dt/dx*(up[-1]-2*up[0]+up[1])- up[0]*dt/dx*(up[0]-up[-1])\n",
    "    u[-1]=up[-1]+ nu*dt/dx*(up[-2]-2*up[-1]+up[0])- up[-1]*dt/dx*(up[-1]-up[-2])\n",
    "    curve.set_data(x,u)\n",
    "    f=np.exp(-(x-4*t)**2/(4*nu*(t+1)))+np.exp(-(x-4*t-2*np.pi)**2/(4*nu*(t+1)))\n",
    "    df= -1/(2*nu*(t+1))*(x-4*t)*np.exp(-(x-4*t)**2/(2*nu*(t+1)))-1/(2*nu*(t+1))*(x-4*t-2*np.pi)*np.exp(-(x-4*t-2*np.pi)**2/(2*nu*(t+1)))\n",
    "    curve2.set_data(x,-0*nu*df/f+4)\n",
    "    return curve,#curve2\n",
    "\n",
    "ani = animation.FuncAnimation(fig, animate, frames=5,\n",
    "                              interval=1,blit=True , init_func=init)"
   ]
  },
  {
   "cell_type": "code",
   "execution_count": null,
   "metadata": {},
   "outputs": [],
   "source": [
    "#pause\n",
    "ani.event_source.stop()"
   ]
  },
  {
   "cell_type": "code",
   "execution_count": null,
   "metadata": {},
   "outputs": [],
   "source": [
    "#pause\n",
    "ani.event_source.start()"
   ]
  },
  {
   "cell_type": "code",
   "execution_count": null,
   "metadata": {},
   "outputs": [],
   "source": [
    "animate(1)"
   ]
  },
  {
   "cell_type": "code",
   "execution_count": null,
   "metadata": {},
   "outputs": [],
   "source": [
    "X,V,T=symbols('X V T')\n",
    "F=exp(-(X-4*T)**2/(4*V*(T+1)))+exp(-(X-4*T-2*pi)**2/(4*V*(T+1)))\n",
    "U=-2*V*F.diff(X)/F\n",
    "U"
   ]
  },
  {
   "cell_type": "code",
   "execution_count": null,
   "metadata": {},
   "outputs": [],
   "source": [
    "simplify((U.diff(T)+U*diff(X)-V*U.diff(X,2)).subs(T,0).subs(X,0).subs(V,1)).evalf()"
   ]
  },
  {
   "cell_type": "code",
   "execution_count": null,
   "metadata": {},
   "outputs": [],
   "source": [
    "z=[1,2,3,4]\n",
    "z[-1]\n"
   ]
  },
  {
   "cell_type": "code",
   "execution_count": null,
   "metadata": {},
   "outputs": [],
   "source": [
    "np.pi"
   ]
  },
  {
   "cell_type": "code",
   "execution_count": null,
   "metadata": {},
   "outputs": [],
   "source": [
    "p=Function('p')\n",
    "f=Function('f')\n",
    "g=Function('g')\n",
    "t,x,v,k1,k2,k3,k4,k5,k6,k7,j,z,l,c=symbols('t,x,v,k1,k2,k3 k4 k5 k6 k7,j,z,l c',positive=True)\n",
    "n=symbols('n',positive=True)\n",
    "h=f(t)*g(x)\n",
    "eq1=Eq(h.diff(t),v*h.diff(x,2))\n",
    "eq1"
   ]
  },
  {
   "cell_type": "code",
   "execution_count": null,
   "metadata": {},
   "outputs": [],
   "source": [
    "eq2=Eq(eq1.lhs/(v*g(x)*f(t)),eq1.rhs/(v*g(x)*f(t)))\n",
    "eq2"
   ]
  },
  {
   "cell_type": "code",
   "execution_count": null,
   "metadata": {},
   "outputs": [],
   "source": [
    "eq3=Eq(eq2.lhs,-l**2)\n",
    "eq3"
   ]
  },
  {
   "cell_type": "code",
   "execution_count": null,
   "metadata": {},
   "outputs": [],
   "source": [
    "eq4=Eq(eq2.rhs,-l**2)\n",
    "eq4"
   ]
  },
  {
   "cell_type": "code",
   "execution_count": null,
   "metadata": {},
   "outputs": [],
   "source": [
    "dsolve(eq4)"
   ]
  },
  {
   "cell_type": "code",
   "execution_count": null,
   "metadata": {},
   "outputs": [],
   "source": [
    "dsolve(eq3)"
   ]
  },
  {
   "cell_type": "code",
   "execution_count": null,
   "metadata": {},
   "outputs": [],
   "source": [
    "q1=fourier_transform(exp(-(x+2*pi)**2),x,l)\n",
    "q1"
   ]
  },
  {
   "cell_type": "code",
   "execution_count": null,
   "metadata": {},
   "outputs": [],
   "source": [
    "q2=fourier_transform(exp(-(x+n)**2),x,l)\n",
    "expand(q2*exp(2*pi*I*x*l))"
   ]
  },
  {
   "cell_type": "code",
   "execution_count": null,
   "metadata": {},
   "outputs": [],
   "source": [
    "Sum(exp(2*pi*I*.5*n),(n,-oo,oo))"
   ]
  },
  {
   "cell_type": "code",
   "execution_count": null,
   "metadata": {},
   "outputs": [],
   "source": [
    "series(exp(n*l),l)"
   ]
  },
  {
   "cell_type": "code",
   "execution_count": null,
   "metadata": {},
   "outputs": [],
   "source": [
    "p=exp(-l*x-v*l**2*t)+exp(l*x-v*l**2*t)\n",
    "p"
   ]
  },
  {
   "cell_type": "code",
   "execution_count": null,
   "metadata": {},
   "outputs": [],
   "source": [
    "p=exp(-v*t)*sin(x)+1\n",
    "f=-2*v*p.diff(x)/p\n",
    "f"
   ]
  },
  {
   "cell_type": "code",
   "execution_count": null,
   "metadata": {},
   "outputs": [],
   "source": [
    "j=f.diff(t)+f*f.diff(x)-v*f.diff(x,2)"
   ]
  },
  {
   "cell_type": "code",
   "execution_count": null,
   "metadata": {},
   "outputs": [],
   "source": [
    "simplify(j)"
   ]
  },
  {
   "cell_type": "code",
   "execution_count": null,
   "metadata": {},
   "outputs": [],
   "source": [
    "(2*v*log(g(x)+k1)).diff(x)"
   ]
  },
  {
   "cell_type": "markdown",
   "metadata": {},
   "source": [
    "# 1D Burgers equation\n",
    "$$ \\frac{\\partial u}{\\partial t} + u \\frac{\\partial u}{\\partial z} = \\nu \\frac{\\partial^2 u}{\\partial x^2} $$\n",
    "\n",
    "$$ \\frac{u_i^{n+1}-u_i^n}{\\Delta t} + u_i^n \\frac{u_i^n-u_{i-1}^n}{\\Delta x} =\n",
    "\\nu \\frac{u_{i-1}^n-2 u_{i}^n+u_{i+1}^n }{\\Delta x^2}\n",
    "$$\n",
    "\n",
    "\n",
    "$$ u_i^{n+1}  = u_i^n +\\Delta t\\left(-u_i^n \\frac{u_i^n-u_{i-1}^n}{\\Delta x} +\n",
    "\\nu \\frac{u_{i-1}^n-2 u_{i}^n+u_{i+1}^n }{\\Delta x^2} \\right)\n",
    "$$"
   ]
  },
  {
   "cell_type": "code",
   "execution_count": null,
   "metadata": {},
   "outputs": [],
   "source": [
    "m=12\n",
    "p1=-integrate(((exp((n*I-k3/(2*v))*k2)))**(m)*(x-k2)/(t*v*2)*exp(-(x-k2)**2/(4*v*t)),(k2,-oo,oo))/sqrt(4*pi*v*t)\n",
    "p1e=expand(simplify(p1)*exp(-(m*k3)**2*t/(4*v)+(m)*k3*x/(2*v)))\n",
    "simplify(p1e)"
   ]
  },
  {
   "cell_type": "code",
   "execution_count": null,
   "metadata": {},
   "outputs": [],
   "source": [
    "p2=integrate((exp((n*I-k3/(2*v))*k2))**(m)*exp(-(x-k2)**2/(4*v*t)),(k2,-oo,oo))/sqrt(4*pi*v*t)\n",
    "expand(simplify(p2)*exp(-(m*k3)**2*t/(4*v)+(m)*k3*x/(2*v)))"
   ]
  },
  {
   "cell_type": "code",
   "execution_count": null,
   "metadata": {},
   "outputs": [],
   "source": [
    "p02=integrate(exp(-(x-k2)**2/(4*v*t)),(k2,-oo,oo))/sqrt(4*pi*v*t)"
   ]
  },
  {
   "cell_type": "code",
   "execution_count": null,
   "metadata": {},
   "outputs": [],
   "source": [
    "p01=integrate((x-k2)/t*exp(-(x-k2)**2/(4*v*t)),(k2,-oo,oo))\n",
    "simplify(p01)"
   ]
  },
  {
   "cell_type": "code",
   "execution_count": null,
   "metadata": {},
   "outputs": [],
   "source": [
    "series(cos(x))"
   ]
  },
  {
   "cell_type": "code",
   "execution_count": null,
   "metadata": {},
   "outputs": [],
   "source": [
    "exp(-1/(2*v)*integrate(sin(s),(s,0,x)))"
   ]
  },
  {
   "cell_type": "code",
   "execution_count": null,
   "metadata": {},
   "outputs": [],
   "source": [
    "p1=integrate(cos(k2)*(x-k2)/t*exp(-(x-k2)**2/(4*v*t)),(k2,-oo,oo))\n",
    "p1"
   ]
  },
  {
   "cell_type": "code",
   "execution_count": null,
   "metadata": {},
   "outputs": [],
   "source": [
    "fourier_series(exp(-1/(2*v)*cos(x)),(x,-pi,pi))"
   ]
  },
  {
   "cell_type": "code",
   "execution_count": null,
   "metadata": {},
   "outputs": [],
   "source": [
    "limit(p2,t,0)"
   ]
  },
  {
   "cell_type": "code",
   "execution_count": null,
   "metadata": {},
   "outputs": [],
   "source": [
    "p01=integrate(k2**4*(x-k2)/(2*v*t)*exp(-(x-k2)**2/(4*v*t)),(k2,-oo,oo))/sqrt(4*pi*v*t)\n",
    "simplify(limit(p01,t,0))"
   ]
  },
  {
   "cell_type": "code",
   "execution_count": null,
   "metadata": {},
   "outputs": [],
   "source": [
    "p3=-integrate((log(1/k2**2))*(x-k2)/(t*v*2)*exp(-(x-k2)**2/(4*v*t)),(k2,-oo,oo))/sqrt(4*pi*v*t)\n",
    "p3"
   ]
  },
  {
   "cell_type": "code",
   "execution_count": null,
   "metadata": {},
   "outputs": [],
   "source": [
    "p4=integrate((exp(k2))*exp(-(x-k2)**2/(4*v*t)),(k2,-oo,oo))/sqrt(4*pi*v*t)\n",
    "p4"
   ]
  },
  {
   "cell_type": "code",
   "execution_count": null,
   "metadata": {},
   "outputs": [],
   "source": [
    "simplify(p3)"
   ]
  },
  {
   "cell_type": "code",
   "execution_count": null,
   "metadata": {},
   "outputs": [],
   "source": [
    "simplify(-2*v*p3/p4)"
   ]
  },
  {
   "cell_type": "code",
   "execution_count": null,
   "metadata": {},
   "outputs": [],
   "source": [
    "integrate((sin(x)+2),x)"
   ]
  },
  {
   "cell_type": "code",
   "execution_count": null,
   "metadata": {},
   "outputs": [],
   "source": [
    "f=g(x)*sin(k1*t+k2*x)\n",
    "simplify(f.diff(t)+f*f.diff(x)-v*f.diff(x,2))"
   ]
  },
  {
   "cell_type": "code",
   "execution_count": null,
   "metadata": {},
   "outputs": [],
   "source": [
    "g=(k1+k2*exp((k1-k2)/(2*v)*(x-c*t)))/(1+exp((k1-k2)/(2*v)*(x-c*t)))\n",
    "g"
   ]
  },
  {
   "cell_type": "code",
   "execution_count": null,
   "metadata": {},
   "outputs": [],
   "source": [
    "f=g.diff(t)+g*g.diff(x)-v*g.diff(x,2)\n",
    "simplify(f)"
   ]
  },
  {
   "cell_type": "code",
   "execution_count": null,
   "metadata": {},
   "outputs": [],
   "source": [
    "solve(Eq(simplify(f),0),(k2,c))"
   ]
  },
  {
   "cell_type": "code",
   "execution_count": null,
   "metadata": {},
   "outputs": [],
   "source": [
    "simplify(g.subs(k1,k2*k4/k5))"
   ]
  },
  {
   "cell_type": "code",
   "execution_count": null,
   "metadata": {},
   "outputs": [],
   "source": [
    "simplify((log(p(x))).diff(x,2))"
   ]
  },
  {
   "cell_type": "code",
   "execution_count": null,
   "metadata": {},
   "outputs": [],
   "source": [
    "exp(k1*p(x)).diff(x)"
   ]
  },
  {
   "cell_type": "code",
   "execution_count": null,
   "metadata": {},
   "outputs": [],
   "source": [
    "u=-2*v*p(x,t).diff(x)/p(x,t)"
   ]
  },
  {
   "cell_type": "code",
   "execution_count": null,
   "metadata": {},
   "outputs": [],
   "source": [
    "simplify(u.diff(t)+u*u.diff(x)-v*u.diff(x,2))"
   ]
  },
  {
   "cell_type": "code",
   "execution_count": null,
   "metadata": {},
   "outputs": [],
   "source": [
    "fourier_series(exp(x),(-pi,pi))"
   ]
  },
  {
   "cell_type": "code",
   "execution_count": null,
   "metadata": {},
   "outputs": [],
   "source": [
    "(exp(sin(x))).diff(x,2)"
   ]
  },
  {
   "cell_type": "code",
   "execution_count": null,
   "metadata": {},
   "outputs": [],
   "source": [
    "integrate(cos(x)**2,x)"
   ]
  },
  {
   "cell_type": "code",
   "execution_count": null,
   "metadata": {},
   "outputs": [],
   "source": [
    "integrate((p(x))**2,x)"
   ]
  },
  {
   "cell_type": "code",
   "execution_count": null,
   "metadata": {},
   "outputs": [],
   "source": [
    "g=simplify(integrate(exp(x)*x/(cos(asin(x))),x))\n",
    "g"
   ]
  },
  {
   "cell_type": "code",
   "execution_count": null,
   "metadata": {},
   "outputs": [],
   "source": [
    "simplify((sqrt(1-x**2)).diff(x))"
   ]
  },
  {
   "cell_type": "code",
   "execution_count": null,
   "metadata": {},
   "outputs": [],
   "source": [
    "integrate(1/sqrt(1-x**2)*exp(x),x)"
   ]
  },
  {
   "cell_type": "code",
   "execution_count": null,
   "metadata": {},
   "outputs": [],
   "source": [
    "integrate(sqrt(1-x**2)*exp(x)/x,x)"
   ]
  },
  {
   "cell_type": "code",
   "execution_count": null,
   "metadata": {},
   "outputs": [],
   "source": [
    "integrate(exp((exp(I*x)-exp(-I*x))/(2*I))*exp(I*x),(x,0,2*pi))"
   ]
  },
  {
   "cell_type": "code",
   "execution_count": null,
   "metadata": {},
   "outputs": [],
   "source": [
    "integrate(exp(sin(x)),x)"
   ]
  },
  {
   "cell_type": "code",
   "execution_count": null,
   "metadata": {},
   "outputs": [],
   "source": [
    "(exp(I*x)).diff(x)"
   ]
  },
  {
   "cell_type": "code",
   "execution_count": null,
   "metadata": {},
   "outputs": [],
   "source": [
    "g=(exp((exp(I*x)-exp(-I*x))/(2*I))*exp(I*x)/(I*k1)).subs(exp(I*x),k1)\n",
    "g"
   ]
  },
  {
   "cell_type": "code",
   "execution_count": null,
   "metadata": {},
   "outputs": [],
   "source": [
    "integrate(g,k1)"
   ]
  },
  {
   "cell_type": "code",
   "execution_count": null,
   "metadata": {},
   "outputs": [],
   "source": [
    "((exp(sin(x)))**n).diff(x,3)"
   ]
  },
  {
   "cell_type": "code",
   "execution_count": null,
   "metadata": {},
   "outputs": [],
   "source": []
  }
 ],
 "metadata": {
  "kernelspec": {
   "display_name": "Python 3",
   "language": "python",
   "name": "python3"
  },
  "language_info": {
   "codemirror_mode": {
    "name": "ipython",
    "version": 3
   },
   "file_extension": ".py",
   "mimetype": "text/x-python",
   "name": "python",
   "nbconvert_exporter": "python",
   "pygments_lexer": "ipython3",
   "version": "3.4.6"
  }
 },
 "nbformat": 4,
 "nbformat_minor": 2
}
