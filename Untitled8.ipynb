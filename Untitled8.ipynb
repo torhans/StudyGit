{
 "cells": [
  {
   "cell_type": "markdown",
   "metadata": {},
   "source": [
    "# Blah"
   ]
  },
  {
   "cell_type": "markdown",
   "metadata": {},
   "source": [
    "## Blah blah"
   ]
  },
  {
   "cell_type": "code",
   "execution_count": 1,
   "metadata": {},
   "outputs": [
    {
     "data": {
      "application/javascript": [
       "Jupyter.utils.load_extensions('gist')"
      ],
      "text/plain": [
       "<IPython.core.display.Javascript object>"
      ]
     },
     "metadata": {},
     "output_type": "display_data"
    }
   ],
   "source": [
    "%%javascript\n",
    "Jupyter.utils.load_extensions('gist')"
   ]
  },
  {
   "cell_type": "code",
   "execution_count": 78,
   "metadata": {},
   "outputs": [
    {
     "data": {
      "application/javascript": [
       "var left_toolbar_load_css = function () {\n",
       "    var link = document.createElement(\"link\");\n",
       "    link.type = \"text/css\";\n",
       "    link.rel = \"stylesheet\";\n",
       "    link.href = require.toUrl(\"../files/left-toolbar.css\");\n",
       "    //link.href = require.toUrl(\"./left-toolbar.css\");\n",
       "    document.getElementsByTagName(\"head\")[0].appendChild(link);\n",
       "  };\n",
       "var create_left_toolbar = function (headertext) {\n",
       "    var left_toolbar = $('<div id=\"left-toolbar\"/>')\n",
       "    .append(\n",
       "        $(\"<div/>\")\n",
       "        .addClass(\"header\")\n",
       "        .text(headertext)\n",
       "    )\n",
       "    .append(\n",
       "        $('<table id=\"left-toolbar-table\">')\n",
       "        .addClass(\"left-toolbar-table\")\n",
       "    )\n",
       "    $(\"body\").append(left_toolbar);\n",
       "};\n",
       "var remove_left_toolbar = function () {\n",
       "    var x = document.getElementById(\"left-toolbar\");\n",
       "    while (x) {\n",
       "        x.remove(x.selectedIndex);\n",
       "        x = document.getElementById(\"left-toolbar\");\n",
       "    }\n",
       "}\n",
       "var my_alert = function () {\n",
       "    alert(\"click clack\");\n",
       "}\n",
       "var my_alert2 = function () {\n",
       "    alert(\"click click\");\n",
       "}\n",
       "var get_selection = function() {\n",
       "    var txt = '';\n",
       "     if (window.getSelection)\n",
       "    {\n",
       "        txt = window.getSelection();\n",
       "             }\n",
       "    else if (document.getSelection)\n",
       "    {\n",
       "        txt = document.getSelection();\n",
       "            }\n",
       "    else if (document.selection)\n",
       "    {\n",
       "        txt = document.selection.createRange().text;\n",
       "            }\n",
       "    else return;\n",
       "    console.log(txt)\n",
       "    var nb = Jupyter.notebook;\n",
       "    nb.insert_cell_below()\n",
       "    var cell = nb.get_selected_cell();\n",
       "    //cell.set_text(txt.toString());\n",
       "}\n",
       "\n",
       "\n",
       "\n",
       "var left_toolbar_add_button = function (caption,clickevent) {\n",
       "     var btn = document.createElement(\"BUTTON\");\n",
       "    var t = document.createTextNode(caption);\n",
       "\n",
       "    //btn.setAttribute(\"style\",\"color:red\");\n",
       "\n",
       "    btn.appendChild(t);\n",
       "    //var i = document.createElement(\"i\")\n",
       "    //var i=$(\"<i/>\")\n",
       "    //.addClass(\"fa-list fa\");\n",
       "    //btn.append(i);\n",
       "    var x = document.getElementById(\"left-toolbar-table\");\n",
       "    var row = x.insertRow();\n",
       "    var cell = row.insertCell(0);\n",
       "    cell.appendChild(btn);\n",
       "    //x.appendChild(btn);\n",
       "\n",
       "    btn.onclick = clickevent ;\n",
       "}\n",
       "\n",
       "left_toolbar_load_css();\n",
       "remove_left_toolbar();\n",
       "create_left_toolbar(\"Left Toolbar\");\n",
       "left_toolbar_add_button(\"1 button\",my_alert)\n",
       "left_toolbar_add_button(\"button 2\",get_selection)"
      ],
      "text/plain": [
       "<IPython.core.display.Javascript object>"
      ]
     },
     "metadata": {},
     "output_type": "display_data"
    }
   ],
   "source": [
    "%%javascript\n",
    "var left_toolbar_load_css = function () {\n",
    "    var link = document.createElement(\"link\");\n",
    "    link.type = \"text/css\";\n",
    "    link.rel = \"stylesheet\";\n",
    "    link.href = require.toUrl(\"../files/left-toolbar.css\");\n",
    "    //link.href = require.toUrl(\"./left-toolbar.css\");\n",
    "    document.getElementsByTagName(\"head\")[0].appendChild(link);\n",
    "  };\n",
    "var create_left_toolbar = function (headertext) {\n",
    "    var left_toolbar = $('<div id=\"left-toolbar\"/>')\n",
    "    .append(\n",
    "        $(\"<div/>\")\n",
    "        .addClass(\"header\")\n",
    "        .text(headertext)\n",
    "    )\n",
    "    .append(\n",
    "        $('<table id=\"left-toolbar-table\">')\n",
    "        .addClass(\"left-toolbar-table\")\n",
    "    )\n",
    "    $(\"body\").append(left_toolbar);\n",
    "};\n",
    "var remove_left_toolbar = function () {\n",
    "    var x = document.getElementById(\"left-toolbar\");\n",
    "    while (x) {\n",
    "        x.remove(x.selectedIndex);\n",
    "        x = document.getElementById(\"left-toolbar\");\n",
    "    }\n",
    "}\n",
    "var my_alert = function () {\n",
    "    alert(\"click clack\");\n",
    "}\n",
    "var my_alert2 = function () {\n",
    "    alert(\"click click\");\n",
    "}\n",
    "var get_selection = function() {\n",
    "    var txt = '';\n",
    "     if (window.getSelection)\n",
    "    {\n",
    "        txt = window.getSelection();\n",
    "             }\n",
    "    else if (document.getSelection)\n",
    "    {\n",
    "        txt = document.getSelection();\n",
    "            }\n",
    "    else if (document.selection)\n",
    "    {\n",
    "        txt = document.selection.createRange().text;\n",
    "            }\n",
    "    else return;\n",
    "    console.log(txt)\n",
    "    var nb = Jupyter.notebook;\n",
    "    nb.insert_cell_below()\n",
    "    var cell = nb.get_selected_cell();\n",
    "    //cell.set_text(txt.toString());\n",
    "}\n",
    "\n",
    "\n",
    "\n",
    "var left_toolbar_add_button = function (caption,clickevent) {\n",
    "     var btn = document.createElement(\"BUTTON\");\n",
    "    var t = document.createTextNode(caption);\n",
    "\n",
    "    //btn.setAttribute(\"style\",\"color:red\");\n",
    "\n",
    "    btn.appendChild(t);\n",
    "    //var i = document.createElement(\"i\")\n",
    "    //var i=$(\"<i/>\")\n",
    "    //.addClass(\"fa-list fa\");\n",
    "    //btn.append(i);\n",
    "    var x = document.getElementById(\"left-toolbar-table\");\n",
    "    var row = x.insertRow();\n",
    "    var cell = row.insertCell(0);\n",
    "    cell.appendChild(btn);\n",
    "    //x.appendChild(btn);\n",
    "\n",
    "    btn.onclick = clickevent ;\n",
    "}\n",
    "\n",
    "left_toolbar_load_css();\n",
    "remove_left_toolbar();\n",
    "create_left_toolbar(\"Left Toolbar\");\n",
    "left_toolbar_add_button(\"1 button\",my_alert)\n",
    "left_toolbar_add_button(\"button 2\",get_selection)"
   ]
  },
  {
   "cell_type": "code",
   "execution_count": 177,
   "metadata": {},
   "outputs": [],
   "source": [
    "from sympy.abc import x,y,z\n",
    "from sympy import *\n",
    "from graphviz import Source\n",
    "init_printing()\n",
    "\n",
    "def symdot(expr):\n",
    "    return(Source(dotprint(expr)))"
   ]
  },
  {
   "cell_type": "code",
   "execution_count": 103,
   "metadata": {},
   "outputs": [],
   "source": [
    "F=Function('F')\n",
    "G=Function('G')"
   ]
  },
  {
   "cell_type": "code",
   "execution_count": 126,
   "metadata": {},
   "outputs": [],
   "source": [
    "r=integrate(G(x,y)*F(x,y,z).diff(x,1,z,1),x)"
   ]
  },
  {
   "cell_type": "code",
   "execution_count": 178,
   "metadata": {},
   "outputs": [
    {
     "data": {
      "image/svg+xml": [
       "<?xml version=\"1.0\" encoding=\"UTF-8\" standalone=\"no\"?>\n",
       "<!DOCTYPE svg PUBLIC \"-//W3C//DTD SVG 1.1//EN\"\n",
       " \"http://www.w3.org/Graphics/SVG/1.1/DTD/svg11.dtd\">\n",
       "<!-- Generated by graphviz version 2.40.1 (20161225.0304)\n",
       " -->\n",
       "<!-- Title: %3 Pages: 1 -->\n",
       "<svg width=\"578pt\" height=\"332pt\"\n",
       " viewBox=\"0.00 0.00 578.50 332.00\" xmlns=\"http://www.w3.org/2000/svg\" xmlns:xlink=\"http://www.w3.org/1999/xlink\">\n",
       "<g id=\"graph0\" class=\"graph\" transform=\"scale(1 1) rotate(0) translate(4 328)\">\n",
       "<title>%3</title>\n",
       "<polygon fill=\"#ffffff\" stroke=\"transparent\" points=\"-4,4 -4,-328 574.4971,-328 574.4971,4 -4,4\"/>\n",
       "<!-- Integral(Mul(G(Symbol(x), Symbol(y)), Derivative(F(Symbol(x), Symbol(y), Symbol(z)), Tuple(Symbol(x), One()), Tuple(Symbol(z), One()))), Tuple(Symbol(x)))_() -->\n",
       "<g id=\"node1\" class=\"node\">\n",
       "<title>Integral(Mul(G(Symbol(x), Symbol(y)), Derivative(F(Symbol(x), Symbol(y), Symbol(z)), Tuple(Symbol(x), One()), Tuple(Symbol(z), One()))), Tuple(Symbol(x)))_()</title>\n",
       "<ellipse fill=\"none\" stroke=\"#000000\" cx=\"499\" cy=\"-306\" rx=\"38.9931\" ry=\"18\"/>\n",
       "<text text-anchor=\"middle\" x=\"499\" y=\"-302.3\" font-family=\"Times,serif\" font-size=\"14.00\" fill=\"#000000\">Integral</text>\n",
       "</g>\n",
       "<!-- Mul(G(Symbol(x), Symbol(y)), Derivative(F(Symbol(x), Symbol(y), Symbol(z)), Tuple(Symbol(x), One()), Tuple(Symbol(z), One())))_(0,) -->\n",
       "<g id=\"node2\" class=\"node\">\n",
       "<title>Mul(G(Symbol(x), Symbol(y)), Derivative(F(Symbol(x), Symbol(y), Symbol(z)), Tuple(Symbol(x), One()), Tuple(Symbol(z), One())))_(0,)</title>\n",
       "<ellipse fill=\"none\" stroke=\"#000000\" cx=\"461\" cy=\"-234\" rx=\"27\" ry=\"18\"/>\n",
       "<text text-anchor=\"middle\" x=\"461\" y=\"-230.3\" font-family=\"Times,serif\" font-size=\"14.00\" fill=\"#000000\">Mul</text>\n",
       "</g>\n",
       "<!-- Integral(Mul(G(Symbol(x), Symbol(y)), Derivative(F(Symbol(x), Symbol(y), Symbol(z)), Tuple(Symbol(x), One()), Tuple(Symbol(z), One()))), Tuple(Symbol(x)))_()&#45;&gt;Mul(G(Symbol(x), Symbol(y)), Derivative(F(Symbol(x), Symbol(y), Symbol(z)), Tuple(Symbol(x), One()), Tuple(Symbol(z), One())))_(0,) -->\n",
       "<g id=\"edge1\" class=\"edge\">\n",
       "<title>Integral(Mul(G(Symbol(x), Symbol(y)), Derivative(F(Symbol(x), Symbol(y), Symbol(z)), Tuple(Symbol(x), One()), Tuple(Symbol(z), One()))), Tuple(Symbol(x)))_()&#45;&gt;Mul(G(Symbol(x), Symbol(y)), Derivative(F(Symbol(x), Symbol(y), Symbol(z)), Tuple(Symbol(x), One()), Tuple(Symbol(z), One())))_(0,)</title>\n",
       "<path fill=\"none\" stroke=\"#000000\" d=\"M489.6067,-288.2022C485.1232,-279.7071 479.6711,-269.3767 474.734,-260.0223\"/>\n",
       "<polygon fill=\"#000000\" stroke=\"#000000\" points=\"477.7865,-258.3074 470.0235,-251.0972 471.5958,-261.5748 477.7865,-258.3074\"/>\n",
       "</g>\n",
       "<!-- Tuple(Symbol(x))_(1,) -->\n",
       "<g id=\"node17\" class=\"node\">\n",
       "<title>Tuple(Symbol(x))_(1,)</title>\n",
       "<ellipse fill=\"none\" stroke=\"#0000ff\" cx=\"538\" cy=\"-234\" rx=\"32.4942\" ry=\"18\"/>\n",
       "<text text-anchor=\"middle\" x=\"538\" y=\"-230.3\" font-family=\"Times,serif\" font-size=\"14.00\" fill=\"#000000\">Tuple</text>\n",
       "</g>\n",
       "<!-- Integral(Mul(G(Symbol(x), Symbol(y)), Derivative(F(Symbol(x), Symbol(y), Symbol(z)), Tuple(Symbol(x), One()), Tuple(Symbol(z), One()))), Tuple(Symbol(x)))_()&#45;&gt;Tuple(Symbol(x))_(1,) -->\n",
       "<g id=\"edge2\" class=\"edge\">\n",
       "<title>Integral(Mul(G(Symbol(x), Symbol(y)), Derivative(F(Symbol(x), Symbol(y), Symbol(z)), Tuple(Symbol(x), One()), Tuple(Symbol(z), One()))), Tuple(Symbol(x)))_()&#45;&gt;Tuple(Symbol(x))_(1,)</title>\n",
       "<path fill=\"none\" stroke=\"#000000\" d=\"M508.6405,-288.2022C513.2082,-279.7695 518.7554,-269.5285 523.7927,-260.2288\"/>\n",
       "<polygon fill=\"#000000\" stroke=\"#000000\" points=\"526.9197,-261.8045 528.605,-251.3446 520.7646,-258.4705 526.9197,-261.8045\"/>\n",
       "</g>\n",
       "<!-- Derivative(F(Symbol(x), Symbol(y), Symbol(z)), Tuple(Symbol(x), One()), Tuple(Symbol(z), One()))_(0, 0) -->\n",
       "<g id=\"node3\" class=\"node\">\n",
       "<title>Derivative(F(Symbol(x), Symbol(y), Symbol(z)), Tuple(Symbol(x), One()), Tuple(Symbol(z), One()))_(0, 0)</title>\n",
       "<ellipse fill=\"none\" stroke=\"#000000\" cx=\"337\" cy=\"-162\" rx=\"48.9926\" ry=\"18\"/>\n",
       "<text text-anchor=\"middle\" x=\"337\" y=\"-158.3\" font-family=\"Times,serif\" font-size=\"14.00\" fill=\"#000000\">Derivative</text>\n",
       "</g>\n",
       "<!-- Mul(G(Symbol(x), Symbol(y)), Derivative(F(Symbol(x), Symbol(y), Symbol(z)), Tuple(Symbol(x), One()), Tuple(Symbol(z), One())))_(0,)&#45;&gt;Derivative(F(Symbol(x), Symbol(y), Symbol(z)), Tuple(Symbol(x), One()), Tuple(Symbol(z), One()))_(0, 0) -->\n",
       "<g id=\"edge3\" class=\"edge\">\n",
       "<title>Mul(G(Symbol(x), Symbol(y)), Derivative(F(Symbol(x), Symbol(y), Symbol(z)), Tuple(Symbol(x), One()), Tuple(Symbol(z), One())))_(0,)&#45;&gt;Derivative(F(Symbol(x), Symbol(y), Symbol(z)), Tuple(Symbol(x), One()), Tuple(Symbol(z), One()))_(0, 0)</title>\n",
       "<path fill=\"none\" stroke=\"#000000\" d=\"M440.5239,-222.1107C422.0237,-211.3686 394.3946,-195.3259 372.3317,-182.5152\"/>\n",
       "<polygon fill=\"#000000\" stroke=\"#000000\" points=\"373.9732,-179.4211 363.5678,-177.4265 370.4582,-185.4746 373.9732,-179.4211\"/>\n",
       "</g>\n",
       "<!-- G(Symbol(x), Symbol(y))_(0, 1) -->\n",
       "<g id=\"node14\" class=\"node\">\n",
       "<title>G(Symbol(x), Symbol(y))_(0, 1)</title>\n",
       "<ellipse fill=\"none\" stroke=\"#000000\" cx=\"464\" cy=\"-162\" rx=\"27\" ry=\"18\"/>\n",
       "<text text-anchor=\"middle\" x=\"464\" y=\"-158.3\" font-family=\"Times,serif\" font-size=\"14.00\" fill=\"#000000\">G</text>\n",
       "</g>\n",
       "<!-- Mul(G(Symbol(x), Symbol(y)), Derivative(F(Symbol(x), Symbol(y), Symbol(z)), Tuple(Symbol(x), One()), Tuple(Symbol(z), One())))_(0,)&#45;&gt;G(Symbol(x), Symbol(y))_(0, 1) -->\n",
       "<g id=\"edge4\" class=\"edge\">\n",
       "<title>Mul(G(Symbol(x), Symbol(y)), Derivative(F(Symbol(x), Symbol(y), Symbol(z)), Tuple(Symbol(x), One()), Tuple(Symbol(z), One())))_(0,)&#45;&gt;G(Symbol(x), Symbol(y))_(0, 1)</title>\n",
       "<path fill=\"none\" stroke=\"#000000\" d=\"M461.757,-215.8314C462.0779,-208.131 462.4594,-198.9743 462.816,-190.4166\"/>\n",
       "<polygon fill=\"#000000\" stroke=\"#000000\" points=\"466.3133,-190.5503 463.2328,-180.4133 459.3194,-190.2589 466.3133,-190.5503\"/>\n",
       "</g>\n",
       "<!-- F(Symbol(x), Symbol(y), Symbol(z))_(0, 0, 0) -->\n",
       "<g id=\"node4\" class=\"node\">\n",
       "<title>F(Symbol(x), Symbol(y), Symbol(z))_(0, 0, 0)</title>\n",
       "<ellipse fill=\"none\" stroke=\"#000000\" cx=\"135\" cy=\"-90\" rx=\"27\" ry=\"18\"/>\n",
       "<text text-anchor=\"middle\" x=\"135\" y=\"-86.3\" font-family=\"Times,serif\" font-size=\"14.00\" fill=\"#000000\">F</text>\n",
       "</g>\n",
       "<!-- Derivative(F(Symbol(x), Symbol(y), Symbol(z)), Tuple(Symbol(x), One()), Tuple(Symbol(z), One()))_(0, 0)&#45;&gt;F(Symbol(x), Symbol(y), Symbol(z))_(0, 0, 0) -->\n",
       "<g id=\"edge5\" class=\"edge\">\n",
       "<title>Derivative(F(Symbol(x), Symbol(y), Symbol(z)), Tuple(Symbol(x), One()), Tuple(Symbol(z), One()))_(0, 0)&#45;&gt;F(Symbol(x), Symbol(y), Symbol(z))_(0, 0, 0)</title>\n",
       "<path fill=\"none\" stroke=\"#000000\" d=\"M301.8143,-149.4586C264.4118,-136.127 205.6809,-115.1932 168.8113,-102.0515\"/>\n",
       "<polygon fill=\"#000000\" stroke=\"#000000\" points=\"169.6224,-98.625 159.0277,-98.5643 167.2721,-105.2187 169.6224,-98.625\"/>\n",
       "</g>\n",
       "<!-- Tuple(Symbol(x), One())_(0, 0, 1) -->\n",
       "<g id=\"node8\" class=\"node\">\n",
       "<title>Tuple(Symbol(x), One())_(0, 0, 1)</title>\n",
       "<ellipse fill=\"none\" stroke=\"#0000ff\" cx=\"304\" cy=\"-90\" rx=\"32.4942\" ry=\"18\"/>\n",
       "<text text-anchor=\"middle\" x=\"304\" y=\"-86.3\" font-family=\"Times,serif\" font-size=\"14.00\" fill=\"#000000\">Tuple</text>\n",
       "</g>\n",
       "<!-- Derivative(F(Symbol(x), Symbol(y), Symbol(z)), Tuple(Symbol(x), One()), Tuple(Symbol(z), One()))_(0, 0)&#45;&gt;Tuple(Symbol(x), One())_(0, 0, 1) -->\n",
       "<g id=\"edge6\" class=\"edge\">\n",
       "<title>Derivative(F(Symbol(x), Symbol(y), Symbol(z)), Tuple(Symbol(x), One()), Tuple(Symbol(z), One()))_(0, 0)&#45;&gt;Tuple(Symbol(x), One())_(0, 0, 1)</title>\n",
       "<path fill=\"none\" stroke=\"#000000\" d=\"M328.8427,-144.2022C325.0463,-135.9192 320.4503,-125.8915 316.2489,-116.7248\"/>\n",
       "<polygon fill=\"#000000\" stroke=\"#000000\" points=\"319.4118,-115.2254 312.0635,-107.593 313.0483,-118.142 319.4118,-115.2254\"/>\n",
       "</g>\n",
       "<!-- Tuple(Symbol(z), One())_(0, 0, 2) -->\n",
       "<g id=\"node11\" class=\"node\">\n",
       "<title>Tuple(Symbol(z), One())_(0, 0, 2)</title>\n",
       "<ellipse fill=\"none\" stroke=\"#0000ff\" cx=\"387\" cy=\"-90\" rx=\"32.4942\" ry=\"18\"/>\n",
       "<text text-anchor=\"middle\" x=\"387\" y=\"-86.3\" font-family=\"Times,serif\" font-size=\"14.00\" fill=\"#000000\">Tuple</text>\n",
       "</g>\n",
       "<!-- Derivative(F(Symbol(x), Symbol(y), Symbol(z)), Tuple(Symbol(x), One()), Tuple(Symbol(z), One()))_(0, 0)&#45;&gt;Tuple(Symbol(z), One())_(0, 0, 2) -->\n",
       "<g id=\"edge7\" class=\"edge\">\n",
       "<title>Derivative(F(Symbol(x), Symbol(y), Symbol(z)), Tuple(Symbol(x), One()), Tuple(Symbol(z), One()))_(0, 0)&#45;&gt;Tuple(Symbol(z), One())_(0, 0, 2)</title>\n",
       "<path fill=\"none\" stroke=\"#000000\" d=\"M349.3596,-144.2022C355.3819,-135.5301 362.7323,-124.9455 369.3341,-115.4389\"/>\n",
       "<polygon fill=\"#000000\" stroke=\"#000000\" points=\"372.2977,-117.3073 375.1269,-107.0972 366.5481,-113.3145 372.2977,-117.3073\"/>\n",
       "</g>\n",
       "<!-- Symbol(x)_(0, 0, 0, 0) -->\n",
       "<g id=\"node5\" class=\"node\">\n",
       "<title>Symbol(x)_(0, 0, 0, 0)</title>\n",
       "<ellipse fill=\"none\" stroke=\"#000000\" cx=\"27\" cy=\"-18\" rx=\"27\" ry=\"18\"/>\n",
       "<text text-anchor=\"middle\" x=\"27\" y=\"-14.3\" font-family=\"Times,serif\" font-size=\"14.00\" fill=\"#000000\">x</text>\n",
       "</g>\n",
       "<!-- F(Symbol(x), Symbol(y), Symbol(z))_(0, 0, 0)&#45;&gt;Symbol(x)_(0, 0, 0, 0) -->\n",
       "<g id=\"edge8\" class=\"edge\">\n",
       "<title>F(Symbol(x), Symbol(y), Symbol(z))_(0, 0, 0)&#45;&gt;Symbol(x)_(0, 0, 0, 0)</title>\n",
       "<path fill=\"none\" stroke=\"#000000\" d=\"M115.6918,-77.1278C98.6445,-65.763 73.5981,-49.0654 54.4656,-36.3104\"/>\n",
       "<polygon fill=\"#000000\" stroke=\"#000000\" points=\"56.4031,-33.3956 46.1411,-30.7607 52.5201,-39.2199 56.4031,-33.3956\"/>\n",
       "</g>\n",
       "<!-- Symbol(y)_(0, 0, 0, 1) -->\n",
       "<g id=\"node6\" class=\"node\">\n",
       "<title>Symbol(y)_(0, 0, 0, 1)</title>\n",
       "<ellipse fill=\"none\" stroke=\"#000000\" cx=\"99\" cy=\"-18\" rx=\"27\" ry=\"18\"/>\n",
       "<text text-anchor=\"middle\" x=\"99\" y=\"-14.3\" font-family=\"Times,serif\" font-size=\"14.00\" fill=\"#000000\">y</text>\n",
       "</g>\n",
       "<!-- F(Symbol(x), Symbol(y), Symbol(z))_(0, 0, 0)&#45;&gt;Symbol(y)_(0, 0, 0, 1) -->\n",
       "<g id=\"edge9\" class=\"edge\">\n",
       "<title>F(Symbol(x), Symbol(y), Symbol(z))_(0, 0, 0)&#45;&gt;Symbol(y)_(0, 0, 0, 1)</title>\n",
       "<path fill=\"none\" stroke=\"#000000\" d=\"M126.2854,-72.5708C122.0403,-64.0807 116.8464,-53.6929 112.1337,-44.2674\"/>\n",
       "<polygon fill=\"#000000\" stroke=\"#000000\" points=\"115.237,-42.6477 107.6343,-35.2687 108.976,-45.7782 115.237,-42.6477\"/>\n",
       "</g>\n",
       "<!-- Symbol(z)_(0, 0, 0, 2) -->\n",
       "<g id=\"node7\" class=\"node\">\n",
       "<title>Symbol(z)_(0, 0, 0, 2)</title>\n",
       "<ellipse fill=\"none\" stroke=\"#000000\" cx=\"171\" cy=\"-18\" rx=\"27\" ry=\"18\"/>\n",
       "<text text-anchor=\"middle\" x=\"171\" y=\"-14.3\" font-family=\"Times,serif\" font-size=\"14.00\" fill=\"#000000\">z</text>\n",
       "</g>\n",
       "<!-- F(Symbol(x), Symbol(y), Symbol(z))_(0, 0, 0)&#45;&gt;Symbol(z)_(0, 0, 0, 2) -->\n",
       "<g id=\"edge10\" class=\"edge\">\n",
       "<title>F(Symbol(x), Symbol(y), Symbol(z))_(0, 0, 0)&#45;&gt;Symbol(z)_(0, 0, 0, 2)</title>\n",
       "<path fill=\"none\" stroke=\"#000000\" d=\"M143.7146,-72.5708C147.9597,-64.0807 153.1536,-53.6929 157.8663,-44.2674\"/>\n",
       "<polygon fill=\"#000000\" stroke=\"#000000\" points=\"161.024,-45.7782 162.3657,-35.2687 154.763,-42.6477 161.024,-45.7782\"/>\n",
       "</g>\n",
       "<!-- Symbol(x)_(0, 0, 1, 0) -->\n",
       "<g id=\"node9\" class=\"node\">\n",
       "<title>Symbol(x)_(0, 0, 1, 0)</title>\n",
       "<ellipse fill=\"none\" stroke=\"#000000\" cx=\"243\" cy=\"-18\" rx=\"27\" ry=\"18\"/>\n",
       "<text text-anchor=\"middle\" x=\"243\" y=\"-14.3\" font-family=\"Times,serif\" font-size=\"14.00\" fill=\"#000000\">x</text>\n",
       "</g>\n",
       "<!-- Tuple(Symbol(x), One())_(0, 0, 1)&#45;&gt;Symbol(x)_(0, 0, 1, 0) -->\n",
       "<g id=\"edge11\" class=\"edge\">\n",
       "<title>Tuple(Symbol(x), One())_(0, 0, 1)&#45;&gt;Symbol(x)_(0, 0, 1, 0)</title>\n",
       "<path fill=\"none\" stroke=\"#000000\" d=\"M290.1582,-73.6621C282.0909,-64.1401 271.7807,-51.9707 262.8593,-41.4405\"/>\n",
       "<polygon fill=\"#000000\" stroke=\"#000000\" points=\"265.5025,-39.1458 256.3679,-33.7784 260.1616,-43.6708 265.5025,-39.1458\"/>\n",
       "</g>\n",
       "<!-- One()_(0, 0, 1, 1) -->\n",
       "<g id=\"node10\" class=\"node\">\n",
       "<title>One()_(0, 0, 1, 1)</title>\n",
       "<ellipse fill=\"none\" stroke=\"#000000\" cx=\"315\" cy=\"-18\" rx=\"27\" ry=\"18\"/>\n",
       "<text text-anchor=\"middle\" x=\"315\" y=\"-14.3\" font-family=\"Times,serif\" font-size=\"14.00\" fill=\"#000000\">1</text>\n",
       "</g>\n",
       "<!-- Tuple(Symbol(x), One())_(0, 0, 1)&#45;&gt;One()_(0, 0, 1, 1) -->\n",
       "<g id=\"edge12\" class=\"edge\">\n",
       "<title>Tuple(Symbol(x), One())_(0, 0, 1)&#45;&gt;One()_(0, 0, 1, 1)</title>\n",
       "<path fill=\"none\" stroke=\"#000000\" d=\"M306.7758,-71.8314C307.9703,-64.0125 309.3942,-54.6923 310.7188,-46.0221\"/>\n",
       "<polygon fill=\"#000000\" stroke=\"#000000\" points=\"314.2127,-46.3273 312.2632,-35.9134 307.293,-45.2701 314.2127,-46.3273\"/>\n",
       "</g>\n",
       "<!-- Symbol(z)_(0, 0, 2, 0) -->\n",
       "<g id=\"node12\" class=\"node\">\n",
       "<title>Symbol(z)_(0, 0, 2, 0)</title>\n",
       "<ellipse fill=\"none\" stroke=\"#000000\" cx=\"387\" cy=\"-18\" rx=\"27\" ry=\"18\"/>\n",
       "<text text-anchor=\"middle\" x=\"387\" y=\"-14.3\" font-family=\"Times,serif\" font-size=\"14.00\" fill=\"#000000\">z</text>\n",
       "</g>\n",
       "<!-- Tuple(Symbol(z), One())_(0, 0, 2)&#45;&gt;Symbol(z)_(0, 0, 2, 0) -->\n",
       "<g id=\"edge13\" class=\"edge\">\n",
       "<title>Tuple(Symbol(z), One())_(0, 0, 2)&#45;&gt;Symbol(z)_(0, 0, 2, 0)</title>\n",
       "<path fill=\"none\" stroke=\"#000000\" d=\"M387,-71.8314C387,-64.131 387,-54.9743 387,-46.4166\"/>\n",
       "<polygon fill=\"#000000\" stroke=\"#000000\" points=\"390.5001,-46.4132 387,-36.4133 383.5001,-46.4133 390.5001,-46.4132\"/>\n",
       "</g>\n",
       "<!-- One()_(0, 0, 2, 1) -->\n",
       "<g id=\"node13\" class=\"node\">\n",
       "<title>One()_(0, 0, 2, 1)</title>\n",
       "<ellipse fill=\"none\" stroke=\"#000000\" cx=\"459\" cy=\"-18\" rx=\"27\" ry=\"18\"/>\n",
       "<text text-anchor=\"middle\" x=\"459\" y=\"-14.3\" font-family=\"Times,serif\" font-size=\"14.00\" fill=\"#000000\">1</text>\n",
       "</g>\n",
       "<!-- Tuple(Symbol(z), One())_(0, 0, 2)&#45;&gt;One()_(0, 0, 2, 1) -->\n",
       "<g id=\"edge14\" class=\"edge\">\n",
       "<title>Tuple(Symbol(z), One())_(0, 0, 2)&#45;&gt;One()_(0, 0, 2, 1)</title>\n",
       "<path fill=\"none\" stroke=\"#000000\" d=\"M402.9791,-74.0209C412.8082,-64.1918 425.5569,-51.4431 436.409,-40.591\"/>\n",
       "<polygon fill=\"#000000\" stroke=\"#000000\" points=\"438.9635,-42.9863 443.5597,-33.4403 434.0137,-38.0365 438.9635,-42.9863\"/>\n",
       "</g>\n",
       "<!-- Symbol(x)_(0, 1, 0) -->\n",
       "<g id=\"node15\" class=\"node\">\n",
       "<title>Symbol(x)_(0, 1, 0)</title>\n",
       "<ellipse fill=\"none\" stroke=\"#000000\" cx=\"464\" cy=\"-90\" rx=\"27\" ry=\"18\"/>\n",
       "<text text-anchor=\"middle\" x=\"464\" y=\"-86.3\" font-family=\"Times,serif\" font-size=\"14.00\" fill=\"#000000\">x</text>\n",
       "</g>\n",
       "<!-- G(Symbol(x), Symbol(y))_(0, 1)&#45;&gt;Symbol(x)_(0, 1, 0) -->\n",
       "<g id=\"edge15\" class=\"edge\">\n",
       "<title>G(Symbol(x), Symbol(y))_(0, 1)&#45;&gt;Symbol(x)_(0, 1, 0)</title>\n",
       "<path fill=\"none\" stroke=\"#000000\" d=\"M464,-143.8314C464,-136.131 464,-126.9743 464,-118.4166\"/>\n",
       "<polygon fill=\"#000000\" stroke=\"#000000\" points=\"467.5001,-118.4132 464,-108.4133 460.5001,-118.4133 467.5001,-118.4132\"/>\n",
       "</g>\n",
       "<!-- Symbol(y)_(0, 1, 1) -->\n",
       "<g id=\"node16\" class=\"node\">\n",
       "<title>Symbol(y)_(0, 1, 1)</title>\n",
       "<ellipse fill=\"none\" stroke=\"#000000\" cx=\"536\" cy=\"-90\" rx=\"27\" ry=\"18\"/>\n",
       "<text text-anchor=\"middle\" x=\"536\" y=\"-86.3\" font-family=\"Times,serif\" font-size=\"14.00\" fill=\"#000000\">y</text>\n",
       "</g>\n",
       "<!-- G(Symbol(x), Symbol(y))_(0, 1)&#45;&gt;Symbol(y)_(0, 1, 1) -->\n",
       "<g id=\"edge16\" class=\"edge\">\n",
       "<title>G(Symbol(x), Symbol(y))_(0, 1)&#45;&gt;Symbol(y)_(0, 1, 1)</title>\n",
       "<path fill=\"none\" stroke=\"#000000\" d=\"M479.2693,-146.7307C489.197,-136.803 502.3153,-123.6847 513.4363,-112.5637\"/>\n",
       "<polygon fill=\"#000000\" stroke=\"#000000\" points=\"516.1564,-114.7933 520.7527,-105.2473 511.2067,-109.8436 516.1564,-114.7933\"/>\n",
       "</g>\n",
       "<!-- Symbol(x)_(1, 0) -->\n",
       "<g id=\"node18\" class=\"node\">\n",
       "<title>Symbol(x)_(1, 0)</title>\n",
       "<ellipse fill=\"none\" stroke=\"#000000\" cx=\"538\" cy=\"-162\" rx=\"27\" ry=\"18\"/>\n",
       "<text text-anchor=\"middle\" x=\"538\" y=\"-158.3\" font-family=\"Times,serif\" font-size=\"14.00\" fill=\"#000000\">x</text>\n",
       "</g>\n",
       "<!-- Tuple(Symbol(x))_(1,)&#45;&gt;Symbol(x)_(1, 0) -->\n",
       "<g id=\"edge17\" class=\"edge\">\n",
       "<title>Tuple(Symbol(x))_(1,)&#45;&gt;Symbol(x)_(1, 0)</title>\n",
       "<path fill=\"none\" stroke=\"#000000\" d=\"M538,-215.8314C538,-208.131 538,-198.9743 538,-190.4166\"/>\n",
       "<polygon fill=\"#000000\" stroke=\"#000000\" points=\"541.5001,-190.4132 538,-180.4133 534.5001,-190.4133 541.5001,-190.4132\"/>\n",
       "</g>\n",
       "</g>\n",
       "</svg>\n"
      ],
      "text/plain": [
       "<graphviz.files.Source at 0x7f67ea695da0>"
      ]
     },
     "execution_count": 178,
     "metadata": {},
     "output_type": "execute_result"
    }
   ],
   "source": [
    "symdot(r)"
   ]
  },
  {
   "cell_type": "code",
   "execution_count": 168,
   "metadata": {},
   "outputs": [
    {
     "data": {
      "text/latex": [
       "$\\displaystyle \\left[\\begin{matrix}- 2 a_{21} b_{21} & 0\\\\0 & 2 a_{21} b_{21}\\end{matrix}\\right]$"
      ],
      "text/plain": [
       "⎡-2⋅a_{21}⋅b_{21}         0       ⎤\n",
       "⎢                                 ⎥\n",
       "⎣       0          2⋅a_{21}⋅b_{21}⎦"
      ]
     },
     "execution_count": 168,
     "metadata": {},
     "output_type": "execute_result"
    }
   ],
   "source": [
    "a11=Symbol(r'a_{11}')\n",
    "a12=Symbol(r'a_{12}')\n",
    "a21=Symbol(r'a_{21}')\n",
    "a22=Symbol(r'a_{22}')\n",
    "b11=Symbol(r'b_{11}')\n",
    "b12=Symbol(r'b_{12}')\n",
    "b21=Symbol(r'b_{21}')\n",
    "b22=Symbol(r'b_{22}')\n",
    "A=Matrix([[a11,a12],[a21,a22]])\n",
    "B=Matrix([[b11,b12],[b21,b22]])\n",
    "eq1=Eq((A*B-B*A)[0,0])\n",
    "eq2=Eq((A*B-B*A)[0,1])\n",
    "eq3=Eq((A*B-B*A)[1,0])\n",
    "eq4=Eq((A*B-B*A)[1,1])\n",
    "\n",
    "\n",
    "solve([eq1,eq2,eq3,eq4],[a11,a12,a21,a22])\n",
    "simplify((A*B-B*A).subs(a12,-a21).subs(b12,b21).subs(b11,b22).subs(a11,a22))"
   ]
  },
  {
   "cell_type": "code",
   "execution_count": 173,
   "metadata": {},
   "outputs": [
    {
     "data": {
      "text/plain": [
       "array([[-1,  0],\n",
       "       [ 0,  1]])"
      ]
     },
     "execution_count": 173,
     "metadata": {},
     "output_type": "execute_result"
    }
   ],
   "source": [
    "Hm=np.array([[0,0],[1,0]])\n",
    "Hp=np.array([[0,1],[0,0]])\n",
    "np.matmul(Hm,Hp)-np.matmul(Hp,Hm)"
   ]
  },
  {
   "cell_type": "code",
   "execution_count": 175,
   "metadata": {},
   "outputs": [
    {
     "data": {
      "text/plain": [
       "(array([0., 1.]), array([[1., 0.],\n",
       "        [0., 1.]]))"
      ]
     },
     "execution_count": 175,
     "metadata": {},
     "output_type": "execute_result"
    }
   ],
   "source": [
    "np.linalg.eig(np.matmul(Hm,Hp))"
   ]
  },
  {
   "cell_type": "code",
   "execution_count": 176,
   "metadata": {},
   "outputs": [
    {
     "data": {
      "text/plain": [
       "(array([1., 0.]), array([[1., 0.],\n",
       "        [0., 1.]]))"
      ]
     },
     "execution_count": 176,
     "metadata": {},
     "output_type": "execute_result"
    }
   ],
   "source": [
    "np.linalg.eig(np.matmul(Hp,Hm))"
   ]
  },
  {
   "cell_type": "code",
   "execution_count": 179,
   "metadata": {},
   "outputs": [
    {
     "data": {
      "text/plain": [
       "'digraph{\\n\\n# Graph style\\n\"ordering\"=\"out\"\\n\"rankdir\"=\"TD\"\\n\\n#########\\n# Nodes #\\n#########\\n\\n\"Integral(Mul(G(Symbol(x), Symbol(y)), Derivative(F(Symbol(x), Symbol(y), Symbol(z)), Tuple(Symbol(x), One()), Tuple(Symbol(z), One()))), Tuple(Symbol(x)))_()\" [\"color\"=\"black\", \"label\"=\"Integral\", \"shape\"=\"ellipse\"];\\n\"Mul(G(Symbol(x), Symbol(y)), Derivative(F(Symbol(x), Symbol(y), Symbol(z)), Tuple(Symbol(x), One()), Tuple(Symbol(z), One())))_(0,)\" [\"color\"=\"black\", \"label\"=\"Mul\", \"shape\"=\"ellipse\"];\\n\"Derivative(F(Symbol(x), Symbol(y), Symbol(z)), Tuple(Symbol(x), One()), Tuple(Symbol(z), One()))_(0, 0)\" [\"color\"=\"black\", \"label\"=\"Derivative\", \"shape\"=\"ellipse\"];\\n\"F(Symbol(x), Symbol(y), Symbol(z))_(0, 0, 0)\" [\"color\"=\"black\", \"label\"=\"F\", \"shape\"=\"ellipse\"];\\n\"Symbol(x)_(0, 0, 0, 0)\" [\"color\"=\"black\", \"label\"=\"x\", \"shape\"=\"ellipse\"];\\n\"Symbol(y)_(0, 0, 0, 1)\" [\"color\"=\"black\", \"label\"=\"y\", \"shape\"=\"ellipse\"];\\n\"Symbol(z)_(0, 0, 0, 2)\" [\"color\"=\"black\", \"label\"=\"z\", \"shape\"=\"ellipse\"];\\n\"Tuple(Symbol(x), One())_(0, 0, 1)\" [\"color\"=\"blue\", \"label\"=\"Tuple\", \"shape\"=\"ellipse\"];\\n\"Symbol(x)_(0, 0, 1, 0)\" [\"color\"=\"black\", \"label\"=\"x\", \"shape\"=\"ellipse\"];\\n\"One()_(0, 0, 1, 1)\" [\"color\"=\"black\", \"label\"=\"1\", \"shape\"=\"ellipse\"];\\n\"Tuple(Symbol(z), One())_(0, 0, 2)\" [\"color\"=\"blue\", \"label\"=\"Tuple\", \"shape\"=\"ellipse\"];\\n\"Symbol(z)_(0, 0, 2, 0)\" [\"color\"=\"black\", \"label\"=\"z\", \"shape\"=\"ellipse\"];\\n\"One()_(0, 0, 2, 1)\" [\"color\"=\"black\", \"label\"=\"1\", \"shape\"=\"ellipse\"];\\n\"G(Symbol(x), Symbol(y))_(0, 1)\" [\"color\"=\"black\", \"label\"=\"G\", \"shape\"=\"ellipse\"];\\n\"Symbol(x)_(0, 1, 0)\" [\"color\"=\"black\", \"label\"=\"x\", \"shape\"=\"ellipse\"];\\n\"Symbol(y)_(0, 1, 1)\" [\"color\"=\"black\", \"label\"=\"y\", \"shape\"=\"ellipse\"];\\n\"Tuple(Symbol(x))_(1,)\" [\"color\"=\"blue\", \"label\"=\"Tuple\", \"shape\"=\"ellipse\"];\\n\"Symbol(x)_(1, 0)\" [\"color\"=\"black\", \"label\"=\"x\", \"shape\"=\"ellipse\"];\\n\\n#########\\n# Edges #\\n#########\\n\\n\"Integral(Mul(G(Symbol(x), Symbol(y)), Derivative(F(Symbol(x), Symbol(y), Symbol(z)), Tuple(Symbol(x), One()), Tuple(Symbol(z), One()))), Tuple(Symbol(x)))_()\" -> \"Mul(G(Symbol(x), Symbol(y)), Derivative(F(Symbol(x), Symbol(y), Symbol(z)), Tuple(Symbol(x), One()), Tuple(Symbol(z), One())))_(0,)\";\\n\"Integral(Mul(G(Symbol(x), Symbol(y)), Derivative(F(Symbol(x), Symbol(y), Symbol(z)), Tuple(Symbol(x), One()), Tuple(Symbol(z), One()))), Tuple(Symbol(x)))_()\" -> \"Tuple(Symbol(x))_(1,)\";\\n\"Mul(G(Symbol(x), Symbol(y)), Derivative(F(Symbol(x), Symbol(y), Symbol(z)), Tuple(Symbol(x), One()), Tuple(Symbol(z), One())))_(0,)\" -> \"Derivative(F(Symbol(x), Symbol(y), Symbol(z)), Tuple(Symbol(x), One()), Tuple(Symbol(z), One()))_(0, 0)\";\\n\"Mul(G(Symbol(x), Symbol(y)), Derivative(F(Symbol(x), Symbol(y), Symbol(z)), Tuple(Symbol(x), One()), Tuple(Symbol(z), One())))_(0,)\" -> \"G(Symbol(x), Symbol(y))_(0, 1)\";\\n\"Derivative(F(Symbol(x), Symbol(y), Symbol(z)), Tuple(Symbol(x), One()), Tuple(Symbol(z), One()))_(0, 0)\" -> \"F(Symbol(x), Symbol(y), Symbol(z))_(0, 0, 0)\";\\n\"Derivative(F(Symbol(x), Symbol(y), Symbol(z)), Tuple(Symbol(x), One()), Tuple(Symbol(z), One()))_(0, 0)\" -> \"Tuple(Symbol(x), One())_(0, 0, 1)\";\\n\"Derivative(F(Symbol(x), Symbol(y), Symbol(z)), Tuple(Symbol(x), One()), Tuple(Symbol(z), One()))_(0, 0)\" -> \"Tuple(Symbol(z), One())_(0, 0, 2)\";\\n\"F(Symbol(x), Symbol(y), Symbol(z))_(0, 0, 0)\" -> \"Symbol(x)_(0, 0, 0, 0)\";\\n\"F(Symbol(x), Symbol(y), Symbol(z))_(0, 0, 0)\" -> \"Symbol(y)_(0, 0, 0, 1)\";\\n\"F(Symbol(x), Symbol(y), Symbol(z))_(0, 0, 0)\" -> \"Symbol(z)_(0, 0, 0, 2)\";\\n\"Tuple(Symbol(x), One())_(0, 0, 1)\" -> \"Symbol(x)_(0, 0, 1, 0)\";\\n\"Tuple(Symbol(x), One())_(0, 0, 1)\" -> \"One()_(0, 0, 1, 1)\";\\n\"Tuple(Symbol(z), One())_(0, 0, 2)\" -> \"Symbol(z)_(0, 0, 2, 0)\";\\n\"Tuple(Symbol(z), One())_(0, 0, 2)\" -> \"One()_(0, 0, 2, 1)\";\\n\"G(Symbol(x), Symbol(y))_(0, 1)\" -> \"Symbol(x)_(0, 1, 0)\";\\n\"G(Symbol(x), Symbol(y))_(0, 1)\" -> \"Symbol(y)_(0, 1, 1)\";\\n\"Tuple(Symbol(x))_(1,)\" -> \"Symbol(x)_(1, 0)\";\\n}'"
      ]
     },
     "execution_count": 179,
     "metadata": {},
     "output_type": "execute_result"
    }
   ],
   "source": [
    "dotprint(r)"
   ]
  },
  {
   "cell_type": "code",
   "execution_count": 186,
   "metadata": {},
   "outputs": [
    {
     "data": {
      "image/svg+xml": [
       "<?xml version=\"1.0\" encoding=\"UTF-8\" standalone=\"no\"?>\n",
       "<!DOCTYPE svg PUBLIC \"-//W3C//DTD SVG 1.1//EN\"\n",
       " \"http://www.w3.org/Graphics/SVG/1.1/DTD/svg11.dtd\">\n",
       "<!-- Generated by graphviz version 2.40.1 (20161225.0304)\n",
       " -->\n",
       "<!-- Title: %3 Pages: 1 -->\n",
       "<svg width=\"176pt\" height=\"116pt\"\n",
       " viewBox=\"0.00 0.00 175.74 116.00\" xmlns=\"http://www.w3.org/2000/svg\" xmlns:xlink=\"http://www.w3.org/1999/xlink\">\n",
       "<g id=\"graph0\" class=\"graph\" transform=\"scale(1 1) rotate(0) translate(4 112)\">\n",
       "<title>%3</title>\n",
       "<polygon fill=\"#ffffff\" stroke=\"transparent\" points=\"-4,4 -4,-112 171.7434,-112 171.7434,4 -4,4\"/>\n",
       "<!-- A -->\n",
       "<g id=\"A1\" class=\"node\">\n",
       "<title>A</title>\n",
       "<ellipse fill=\"none\" stroke=\"#000000\" cx=\"83.0467\" cy=\"-90\" rx=\"38.1938\" ry=\"18\"/>\n",
       "<text text-anchor=\"middle\" x=\"83.0467\" y=\"-86.3\" font-family=\"Times,serif\" font-size=\"14.00\" fill=\"#000000\">King A</text>\n",
       "</g>\n",
       "<!-- B -->\n",
       "<g id=\"node2\" class=\"node\">\n",
       "<title>B</title>\n",
       "<ellipse fill=\"none\" stroke=\"#000000\" cx=\"37.0467\" cy=\"-18\" rx=\"37.0935\" ry=\"18\"/>\n",
       "<text text-anchor=\"middle\" x=\"37.0467\" y=\"-14.3\" font-family=\"Times,serif\" font-size=\"14.00\" fill=\"#000000\">King B</text>\n",
       "</g>\n",
       "<!-- A&#45;&gt;B -->\n",
       "<g id=\"edge1\" class=\"edge\">\n",
       "<title>A&#45;&gt;B</title>\n",
       "<path fill=\"none\" stroke=\"#000000\" d=\"M71.9114,-72.5708C66.4306,-63.9922 59.7121,-53.4762 53.6407,-43.9732\"/>\n",
       "<polygon fill=\"#000000\" stroke=\"#000000\" points=\"56.4129,-41.8113 48.0795,-35.2687 50.514,-45.58 56.4129,-41.8113\"/>\n",
       "</g>\n",
       "<!-- C -->\n",
       "<g id=\"node3\" class=\"node\">\n",
       "<title>C</title>\n",
       "<ellipse fill=\"none\" stroke=\"#000000\" cx=\"130.0467\" cy=\"-18\" rx=\"37.8943\" ry=\"18\"/>\n",
       "<text text-anchor=\"middle\" x=\"130.0467\" y=\"-14.3\" font-family=\"Times,serif\" font-size=\"14.00\" fill=\"#000000\">King C</text>\n",
       "</g>\n",
       "<!-- A&#45;&gt;C -->\n",
       "<g id=\"edge2\" class=\"edge\">\n",
       "<title>A&#45;&gt;C</title>\n",
       "<path fill=\"none\" stroke=\"#000000\" d=\"M94.4241,-72.5708C100.0817,-63.9038 107.0303,-53.2592 113.2836,-43.6796\"/>\n",
       "<polygon fill=\"#000000\" stroke=\"#000000\" points=\"116.2387,-45.5557 118.7741,-35.2687 110.377,-41.7293 116.2387,-45.5557\"/>\n",
       "</g>\n",
       "</g>\n",
       "</svg>\n"
      ],
      "text/plain": [
       "<graphviz.dot.Digraph at 0x7f67ea5912b0>"
      ]
     },
     "execution_count": 186,
     "metadata": {},
     "output_type": "execute_result"
    }
   ],
   "source": [
    "from graphviz import Digraph\n",
    "d=Digraph()\n",
    "d.node('A','King A',id=\"A1\")\n",
    "d.node('B','King B',myattr=\"B1\")\n",
    "d.node('C','King C',myattr=\"C1\")\n",
    "d.edge('A','B')\n",
    "d.edge('A','C')\n",
    "d"
   ]
  },
  {
   "cell_type": "code",
   "execution_count": 187,
   "metadata": {},
   "outputs": [
    {
     "data": {
      "text/plain": [
       "'digraph {\\n\\tA [label=\"King A\" id=A1]\\n\\tB [label=\"King B\" myattr=B1]\\n\\tC [label=\"King C\" myattr=C1]\\n\\tA -> B\\n\\tA -> C\\n}'"
      ]
     },
     "execution_count": 187,
     "metadata": {},
     "output_type": "execute_result"
    }
   ],
   "source": [
    "d.source"
   ]
  },
  {
   "cell_type": "code",
   "execution_count": 190,
   "metadata": {},
   "outputs": [
    {
     "data": {
      "image/png": "[encoded data removed]",
      "text/latex": [
       "$\\displaystyle \\left( F{\\left(x,y,z \\right)}, \\  \\left( x, \\  1\\right), \\  \\left( z, \\  1\\right)\\right)$"
      ],
      "text/plain": [
       "(F(x, y, z), (x, 1), (z, 1))"
      ]
     },
     "execution_count": 190,
     "metadata": {},
     "output_type": "execute_result"
    }
   ],
   "source": [
    "r.args[0].args[0].args"
   ]
  },
  {
   "cell_type": "code",
   "execution_count": 200,
   "metadata": {},
   "outputs": [
    {
     "data": {
      "text/plain": [
       "sympy.integrals.integrals.Integral"
      ]
     },
     "execution_count": 200,
     "metadata": {},
     "output_type": "execute_result"
    }
   ],
   "source": [
    "type(r)"
   ]
  },
  {
   "cell_type": "code",
   "execution_count": 202,
   "metadata": {},
   "outputs": [
    {
     "data": {
      "image/png": "[encoded data removed]",
      "text/latex": [
       "$\\displaystyle x = y$"
      ],
      "text/plain": [
       "x = y"
      ]
     },
     "execution_count": 202,
     "metadata": {},
     "output_type": "execute_result"
    }
   ],
   "source": [
    "eq=Eq(x,y)\n",
    "eq"
   ]
  },
  {
   "cell_type": "code",
   "execution_count": 210,
   "metadata": {},
   "outputs": [
    {
     "data": {
      "text/plain": [
       "(sympy.integrals.integrals.Integral,\n",
       " sympy.concrete.expr_with_limits.AddWithLimits,\n",
       " sympy.concrete.expr_with_limits.ExprWithLimits,\n",
       " sympy.core.expr.Expr,\n",
       " sympy.core.basic.Basic,\n",
       " sympy.core.evalf.EvalfMixin,\n",
       " object)"
      ]
     },
     "execution_count": 210,
     "metadata": {},
     "output_type": "execute_result"
    }
   ],
   "source": [
    "type(r).__mro__#[0].__name__"
   ]
  },
  {
   "cell_type": "code",
   "execution_count": 208,
   "metadata": {},
   "outputs": [
    {
     "data": {
      "text/plain": [
       "'str'"
      ]
     },
     "execution_count": 208,
     "metadata": {},
     "output_type": "execute_result"
    }
   ],
   "source": [
    "type(\"Ab\").__mro__[0].__name__"
   ]
  },
  {
   "cell_type": "code",
   "execution_count": 222,
   "metadata": {},
   "outputs": [
    {
     "data": {
      "text/plain": [
       "('Equality', (x, y))"
      ]
     },
     "execution_count": 222,
     "metadata": {},
     "output_type": "execute_result"
    }
   ],
   "source": [
    "type(eval('_202')).__name__ , eval('_202').args"
   ]
  },
  {
   "cell_type": "code",
   "execution_count": 274,
   "metadata": {},
   "outputs": [],
   "source": [
    "from sympy.printing.mathml import MathMLPresentationPrinter\n",
    "from sympy.printing.printer import Printer"
   ]
  },
  {
   "cell_type": "code",
   "execution_count": 239,
   "metadata": {},
   "outputs": [
    {
     "data": {
      "text/plain": [
       "'<mrow><mo>&#x222B;</mo><mrow><mrow><mi>g</mi><mfenced><mi>x</mi><mi>y</mi></mfenced></mrow><mo>&InvisibleTimes;</mo><mrow><mfrac><mrow><msup><mo>&#x2202;</mo><mn>2</mn></msup></mrow><mrow><mo>&#x2202;</mo><mi>z</mi><mo>&#x2202;</mo><mi>x</mi></mrow></mfrac><mrow><mi>f</mi><mfenced><mi>x</mi><mi>y</mi><mi>z</mi></mfenced></mrow></mrow></mrow><mo>&dd;</mo><mi>x</mi></mrow>'"
      ]
     },
     "execution_count": 239,
     "metadata": {},
     "output_type": "execute_result"
    }
   ],
   "source": [
    "ml=MathMLPresentationPrinter()._print(r)\n",
    "ml.toxml()"
   ]
  },
  {
   "cell_type": "code",
   "execution_count": 238,
   "metadata": {},
   "outputs": [],
   "source": [
    "for k in ml.attributes.items():\n",
    "    print(k)"
   ]
  },
  {
   "cell_type": "code",
   "execution_count": 265,
   "metadata": {},
   "outputs": [],
   "source": [
    "ml.attributes['sympyclass']=type(r).__name__"
   ]
  },
  {
   "cell_type": "code",
   "execution_count": 252,
   "metadata": {},
   "outputs": [
    {
     "data": {
      "text/plain": [
       "'<mrow id=\"gg\" myid=\"gg\"><mo>&#x222B;</mo><mrow><mrow><mi>g</mi><mfenced><mi>x</mi><mi>y</mi></mfenced></mrow><mo>&InvisibleTimes;</mo><mrow><mfrac><mrow><msup><mo>&#x2202;</mo><mn>2</mn></msup></mrow><mrow><mo>&#x2202;</mo><mi>z</mi><mo>&#x2202;</mo><mi>x</mi></mrow></mfrac><mrow><mi>f</mi><mfenced><mi>x</mi><mi>y</mi><mi>z</mi></mfenced></mrow></mrow></mrow><mo>&dd;</mo><mi>x</mi></mrow>'"
      ]
     },
     "execution_count": 252,
     "metadata": {},
     "output_type": "execute_result"
    }
   ],
   "source": [
    "ml.toxml()"
   ]
  },
  {
   "cell_type": "code",
   "execution_count": 248,
   "metadata": {},
   "outputs": [
    {
     "data": {
      "text/plain": [
       "'<mrow id=\"gg\"><mo>&#x222B;</mo><mrow><mrow><mi>g</mi><mfenced><mi>x</mi><mi>y</mi></mfenced></mrow><mo>&InvisibleTimes;</mo><mrow><mfrac><mrow><msup><mo>&#x2202;</mo><mn>2</mn></msup></mrow><mrow><mo>&#x2202;</mo><mi>z</mi><mo>&#x2202;</mo><mi>x</mi></mrow></mfrac><mrow><mi>f</mi><mfenced><mi>x</mi><mi>y</mi><mi>z</mi></mfenced></mrow></mrow></mrow><mo>&dd;</mo><mi>x</mi></mrow>'"
      ]
     },
     "execution_count": 248,
     "metadata": {},
     "output_type": "execute_result"
    }
   ],
   "source": [
    "ml\n",
    "unistr = ml.toxml()\n",
    "xmlbstr = unistr.encode('ascii', 'xmlcharrefreplace')\n",
    "res = xmlbstr.decode()\n",
    "res"
   ]
  },
  {
   "cell_type": "code",
   "execution_count": 266,
   "metadata": {},
   "outputs": [
    {
     "data": {
      "text/html": [
       "<math><mrow id=\"gg\" myid=\"gg\" sympyclass=\"Integral\"><mo>&#x222B;</mo><mrow><mrow><mi>g</mi><mfenced><mi>x</mi><mi>y</mi></mfenced></mrow><mo>&InvisibleTimes;</mo><mrow><mfrac><mrow><msup><mo>&#x2202;</mo><mn>2</mn></msup></mrow><mrow><mo>&#x2202;</mo><mi>z</mi><mo>&#x2202;</mo><mi>x</mi></mrow></mfrac><mrow><mi>f</mi><mfenced><mi>x</mi><mi>y</mi><mi>z</mi></mfenced></mrow></mrow></mrow><mo>&dd;</mo><mi>x</mi></mrow><math/>"
      ],
      "text/plain": [
       "<IPython.core.display.HTML object>"
      ]
     },
     "execution_count": 266,
     "metadata": {},
     "output_type": "execute_result"
    }
   ],
   "source": [
    "from IPython.display import HTML\n",
    "HTML(\"<math>\"+ml.toxml()+\"<math/>\")"
   ]
  },
  {
   "cell_type": "code",
   "execution_count": null,
   "metadata": {},
   "outputs": [],
   "source": []
  },
  {
   "cell_type": "code",
   "execution_count": null,
   "metadata": {},
   "outputs": [],
   "source": []
  },
  {
   "cell_type": "code",
   "execution_count": null,
   "metadata": {},
   "outputs": [],
   "source": []
  },
  {
   "cell_type": "code",
   "execution_count": 258,
   "metadata": {},
   "outputs": [],
   "source": [
    "tpy="
   ]
  },
  {
   "cell_type": "code",
   "execution_count": 264,
   "metadata": {},
   "outputs": [
    {
     "data": {
      "text/plain": [
       "'Integral'"
      ]
     },
     "execution_count": 264,
     "metadata": {},
     "output_type": "execute_result"
    }
   ],
   "source": [
    "type(r).__name__"
   ]
  },
  {
   "cell_type": "code",
   "execution_count": 332,
   "metadata": {},
   "outputs": [],
   "source": [
    "class MyMathMLPresentationPrinter(MathMLPresentationPrinter):\n",
    "    def _print(self,expr):\n",
    "        #print(type(expr).__name__)\n",
    "        #print(type(expr).__mro__)\n",
    "        res=super()._print(expr)\n",
    "        res.attributes['sympyclass']=type(expr).__name__\n",
    "        return(res)\n",
    "        \n",
    "    def doprint(self, expr):\n",
    "        \"\"\"\n",
    "        Prints the expression as MathML.\n",
    "        \"\"\"\n",
    "        mathML = self._print(expr)\n",
    "        unistr = mathML.toxml()\n",
    "        xmlbstr = unistr.encode('ascii', 'xmlcharrefreplace')\n",
    "        res = xmlbstr.decode()\n",
    "        return res"
   ]
  },
  {
   "cell_type": "code",
   "execution_count": 333,
   "metadata": {},
   "outputs": [
    {
     "name": "stdout",
     "output_type": "stream",
     "text": [
      "<mrow sympyclass=\"Integral\"><mo>&#x222B;</mo><mrow sympyclass=\"Mul\"><mrow sympyclass=\"G\"><mi>g</mi><mfenced><mi sympyclass=\"Symbol\">x</mi><mi sympyclass=\"Symbol\">y</mi></mfenced></mrow><mo>&InvisibleTimes;</mo><mrow sympyclass=\"Derivative\"><mfrac><mrow><msup><mo>&#x2202;</mo><mn sympyclass=\"Integer\">2</mn></msup></mrow><mrow><mo>&#x2202;</mo><mi sympyclass=\"Symbol\">z</mi><mo>&#x2202;</mo><mi sympyclass=\"Symbol\">x</mi></mrow></mfrac><mrow sympyclass=\"F\"><mi>f</mi><mfenced><mi sympyclass=\"Symbol\">x</mi><mi sympyclass=\"Symbol\">y</mi><mi sympyclass=\"Symbol\">z</mi></mfenced></mrow></mrow></mrow><mo>&dd;</mo><mi sympyclass=\"Symbol\">x</mi></mrow>\n"
     ]
    },
    {
     "data": {
      "text/html": [
       "<math><mrow sympyclass=\"Integral\"><mo>&#x222B;</mo><mrow sympyclass=\"Mul\"><mrow sympyclass=\"G\"><mi>g</mi><mfenced><mi sympyclass=\"Symbol\">x</mi><mi sympyclass=\"Symbol\">y</mi></mfenced></mrow><mo>&InvisibleTimes;</mo><mrow sympyclass=\"Derivative\"><mfrac><mrow><msup><mo>&#x2202;</mo><mn sympyclass=\"Integer\">2</mn></msup></mrow><mrow><mo>&#x2202;</mo><mi sympyclass=\"Symbol\">z</mi><mo>&#x2202;</mo><mi sympyclass=\"Symbol\">x</mi></mrow></mfrac><mrow sympyclass=\"F\"><mi>f</mi><mfenced><mi sympyclass=\"Symbol\">x</mi><mi sympyclass=\"Symbol\">y</mi><mi sympyclass=\"Symbol\">z</mi></mfenced></mrow></mrow></mrow><mo>&dd;</mo><mi sympyclass=\"Symbol\">x</mi></mrow><math/>"
      ],
      "text/plain": [
       "<IPython.core.display.HTML object>"
      ]
     },
     "execution_count": 333,
     "metadata": {},
     "output_type": "execute_result"
    }
   ],
   "source": [
    "ml=MyMathMLPresentationPrinter()._print(r)\n",
    "print(ml.toxml())\n",
    "HTML(\"<math>\"+ml.toxml()+\"<math/>\")"
   ]
  },
  {
   "cell_type": "code",
   "execution_count": 314,
   "metadata": {},
   "outputs": [
    {
     "data": {
      "text/plain": [
       "'<mrow><mo>&#x222B;</mo><mrow><mrow><mi>g</mi><mfenced><mi>x</mi><mi>y</mi></mfenced></mrow><mo>&InvisibleTimes;</mo><mrow><mfrac><mrow><msup><mo>&#x2202;</mo><mn>2</mn></msup></mrow><mrow><mo>&#x2202;</mo><mi>z</mi><mo>&#x2202;</mo><mi>x</mi></mrow></mfrac><mrow><mi>f</mi><mfenced><mi>x</mi><mi>y</mi><mi>z</mi></mfenced></mrow></mrow></mrow><mo>&dd;</mo><mi>x</mi></mrow>'"
      ]
     },
     "execution_count": 314,
     "metadata": {},
     "output_type": "execute_result"
    }
   ],
   "source": [
    "MathMLPresentationPrinter().doprint(r)"
   ]
  },
  {
   "cell_type": "code",
   "execution_count": 350,
   "metadata": {},
   "outputs": [],
   "source": [
    "def my_latex(expr, **settings):\n",
    "    print(settings)\n",
    "    return MyMathMLPresentationPrinter().doprint(expr)\n",
    "\n",
    "sympy.init_printing(pretty_printer=my_latex,latex_printer=my_latex,pretty_print=True,use_latex='mathjax')\n"
   ]
  },
  {
   "cell_type": "code",
   "execution_count": 351,
   "metadata": {},
   "outputs": [
    {
     "name": "stdout",
     "output_type": "stream",
     "text": [
      "{}\n"
     ]
    },
    {
     "data": {
      "text/latex": [
       "$\\displaystyle \\int G{\\left(x,y \\right)} \\frac{\\partial^{2}}{\\partial z\\partial x} F{\\left(x,y,z \\right)}\\, dx$"
      ],
      "text/plain": [
       "<mrow sympyclass=\"Integral\"><mo>&#x222B;</mo><mrow sympyclass=\"Mul\"><mrow sympyclass=\"G\"><mi>g</mi><mfenced><mi sympyclass=\"Symbol\">x</mi><mi sympyclass=\"Symbol\">y</mi></mfenced></mrow><mo>&InvisibleTimes;</mo><mrow sympyclass=\"Derivative\"><mfrac><mrow><msup><mo>&#x2202;</mo><mn sympyclass=\"Integer\">2</mn></msup></mrow><mrow><mo>&#x2202;</mo><mi sympyclass=\"Symbol\">z</mi><mo>&#x2202;</mo><mi sympyclass=\"Symbol\">x</mi></mrow></mfrac><mrow sympyclass=\"F\"><mi>f</mi><mfenced><mi sympyclass=\"Symbol\">x</mi><mi sympyclass=\"Symbol\">y</mi><mi sympyclass=\"Symbol\">z</mi></mfenced></mrow></mrow></mrow><mo>&dd;</mo><mi sympyclass=\"Symbol\">x</mi></mrow>"
      ]
     },
     "execution_count": 351,
     "metadata": {},
     "output_type": "execute_result"
    }
   ],
   "source": [
    "r"
   ]
  },
  {
   "cell_type": "code",
   "execution_count": null,
   "metadata": {},
   "outputs": [],
   "source": []
  }
 ],
 "metadata": {
  "kernelspec": {
   "display_name": "Python 3.6",
   "language": "python",
   "name": "python_3.6"
  },
  "language_info": {
   "codemirror_mode": {
    "name": "ipython",
    "version": 3
   },
   "file_extension": ".py",
   "mimetype": "text/x-python",
   "name": "python",
   "nbconvert_exporter": "python",
   "pygments_lexer": "ipython3",
   "version": "3.6.5"
  }
 },
 "nbformat": 4,
 "nbformat_minor": 2
}
