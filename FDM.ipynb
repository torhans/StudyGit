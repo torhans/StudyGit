{
 "cells": [
  {
   "cell_type": "code",
   "execution_count": null,
   "metadata": {
    "collapsed": false
   },
   "outputs": [],
   "source": [
    "from IPython.core.display import display, HTML\n",
    "display(HTML(\"<style>.container { width:100% !important; } </style>\"))\n",
    "import numpy as np\n",
    "np.set_printoptions(linewidth=160)\n",
    "from mpl_toolkits.mplot3d import Axes3D\n",
    "import matplotlib.pyplot as plt\n"
   ]
  },
  {
   "cell_type": "code",
   "execution_count": null,
   "metadata": {
    "collapsed": false
   },
   "outputs": [],
   "source": [
    "nx=50\n",
    "ny=50\n",
    "x=np.linspace(0,1,nx)\n",
    "y=np.linspace(0,1,ny)\n",
    "vx,vy=np.meshgrid(x,y)"
   ]
  },
  {
   "cell_type": "code",
   "execution_count": null,
   "metadata": {
    "collapsed": false
   },
   "outputs": [],
   "source": [
    "dx=np.zeros((nx*ny,nx*ny))\n",
    "dy=np.zeros((nx*ny,nx*ny))\n",
    "for i in range(nx):\n",
    "    for j in range(ny):\n",
    "        if (i>0) and (i<(nx-1)):\n",
    "#            dx[j*nx+i,j*nx+i-1]=-.5\n",
    "#            dx[j*nx+i,j*nx+i+1]=.5\n",
    "            dx[j*nx+i,j*nx+i-1]=-1\n",
    "            dx[j*nx+i,j*nx+i]=1\n",
    "        elif (i==0):\n",
    "            dx[j*nx+i,j*nx+i]=-1.\n",
    "            dx[j*nx+i,j*nx+i+1]=1.\n",
    "        else:\n",
    "            dx[j*nx+i,j*nx+i-1]=-1.\n",
    "            dx[j*nx+i,j*nx+i]=1.\n",
    "        if (j>0) and (j<(ny-1)):\n",
    "#            dy[j*nx+i,(j-1)*nx+i]=-.5\n",
    "#            dy[j*nx+i,(j+1)*nx+i]=.5\n",
    "            dy[j*nx+i,(j-1)*nx+i]=-1\n",
    "            dy[j*nx+i,(j)*nx+i]=1\n",
    "        elif (j==0):\n",
    "            dy[j*nx+i,(j)*nx+i]=-1.\n",
    "            dy[j*nx+i,(j+1)*nx+i]=1.\n",
    "        else:\n",
    "            dy[j*nx+i,(j-1)*nx+i]=-1.\n",
    "            dy[j*nx+i,(j)*nx+i]=1.\n",
    "            "
   ]
  },
  {
   "cell_type": "code",
   "execution_count": null,
   "metadata": {
    "collapsed": false,
    "scrolled": true
   },
   "outputs": [],
   "source": [
    "bnd=(vy==0) | (vx==0)\n",
    "bndx=(vy==0)\n",
    "bndy=bnd & (vy!=0)\n",
    "freenode=np.argwhere((bnd!=True).flatten()).flatten()\n",
    "bndxnode=np.argwhere((bndx.flatten())).flatten()\n",
    "bndynode=np.argwhere((bndy.flatten())).flatten()"
   ]
  },
  {
   "cell_type": "code",
   "execution_count": null,
   "metadata": {
    "collapsed": false
   },
   "outputs": [],
   "source": [
    "A=dx*nx+dy*ny"
   ]
  },
  {
   "cell_type": "code",
   "execution_count": null,
   "metadata": {
    "collapsed": false
   },
   "outputs": [],
   "source": [
    "u=np.zeros((nx*ny,1))\n",
    "bx=vx.reshape((nx*ny,1))[bndxnode]\n",
    "by=vy.reshape((nx*ny,1))[bndynode]\n",
    "u[bndxnode]=bx*bx\n",
    "u[bndynode]=1/2*by*by\n",
    "bndnode=np.hstack((bndxnode,bndynode))\n",
    "f=vx.reshape(nx*ny,1)\n",
    "#sol=np.vstack((u[bndnode],np.linalg.solve(A[freenode][:,freenode],f[freenode]-np.matmul(A,u)[freenode])))\n",
    "sol=np.linalg.solve(A[freenode][:,freenode],f[freenode]-np.matmul(A,u)[freenode])\n",
    "#vs=sol.reshape(ny,nx)\n",
    "solerr=sol-((vx*vx-vx*vy+vy*vy/2).flatten()[freenode].reshape((nx-1)*(ny-1),1))"
   ]
  },
  {
   "cell_type": "code",
   "execution_count": null,
   "metadata": {
    "collapsed": false
   },
   "outputs": [],
   "source": [
    "%matplotlib inline\n",
    "fig = plt.figure()\n",
    "ax = fig.gca(projection='3d')\n",
    "ax.plot_wireframe(vx.flatten()[freenode].reshape(nx-1,ny-1), vy.flatten()[freenode].reshape(nx-1,ny-1), sol.reshape(nx-1,ny-1),rstride=1,cstride=1)"
   ]
  },
  {
   "cell_type": "code",
   "execution_count": null,
   "metadata": {
    "collapsed": false
   },
   "outputs": [],
   "source": [
    "%matplotlib inline\n",
    "fig = plt.figure()\n",
    "ax = fig.gca(projection='3d')\n",
    "ax.plot_wireframe(vx.flatten()[freenode].reshape(nx-1,ny-1), vy.flatten()[freenode].reshape(nx-1,ny-1), solerr.reshape(nx-1,ny-1),rstride=1,cstride=1)"
   ]
  },
  {
   "cell_type": "code",
   "execution_count": null,
   "metadata": {
    "collapsed": false
   },
   "outputs": [],
   "source": [
    "er=np.matmul(A,sol)-vx.reshape(nx*ny,1)\n",
    "ve=er.reshape(ny,nx)"
   ]
  },
  {
   "cell_type": "code",
   "execution_count": null,
   "metadata": {
    "collapsed": false
   },
   "outputs": [],
   "source": [
    "%matplotlib inline\n",
    "fig = plt.figure()\n",
    "ax = fig.gca(projection='3d')\n",
    "ax.plot_surface(vx, vy, ve)"
   ]
  },
  {
   "cell_type": "code",
   "execution_count": null,
   "metadata": {
    "collapsed": false
   },
   "outputs": [],
   "source": [
    "%matplotlib inline\n",
    "plt.plot(vx.reshape(nx*ny,1)[bndnode],u[bndnode])"
   ]
  },
  {
   "cell_type": "code",
   "execution_count": null,
   "metadata": {
    "collapsed": false
   },
   "outputs": [],
   "source": [
    "Abx=np.eye(nx,nx*ny)\n",
    "Aby=np.zeros((ny-1,nx*ny))\n",
    "Aby[range(ny-1),bndynode]=1\n",
    "Ab=np.vstack((Abx,Aby,A))\n",
    "\n",
    "fb=np.vstack((u[bndxnode],u[bndynode],f))\n",
    "sol2=np.linalg.lstsq(Ab,fb)\n",
    "vs2=sol2[0].reshape(ny,nx)"
   ]
  },
  {
   "cell_type": "code",
   "execution_count": null,
   "metadata": {
    "collapsed": false
   },
   "outputs": [],
   "source": [
    "%matplotlib inline\n",
    "fig = plt.figure()\n",
    "ax = fig.gca(projection='3d')\n",
    "ax.plot_wireframe(vx, vy, vs2-(vx*vx-vx*vy+vy*vy/2),rstride=1,cstride=1)"
   ]
  },
  {
   "cell_type": "code",
   "execution_count": null,
   "metadata": {
    "collapsed": false
   },
   "outputs": [],
   "source": [
    "er2=np.matmul(A,sol2[0])-vx.reshape(nx*ny,1)\n",
    "ve2=er2.reshape(ny,nx)"
   ]
  },
  {
   "cell_type": "code",
   "execution_count": null,
   "metadata": {
    "collapsed": false
   },
   "outputs": [],
   "source": [
    "%matplotlib inline\n",
    "fig = plt.figure()\n",
    "ax = fig.gca(projection='3d')\n",
    "ax.plot_surface(vx, vy, ve2)"
   ]
  },
  {
   "cell_type": "code",
   "execution_count": null,
   "metadata": {
    "collapsed": true
   },
   "outputs": [],
   "source": []
  }
 ],
 "metadata": {
  "kernelspec": {
   "display_name": "Python 3",
   "language": "python",
   "name": "python3"
  },
  "language_info": {
   "codemirror_mode": {
    "name": "ipython",
    "version": 3
   },
   "file_extension": ".py",
   "mimetype": "text/x-python",
   "name": "python",
   "nbconvert_exporter": "python",
   "pygments_lexer": "ipython3",
   "version": "3.4.4"
  }
 },
 "nbformat": 4,
 "nbformat_minor": 0
}
