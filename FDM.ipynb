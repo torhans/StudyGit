{
 "cells": [
  {
   "cell_type": "code",
   "execution_count": null,
   "metadata": {
    "collapsed": false
   },
   "outputs": [],
   "source": [
    "from IPython.core.display import display, HTML\n",
    "display(HTML(\"<style>.container { width:100% !important; } </style>\"))\n",
    "np.set_printoptions(linewidth=160)\n",
    "from mpl_toolkits.mplot3d import Axes3D\n",
    "import matplotlib.pyplot as plt\n"
   ]
  },
  {
   "cell_type": "code",
   "execution_count": null,
   "metadata": {
    "collapsed": true
   },
   "outputs": [],
   "source": [
    "import numpy as np\n",
    "import pprint"
   ]
  },
  {
   "cell_type": "code",
   "execution_count": null,
   "metadata": {
    "collapsed": false
   },
   "outputs": [],
   "source": [
    "nx=5\n",
    "ny=6\n",
    "x=np.linspace(0,1,nx)\n",
    "y=np.linspace(0,1,ny)\n",
    "vx,vy=np.meshgrid(x,y)"
   ]
  },
  {
   "cell_type": "code",
   "execution_count": null,
   "metadata": {
    "collapsed": false
   },
   "outputs": [],
   "source": [
    "dx=np.zeros((nx*ny,nx*ny))\n",
    "dy=np.zeros((nx*ny,nx*ny))\n",
    "for i in range(nx):\n",
    "    for j in range(ny):\n",
    "        if (i>0) and (i<(nx-1)):\n",
    "#            dx[j*nx+i,j*nx+i-1]=-.5\n",
    "#            dx[j*nx+i,j*nx+i+1]=.5\n",
    "            dx[j*nx+i,j*nx+i-1]=-1\n",
    "            dx[j*nx+i,j*nx+i]=1\n",
    "        elif (i==0):\n",
    "            dx[j*nx+i,j*nx+i]=-1.\n",
    "            dx[j*nx+i,j*nx+i+1]=1.\n",
    "        else:\n",
    "            dx[j*nx+i,j*nx+i-1]=-1.\n",
    "            dx[j*nx+i,j*nx+i]=1.\n",
    "        if (j>0) and (j<(ny-1)):\n",
    "#            dy[j*nx+i,(j-1)*nx+i]=-.5\n",
    "#            dy[j*nx+i,(j+1)*nx+i]=.5\n",
    "            dy[j*nx+i,(j-1)*nx+i]=-1\n",
    "            dy[j*nx+i,(j)*nx+i]=1\n",
    "        elif (j==0):\n",
    "            dy[j*nx+i,(j)*nx+i]=-1.\n",
    "            dy[j*nx+i,(j+1)*nx+i]=1.\n",
    "        else:\n",
    "            dy[j*nx+i,(j-1)*nx+i]=-1.\n",
    "            dy[j*nx+i,(j)*nx+i]=1.\n",
    "            "
   ]
  },
  {
   "cell_type": "code",
   "execution_count": null,
   "metadata": {
    "collapsed": false,
    "scrolled": true
   },
   "outputs": [],
   "source": [
    "bnd=vy==0\n",
    "freenode=np.argwhere((bnd!=True).flatten()).flatten()\n",
    "bndnode=np.argwhere((bnd.flatten())).flatten()"
   ]
  },
  {
   "cell_type": "code",
   "execution_count": null,
   "metadata": {
    "collapsed": false
   },
   "outputs": [],
   "source": [
    "A=dx*nx+dy*ny"
   ]
  },
  {
   "cell_type": "code",
   "execution_count": null,
   "metadata": {
    "collapsed": false
   },
   "outputs": [],
   "source": [
    "u=np.zeros((nx*ny,1))\n",
    "bx=vx.reshape((nx*ny,1))[bndnode]\n",
    "u[bndnode]=bx#1+0*bx*bx\n",
    "f=vx.reshape(nx*ny,1)\n",
    "sol=np.vstack((u[bndnode],np.linalg.solve(A[freenode][:,freenode],1e0+f[freenode]-np.matmul(A,u)[freenode])))\n",
    "vs=sol.reshape(ny,nx)"
   ]
  },
  {
   "cell_type": "code",
   "execution_count": null,
   "metadata": {
    "collapsed": false
   },
   "outputs": [],
   "source": [
    "%matplotlib inline\n",
    "fig = plt.figure()\n",
    "ax = fig.gca(projection='3d')\n",
    "ax.plot_wireframe(vx, vy, vs)"
   ]
  },
  {
   "cell_type": "code",
   "execution_count": null,
   "metadata": {
    "collapsed": false
   },
   "outputs": [],
   "source": [
    "er=np.matmul(A,sol)-vx.reshape(nx*ny,1)\n",
    "ve=er.reshape(ny,nx)"
   ]
  },
  {
   "cell_type": "code",
   "execution_count": null,
   "metadata": {
    "collapsed": false
   },
   "outputs": [],
   "source": [
    "%matplotlib inline\n",
    "fig = plt.figure()\n",
    "ax = fig.gca(projection='3d')\n",
    "ax.plot_surface(vx, vy, ve)"
   ]
  },
  {
   "cell_type": "code",
   "execution_count": null,
   "metadata": {
    "collapsed": false
   },
   "outputs": [],
   "source": [
    "%matplotlib inline\n",
    "plt.plot(vx.reshape(nx*ny,1)[bndnode],u[bndnode])"
   ]
  },
  {
   "cell_type": "code",
   "execution_count": null,
   "metadata": {
    "collapsed": false
   },
   "outputs": [],
   "source": [
    "dx*nx"
   ]
  },
  {
   "cell_type": "code",
   "execution_count": null,
   "metadata": {
    "collapsed": false
   },
   "outputs": [],
   "source": [
    "f.reshape(nx,ny)"
   ]
  },
  {
   "cell_type": "code",
   "execution_count": null,
   "metadata": {
    "collapsed": false
   },
   "outputs": [],
   "source": [
    "vx"
   ]
  },
  {
   "cell_type": "code",
   "execution_count": null,
   "metadata": {
    "collapsed": false
   },
   "outputs": [],
   "source": [
    "np.matmul((dx*nx),u).T"
   ]
  },
  {
   "cell_type": "code",
   "execution_count": null,
   "metadata": {
    "collapsed": false
   },
   "outputs": [],
   "source": [
    "np.matmul((dy*ny),u).T"
   ]
  },
  {
   "cell_type": "code",
   "execution_count": null,
   "metadata": {
    "collapsed": false
   },
   "outputs": [],
   "source": [
    "s.shape"
   ]
  },
  {
   "cell_type": "code",
   "execution_count": null,
   "metadata": {
    "collapsed": false
   },
   "outputs": [],
   "source": [
    "v"
   ]
  },
  {
   "cell_type": "code",
   "execution_count": null,
   "metadata": {
    "collapsed": true
   },
   "outputs": [],
   "source": []
  }
 ],
 "metadata": {
  "kernelspec": {
   "display_name": "Python 3",
   "language": "python",
   "name": "python3"
  },
  "language_info": {
   "codemirror_mode": {
    "name": "ipython",
    "version": 3
   },
   "file_extension": ".py",
   "mimetype": "text/x-python",
   "name": "python",
   "nbconvert_exporter": "python",
   "pygments_lexer": "ipython3",
   "version": "3.4.4"
  }
 },
 "nbformat": 4,
 "nbformat_minor": 0
}
