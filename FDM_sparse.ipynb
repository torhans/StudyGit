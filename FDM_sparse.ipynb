{
 "cells": [
  {
   "cell_type": "code",
   "execution_count": 1,
   "metadata": {},
   "outputs": [
    {
     "data": {
      "text/html": [
       "<style>.container { width:100% !important; } </style>"
      ],
      "text/plain": [
       "<IPython.core.display.HTML object>"
      ]
     },
     "metadata": {},
     "output_type": "display_data"
    }
   ],
   "source": [
    "from IPython.core.display import display, HTML\n",
    "display(HTML(\"<style>.container { width:100% !important; } </style>\"))\n",
    "import numpy as np\n",
    "np.set_printoptions(linewidth=160)\n",
    "from scipy.sparse import dia_matrix\n",
    "from scipy.sparse.linalg import spsolve\n",
    "from scipy.sparse.linalg import bicgstab\n",
    "from scipy.sparse.linalg import bicg\n",
    "from scipy.sparse.linalg import cg\n",
    "from scipy.sparse.linalg import cgs\n",
    "from scipy.sparse.linalg import gmres\n",
    "from scipy.sparse.linalg import lgmres\n",
    "from scipy.sparse.linalg import minres\n",
    "from scipy.sparse.linalg import qmr\n",
    "from scipy.sparse.linalg import gcrotmk\n",
    "from mpl_toolkits.mplot3d import Axes3D\n",
    "import matplotlib.pyplot as plt"
   ]
  },
  {
   "cell_type": "code",
   "execution_count": 17,
   "metadata": {},
   "outputs": [],
   "source": [
    "nx=50*4\n",
    "ny=50*4\n",
    "x=np.linspace(0,1,nx)\n",
    "y=np.linspace(0,1,ny)\n",
    "vx,vy=np.meshgrid(x,y)"
   ]
  },
  {
   "cell_type": "code",
   "execution_count": 18,
   "metadata": {},
   "outputs": [],
   "source": [
    "dx=np.zeros((nx*ny,5))\n",
    "dy=np.zeros((nx*ny,5))\n",
    "cent=2\n",
    "for i in range(nx):\n",
    "    for j in range(ny):\n",
    "        if (i>0) and (i<(nx-1)):\n",
    "            dx[j*nx+i,cent-1]=-1\n",
    "            dx[j*nx+i,cent]=1\n",
    "        elif (i==0):\n",
    "            dx[j*nx+i,cent]=-1.\n",
    "            dx[j*nx+i,cent+1]=1.\n",
    "        else:\n",
    "            dx[j*nx+i,cent-1]=-1.\n",
    "            dx[j*nx+i,cent]=1.\n",
    "        if (j>0) and (j<(ny-1)):\n",
    "            dy[j*nx+i,cent-2]=-1\n",
    "            dy[j*nx+i,cent]=1\n",
    "        elif (j==0):\n",
    "            dy[j*nx+i,cent]=-1.\n",
    "            dy[j*nx+i,cent+2]=1.\n",
    "        else:\n",
    "            dy[j*nx+i,cent-2]=-1.\n",
    "            dy[j*nx+i,cent]=1."
   ]
  },
  {
   "cell_type": "code",
   "execution_count": 19,
   "metadata": {},
   "outputs": [],
   "source": [
    "l=np.zeros((nx*ny,5))\n",
    "cent=2\n",
    "for i in range(nx):\n",
    "    for j in range(ny):\n",
    "        if (i>0):\n",
    "            l[j*nx+i,cent-1]+=1\n",
    "            l[j*nx+i,cent]-=1\n",
    "        if (i<(nx-1)):\n",
    "            l[j*nx+i,cent+1]+=1\n",
    "            l[j*nx+i,cent]-=1\n",
    "        if (j>0):\n",
    "            l[j*nx+i,cent-2]+=1\n",
    "            l[j*nx+i,cent]-=1\n",
    "        if (j<(ny-1)):\n",
    "            l[j*nx+i,cent+2]+=1\n",
    "            l[j*nx+i,cent]-=1\n"
   ]
  },
  {
   "cell_type": "code",
   "execution_count": 20,
   "metadata": {},
   "outputs": [],
   "source": [
    "bnd=(vy==0) | (vx==0)\n",
    "bndx=(vy==0)\n",
    "bndy=bnd & (vy!=0)\n",
    "freenode=np.argwhere((bnd!=True).flatten()).flatten()\n",
    "bndxnode=np.argwhere((bndx.flatten())).flatten()\n",
    "bndynode=np.argwhere((bndy.flatten())).flatten()\n",
    "bndnode=np.argwhere((bnd.flatten())).flatten()\n",
    "d=dy*ny+dx*nx\n",
    "d[bndnode,:]=0\n",
    "d[bndnode,2]=1\n",
    "u=np.zeros((nx*ny,1))\n",
    "bx=vx.reshape((nx*ny,1))[bndxnode]\n",
    "by=vy.reshape((nx*ny,1))[bndynode]\n",
    "u[bndxnode]=bx*bx\n",
    "u[bndynode]=1/2*by*by\n",
    "f=vx.reshape(nx*ny,1).copy()\n",
    "f[bndnode]=u[bndnode]"
   ]
  },
  {
   "cell_type": "code",
   "execution_count": 6,
   "metadata": {},
   "outputs": [],
   "source": [
    "A=dia_matrix(((d).T,np.array([nx,1,0,-1,-nx])),shape=(nx*ny,nx*ny)).transpose()"
   ]
  },
  {
   "cell_type": "code",
   "execution_count": 7,
   "metadata": {},
   "outputs": [],
   "source": [
    "sol,info=gcrotmk(A,f,tol=1e-12,maxiter=100)"
   ]
  },
  {
   "cell_type": "code",
   "execution_count": 8,
   "metadata": {},
   "outputs": [
    {
     "data": {
      "text/plain": [
       "<mpl_toolkits.mplot3d.art3d.Line3DCollection at 0x7f0002568128>"
      ]
     },
     "execution_count": 8,
     "metadata": {},
     "output_type": "execute_result"
    },
    {
     "data": {
      "image/png": "[encoded data removed]",
      "text/plain": [
       "<Figure size 432x288 with 1 Axes>"
      ]
     },
     "metadata": {},
     "output_type": "display_data"
    }
   ],
   "source": [
    "%matplotlib inline\n",
    "fig = plt.figure()\n",
    "ax = fig.gca(projection='3d')\n",
    "ax.plot_wireframe(vx.flatten().reshape(nx,ny), vy.flatten().reshape(nx,ny), sol.reshape(nx,ny),rstride=1,cstride=1)"
   ]
  },
  {
   "cell_type": "code",
   "execution_count": 263,
   "metadata": {},
   "outputs": [
    {
     "name": "stdout",
     "output_type": "stream",
     "text": [
      "0\n",
      "[0.00000000e+00 2.52518876e-05 1.01007550e-04 ... 9.89949749e-01 9.94974874e-01 1.00000000e+00]\n",
      "CPU times: user 4.67 s, sys: 4.04 s, total: 8.7 s\n",
      "Wall time: 2.26 s\n"
     ]
    }
   ],
   "source": [
    "%%time\n",
    "sol,info=gcrotmk(A,f,tol=1e-12,maxiter=100)\n",
    "print(info)\n",
    "print(A.dot(sol))"
   ]
  },
  {
   "cell_type": "code",
   "execution_count": 262,
   "metadata": {},
   "outputs": [
    {
     "name": "stdout",
     "output_type": "stream",
     "text": [
      "0\n",
      "[0.00000000e+00 2.52518876e-05 1.01007550e-04 ... 9.89949749e-01 9.94974874e-01 1.00000000e+00]\n",
      "CPU times: user 7.94 s, sys: 7.13 s, total: 15.1 s\n",
      "Wall time: 3.91 s\n"
     ]
    }
   ],
   "source": [
    "%%time\n",
    "sol,info=gmres(A,f,tol=1e-12,maxiter=500)\n",
    "print(info)\n",
    "print(A.dot(sol))"
   ]
  },
  {
   "cell_type": "code",
   "execution_count": 16,
   "metadata": {},
   "outputs": [
    {
     "data": {
      "text/plain": [
       "array([[-2.,  1.,  0.,  0.,  0.,  1.,  0.,  0.,  0.,  0.,  0.,  0.,  0.,  0.,  0.,  0.,  0.,  0.,  0.,  0.,  0.,  0.,  0.,  0.,  0.],\n",
       "       [ 1., -3.,  1.,  0.,  0.,  0.,  1.,  0.,  0.,  0.,  0.,  0.,  0.,  0.,  0.,  0.,  0.,  0.,  0.,  0.,  0.,  0.,  0.,  0.,  0.],\n",
       "       [ 0.,  1., -3.,  1.,  0.,  0.,  0.,  1.,  0.,  0.,  0.,  0.,  0.,  0.,  0.,  0.,  0.,  0.,  0.,  0.,  0.,  0.,  0.,  0.,  0.],\n",
       "       [ 0.,  0.,  1., -3.,  1.,  0.,  0.,  0.,  1.,  0.,  0.,  0.,  0.,  0.,  0.,  0.,  0.,  0.,  0.,  0.,  0.,  0.,  0.,  0.,  0.],\n",
       "       [ 0.,  0.,  0.,  1., -2.,  0.,  0.,  0.,  0.,  1.,  0.,  0.,  0.,  0.,  0.,  0.,  0.,  0.,  0.,  0.,  0.,  0.,  0.,  0.,  0.],\n",
       "       [ 1.,  0.,  0.,  0.,  0., -3.,  1.,  0.,  0.,  0.,  1.,  0.,  0.,  0.,  0.,  0.,  0.,  0.,  0.,  0.,  0.,  0.,  0.,  0.,  0.],\n",
       "       [ 0.,  1.,  0.,  0.,  0.,  1., -4.,  1.,  0.,  0.,  0.,  1.,  0.,  0.,  0.,  0.,  0.,  0.,  0.,  0.,  0.,  0.,  0.,  0.,  0.],\n",
       "       [ 0.,  0.,  1.,  0.,  0.,  0.,  1., -4.,  1.,  0.,  0.,  0.,  1.,  0.,  0.,  0.,  0.,  0.,  0.,  0.,  0.,  0.,  0.,  0.,  0.],\n",
       "       [ 0.,  0.,  0.,  1.,  0.,  0.,  0.,  1., -4.,  1.,  0.,  0.,  0.,  1.,  0.,  0.,  0.,  0.,  0.,  0.,  0.,  0.,  0.,  0.,  0.],\n",
       "       [ 0.,  0.,  0.,  0.,  1.,  0.,  0.,  0.,  1., -3.,  0.,  0.,  0.,  0.,  1.,  0.,  0.,  0.,  0.,  0.,  0.,  0.,  0.,  0.,  0.],\n",
       "       [ 0.,  0.,  0.,  0.,  0.,  1.,  0.,  0.,  0.,  0., -3.,  1.,  0.,  0.,  0.,  1.,  0.,  0.,  0.,  0.,  0.,  0.,  0.,  0.,  0.],\n",
       "       [ 0.,  0.,  0.,  0.,  0.,  0.,  1.,  0.,  0.,  0.,  1., -4.,  1.,  0.,  0.,  0.,  1.,  0.,  0.,  0.,  0.,  0.,  0.,  0.,  0.],\n",
       "       [ 0.,  0.,  0.,  0.,  0.,  0.,  0.,  1.,  0.,  0.,  0.,  1., -4.,  1.,  0.,  0.,  0.,  1.,  0.,  0.,  0.,  0.,  0.,  0.,  0.],\n",
       "       [ 0.,  0.,  0.,  0.,  0.,  0.,  0.,  0.,  1.,  0.,  0.,  0.,  1., -4.,  1.,  0.,  0.,  0.,  1.,  0.,  0.,  0.,  0.,  0.,  0.],\n",
       "       [ 0.,  0.,  0.,  0.,  0.,  0.,  0.,  0.,  0.,  1.,  0.,  0.,  0.,  1., -3.,  0.,  0.,  0.,  0.,  1.,  0.,  0.,  0.,  0.,  0.],\n",
       "       [ 0.,  0.,  0.,  0.,  0.,  0.,  0.,  0.,  0.,  0.,  1.,  0.,  0.,  0.,  0., -3.,  1.,  0.,  0.,  0.,  1.,  0.,  0.,  0.,  0.],\n",
       "       [ 0.,  0.,  0.,  0.,  0.,  0.,  0.,  0.,  0.,  0.,  0.,  1.,  0.,  0.,  0.,  1., -4.,  1.,  0.,  0.,  0.,  1.,  0.,  0.,  0.],\n",
       "       [ 0.,  0.,  0.,  0.,  0.,  0.,  0.,  0.,  0.,  0.,  0.,  0.,  1.,  0.,  0.,  0.,  1., -4.,  1.,  0.,  0.,  0.,  1.,  0.,  0.],\n",
       "       [ 0.,  0.,  0.,  0.,  0.,  0.,  0.,  0.,  0.,  0.,  0.,  0.,  0.,  1.,  0.,  0.,  0.,  1., -4.,  1.,  0.,  0.,  0.,  1.,  0.],\n",
       "       [ 0.,  0.,  0.,  0.,  0.,  0.,  0.,  0.,  0.,  0.,  0.,  0.,  0.,  0.,  1.,  0.,  0.,  0.,  1., -3.,  0.,  0.,  0.,  0.,  1.],\n",
       "       [ 0.,  0.,  0.,  0.,  0.,  0.,  0.,  0.,  0.,  0.,  0.,  0.,  0.,  0.,  0.,  1.,  0.,  0.,  0.,  0., -2.,  1.,  0.,  0.,  0.],\n",
       "       [ 0.,  0.,  0.,  0.,  0.,  0.,  0.,  0.,  0.,  0.,  0.,  0.,  0.,  0.,  0.,  0.,  1.,  0.,  0.,  0.,  1., -3.,  1.,  0.,  0.],\n",
       "       [ 0.,  0.,  0.,  0.,  0.,  0.,  0.,  0.,  0.,  0.,  0.,  0.,  0.,  0.,  0.,  0.,  0.,  1.,  0.,  0.,  0.,  1., -3.,  1.,  0.],\n",
       "       [ 0.,  0.,  0.,  0.,  0.,  0.,  0.,  0.,  0.,  0.,  0.,  0.,  0.,  0.,  0.,  0.,  0.,  0.,  1.,  0.,  0.,  0.,  1., -3.,  1.],\n",
       "       [ 0.,  0.,  0.,  0.,  0.,  0.,  0.,  0.,  0.,  0.,  0.,  0.,  0.,  0.,  0.,  0.,  0.,  0.,  0.,  1.,  0.,  0.,  0.,  1., -2.]])"
      ]
     },
     "execution_count": 16,
     "metadata": {},
     "output_type": "execute_result"
    }
   ],
   "source": [
    "L=dia_matrix(((l).T,np.array([nx,1,0,-1,-nx])),shape=(nx*ny,nx*ny)).transpose()\n",
    "L.toarray()"
   ]
  },
  {
   "cell_type": "code",
   "execution_count": null,
   "metadata": {},
   "outputs": [],
   "source": []
  }
 ],
 "metadata": {
  "kernelspec": {
   "display_name": "Python 3",
   "language": "python",
   "name": "python3"
  },
  "language_info": {
   "codemirror_mode": {
    "name": "ipython",
    "version": 3
   },
   "file_extension": ".py",
   "mimetype": "text/x-python",
   "name": "python",
   "nbconvert_exporter": "python",
   "pygments_lexer": "ipython3",
   "version": "3.4.6"
  }
 },
 "nbformat": 4,
 "nbformat_minor": 2
}
