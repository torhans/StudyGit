{
 "cells": [
  {
   "cell_type": "markdown",
   "metadata": {},
   "source": [
    "$x+1$"
   ]
  },
  {
   "cell_type": "code",
   "execution_count": 3,
   "metadata": {},
   "outputs": [
    {
     "ename": "ModuleNotFoundError",
     "evalue": "No module named 'graphics'",
     "output_type": "error",
     "traceback": [
      "\u001b[0;31m---------------------------------------------------------------------------\u001b[0m",
      "\u001b[0;31mModuleNotFoundError\u001b[0m                       Traceback (most recent call last)",
      "\u001b[0;32m<ipython-input-3-32d0f15682c8>\u001b[0m in \u001b[0;36m<module>\u001b[0;34m()\u001b[0m\n\u001b[0;32m----> 1\u001b[0;31m \u001b[0;32mfrom\u001b[0m \u001b[0mgraphics\u001b[0m \u001b[0;32mimport\u001b[0m \u001b[0;34m*\u001b[0m\u001b[0;34m\u001b[0m\u001b[0m\n\u001b[0m\u001b[1;32m      2\u001b[0m \u001b[0;32mdef\u001b[0m \u001b[0mmain\u001b[0m\u001b[0;34m(\u001b[0m\u001b[0;34m)\u001b[0m\u001b[0;34m:\u001b[0m\u001b[0;34m\u001b[0m\u001b[0m\n\u001b[1;32m      3\u001b[0m     \u001b[0mwin\u001b[0m \u001b[0;34m=\u001b[0m \u001b[0mGraphWin\u001b[0m\u001b[0;34m(\u001b[0m\u001b[0;34m\"My Circle\"\u001b[0m\u001b[0;34m,\u001b[0m \u001b[0;36m100\u001b[0m\u001b[0;34m,\u001b[0m \u001b[0;36m100\u001b[0m\u001b[0;34m)\u001b[0m\u001b[0;34m\u001b[0m\u001b[0m\n\u001b[1;32m      4\u001b[0m     \u001b[0mc\u001b[0m \u001b[0;34m=\u001b[0m \u001b[0mCircle\u001b[0m\u001b[0;34m(\u001b[0m\u001b[0mPoint\u001b[0m\u001b[0;34m(\u001b[0m\u001b[0;36m50\u001b[0m\u001b[0;34m,\u001b[0m\u001b[0;36m50\u001b[0m\u001b[0;34m)\u001b[0m\u001b[0;34m,\u001b[0m \u001b[0;36m10\u001b[0m\u001b[0;34m)\u001b[0m\u001b[0;34m\u001b[0m\u001b[0m\n\u001b[1;32m      5\u001b[0m     \u001b[0mc\u001b[0m\u001b[0;34m.\u001b[0m\u001b[0mdraw\u001b[0m\u001b[0;34m(\u001b[0m\u001b[0mwin\u001b[0m\u001b[0;34m)\u001b[0m\u001b[0;34m\u001b[0m\u001b[0m\n",
      "\u001b[0;31mModuleNotFoundError\u001b[0m: No module named 'graphics'"
     ]
    }
   ],
   "source": [
    "from graphics import *\n",
    "def main():\n",
    "    win = GraphWin(\"My Circle\", 100, 100)\n",
    "    c = Circle(Point(50,50), 10)\n",
    "    c.draw(win)\n",
    "    win.getMouse() # pause for click in window\n",
    "    win.close()\n",
    "main()"
   ]
  },
  {
   "cell_type": "code",
   "execution_count": 9,
   "metadata": {},
   "outputs": [
    {
     "data": {
      "text/latex": [
       "\\begin{tikzpicture}\n",
       "\\draw[gray, thick] (-1,2) -- (2,-4);\n",
       "\\draw[gray, thick] (-1,-1) -- (2,2);\n",
       "\\filldraw[black] (0,0) circle (2pt) node[anchor=west] {Intersection point};\n",
       "\\end{tikzpicture}"
      ],
      "text/plain": [
       "<IPython.core.display.Latex object>"
      ]
     },
     "metadata": {},
     "output_type": "display_data"
    }
   ],
   "source": [
    "%%latex\n",
    "\\begin{tikzpicture}\n",
    "\\draw[gray, thick] (-1,2) -- (2,-4);\n",
    "\\draw[gray, thick] (-1,-1) -- (2,2);\n",
    "\\filldraw[black] (0,0) circle (2pt) node[anchor=west] {Intersection point};\n",
    "\\end{tikzpicture}\n"
   ]
  },
  {
   "cell_type": "code",
   "execution_count": 8,
   "metadata": {},
   "outputs": [
    {
     "data": {
      "text/latex": [
       "\\begin{align}\n",
       "\\nabla \\times \\vec{\\mathbf{B}} -\\, \\frac1c\\, \\frac{\\partial\\vec{\\mathbf{E}}}{\\partial t} & = \\frac{4\\pi}{c}\\vec{\\mathbf{j}} \\\\\n",
       "\\nabla \\cdot \\vec{\\mathbf{E}} & = 4 \\pi \\rho \\\\\n",
       "\\nabla \\times \\vec{\\mathbf{E}}\\, +\\, \\frac1c\\, \\frac{\\partial\\vec{\\mathbf{B}}}{\\partial t} & = \\vec{\\mathbf{0}} \\\\\n",
       "\\nabla \\cdot \\vec{\\mathbf{B}} & = 0\n",
       "\\end{align}"
      ],
      "text/plain": [
       "<IPython.core.display.Latex object>"
      ]
     },
     "metadata": {},
     "output_type": "display_data"
    }
   ],
   "source": [
    "%%latex\n",
    "\\begin{align}\n",
    "\\nabla \\times \\vec{\\mathbf{B}} -\\, \\frac1c\\, \\frac{\\partial\\vec{\\mathbf{E}}}{\\partial t} & = \\frac{4\\pi}{c}\\vec{\\mathbf{j}} \\\\\n",
    "\\nabla \\cdot \\vec{\\mathbf{E}} & = 4 \\pi \\rho \\\\\n",
    "\\nabla \\times \\vec{\\mathbf{E}}\\, +\\, \\frac1c\\, \\frac{\\partial\\vec{\\mathbf{B}}}{\\partial t} & = \\vec{\\mathbf{0}} \\\\\n",
    "\\nabla \\cdot \\vec{\\mathbf{B}} & = 0\n",
    "\\end{align}"
   ]
  },
  {
   "cell_type": "markdown",
   "metadata": {},
   "source": [
    "<svg height=\"1000\" width=\"1000\">\n",
    "    <circle cx=\"50\" cy=\"50\" r=\"40\" stroke=\"black\" stroke-width=\"3\" fill=\"red\" />\n",
    "</svg>\n"
   ]
  },
  {
   "cell_type": "code",
   "execution_count": 10,
   "metadata": {},
   "outputs": [],
   "source": [
    "# use SVG as backend\n",
    "%config InlineBackend.figure_format = 'svg'\n",
    "# plot a random series\n",
    "import numpy as np\n",
    "import pandas as pd\n",
    "pd.Series(np.random.randn(50)).plot(figsize=(9,6));\n"
   ]
  },
  {
   "cell_type": "markdown",
   "metadata": {},
   "source": []
  },
  {
   "cell_type": "code",
   "execution_count": 1,
   "metadata": {},
   "outputs": [],
   "source": [
    "from IPython.display import display,SVG,HTML"
   ]
  },
  {
   "cell_type": "code",
   "execution_count": 120,
   "metadata": {},
   "outputs": [
    {
     "data": {
      "image/svg+xml": [
       "<svg id=\"SVGbox\" version=\"1.1\" viewBox=\"0 0 700 700\"><text fill=\"red\" x=\"100\" y=\"150\">I love SVG!</text></svg>"
      ],
      "text/plain": [
       "<IPython.core.display.SVG object>"
      ]
     },
     "metadata": {},
     "output_type": "display_data"
    }
   ],
   "source": [
    "f='<text x=\"100\" y=\"150\" fill=\"red\">I love SVG!</text>'\n",
    "'''\n",
    "<desc>\n",
    "        Text example\n",
    "    </desc>\n",
    "    <g fill = \"navy\">\n",
    "        <text id=\"svgtext\" x = \"10\" y = \"25\" font-size = \"20\">\n",
    "            <tspan>\n",
    "                e = mc\n",
    "                <tspan baseline-shift = \"super\">\n",
    "                    2\n",
    "                </tspan>\n",
    "            </tspan>\n",
    "            <tspan x = \"10\" y = \"60\">\n",
    "                T${}$\n",
    "                <tspan baseline-shift = \"sub\">\n",
    "                    i+2\n",
    "                </tspan>\n",
    "                =T\n",
    "                <tspan dy=\"+5px\">\n",
    "                    T<div id=\"mydiv\">${}$</div>\n",
    "                </tspan>\n",
    "                + T\n",
    "                <tspan baseline-shift = \"sub\">\n",
    "                    T+1\n",
    "                </tspan>\n",
    "            </tspan>\n",
    "        </text>\n",
    "    </g>\n",
    "    '''\n",
    "for i in range(7):\n",
    "    for j in range(7):\n",
    "        if (i==0) | (i==6) | (j==0) | (j==6):\n",
    "            fill=\"gray\"\n",
    "        else:\n",
    "            fill=\"transparent\"\n",
    "        #f+='<rect x=\"'+str(i*30)+'\" y=\"'+str(j*30)+'\" width=\"30\" height=\"30\" stroke=\"black\" fill=\"'+fill+'\" stroke-width=\"1\"/>'\n",
    "\n",
    "tt='''  <foreignObject x=\"100\" y=\"100\" width=\"100\" height=\"100\">\n",
    "    <div id=\"SvgMathDiv\" xmlns=\"http://www.w3.org/1999/xhtml\" style=\"font-family:Times; font-size:15px\">\n",
    "    ${}$\n",
    "    </div>\n",
    "  </foreignObject>'''\n",
    "        \n",
    "\n",
    "display(SVG('<svg id=\"SVGbox\" viewBox = \"0 0 700 700\" version = \"1.1\">'+f+'</svg>'))\n",
    "\n",
    "\n"
   ]
  },
  {
   "cell_type": "code",
   "execution_count": 153,
   "metadata": {},
   "outputs": [
    {
     "data": {
      "application/javascript": [
       "var math = MathJax.Hub.getAllJax(\"svgtext\")[0];\n",
       "MathJax.Hub.Queue([\"Text\",math,\"x_1\"]);\n",
       "//var svg = document.getElementById(\"SVGbox\");\n",
       "//var ddiv = document.getElementById(\"graph-div\");\n",
       "//svg.appendChild(ddiv)"
      ],
      "text/plain": [
       "<IPython.core.display.Javascript object>"
      ]
     },
     "metadata": {},
     "output_type": "display_data"
    }
   ],
   "source": [
    "%%javascript\n",
    "var math = MathJax.Hub.getAllJax(\"svgtext\")[0];\n",
    "MathJax.Hub.Queue([\"Text\",math,\"x_1\"]);\n",
    "//var svg = document.getElementById(\"SVGbox\");\n",
    "//var ddiv = document.getElementById(\"graph-div\");\n",
    "//svg.appendChild(ddiv)"
   ]
  },
  {
   "cell_type": "code",
   "execution_count": 34,
   "metadata": {},
   "outputs": [
    {
     "data": {
      "text/html": [
       "<canvas id=\"canvas_id\" width=\"60\" height=\"60\"></canvas>\n",
       "<div id=\"graph-div\">${}$</div>"
      ],
      "text/plain": [
       "<IPython.core.display.HTML object>"
      ]
     },
     "execution_count": 34,
     "metadata": {},
     "output_type": "execute_result"
    }
   ],
   "source": [
    "HTML(\"\"\"<canvas id=\"canvas_id\" width=\"60\" height=\"60\"></canvas>\n",
    "<div id=\"graph-div\">${}$</div>\"\"\")"
   ]
  },
  {
   "cell_type": "code",
   "execution_count": 71,
   "metadata": {},
   "outputs": [
    {
     "data": {
      "application/javascript": [
       "\n",
       "// First create a new element to hold the initial Latex code\n",
       "// and eventual MathJax generated SVG. This element isn't added\n",
       "// to the main docuemnt, so it's never seen.\n",
       "let mathBuffer = document.createElement(\"div\");\n",
       "\n",
       "// Then define a function that takes LaTeX source code\n",
       "// and places the resulting generated SVG in a target SVG element.\n",
       "var mathSVG = function (latex, target) {\n",
       "  // Update the buffer with the source latex.\n",
       "  mathBuffer.textContent = latex;\n",
       "  // Get MathJax to process and typeset.\n",
       "  MathJax.Hub.Queue([\"Typeset\", MathJax.Hub, mathBuffer]);\n",
       "  // Queue a callback function that will execute once it's finished typesetting.\n",
       "  MathJax.Hub.Queue(function () {\n",
       "    // This (svg) is the generated graphics.\n",
       "    const svg = mathBuffer.childNodes[1].childNodes[0];\n",
       "    // The next line is optional, play with positioning as you see fit.\n",
       "    svg.setAttribute(\"y\", \"-11pt\");\n",
       "    // Move the generated svg from the buffer to the target element.\n",
       "    target.appendChild(svg);\n",
       "    // Clear the buffer.\n",
       "    mathBuffer.textContent = \"\";\n",
       "  });\n",
       "};\n",
       "var canvas = document.querySelector(\"#graph-div\");\n",
       "//    context = canvas.getContext(\"2d\"),\n",
       "//    width = canvas.width,\n",
       "//    height = canvas.height;\n",
       "console.log(mathBuffer);\n",
       "var svg = mathBuffer.append(\"svg\");\n",
       "\n",
       "\n",
       "//mathSVG(\"$\\frac{1}{2}$\",canvas)\n",
       "canvas.textContent = \"$\\frac{1}{2}$\"\n",
       "MathJax.Hub.Queue([\"Typeset\", MathJax.Hub, canvas]);\n",
       "console.log(canvas);"
      ],
      "text/plain": [
       "<IPython.core.display.Javascript object>"
      ]
     },
     "metadata": {},
     "output_type": "display_data"
    }
   ],
   "source": [
    "%%javascript\n",
    "\n",
    "// First create a new element to hold the initial Latex code\n",
    "// and eventual MathJax generated SVG. This element isn't added\n",
    "// to the main docuemnt, so it's never seen.\n",
    "let mathBuffer = document.createElement(\"div\");\n",
    "\n",
    "// Then define a function that takes LaTeX source code\n",
    "// and places the resulting generated SVG in a target SVG element.\n",
    "var mathSVG = function (latex, target) {\n",
    "  // Update the buffer with the source latex.\n",
    "  mathBuffer.textContent = latex;\n",
    "  // Get MathJax to process and typeset.\n",
    "  MathJax.Hub.Queue([\"Typeset\", MathJax.Hub, mathBuffer]);\n",
    "  // Queue a callback function that will execute once it's finished typesetting.\n",
    "  MathJax.Hub.Queue(function () {\n",
    "    // This (svg) is the generated graphics.\n",
    "    const svg = mathBuffer.childNodes[1].childNodes[0];\n",
    "    // The next line is optional, play with positioning as you see fit.\n",
    "    svg.setAttribute(\"y\", \"-11pt\");\n",
    "    // Move the generated svg from the buffer to the target element.\n",
    "    target.appendChild(svg);\n",
    "    // Clear the buffer.\n",
    "    mathBuffer.textContent = \"\";\n",
    "  });\n",
    "};\n",
    "var canvas = document.querySelector(\"#graph-div\");\n",
    "//    context = canvas.getContext(\"2d\"),\n",
    "//    width = canvas.width,\n",
    "//    height = canvas.height;\n",
    "console.log(mathBuffer);\n",
    "var svg = mathBuffer.append(\"svg\");\n",
    "\n",
    "\n",
    "//mathSVG(\"$\\frac{1}{2}$\",canvas)\n",
    "canvas.textContent = \"$\\frac{1}{2}$\"\n",
    "MathJax.Hub.Queue([\"Typeset\", MathJax.Hub, canvas]);\n",
    "console.log(canvas);"
   ]
  },
  {
   "cell_type": "code",
   "execution_count": 121,
   "metadata": {},
   "outputs": [
    {
     "data": {
      "text/html": [
       "\n",
       "<div id=\"MathDiv12\">\n",
       "  \n",
       "</div>"
      ],
      "text/plain": [
       "<IPython.core.display.HTML object>"
      ]
     },
     "execution_count": 121,
     "metadata": {},
     "output_type": "execute_result"
    }
   ],
   "source": [
    "HTML('''\n",
    "<div id=\"MathDiv12\">\n",
    "  \n",
    "</div>''')"
   ]
  },
  {
   "cell_type": "code",
   "execution_count": 154,
   "metadata": {},
   "outputs": [
    {
     "data": {
      "application/javascript": [
       "//var math = MathJax.Hub.getAllJax(\"MathDiv12\");\n",
       "var mydiv = document.getElementById(\"MathDiv12\");\n",
       "//console.log(math)\n",
       "console.log(mydiv)\n",
       "mydiv.textContent = \"$\\\\frac{x+1}{x}$\";\n",
       "MathJax.Hub.Queue([\"Typeset\", MathJax.Hub, mydiv]);\n",
       "console.log(mydiv.childNodes[1].childNodes[0])\n",
       "var svg = document.getElementById(\"SVGbox\");\n",
       "svg.childNodes[0].appendChild(mydiv.childNodes[1].childNodes[0])\n",
       "//MathJax.Hub.Queue([\"Text\",math,\"x_1\"]);"
      ],
      "text/plain": [
       "<IPython.core.display.Javascript object>"
      ]
     },
     "metadata": {},
     "output_type": "display_data"
    }
   ],
   "source": [
    "%%javascript\n",
    "//var math = MathJax.Hub.getAllJax(\"MathDiv12\");\n",
    "var mydiv = document.getElementById(\"MathDiv12\");\n",
    "//console.log(math)\n",
    "console.log(mydiv)\n",
    "mydiv.textContent = \"$\\\\frac{x+1}{x}$\";\n",
    "MathJax.Hub.Queue([\"Typeset\", MathJax.Hub, mydiv]);\n",
    "console.log(mydiv.childNodes[1].childNodes[0])\n",
    "var svg = document.getElementById(\"SVGbox\");\n",
    "svg.childNodes[0].appendChild(mydiv.childNodes[1].childNodes[0])\n",
    "//MathJax.Hub.Queue([\"Text\",math,\"x_1\"]);"
   ]
  },
  {
   "cell_type": "code",
   "execution_count": 116,
   "metadata": {},
   "outputs": [
    {
     "data": {
      "application/javascript": [
       "var svg = document.getElementById(\"SVGbox\");\n",
       "console.log(svg.childNodes[svg.childNodes.length-1])\n",
       "//console.log(MathJax.Hub.getAllJax(svg.childNodes[4].childNodes[1].childNodes[3].childNodes[3].childNodes[1].firstChild))\n",
       "//MathJax.Hub.Queue([\"Typeset\", MathJax.Hub, svg.childNodes[svg.childNodes.length-1]]);"
      ],
      "text/plain": [
       "<IPython.core.display.Javascript object>"
      ]
     },
     "metadata": {},
     "output_type": "display_data"
    }
   ],
   "source": [
    "%%javascript\n",
    "var svg = document.getElementById(\"SVGbox\");\n",
    "console.log(svg.childNodes[svg.childNodes.length-1])\n",
    "//console.log(MathJax.Hub.getAllJax(svg.childNodes[4].childNodes[1].childNodes[3].childNodes[3].childNodes[1].firstChild))\n",
    "//MathJax.Hub.Queue([\"Typeset\", MathJax.Hub, svg.childNodes[svg.childNodes.length-1]]);"
   ]
  },
  {
   "cell_type": "code",
   "execution_count": 149,
   "metadata": {},
   "outputs": [
    {
     "data": {
      "image/svg+xml": [
       "<svg height=\"100\" id=\"diagram\" version=\"1.1\" width=\"720\" xmlns=\"http://www.w3.org/2000/svg\" xmlns:xlink=\"http://www.w3.org/1999/xlink\">\n",
       "</svg>"
      ],
      "text/plain": [
       "<IPython.core.display.SVG object>"
      ]
     },
     "metadata": {},
     "output_type": "display_data"
    }
   ],
   "source": [
    "display(SVG('''<svg id=\"diagram\" xmlns='http://www.w3.org/2000/svg' \n",
    "    xmlns:xlink=\"http://www.w3.org/1999/xlink\"\n",
    "    version='1.1' width='720' height='100'>\n",
    "</svg>'''))"
   ]
  },
  {
   "cell_type": "code",
   "execution_count": 150,
   "metadata": {},
   "outputs": [
    {
     "data": {
      "text/html": [
       "<div id=\"mathjaxSource\">\n",
       "$\\Omega$\n",
       "</div>"
      ],
      "text/plain": [
       "<IPython.core.display.HTML object>"
      ]
     },
     "metadata": {},
     "output_type": "display_data"
    }
   ],
   "source": [
    "display(HTML('''<div id=\"mathjaxSource\">\n",
    "$\\Omega$\n",
    "</div>'''))"
   ]
  },
  {
   "cell_type": "code",
   "execution_count": 152,
   "metadata": {},
   "outputs": [
    {
     "data": {
      "application/javascript": [
       "diagram = document.getElementById(\"diagram\")\n",
       "var myobj = document.getElementById(\"mathjaxSource\")\n",
       "diagram.appendChild(myobj)\n",
       "//obj.translate 100, 200"
      ],
      "text/plain": [
       "<IPython.core.display.Javascript object>"
      ]
     },
     "metadata": {},
     "output_type": "display_data"
    }
   ],
   "source": [
    "%%javascript\n",
    "diagram = document.getElementById(\"diagram\")\n",
    "var myobj = document.getElementById(\"mathjaxSource\")\n",
    "diagram.appendChild(myobj)\n",
    "//obj.translate 100, 200"
   ]
  },
  {
   "cell_type": "markdown",
   "metadata": {},
   "source": [
    "![Equation 1](https://math.now.sh?from=\\log\\prod^N_{i}x_{i}=\\sum^N_i\\log{x_i}) "
   ]
  },
  {
   "cell_type": "code",
   "execution_count": 155,
   "metadata": {},
   "outputs": [
    {
     "data": {
      "text/html": [
       "\n",
       "<html>\n",
       "    <head>\n",
       "    <script type=\"text/javascript\"\n",
       "      src=\"http://cdn.mathjax.org/mathjax/latest/MathJax.js?config=TeX-AMS-MML_SVG\">\n",
       "    </script>\n",
       "    <script type=\"text/javascript\" src=\"svg_mathjax.js\">\n",
       "    </script>\n",
       "    <script type=\"text/javascript\">\n",
       "        new Svg_MathJax().install();\n",
       "    </script>\n",
       "</head>\n",
       "<body>\n",
       "<svg xmlns=\"http://www.w3.org/2000/svg\" width=\"400\" height=\"300\">\n",
       "     <!-- center-align at x,y point: -->\n",
       "     <text font-size=\"11\" x=\"100\" y=\"175\">\\( a^2 + b^2 = c^2 \\)</text>\n",
       "     <!-- left-align at x,y point: -->\n",
       "     <text font-size=\"11\" x=\"100\" y=\"205\">L\\( a^2 + b^2 = c^2 \\)</text>\n",
       "     <!-- right-align at x,y point: -->\n",
       "     <text font-size=\"11\" x=\"100\" y=\"235\">R\\( a^2 + b^2 = c^2 \\)</text>\n",
       "  </svg>\n",
       "</body>\n",
       "</html>\n"
      ],
      "text/plain": [
       "<IPython.core.display.HTML object>"
      ]
     },
     "metadata": {},
     "output_type": "display_data"
    }
   ],
   "source": [
    "display(HTML('''\n",
    "<html>\n",
    "    <head>\n",
    "    <script type=\"text/javascript\"\n",
    "      src=\"http://cdn.mathjax.org/mathjax/latest/MathJax.js?config=TeX-AMS-MML_SVG\">\n",
    "    </script>\n",
    "    <script type=\"text/javascript\" src=\"svg_mathjax.js\">\n",
    "    </script>\n",
    "    <script type=\"text/javascript\">\n",
    "        new Svg_MathJax().install();\n",
    "    </script>\n",
    "</head>\n",
    "<body>\n",
    "<svg xmlns=\"http://www.w3.org/2000/svg\" width=\"400\" height=\"300\">\n",
    "     <!-- center-align at x,y point: -->\n",
    "     <text font-size=\"11\" x=\"100\" y=\"175\">\\( a^2 + b^2 = c^2 \\)</text>\n",
    "     <!-- left-align at x,y point: -->\n",
    "     <text font-size=\"11\" x=\"100\" y=\"205\">L\\( a^2 + b^2 = c^2 \\)</text>\n",
    "     <!-- right-align at x,y point: -->\n",
    "     <text font-size=\"11\" x=\"100\" y=\"235\">R\\( a^2 + b^2 = c^2 \\)</text>\n",
    "  </svg>\n",
    "</body>\n",
    "</html>\n",
    "'''))"
   ]
  },
  {
   "cell_type": "code",
   "execution_count": null,
   "metadata": {},
   "outputs": [],
   "source": []
  }
 ],
 "metadata": {
  "kernelspec": {
   "display_name": "Python 3.6",
   "language": "python",
   "name": "python_3.6"
  },
  "language_info": {
   "codemirror_mode": {
    "name": "ipython",
    "version": 3
   },
   "file_extension": ".py",
   "mimetype": "text/x-python",
   "name": "python",
   "nbconvert_exporter": "python",
   "pygments_lexer": "ipython3",
   "version": "3.6.5"
  }
 },
 "nbformat": 4,
 "nbformat_minor": 2
}
