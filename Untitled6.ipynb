{
 "cells": [
  {
   "cell_type": "code",
   "execution_count": null,
   "metadata": {},
   "outputs": [],
   "source": [
    "print(\"great\")"
   ]
  },
  {
   "cell_type": "code",
   "execution_count": null,
   "metadata": {},
   "outputs": [],
   "source": []
  },
  {
   "cell_type": "code",
   "execution_count": null,
   "metadata": {},
   "outputs": [],
   "source": []
  },
  {
   "cell_type": "code",
   "execution_count": null,
   "metadata": {},
   "outputs": [],
   "source": []
  },
  {
   "cell_type": "code",
   "execution_count": null,
   "metadata": {},
   "outputs": [],
   "source": [
    "%%html\n",
    "<math>\n",
    "<apply>\n",
    "\t<int/>\n",
    "\t<bvar>\n",
    "\t\t<ci>x</ci>\n",
    "\t</bvar>\n",
    "\t<apply>\n",
    "\t\t<root/>\n",
    "\t\t<apply>\n",
    "\t\t\t<power/>\n",
    "\t\t\t<ci>x</ci>\n",
    "\t\t\t<cn>-1</cn>\n",
    "\t\t</apply>\n",
    "\t</apply>\n",
    "</apply>\n",
    "</math>"
   ]
  },
  {
   "cell_type": "code",
   "execution_count": null,
   "metadata": {},
   "outputs": [],
   "source": [
    "from sympy import Symbol\n",
    "from sympy.printing.latex import LatexPrinter, print_latex\n",
    "from sympy.core.function import UndefinedFunction, Function\n",
    "\n",
    "\n",
    "class MyLatexPrinter(LatexPrinter):\n",
    "    \"\"\"Print derivative of a function of symbols in a shorter form.\n",
    "    \"\"\"\n",
    "    def _print_Derivative(self, expr):\n",
    "        function, *vars = expr.args\n",
    "        #if not isinstance(type(function), UndefinedFunction) or \\\n",
    "        #   not all(isinstance(i, Symbol) for i in vars):\n",
    "        #    return super()._print_Derivative(expr)\n",
    "\n",
    "        # If you want the printer to work correctly for nested\n",
    "        # expressions then use self._print() instead of str() or latex().\n",
    "        # See the example of nested modulo below in the custom printing\n",
    "        # method section.\n",
    "        return \"{}_{{{}}}{}\".format(\n",
    "            self._print(Symbol(function.func.__name__)),\n",
    "                        ''.join(self._print(i[0])*i[1] for i in vars),function.args)\n",
    "\n",
    "\n",
    "def print_my_latex(expr):\n",
    "    \"\"\" Most of the printers define their own wrappers for print().\n",
    "    These wrappers usually take printer settings. Our printer does not have\n",
    "    any settings.\n",
    "    \"\"\"\n",
    "    print(MyLatexPrinter().doprint(expr))\n",
    "\n",
    "\n",
    "y = Symbol(\"y\")\n",
    "x = Symbol(\"x\")\n",
    "f = Function(\"f\")\n",
    "expr = f(x, y).diff(x)\n",
    "#\n",
    "## Print the expression using the normal latex printer and our custom\n",
    "## printer.\n",
    "#print_latex(expr)\n",
    "#print_my_latex(expr)\n",
    "#"
   ]
  },
  {
   "cell_type": "code",
   "execution_count": null,
   "metadata": {},
   "outputs": [],
   "source": [
    "class MyMLPrinter(MathMLPrinter):\n",
    "    def _print_Derivative(self, expr):\n",
    "        pass\n"
   ]
  },
  {
   "cell_type": "code",
   "execution_count": null,
   "metadata": {},
   "outputs": [],
   "source": [
    "prn=MathMLPresentationPrinter()\n",
    "a=prn._print(expr)\n",
    "ax=a.toxml()\n",
    "HTML(\"<math>\"+ax+\"<math/>\")"
   ]
  },
  {
   "cell_type": "code",
   "execution_count": null,
   "metadata": {},
   "outputs": [],
   "source": [
    "ax"
   ]
  },
  {
   "cell_type": "markdown",
   "metadata": {},
   "source": [
    "$ f_{xxy}(x, y) $"
   ]
  },
  {
   "cell_type": "code",
   "execution_count": null,
   "metadata": {},
   "outputs": [],
   "source": [
    "%%html\n",
    "<style>\n",
    "th {\n",
    "background-color:#55FF33 !important;\n",
    "}\n",
    "td {\n",
    "background-color:#00FFFF !important;\n",
    "}\n",
    ".mrow {\n",
    "    background-color:#FFFFFF;\n",
    "    }\n",
    ".mrow:hover {\n",
    "    background-color:#00FFFF;\n",
    "    }\n",
    ".mfrac:hover {\n",
    "    background-color:#0000FF;\n",
    "    }\n",
    ".mi:hover {\n",
    "    background-color:#FF0000;\n",
    "    }\n",
    ".mo:hover {\n",
    "    background-color:#FFFF00;\n",
    "    }\n",
    ".mfenced:hover {\n",
    "    background-color:#FF00FF;\n",
    "    }\n",
    "</style>\n",
    "<table><tr><th style=\"{background-color:#55FF33}\">bar</th><th>bar</th></tr><tr><td>foo</td><td>foo</td></tr></table>"
   ]
  },
  {
   "cell_type": "code",
   "execution_count": 4,
   "metadata": {},
   "outputs": [
    {
     "data": {
      "text/html": [
       "<table><tr><th>bar</th><th>bar</th></tr><tr><td>foo</td><td>foo</td></tr></table>"
      ],
      "text/plain": [
       "<IPython.core.display.HTML object>"
      ]
     },
     "execution_count": 4,
     "metadata": {},
     "output_type": "execute_result"
    }
   ],
   "source": [
    "from IPython.core.display import HTML\n",
    "table = \"<table><tr><th>bar</th><th>bar</th></tr><tr><td>foo</td><td>foo</td></tr></table>\"\n",
    "HTML(table)"
   ]
  },
  {
   "cell_type": "code",
   "execution_count": null,
   "metadata": {},
   "outputs": [],
   "source": [
    "%%html\n",
    "<math>\n",
    "<mrow myid=\"resasas\" style=\"{color: blue} :hover {background: green}\"><mfrac><mrow><mo>&#x2202;</mo></mrow><mrow><mo>&#x2202;</mo><mi>x</mi></mrow></mfrac><mrow><mi>f</mi><mfenced><mi>x</mi><mi>y</mi></mfenced></mrow></mrow>\n",
    "</math>"
   ]
  },
  {
   "cell_type": "code",
   "execution_count": null,
   "metadata": {},
   "outputs": [],
   "source": [
    "f(x, y).diff(x,2, y)"
   ]
  },
  {
   "cell_type": "code",
   "execution_count": null,
   "metadata": {},
   "outputs": [],
   "source": [
    "from sympy import Symbol, Mod, Integer\n",
    "from sympy.printing.latex import print_latex\n",
    "\n",
    "\n",
    "class ModOp(Mod):\n",
    "    def _latex(self, printer=None):\n",
    "        # Always use printer.doprint() otherwise nested expressions won't\n",
    "        # work. See the example of ModOpWrong.\n",
    "        a, b = [printer.doprint(i) for i in self.args]\n",
    "        return r\"\\operatorname{Mod}{\\left( %s,%s \\right)}\" % (a,b)\n",
    "\n",
    "\n",
    "class ModOpWrong(Mod):\n",
    "    def _latex(self, printer=None):\n",
    "        a, b = [str(i) for i in self.args]\n",
    "        return r\"\\operatorname{Mod}{\\left( %s,%s \\right)}\" % (a,b)\n",
    "\n",
    "\n",
    "x = Symbol('x')\n",
    "m = Symbol('m')\n",
    "\n",
    "print_latex(ModOp(x, m))\n",
    "print_latex(Mod(x, m))\n",
    "\n",
    "# Nested modulo.\n",
    "print_latex(ModOp(ModOp(x, m), Integer(7)))\n",
    "print_latex(ModOpWrong(ModOpWrong(x, m), Integer(7)))\n"
   ]
  },
  {
   "cell_type": "markdown",
   "metadata": {},
   "source": [
    "$\\operatorname{Mod}{\\left( x,m \\right)}$\n",
    "\n",
    "$x\\bmod{m}$\n",
    "\n",
    "$\\operatorname{Mod}{\\left( \\operatorname{Mod}{\\left( x,m \\right)},7 \\right)}$\n",
    "\n",
    "$\\operatorname{Mod}{\\left( ModOpWrong(x, m),7 \\right)}$\n"
   ]
  },
  {
   "cell_type": "code",
   "execution_count": null,
   "metadata": {},
   "outputs": [],
   "source": [
    "#from sympy import Symbol, Function,init_printing,latex,mathml\n",
    "import sympy\n",
    "from sympy.printing.latex import LatexPrinter\n",
    "\n",
    "class CustomLatexPrinter(LatexPrinter):\n",
    "    def _print_Adjoint(self, expr):\n",
    "        dsa\n",
    "        mat = expr.arg\n",
    "        from sympy.matrices import MatrixSymbol\n",
    "        if not isinstance(mat, MatrixSymbol):\n",
    "            return r\"\\left(%s\\right)^H\" % self._print(mat)\n",
    "        else:\n",
    "            return \"%s^H\" % self._print(mat)\n",
    "        \n",
    "    def _print_Derivative(self, expr):\n",
    "        function, *vars = expr.args\n",
    "        #if not isinstance(type(function), UndefinedFunction) or \\\n",
    "        #   not all(isinstance(i, Symbol) for i in vars):\n",
    "        #    return super()._print_Derivative(expr)\n",
    "\n",
    "        # If you want the printer to work correctly for nested\n",
    "        # expressions then use self._print() instead of str() or latex().\n",
    "        # See the example of nested modulo below in the custom printing\n",
    "        # method section.\n",
    "        return \"{}_{{{}}}{}\".format(\n",
    "            self._print(sympy.Symbol(function.func.__name__)),\n",
    "                        ''.join(self._print(i[0])*i[1] for i in vars),function.args)\n",
    "\n",
    "\n",
    "def my_latex(expr, **settings):\n",
    "    return CustomLatexPrinter(settings).doprint(expr)\n",
    "\n",
    "sympy.init_printing(latex_printer=my_latex,pretty_print=True)\n",
    "#init_printing(str_printer=MyLatexPrinter.doprint,pretty_print=False)\n",
    "y = sympy.Symbol(\"y\")\n",
    "x = sympy.Symbol(\"x\")\n",
    "f = sympy.Function(\"f\")\n",
    "expr = f(x, y).diff(x, 2, y)\n",
    "expr\n",
    "#f(x).adjoint()"
   ]
  },
  {
   "cell_type": "code",
   "execution_count": null,
   "metadata": {},
   "outputs": [],
   "source": [
    "x+y"
   ]
  },
  {
   "cell_type": "code",
   "execution_count": null,
   "metadata": {
    "slideshow": {
     "slide_type": "notes"
    }
   },
   "outputs": [],
   "source": [
    "%%javascript\n",
    "var CellToolbar = Jupyter.CellToolbar\n",
    "var toggle =  function(div, cell) {\n",
    "     var button_container = $(div)\n",
    "\n",
    "     // let's create a button that shows the current value of the metadata\n",
    "     var button = $('<button/>').addClass('btn btn-mini').text(String(cell.metadata.foo));\n",
    "\n",
    "     // On click, change the metadata value and update the button label\n",
    "     button.click(function(){\n",
    "                 var v = cell.metadata.foo;\n",
    "                 cell.metadata.foo = !v;\n",
    "                 button.text(String(!v));\n",
    "             })\n",
    "\n",
    "     // add the button to the DOM div.\n",
    "     button_container.append(button);\n",
    "}\n",
    "\n",
    " // now we register the callback under the name foo to give the\n",
    " // user the ability to use it later\n",
    " CellToolbar.register_callback('tuto.foo', toggle);"
   ]
  },
  {
   "cell_type": "code",
   "execution_count": null,
   "metadata": {},
   "outputs": [],
   "source": [
    "%%javascript\n",
    "Jupyter.CellToolbar.register_preset('Tutorial 1',['tuto.foo','default.rawedit'])\n",
    "Jupyter.CellToolbar.register_preset('Tutorial 2',['slideshow.select','tuto.foo'])\n"
   ]
  },
  {
   "cell_type": "code",
   "execution_count": null,
   "metadata": {},
   "outputs": [],
   "source": [
    "print(\"great\")"
   ]
  },
  {
   "cell_type": "code",
   "execution_count": null,
   "metadata": {},
   "outputs": [],
   "source": []
  },
  {
   "cell_type": "code",
   "execution_count": null,
   "metadata": {},
   "outputs": [],
   "source": [
    "print(\"great\")"
   ]
  },
  {
   "cell_type": "code",
   "execution_count": null,
   "metadata": {},
   "outputs": [],
   "source": [
    "print(\"great\")"
   ]
  },
  {
   "cell_type": "code",
   "execution_count": null,
   "metadata": {},
   "outputs": [],
   "source": [
    "k = 1"
   ]
  },
  {
   "cell_type": "code",
   "execution_count": null,
   "metadata": {},
   "outputs": [],
   "source": []
  },
  {
   "cell_type": "code",
   "execution_count": null,
   "metadata": {},
   "outputs": [],
   "source": [
    "%%javascript\n",
    "/* jshint esnext: true, expr: true, sub: true, laxbreak: true */\n",
    "/* eslint-env es6 */\n",
    "/* global define */\n",
    "\n",
    "define(['nbextensions/jupyter_sidebar/sidebar'], sidebar => {\n",
    "  /**\n",
    "   * Numpy Variable Inspector widget\n",
    "   * @class NumpyTable\n",
    "   * @param {object}          options - Dictionary of keyword arguments.\n",
    "   * @param {object}          options.notebook\n",
    "   * @param {int}             options.nColumn\n",
    "   */\n",
    "  const Table = sidebar.Table;\n",
    "\n",
    "  function NumpyTable({ notebook }) {\n",
    "    Table.call(this, {\n",
    "      notebook: notebook,\n",
    "      header: 'Numpy Variables Inspector',\n",
    "      nColumn: 4\n",
    "    });\n",
    "\n",
    "    this.update.call(this, {\n",
    "      onRender: ([module, name, type, shape, addr]) => [\n",
    "        (module === '__main__' ? '' : `<span class=jsb_module>${module}.</span>`) + name,\n",
    "        `<span class='jsb_type ${NumpyTable._get_type_class(type)}'>${type}</span>`,\n",
    "        shape.join('\\u2009<span class=jsb_multi>\\u00d7</span>\\u2009'),\n",
    "        '<span class=jsb_addr_prefix>0x</span>\\u200a' + (+addr).toString(16).padStart(16, '0')\n",
    "      ],\n",
    "      onSort: [\n",
    "        ([module, name, type, shape, addr]) => [\n",
    "          module === '__main__' ? 0 : 1,\n",
    "          module,\n",
    "          name.match(/^_/) ? (name.match(/^_\\d/) ? 2 : 1) : 0,\n",
    "          name\n",
    "        ],\n",
    "        ([module, name, type, shape, addr]) => type,\n",
    "        ([module, name, type, shape, addr]) => shape.reduce((sum, dim) => sum * dim, -1),\n",
    "        ([module, name, type, shape, addr]) => addr\n",
    "      ],\n",
    "      sortIndex: 0\n",
    "    });\n",
    "\n",
    "    this.callback = () => {\n",
    "      if (this.config.get('collapsed')) return;\n",
    "      this.update_from_kernel();\n",
    "    };\n",
    "    NumpyTable.prototype.bind_events.call(this);\n",
    "  }\n",
    "\n",
    "  NumpyTable.prototype = Object.create(Table.prototype);\n",
    "  NumpyTable.prototype.constructor = NumpyTable;\n",
    "\n",
    "  NumpyTable._get_type_class = type =>\n",
    "    'jsb_' +\n",
    "    {\n",
    "      '?': 'bool',\n",
    "      e: 'float',\n",
    "      d: 'float',\n",
    "      f: 'float',\n",
    "      g: 'float',\n",
    "      D: 'complex',\n",
    "      F: 'complex',\n",
    "      G: 'complex',\n",
    "      B: 'uint',\n",
    "      H: 'uint',\n",
    "      I: 'uint',\n",
    "      L: 'uint',\n",
    "      M: 'uint',\n",
    "      Q: 'uint',\n",
    "      b: 'int',\n",
    "      h: 'int',\n",
    "      i: 'int',\n",
    "      l: 'int',\n",
    "      m: 'int',\n",
    "      q: 'int',\n",
    "      S: 'string',\n",
    "      U: 'string',\n",
    "      O: 'other',\n",
    "      V: 'other'\n",
    "    }[type];\n",
    "\n",
    "  NumpyTable.prototype._shell_reply_handler = function(text) {\n",
    "    const data = JSON.parse(text);\n",
    "    this.update.call(this, { data: data });\n",
    "    this.update_info.call(this, data.length === 0 ? 'No Numpy variable' : '');\n",
    "  };\n",
    "\n",
    "  NumpyTable.prototype.update_from_kernel = function() {\n",
    "    const command = `\n",
    "from jupyter_sidebar.numpy import report as _jsb_numpy_report\n",
    "_jsb_numpy_report()`;\n",
    "    sidebar\n",
    "      .call_kernel({ notebook: this.notebook, command: command })\n",
    "      .then(NumpyTable.prototype._shell_reply_handler.bind(this));\n",
    "  };\n",
    "\n",
    "  // @final\n",
    "  NumpyTable.prototype.bind_events = function() {\n",
    "    this.notebook.events.on('kernel_ready.Kernel', this.callback);\n",
    "    this.notebook.events.on('finished_execute.CodeCell', this.callback);\n",
    "    if (this.notebook.kernel !== null) this.callback();\n",
    "  };\n",
    "\n",
    "  // @final\n",
    "  NumpyTable.prototype.unbind_events = function() {\n",
    "    this.notebook.events.off('kernel_ready.Kernel', this.callback);\n",
    "    this.notebook.events.off('finished_execute.CodeCell', this.callback);\n",
    "  };\n",
    "\n",
    "  NumpyTable.prototype.expand = function() {\n",
    "    sidebar.Widget.prototype.expand.call(this);\n",
    "    this.callback();\n",
    "  };\n",
    "\n",
    "  NumpyTable.prototype.remove = function() {\n",
    "    NumpyTable.prototype.unbind_events.call(this);\n",
    "    Table.prototype.remove.call(this);\n",
    "  };\n",
    "\n",
    "  return { NumpyTable: NumpyTable };\n",
    "});"
   ]
  },
  {
   "cell_type": "code",
   "execution_count": null,
   "metadata": {},
   "outputs": [],
   "source": [
    "%%javascript\n",
    "/* jshint esnext: true, expr: true, sub: true */\n",
    "/* eslint-env es6 */\n",
    "/* global define */\n",
    "\n",
    "define(\n",
    "  [\n",
    "    'base/js/namespace',\n",
    "    'nbextensions/jupyter_sidebar/sidebar',\n",
    "    'nbextensions/jupyter_sidebar/numpy'\n",
    "  ],\n",
    "  (_, sidebarmod, sidebar_numpy) => {\n",
    "    // Create and add the Numpy variables inspector\n",
    "    const np_table = new sidebar_numpy.NumpyTable({\n",
    "      notebook: _.notebook\n",
    "    });\n",
    "\n",
    "    _.notebook.add_sidebar_widget(np_table);\n",
    "\n",
    "    // Create and add the welcoming message\n",
    "    const msg = new sidebarmod.CommandOutput({\n",
    "      notebook: _.notebook,\n",
    "      header: 'Welcoming Message',\n",
    "      command: `\n",
    "def __jsb_msg():\n",
    "  from jupyter_core.paths import jupyter_data_dir, jupyter_path\n",
    "  import os\n",
    "  for dir in [jupyter_data_dir()] + jupyter_path():\n",
    "      path = os.path.join(dir, 'nbextensions/jupyter_sidebar/default.js')\n",
    "      if (os.path.isfile(path)):\n",
    "          print(\"\"\"You can turn off this message in default.js located at:\n",
    "    {0}\n",
    "or disable the default setting by running:\n",
    "    jupyter nbextension disable jupyter_sidebar/default\n",
    "and write your own setting.\"\"\".format(path))\n",
    "          break\n",
    "__jsb_msg()`\n",
    "    });\n",
    "\n",
    "    _.notebook.add_sidebar_widget(msg);\n",
    "\n",
    "    // Uncomment this line to turn off the message\n",
    "    // _.notebook.remove_sidebar_widget(msg);\n",
    "  }\n",
    ");"
   ]
  },
  {
   "cell_type": "code",
   "execution_count": 9,
   "metadata": {},
   "outputs": [
    {
     "name": "stdout",
     "output_type": "stream",
     "text": [
      "great\n"
     ]
    }
   ],
   "source": [
    "print(\"great\")"
   ]
  },
  {
   "cell_type": "code",
   "execution_count": null,
   "metadata": {},
   "outputs": [],
   "source": []
  },
  {
   "cell_type": "code",
   "execution_count": null,
   "metadata": {},
   "outputs": [],
   "source": []
  },
  {
   "cell_type": "code",
   "execution_count": 19,
   "metadata": {},
   "outputs": [
    {
     "data": {
      "application/javascript": [
       "\n",
       "var nb = Jupyter.notebook\n",
       "//nb.insert_cell_below()\n",
       "//nb.container[0].clientWidth=1300\n",
       "const main_app = $('#ipython-main-app');\n",
       "const $app = main_app.find.bind(main_app)\n",
       "console.log($app)"
      ],
      "text/plain": [
       "<IPython.core.display.Javascript object>"
      ]
     },
     "metadata": {},
     "output_type": "display_data"
    }
   ],
   "source": [
    "%%javascript\n",
    "\n",
    "var nb = Jupyter.notebook\n",
    "//nb.insert_cell_below()\n",
    "//nb.container[0].clientWidth=1300\n",
    "const main_app = $('#ipython-main-app');\n",
    "const $app = main_app.find.bind(main_app)\n",
    "console.log($app)\n"
   ]
  },
  {
   "cell_type": "code",
   "execution_count": null,
   "metadata": {},
   "outputs": [],
   "source": []
  },
  {
   "cell_type": "code",
   "execution_count": null,
   "metadata": {},
   "outputs": [],
   "source": []
  },
  {
   "cell_type": "code",
   "execution_count": null,
   "metadata": {},
   "outputs": [],
   "source": []
  },
  {
   "cell_type": "code",
   "execution_count": null,
   "metadata": {},
   "outputs": [],
   "source": []
  },
  {
   "cell_type": "code",
   "execution_count": null,
   "metadata": {},
   "outputs": [],
   "source": []
  },
  {
   "cell_type": "code",
   "execution_count": 1,
   "metadata": {},
   "outputs": [
    {
     "data": {
      "application/javascript": [
       "\n",
       "// Function that accepts a string of code\n",
       "var create_and_execute_cell_below = function (code){\n",
       "    var nb = Jupyter.notebook\n",
       "\n",
       "    // create cell below this one\n",
       "    nb.insert_cell_below()\n",
       "\n",
       "    // select cell below (the one we have created)\n",
       "    var cell = nb.get_selected_cell()\n",
       "\n",
       "    // set text in the cell\n",
       "    cell.set_text(code)\n",
       "\n",
       "    // execute cell\n",
       "    cell.execute()\n",
       "}\n",
       "\n",
       "// run the function created above with code 'k = 1'\n",
       "// and it will create a new cell, filled with 'k = 1'\n",
       "// and it will execute that cell.\n",
       "// if you run this cell using [ctrl] + [enter] only one cell\n",
       "// will be created.\n",
       "// if you run this cell using [Shift] + [enter] two cells\n",
       "// will be created, the one of the [Shift] + [enter] command\n",
       "// and the one of the function created above with the code.\n",
       "create_and_execute_cell_below('print(\"great\")')"
      ],
      "text/plain": [
       "<IPython.core.display.Javascript object>"
      ]
     },
     "metadata": {},
     "output_type": "display_data"
    }
   ],
   "source": [
    "%%javascript\n",
    "\n",
    "// Function that accepts a string of code\n",
    "var create_and_execute_cell_below = function (code){\n",
    "    var nb = Jupyter.notebook\n",
    "\n",
    "    // create cell below this one\n",
    "    nb.insert_cell_below()\n",
    "\n",
    "    // select cell below (the one we have created)\n",
    "    var cell = nb.get_selected_cell()\n",
    "\n",
    "    // set text in the cell\n",
    "    cell.set_text(code)\n",
    "\n",
    "    // execute cell\n",
    "    cell.execute()\n",
    "}\n",
    "\n",
    "// run the function created above with code 'k = 1'\n",
    "// and it will create a new cell, filled with 'k = 1'\n",
    "// and it will execute that cell.\n",
    "// if you run this cell using [ctrl] + [enter] only one cell\n",
    "// will be created.\n",
    "// if you run this cell using [Shift] + [enter] two cells\n",
    "// will be created, the one of the [Shift] + [enter] command\n",
    "// and the one of the function created above with the code.\n",
    "create_and_execute_cell_below('print(\"great\")')"
   ]
  },
  {
   "cell_type": "code",
   "execution_count": 2,
   "metadata": {},
   "outputs": [
    {
     "name": "stdout",
     "output_type": "stream",
     "text": [
      "great\n"
     ]
    }
   ],
   "source": [
    "print(\"great\")"
   ]
  },
  {
   "cell_type": "code",
   "execution_count": 5,
   "metadata": {},
   "outputs": [
    {
     "data": {
      "text/html": [
       "\n",
       "<script language=javascript>\n",
       "function getSelText()\n",
       "{\n",
       "    var txt = '';\n",
       "     if (window.getSelection)\n",
       "    {\n",
       "        txt = window.getSelection();\n",
       "             }\n",
       "    else if (document.getSelection)\n",
       "    {\n",
       "        txt = document.getSelection();\n",
       "            }\n",
       "    else if (document.selection)\n",
       "    {\n",
       "        txt = document.selection.createRange().text;\n",
       "            }\n",
       "    else return;\n",
       "document.aform.selectedtext.value =  txt;\n",
       "}\n",
       "</script>\n",
       "<input type=\"button\" value=\"Get selection\" onmousedown=\"getSelText()\"> \n",
       "<form name=aform >\n",
       "<textarea name=\"selectedtext\" rows=\"5\" cols=\"20\"></textarea>\n",
       "</form>\n",
       "\n"
      ],
      "text/plain": [
       "<IPython.core.display.HTML object>"
      ]
     },
     "execution_count": 5,
     "metadata": {},
     "output_type": "execute_result"
    }
   ],
   "source": [
    "HTML(\n",
    "'''\n",
    "<script language=javascript>\n",
    "function getSelText()\n",
    "{\n",
    "    var txt = '';\n",
    "     if (window.getSelection)\n",
    "    {\n",
    "        txt = window.getSelection();\n",
    "             }\n",
    "    else if (document.getSelection)\n",
    "    {\n",
    "        txt = document.getSelection();\n",
    "            }\n",
    "    else if (document.selection)\n",
    "    {\n",
    "        txt = document.selection.createRange().text;\n",
    "            }\n",
    "    else return;\n",
    "document.aform.selectedtext.value =  txt;\n",
    "}\n",
    "</script>\n",
    "<input type=\"button\" value=\"Get selection\" onmousedown=\"getSelText()\"> \n",
    "<form name=aform >\n",
    "<textarea name=\"selectedtext\" rows=\"5\" cols=\"20\"></textarea>\n",
    "</form>\n",
    "\n",
    "''')"
   ]
  },
  {
   "cell_type": "code",
   "execution_count": null,
   "metadata": {},
   "outputs": [],
   "source": []
  }
 ],
 "metadata": {
  "celltoolbar": "Tutorial 1",
  "kernelspec": {
   "display_name": "Python 3.6",
   "language": "python",
   "name": "python_3.6"
  },
  "language_info": {
   "codemirror_mode": {
    "name": "ipython",
    "version": 3
   },
   "file_extension": ".py",
   "mimetype": "text/x-python",
   "name": "python",
   "nbconvert_exporter": "python",
   "pygments_lexer": "ipython3",
   "version": "3.6.5"
  }
 },
 "nbformat": 4,
 "nbformat_minor": 2
}
