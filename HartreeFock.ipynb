{
 "cells": [
  {
   "cell_type": "markdown",
   "metadata": {},
   "source": [
    "# Hartree-Fock method\n",
    "## Pauli Principle\n",
    "## Slater Determinant\n",
    "## Correlation Exchange Energy\n",
    "## Mean-Field Approximation\n",
    "$p\\left( x_1 \\right) = \\int_{-\\infty}^{\\infty} p\\left(x_1 \\middle| x_2 \\right) p\\left(x_2\\right) dx_2$"
   ]
  },
  {
   "cell_type": "code",
   "execution_count": null,
   "metadata": {},
   "outputs": [],
   "source": [
    "import sympy as sc\n",
    "from sympy.abc import x,N\n",
    "from sympy import oo"
   ]
  },
  {
   "cell_type": "code",
   "execution_count": null,
   "metadata": {},
   "outputs": [],
   "source": [
    "sc.limit(sc.log(x**(x))/x,x,oo)"
   ]
  },
  {
   "cell_type": "code",
   "execution_count": null,
   "metadata": {},
   "outputs": [],
   "source": [
    "sc.limit(sc.log(x)/x,x,100).evalf()"
   ]
  },
  {
   "cell_type": "code",
   "execution_count": null,
   "metadata": {},
   "outputs": [],
   "source": [
    "import networkx as nx"
   ]
  },
  {
   "cell_type": "code",
   "execution_count": null,
   "metadata": {},
   "outputs": [],
   "source": []
  },
  {
   "cell_type": "code",
   "execution_count": null,
   "metadata": {},
   "outputs": [],
   "source": [
    "g=nx.Graph()\n",
    "g.add_node(1)\n",
    "g.add_nodes_from([2,3,4,5])\n",
    "g.add_edge(1,2,weight=1)\n",
    "g.add_edge(1,3,weight=1)\n",
    "g.add_edge(1,4,weight=1)\n",
    "g.add_edge(2,4,weight=1)\n",
    "g.add_edge(3,4,weight=1)\n",
    "g.add_edge(2,3,weight=1)\n",
    "g.add_edges_from([(1,5),(2,5),(3,5),(4,5)])\n",
    "g.add_node(6)\n",
    "g.add_edges_from([(1,6),(2,6),(3,6),(4,6),(5,6)])\n",
    "g.add_node(7)\n",
    "g.add_edges_from([(1,7),(2,7),(3,7),(4,7),(5,7),(6,7)])\n",
    "g.add_node(8)\n",
    "g.add_edges_from([(1,8),(2,8),(3,8),(4,8),(5,8),(6,8),(7,8)],weight=10)\n"
   ]
  },
  {
   "cell_type": "code",
   "execution_count": null,
   "metadata": {},
   "outputs": [],
   "source": [
    "%matplotlib notebook\n",
    "nx.draw(g,labels={1:'1',2:'2',3:'3',4:'4',5:'5',6:'6',7:'7',8:'8'})"
   ]
  },
  {
   "cell_type": "code",
   "execution_count": null,
   "metadata": {},
   "outputs": [],
   "source": [
    "g.edges"
   ]
  },
  {
   "cell_type": "code",
   "execution_count": null,
   "metadata": {},
   "outputs": [],
   "source": [
    "import networkx"
   ]
  },
  {
   "cell_type": "code",
   "execution_count": null,
   "metadata": {},
   "outputs": [],
   "source": []
  }
 ],
 "metadata": {
  "kernelspec": {
   "display_name": "Python 3",
   "language": "python",
   "name": "python3"
  },
  "language_info": {
   "codemirror_mode": {
    "name": "ipython",
    "version": 3
   },
   "file_extension": ".py",
   "mimetype": "text/x-python",
   "name": "python",
   "nbconvert_exporter": "python",
   "pygments_lexer": "ipython3",
   "version": "3.4.6"
  }
 },
 "nbformat": 4,
 "nbformat_minor": 2
}
