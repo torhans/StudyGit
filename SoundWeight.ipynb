{
 "cells": [
  {
   "cell_type": "code",
   "execution_count": null,
   "metadata": {},
   "outputs": [],
   "source": [
    "import numpy as np\n",
    "import scipy as sc\n",
    "import scipy.spatial\n",
    "import matplotlib.pyplot as plt\n",
    "import scipy.signal as sig"
   ]
  },
  {
   "cell_type": "code",
   "execution_count": null,
   "metadata": {},
   "outputs": [],
   "source": [
    "%matplotlib notebook\n",
    "f=np.logspace(0,5,1000)\n",
    "plt.semilogx(f,20*np.log10(((12194**2)*(f**2))/((f**2+20.6**2)*(f**2+12194**2)))+0.06)\n",
    "plt.semilogx(f,20*np.log10(((12194**2)*(f**4))/((f**2+20.6**2)*np.sqrt((f**2+107.7**2)*(f**2+737.9**2))*(f**2+12194**2)))+2.00)\n",
    "plt.ylim(-50,20)\n",
    "plt.xlim(10,100e3)\n",
    "plt.grid(b=True, which='major', color='grey', linestyle='-')\n",
    "plt.grid(b=True, which='minor', color='lightgrey', linestyle='--')"
   ]
  },
  {
   "cell_type": "code",
   "execution_count": null,
   "metadata": {},
   "outputs": [],
   "source": [
    "129.4/48000"
   ]
  },
  {
   "cell_type": "code",
   "execution_count": null,
   "metadata": {},
   "outputs": [],
   "source": [
    "76655/48000/np.pi"
   ]
  },
  {
   "cell_type": "code",
   "execution_count": null,
   "metadata": {},
   "outputs": [],
   "source": [
    "76655/2/np.pi"
   ]
  },
  {
   "cell_type": "code",
   "execution_count": null,
   "metadata": {},
   "outputs": [],
   "source": [
    "aC1=np.convolve([1,129.4],[1,129.4])\n",
    "aC2=np.convolve([1,76655],[1,76655])\n",
    "AC=np.convolve(aC1,aC2)\n",
    "BC=[5.91797e9,0,0]\n",
    "AC"
   ]
  },
  {
   "cell_type": "code",
   "execution_count": null,
   "metadata": {},
   "outputs": [],
   "source": [
    "aA1=np.convolve([1,129.4],[1,129.4])\n",
    "aA2=np.convolve([1,76655],[1,76655])\n",
    "aA3=[1,676.7]\n",
    "aA4=[1,4636]\n",
    "AA=np.convolve(np.convolve(aA3,aA4),np.convolve(aA1,aA2))\n",
    "BA=[7.39705e9,0,0,0,0]\n",
    "AA"
   ]
  },
  {
   "cell_type": "code",
   "execution_count": null,
   "metadata": {},
   "outputs": [],
   "source": [
    "%matplotlib notebook\n",
    "fqz=2*np.pi*np.logspace(0, np.log10(24000), 1024)\n",
    "w,h = sig.freqs(BA,AA,worN=fqz)\n",
    "plt.semilogx(w/2/np.pi, 20 * np.log10(abs(h)))\n",
    "b,a=sig.bilinear(BA, AA, fs=48000)\n",
    "wz, hz = sig.freqz(b,a,fqz/48000)\n",
    "plt.semilogx(wz/2/np.pi*48000, 20 * np.log10(abs(hz)))\n",
    "\n",
    "w,h = sig.freqs(BC,AC,worN=fqz)\n",
    "plt.semilogx(w/2/np.pi, 20 * np.log10(abs(h)))\n",
    "b,a=sig.bilinear(BC, AC, fs=48000)\n",
    "wz, hz = sig.freqz(b,a,fqz/48000)\n",
    "plt.semilogx(wz/2/np.pi*48000, 20 * np.log10(abs(hz)))\n",
    "plt.semilogx(f,20*np.log10(((12194**2)*(f**2))/((f**2+20.6**2)*(f**2+12194**2)))+0.06)\n",
    "plt.semilogx(f,20*np.log10(((12194**2)*(f**4))/((f**2+20.6**2)*np.sqrt((f**2+107.7**2)*(f**2+737.9**2))*(f**2+12194**2)))+2.00)\n",
    "\n",
    "\n",
    "plt.ylim(-50,20)\n",
    "plt.xlim(10,100e3)\n",
    "plt.grid(b=True, which='major', color='grey', linestyle='-')\n",
    "plt.grid(b=True, which='minor', color='lightgrey', linestyle='--')"
   ]
  },
  {
   "cell_type": "code",
   "execution_count": null,
   "metadata": {},
   "outputs": [],
   "source": [
    "%matplotlib notebook\n",
    "fqz=2*np.pi*np.logspace(0, np.log10(24000), 1024)\n",
    "w,h = sig.freqs(BC,AC,worN=fqz)\n",
    "plt.semilogx(w/2/np.pi, 20 * np.log10(abs(h)))\n",
    "b,a=sig.bilinear(BC, AC, fs=48000)\n",
    "wz, hz = sig.freqz(b,a,fqz/48000)\n",
    "plt.semilogx(wz/2/np.pi*48000, 20 * np.log10(abs(hz)))\n",
    "plt.ylim(-50,20)\n",
    "plt.xlim(10,100e3)\n",
    "plt.grid(b=True, which='major', color='grey', linestyle='-')\n",
    "plt.grid(b=True, which='minor', color='lightgrey', linestyle='--')"
   ]
  },
  {
   "cell_type": "code",
   "execution_count": null,
   "metadata": {},
   "outputs": [],
   "source": [
    "a"
   ]
  },
  {
   "cell_type": "code",
   "execution_count": null,
   "metadata": {},
   "outputs": [],
   "source": [
    "b"
   ]
  },
  {
   "cell_type": "code",
   "execution_count": null,
   "metadata": {},
   "outputs": [],
   "source": [
    "t1=[1,107.7*np.pi*2]\n",
    "t2=[1,737.9*np.pi*2]\n",
    "T1=np.convolve(t1,t1)\n",
    "t=np.convolve(np.convolve(t1,t1),np.convolve(t2,t2))"
   ]
  },
  {
   "cell_type": "code",
   "execution_count": null,
   "metadata": {},
   "outputs": [],
   "source": [
    "sig.deconvolve(t,[1,5.313e3,np.sqrt(t[-1])])"
   ]
  },
  {
   "cell_type": "code",
   "execution_count": null,
   "metadata": {},
   "outputs": [],
   "source": [
    "t"
   ]
  },
  {
   "cell_type": "code",
   "execution_count": null,
   "metadata": {},
   "outputs": [],
   "source": [
    "np.sqrt(t[-1])"
   ]
  },
  {
   "cell_type": "code",
   "execution_count": null,
   "metadata": {},
   "outputs": [],
   "source": [
    "def tfunc(x):\n",
    "    g=x[0]+x[1]*1j\n",
    "    r=np.convolve([1,g,np.sqrt(t[-1])],[1,g,np.sqrt(t[-1])])-t\n",
    "    return (np.sum(np.abs(r)))"
   ]
  },
  {
   "cell_type": "code",
   "execution_count": null,
   "metadata": {},
   "outputs": [],
   "source": [
    "res=sc.optimize.minimize(tfunc,[3000,2000])"
   ]
  },
  {
   "cell_type": "code",
   "execution_count": null,
   "metadata": {},
   "outputs": [],
   "source": [
    "res.x"
   ]
  },
  {
   "cell_type": "code",
   "execution_count": null,
   "metadata": {},
   "outputs": [],
   "source": [
    "tfunc([res.x[0],0])"
   ]
  },
  {
   "cell_type": "code",
   "execution_count": null,
   "metadata": {},
   "outputs": [],
   "source": [
    "aT,np.convolve(aA3,aA4)"
   ]
  },
  {
   "cell_type": "code",
   "execution_count": null,
   "metadata": {},
   "outputs": [],
   "source": []
  }
 ],
 "metadata": {
  "kernelspec": {
   "display_name": "Python 3",
   "language": "python",
   "name": "python3"
  },
  "language_info": {
   "codemirror_mode": {
    "name": "ipython",
    "version": 3
   },
   "file_extension": ".py",
   "mimetype": "text/x-python",
   "name": "python",
   "nbconvert_exporter": "python",
   "pygments_lexer": "ipython3",
   "version": "3.4.6"
  }
 },
 "nbformat": 4,
 "nbformat_minor": 2
}
