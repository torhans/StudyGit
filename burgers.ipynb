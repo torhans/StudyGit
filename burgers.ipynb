{
 "cells": [
  {
   "cell_type": "code",
   "execution_count": null,
   "metadata": {},
   "outputs": [],
   "source": [
    "from sympy import *\n",
    "init_printing()\n",
    "import numpy as np\n",
    "np.set_printoptions(linewidth=160)\n",
    "from mpl_toolkits.mplot3d import Axes3D\n",
    "import matplotlib.pyplot as plt\n",
    "import matplotlib.animation as animation"
   ]
  },
  {
   "cell_type": "code",
   "execution_count": null,
   "metadata": {},
   "outputs": [],
   "source": [
    "%matplotlib notebook\n",
    "\n",
    "nx=1024\n",
    "nt=50\n",
    "dt=0.00002\n",
    "nu=.1e-2\n",
    "dx=2*np.pi/(nx)\n",
    "x=np.linspace(0,2*np.pi,nx+1)[:-1]\n",
    "c0=250\n",
    "u0=0\n",
    "\n",
    "for i in range(1,2):\n",
    "    u0+=2*np.sin(i*(x-np.pi))/i\n",
    "u=-u0+c0\n",
    "\n",
    "fig = plt.figure()\n",
    "fig.subplots_adjust(left=0, right=1, bottom=0, top=1)\n",
    "ax = fig.add_subplot(111,autoscale_on=True)\n",
    "t=0\n",
    "f=np.exp(-1/(2*nu)*(2*np.pi*np.cumsum(-u0)/nx)-1)\n",
    "q0=c0\n",
    "p=np.fft.fft(f)\n",
    "\n",
    "c=0\n",
    "d=0\n",
    "#for i in range(int(len(p)/2)):\n",
    "for i in range(100):\n",
    "    c+=p[i]*(1j*i-q0/(2*nu))*np.exp(-i*(i*t*nu-1j*(x-q0*t)))\n",
    "    d+=p[i]*np.exp((1j*i*(x-q0*t)-i**2*t*nu))\n",
    "#for i in range(-1,-int(len(p)/2),-1):\n",
    "for i in range(-1,-100,-1):\n",
    "    c+=p[i]*(1j*i-q0/(2*nu))*np.exp(-i*(i*t*nu-1j*(x-q0*t)))\n",
    "    d+=p[i]*np.exp((1j*i*(x-q0*t)-i**2*t*nu))\n",
    "ua=(np.real(-2*nu*c/d))\n",
    "\n",
    "\n",
    "\n",
    "curve,=ax.plot(x,u,\"-\")\n",
    "curve2,=ax.plot(x,0*ua+c0,\".\")\n",
    "ax.grid()\n",
    "\n",
    "def init():\n",
    "    global curve,curve2,t,c,d\n",
    "    curve.set_data(x,u)\n",
    "    curve2.set_data(x,c0)\n",
    "    return curve,curve2,\n",
    "\n",
    "def animate(k):\n",
    "    global curve,curve2,t,c,d\n",
    "    for j in range(20):\n",
    "        t=t+dt\n",
    "        up=u\n",
    "        u[1:-1]=u[1:-1] + nu*dt/(dx**2)*(u[:-2]-2*u[1:-1]+u[2:])- u[1:-1]*dt/dx*(u[1:-1]-u[:-2])\n",
    "        u[0]=up[0]+ nu*dt/(dx**2)*(up[-1]-2*up[0]+up[1])- up[0]*dt/dx*(up[0]-up[-1])\n",
    "        u[-1]=up[-1]+ nu*dt/(dx**2)*(up[-2]-2*up[-1]+up[0])- up[-1]*dt/dx*(up[-1]-up[-2])\n",
    "    c*=0\n",
    "    d*=0\n",
    "#    for i in range(int(len(p)/2)):\n",
    "    for i in range(2):\n",
    "        c+=p[i]*(1j*i-q0/(2*nu))*np.exp(-i*(i*t*nu-1j*(x-q0*t)))\n",
    "        d+=p[i]*np.exp((1j*i*(x-q0*t)-i**2*t*nu))\n",
    "#    for i in range(-1,-int(len(p)/2),-1):\n",
    "    for i in range(-1,-2,-1):\n",
    "        c+=p[i]*(1j*i-q0/(2*nu))*np.exp(-i*(i*t*nu-1j*(x-q0*t)))\n",
    "        d+=p[i]*np.exp((1j*i*(x-q0*t)-i**2*t*nu))\n",
    "    ua=(np.real(-2*nu*c/d))\n",
    "    curve.set_data(x,u)\n",
    "#    curve2.set_data(x,ua)\n",
    "    return curve,curve2,\n",
    "\n",
    "ani = animation.FuncAnimation(fig, animate, frames=1,\n",
    "                              interval=1,blit=True , init_func=init)"
   ]
  },
  {
   "cell_type": "code",
   "execution_count": null,
   "metadata": {},
   "outputs": [],
   "source": [
    "%matplotlib notebook\n",
    "n=1024\n",
    "nu=1e-1\n",
    "x=np.linspace(0,2*np.pi,n+1)[:-1]\n",
    "#q=np.exp(-(x-np.pi)**2)\n",
    "q=0\n",
    "q0=5\n",
    "for i in range(1,2):\n",
    "    q+=2*np.sin(i*(x-np.pi))/i\n",
    "q/=-1\n",
    "f=np.exp(-1/(2*nu)*(2*np.pi*np.cumsum(q)/n))\n",
    "p=np.fft.fft(f)\n",
    "px=np.fft.fft(q)\n",
    "t=0\n",
    "g=0\n",
    "c=0\n",
    "d=0\n",
    "for i in range(int(len(p)/2)):\n",
    "    g+=(p[i]*np.exp(1j*i*x))/n\n",
    "    c+=p[i]*(1j*i-q0/(2*nu))*np.exp(-i*(i*t*nu-1j*(x-q0*t)))\n",
    "    d+=p[i]*np.exp((1j*i*(x-q0*t)-i**2*t*nu))\n",
    "for i in range(-1,-int(len(p)/2),-1):\n",
    "    g+=(p[i]*np.exp(1j*i*x))/n\n",
    "    c+=p[i]*(1j*i-q0/(2*nu))*np.exp(-i*(i*t*nu-1j*(x-q0*t)))\n",
    "    d+=p[i]*np.exp((1j*i*(x-q0*t)-i**2*t*nu))\n",
    "#plt.plot(x,np.real(g),\"+\")\n",
    "#plt.plot(x,f)\n",
    "plt.plot(x,q+q0)\n",
    "plt.plot(x,(np.real(-2*nu*c/d)),\"+\")\n",
    "plt.grid()\n",
    "len(x)"
   ]
  },
  {
   "cell_type": "code",
   "execution_count": null,
   "metadata": {},
   "outputs": [],
   "source": [
    "p=np.fft.fft(np.cos(2*x))\n",
    "print(p[0:8])\n",
    "print(p[-8:])\n",
    "print(p[510:514])"
   ]
  },
  {
   "cell_type": "code",
   "execution_count": null,
   "metadata": {},
   "outputs": [],
   "source": [
    "m=[x for x in range(-1,-5,-1)]\n",
    "m"
   ]
  },
  {
   "cell_type": "code",
   "execution_count": null,
   "metadata": {},
   "outputs": [],
   "source": [
    "m[2:1:-1]"
   ]
  },
  {
   "cell_type": "code",
   "execution_count": null,
   "metadata": {},
   "outputs": [],
   "source": [
    "np.max(2*np.pi*np.cumsum(q)/1024)"
   ]
  },
  {
   "cell_type": "code",
   "execution_count": null,
   "metadata": {},
   "outputs": [],
   "source": [
    "#pause\n",
    "ani.event_source.stop()"
   ]
  },
  {
   "cell_type": "code",
   "execution_count": null,
   "metadata": {},
   "outputs": [],
   "source": [
    "animate(0)"
   ]
  },
  {
   "cell_type": "code",
   "execution_count": null,
   "metadata": {},
   "outputs": [],
   "source": []
  }
 ],
 "metadata": {
  "kernelspec": {
   "display_name": "Python 3",
   "language": "python",
   "name": "python3"
  },
  "language_info": {
   "codemirror_mode": {
    "name": "ipython",
    "version": 3
   },
   "file_extension": ".py",
   "mimetype": "text/x-python",
   "name": "python",
   "nbconvert_exporter": "python",
   "pygments_lexer": "ipython3",
   "version": "3.4.6"
  }
 },
 "nbformat": 4,
 "nbformat_minor": 2
}
