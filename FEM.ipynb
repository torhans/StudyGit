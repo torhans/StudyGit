{
 "cells": [
  {
   "cell_type": "code",
   "execution_count": null,
   "metadata": {
    "collapsed": true
   },
   "outputs": [],
   "source": [
    "import numpy as np\n",
    "import matplotlib.pyplot as plt"
   ]
  },
  {
   "cell_type": "code",
   "execution_count": null,
   "metadata": {
    "collapsed": false
   },
   "outputs": [],
   "source": [
    "x=np.linspace(0,1,1000)"
   ]
  },
  {
   "cell_type": "code",
   "execution_count": null,
   "metadata": {
    "collapsed": true
   },
   "outputs": [],
   "source": [
    "def phi(x,x0,w,v):\n",
    "    ret=np.zeros_like(x)\n",
    "    ret[(x>(x0-w)) & (x<=(x0))]=((x-x0+w)/w*v)[(x>(x0-w)) & (x<=(x0))]\n",
    "    ret[(x<(x0+w)) & (x>(x0))]=((x0+w-x)/w*v)[(x<(x0+w)) & (x>(x0))]\n",
    "    return(ret)"
   ]
  },
  {
   "cell_type": "code",
   "execution_count": null,
   "metadata": {
    "collapsed": false
   },
   "outputs": [],
   "source": [
    "%matplotlib notebook\n",
    "y=-5*(x-.5)*(x-.5)+1.25\n",
    "\n",
    "plt.plot(x,y)\n",
    "ll=np.zeros_like(x)\n",
    "for i in range(1,10):\n",
    "    lf=phi(x,.1*i,.1,-5*(.1*i-.5)*(.1*i-.5)+2.5/2)\n",
    "    ll+=lf\n",
    "    plt.plot(x,lf)\n",
    "plt.plot(x,ll,\"k\",linewidth=2.0)\n",
    "#plt.ylim(0,1.5)"
   ]
  },
  {
   "cell_type": "code",
   "execution_count": null,
   "metadata": {
    "collapsed": true
   },
   "outputs": [],
   "source": [
    "a=np.array([[1,2,3],[4,5,6],[7,8,9]])"
   ]
  },
  {
   "cell_type": "code",
   "execution_count": null,
   "metadata": {
    "collapsed": false
   },
   "outputs": [],
   "source": [
    "a[[0,2]][:,[0,2]]"
   ]
  },
  {
   "cell_type": "code",
   "execution_count": null,
   "metadata": {
    "collapsed": true
   },
   "outputs": [],
   "source": []
  }
 ],
 "metadata": {
  "kernelspec": {
   "display_name": "Python 3",
   "language": "python",
   "name": "python3"
  },
  "language_info": {
   "codemirror_mode": {
    "name": "ipython",
    "version": 3
   },
   "file_extension": ".py",
   "mimetype": "text/x-python",
   "name": "python",
   "nbconvert_exporter": "python",
   "pygments_lexer": "ipython3",
   "version": "3.4.4"
  }
 },
 "nbformat": 4,
 "nbformat_minor": 0
}
