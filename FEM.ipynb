{
 "cells": [
  {
   "cell_type": "code",
   "execution_count": null,
   "metadata": {
    "collapsed": true
   },
   "outputs": [],
   "source": [
    "import numpy as np\n",
    "import scipy as sc\n",
    "import scipy.spatial\n",
    "import matplotlib.pyplot as plt"
   ]
  },
  {
   "cell_type": "code",
   "execution_count": null,
   "metadata": {
    "collapsed": true
   },
   "outputs": [],
   "source": [
    "x=np.linspace(0,1,1000)"
   ]
  },
  {
   "cell_type": "code",
   "execution_count": null,
   "metadata": {
    "collapsed": true
   },
   "outputs": [],
   "source": [
    "def phi(x,x0,w,v):\n",
    "    ret=np.zeros_like(x)\n",
    "    ret[(x>(x0-w)) & (x<=(x0))]=((x-x0+w)/w*v)[(x>(x0-w)) & (x<=(x0))]\n",
    "    ret[(x<(x0+w)) & (x>(x0))]=((x0+w-x)/w*v)[(x<(x0+w)) & (x>(x0))]\n",
    "    return(ret)"
   ]
  },
  {
   "cell_type": "code",
   "execution_count": null,
   "metadata": {
    "collapsed": true
   },
   "outputs": [],
   "source": [
    "%matplotlib notebook\n",
    "y=-5*(x-.5)*(x-.5)+1.25\n",
    "\n",
    "plt.plot(x,y)\n",
    "ll=np.zeros_like(x)\n",
    "for i in range(1,10):\n",
    "    lf=phi(x,.1*i,.1,-5*(.1*i-.5)*(.1*i-.5)+2.5/2)\n",
    "    ll+=lf\n",
    "    plt.plot(x,lf)\n",
    "plt.plot(x,ll,\"k\",linewidth=2.0)\n",
    "#plt.ylim(0,1.5)"
   ]
  },
  {
   "cell_type": "code",
   "execution_count": null,
   "metadata": {
    "collapsed": true
   },
   "outputs": [],
   "source": [
    "a=np.array([[1,2,3],[4,5,6],[7,8,9]])"
   ]
  },
  {
   "cell_type": "code",
   "execution_count": null,
   "metadata": {
    "collapsed": true
   },
   "outputs": [],
   "source": [
    "a[[0,2]][:,[0,2]]"
   ]
  },
  {
   "cell_type": "code",
   "execution_count": null,
   "metadata": {
    "collapsed": true
   },
   "outputs": [],
   "source": [
    "tri=sc.spatial.Delaunay(points)"
   ]
  },
  {
   "cell_type": "code",
   "execution_count": null,
   "metadata": {
    "collapsed": true
   },
   "outputs": [],
   "source": [
    "tri.points"
   ]
  },
  {
   "cell_type": "code",
   "execution_count": null,
   "metadata": {
    "collapsed": true
   },
   "outputs": [],
   "source": [
    "%matplotlib notebook\n",
    "plt.triplot(points[:,0], points[:,1], tri.simplices.copy())"
   ]
  },
  {
   "cell_type": "code",
   "execution_count": null,
   "metadata": {
    "collapsed": true
   },
   "outputs": [],
   "source": [
    "nx=5\n",
    "ny=5\n",
    "x=np.linspace(0,1,nx)\n",
    "y=np.linspace(0,1,ny)\n",
    "vx,vy=np.meshgrid(x,y)"
   ]
  },
  {
   "cell_type": "code",
   "execution_count": null,
   "metadata": {
    "collapsed": true
   },
   "outputs": [],
   "source": [
    "points=np.array([vx.flatten(),vy.flatten()]).T"
   ]
  },
  {
   "cell_type": "code",
   "execution_count": null,
   "metadata": {
    "collapsed": true
   },
   "outputs": [],
   "source": [
    "elem=[]\n",
    "for j in range(ny-1):\n",
    "    for i in range(nx-1):\n",
    "        elem.append([i+j*nx,i+j*nx+1,i+(j+1)*nx])\n",
    "        elem.append([i+j*nx+1,i+(j+1)*nx+1,i+(j+1)*nx])\n",
    "elem"
   ]
  },
  {
   "cell_type": "code",
   "execution_count": null,
   "metadata": {
    "collapsed": true
   },
   "outputs": [],
   "source": [
    "%matplotlib notebook\n",
    "plt.triplot(points[:,0], points[:,1], elem)\n",
    "for j in range(ny):\n",
    "    for i in range(nx):\n",
    "        plt.text(i/(nx-1)+.1/(nx-1),j/(ny-1)+.1/(ny-1),str(i+j*nx),color='green',verticalalignment='center', horizontalalignment='center')\n",
    "for j in range(ny-1):\n",
    "    for i in range(nx-1):\n",
    "        plt.text(i/(nx-1)+.3/(nx-1),j/(ny-1)+.3/(ny-1),str(2*(i+j*(nx-1))),color='red',verticalalignment='center', horizontalalignment='center')\n",
    "        plt.text(i/(nx-1)+.6/(nx-1),j/(ny-1)+.6/(ny-1),str(2*(i+j*(nx-1))+1),color='red',verticalalignment='center', horizontalalignment='center')\n",
    "plt.xlim(-0.1,1.1)\n",
    "plt.ylim(-0.1,1.1)"
   ]
  },
  {
   "cell_type": "code",
   "execution_count": null,
   "metadata": {
    "collapsed": true
   },
   "outputs": [],
   "source": [
    "import sympy\n",
    "from sympy.abc import x,y,eta,xi,a,b,c,d\n",
    "from sympy.matrices import Matrix\n",
    "from IPython.display import display\n",
    "sympy.init_printing()\n",
    "x1,x2,x3,y1,y2,y3=sympy.symbols(\"x1 x2 x3 y1 y2 y3\")\n",
    "f=sympy.Function(\"f\")\n",
    "class impfun(sympy.Function):\n",
    "    nargs = (1,2,3,4,5,6)"
   ]
  },
  {
   "cell_type": "markdown",
   "metadata": {},
   "source": [
    "https://math.stackexchange.com/questions/424672/what-is-the-difference-between-finite-difference-methods-finite-element-methods/1984931"
   ]
  },
  {
   "cell_type": "markdown",
   "metadata": {},
   "source": [
    "$$\n",
    "x= \\left( x_2-x_1 \\right) \\xi + \\left( x_3-x_1 \\right) \\eta \\\\\n",
    "y= \\left( y_2-y_1 \\right) \\xi + \\left( y_3-y_1 \\right) \\eta \\\\\n",
    "f= \\left( f_2-f_1 \\right) \\xi + \\left( f_3-f_1 \\right) \\eta\n",
    "$$\n",
    "Blah bla\n",
    "$$\n",
    "\\frac{\\partial x}{\\partial \\xi} = x_2 - x_1 \\\\\n",
    "\\frac{\\partial x}{\\partial \\eta} = x_3 - x_1 \\\\\n",
    "\\frac{\\partial y}{\\partial \\xi} = y_2 - y_1 \\\\\n",
    "\\frac{\\partial y}{\\partial \\eta} = y_3 - y_1 \\\\ \n",
    "\\frac{\\partial f}{\\partial \\xi} = f_2 - f_1 \\\\\n",
    "\\frac{\\partial f}{\\partial \\eta} = f_2 - f_1  \n",
    "$$\n",
    "Blu blu\n",
    "$$\n",
    "\\frac{\\partial f}{\\partial \\xi} = \\frac{\\partial f}{\\partial x}\\frac{\\partial x}{\\partial \\xi} + \\frac{\\partial f}{\\partial y}\\frac{\\partial y}{\\partial \\xi} \\\\\n",
    "\\frac{\\partial f}{\\partial \\eta} = \\frac{\\partial f}{\\partial x}\\frac{\\partial x}{\\partial \\eta} + \\frac{\\partial f}{\\partial y}\\frac{\\partial y}{\\partial \\eta} \\\\\n",
    "$$\n",
    "or written in matrix form\n",
    "\n",
    "$$\n",
    "\\left[ \\matrix{\\frac{\\partial f}{\\partial \\xi} \\cr \\frac{\\partial f}{\\partial \\eta}} \\right]\n",
    "=\n",
    "\\left[ \\matrix{\n",
    "\\frac{\\partial x}{\\partial \\xi}\n",
    "& \n",
    "\\frac{\\partial y}{\\partial \\xi}\n",
    "\\cr \n",
    "\\frac{\\partial x}{\\partial \\eta}\n",
    "& \n",
    "\\frac{\\partial y}{\\partial \\eta}\n",
    "} \\right]\n",
    "\\left[ \\matrix{\n",
    "\\frac{\\partial f}{\\partial x}\n",
    "\\cr\n",
    "\\frac{\\partial f}{\\partial y}\n",
    "} \\right]\n",
    "$$"
   ]
  },
  {
   "cell_type": "code",
   "execution_count": null,
   "metadata": {
    "collapsed": true
   },
   "outputs": [],
   "source": [
    "\n",
    "A=Matrix([[x2-x1,y2-y1],[x3-x1,y3-y1]])\n",
    "sympy.simplify(A.inv())"
   ]
  },
  {
   "cell_type": "markdown",
   "metadata": {},
   "source": [
    "$$\n",
    "\\nabla^2 \\phi + \\nabla \\cdot \\left( \\mathbf{\\hat{u}} \\phi \\right) = \\rho\n",
    "$$\n",
    "Multiply with test function $v$ and integrate over the domain\n",
    "$$\n",
    "\\int_{\\Omega} \\left( \\nabla^2 \\phi + \\nabla \\cdot \\left( \\mathbf{\\hat{u}} \\phi \\right) \\right) v dV \n",
    "= \n",
    "\\int_{\\Omega} \\rho v dV\n",
    "$$\n",
    "Integration by parts"
   ]
  },
  {
   "cell_type": "markdown",
   "metadata": {},
   "source": [
    "$$\n",
    "\\int_{\\Gamma} \\left( \\left(\\nabla \\phi + \\mathbf{\\hat{u}} \\phi v \\right) v \\right) \\cdot \\mathbf{\\hat{n}} dS - \\int_{\\Omega} \\nabla \\phi \\cdot \\nabla v dV\n",
    "$$"
   ]
  },
  {
   "cell_type": "markdown",
   "metadata": {},
   "source": [
    "$$\n",
    "\\frac{\\partial f}{\\partial x}+\\frac{\\partial f}{\\partial y}=x\n",
    "$$\n",
    "ff\n",
    "$$\n",
    "\\hat{F} =\n",
    "\\left[ \\matrix{\n",
    "f\n",
    "\\cr\n",
    "f\n",
    "} \\right]\n",
    "$$\n",
    "Then we can write the differential equation as\n",
    "$$\n",
    "\\nabla \\cdot \\hat{F} = \\hat{i} \\cdot \\hat{r}\n",
    "$$\n",
    "test function and integrate over the whole area (volume)\n",
    "$$\n",
    "\\int_{\\Omega} v_i \\nabla \\cdot \\hat{F} dV = \\int_{\\Omega} v_i \\hat{i} \\cdot \\hat{r} dV\n",
    "$$\n",
    "By parts\n",
    "$$\n",
    "\\int_{\\Gamma} v_i \\hat{F} \\cdot \\hat{n} dS - \\int_{\\Omega} \\hat{F} \\cdot \\nabla v_i dV = \\int_{\\Omega} v_i x dV\n",
    "$$\n",
    "where $\\Gamma$ is the boundary and $\\Omega$ is the domain (area i 2D and volume in 3D)\n",
    "\n",
    "By choosing test functions with\n",
    "$$\n",
    "v_i(\\Gamma) = 0,\n",
    "$$\n",
    "meaning that the test functions are zero everywhere on the boundary, the first term vanishes."
   ]
  },
  {
   "cell_type": "code",
   "execution_count": null,
   "metadata": {
    "collapsed": true
   },
   "outputs": [],
   "source": [
    "sympy.Eq(sympy.Derivative(f,xi),\n",
    "         sympy.Derivative(f,x)*sympy.Derivative(x,xi)+sympy.Derivative(f,y)*sympy.Derivative(y,xi),evaluate=False)"
   ]
  },
  {
   "cell_type": "code",
   "execution_count": null,
   "metadata": {
    "collapsed": true
   },
   "outputs": [],
   "source": [
    "A = sympy.MatrixSymbol('A',5,5)\n",
    "A.as_explicit()\n",
    "B=1\n",
    "sympy.Eq(Matrix([sympy.Derivative(f,xi),sympy.Derivative(f,eta)]),\n",
    "         Matrix([[sympy.Derivative(x,xi),sympy.Derivative(y,xi)],[sympy.Derivative(x,eta),sympy.Derivative(y,eta)]]),\n",
    "         evaluate=False)"
   ]
  },
  {
   "cell_type": "code",
   "execution_count": null,
   "metadata": {
    "collapsed": true
   },
   "outputs": [],
   "source": [
    "f.fdiff(1)"
   ]
  },
  {
   "cell_type": "markdown",
   "metadata": {},
   "source": [
    "%matplotlib notebook\n",
    "plt.triplot(points[:,0], points[:,1], tri.simplices.copy())"
   ]
  },
  {
   "cell_type": "code",
   "execution_count": null,
   "metadata": {
    "collapsed": true
   },
   "outputs": [],
   "source": [
    "tri.simplices"
   ]
  },
  {
   "cell_type": "code",
   "execution_count": null,
   "metadata": {
    "collapsed": true
   },
   "outputs": [],
   "source": [
    "tri.points"
   ]
  },
  {
   "cell_type": "code",
   "execution_count": null,
   "metadata": {
    "collapsed": true
   },
   "outputs": [],
   "source": [
    "tri.neighbors"
   ]
  },
  {
   "cell_type": "code",
   "execution_count": null,
   "metadata": {
    "collapsed": true
   },
   "outputs": [],
   "source": [
    "tri.vertex_to_simplex"
   ]
  },
  {
   "cell_type": "code",
   "execution_count": null,
   "metadata": {
    "collapsed": true
   },
   "outputs": [],
   "source": [
    "np.array([vx.flatten(),vy.flatten()]).T"
   ]
  },
  {
   "cell_type": "code",
   "execution_count": null,
   "metadata": {
    "collapsed": true
   },
   "outputs": [],
   "source": []
  }
 ],
 "metadata": {
  "kernelspec": {
   "display_name": "Python 3",
   "language": "python",
   "name": "python3"
  },
  "language_info": {
   "codemirror_mode": {
    "name": "ipython",
    "version": 3
   },
   "file_extension": ".py",
   "mimetype": "text/x-python",
   "name": "python",
   "nbconvert_exporter": "python",
   "pygments_lexer": "ipython3",
   "version": "3.4.4"
  }
 },
 "nbformat": 4,
 "nbformat_minor": 1
}
