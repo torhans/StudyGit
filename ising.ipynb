{
 "cells": [
  {
   "cell_type": "code",
   "execution_count": null,
   "metadata": {},
   "outputs": [],
   "source": [
    "import matplotlib.pyplot as plt\n",
    "import numpy as np\n",
    "from scipy import signal\n",
    "import matplotlib\n",
    "%matplotlib notebook\n",
    "#np.random.seed(101)\n",
    "#g = np.floor(np.random.random((100, 100)) + .5)\n",
    "\n",
    "#plt.subplot(211)\n",
    "#plt.imshow(g)\n",
    "#plt.subplot(212)\n",
    "#plt.imshow(g, cmap='Greys',  interpolation='nearest')\n",
    "#plt.show()\n",
    "\n",
    "import matplotlib.animation as animation\n",
    "N=400\n",
    "\n",
    "#fig = plt.figure()\n",
    "fig, (mod,cor) = plt.subplots(1,2)\n",
    "#g = 2*np.floor(np.random.random((N, N))+.5)-1\n",
    "im=mod.imshow(g, cmap='Greys',  interpolation='nearest')\n",
    "c= g*0\n",
    "ci=cor.imshow(c, cmap='Greys',  interpolation='nearest')\n",
    "norm=matplotlib.colors.Normalize(-N*N,N*N)\n",
    "ci.set_norm(norm)\n",
    "\n",
    "im.set_array(g)\n",
    "S=-1\n",
    "beta=1e-1\n",
    "h=0\n",
    "Ea=1\n",
    "\n",
    "docor=False\n",
    "\n",
    "def init():  # only required for blitting to give a clean slate.\n",
    "\n",
    "    return line,\n",
    "cyclic=True\n",
    "\n",
    "def animate(i):\n",
    "    global g,beta,h,c,docor\n",
    "    #g = np.floor(np.random.random((100, 100))+.5)\n",
    "    #beta*=1.002\n",
    "    for k in range(10000):\n",
    "        x=np.random.randint(N)\n",
    "        y=np.random.randint(N)\n",
    "        gt=-g[x,y]\n",
    "        dH=2*h*gt  # h*(gt-g[x,y])\n",
    "        if x!=0:\n",
    "            dH+=2*S*gt*g[x-1,y] # = S*(gt*g[x-1,y]-g[x,y]*g[x-1,y])\n",
    "        elif cyclic:\n",
    "            dH+=2*S*gt*g[N-1,y]\n",
    "        if x!=(N-1):\n",
    "            dH+=2*S*gt*g[x+1,y]\n",
    "        elif cyclic:\n",
    "            dH+=2*S*gt*g[0,y]\n",
    "        if y!=0:\n",
    "            dH+=2*S*gt*g[x,y-1]\n",
    "        elif cyclic:\n",
    "            dH+=2*S*gt*g[x,N-1]\n",
    "        if y!=(N-1):\n",
    "            dH+=2*S*gt*g[x,y+1]\n",
    "        elif cyclic:\n",
    "            dH+=2*S*gt*g[x,0]\n",
    "        p=np.random.random(1)[0]\n",
    "        if dH<0:\n",
    "            dH=0\n",
    "        if (p)<np.exp(-beta*(dH+Ea)):\n",
    "            g[x,y]=gt\n",
    "    im.set_array(g)\n",
    "    if docor:\n",
    "        c= signal.correlate2d(g,g,mode='same')\n",
    "        docor=False\n",
    "    ci.set_array(c)\n",
    "    #line.set_ydata(np.sin(x + i / 100))  # update the data.\n",
    "    #return line,\n",
    "    return im,ci,\n",
    "\n",
    "\n",
    "ani = animation.FuncAnimation(\n",
    "    fig, animate, interval=10, blit=True, save_count=50)\n",
    "\n",
    "#for i in range(10):\n",
    "#    animate(1)\n",
    "\n",
    "# To save the animation, use e.g.\n",
    "#\n",
    "# ani.save(\"movie.mp4\")\n",
    "#\n",
    "# or\n",
    "#\n",
    "# from matplotlib.animation import FFMpegWriter\n",
    "# writer = FFMpegWriter(fps=15, metadata=dict(artist='Me'), bitrate=1800)\n",
    "# ani.save(\"movie.mp4\", writer=writer)\n",
    "\n",
    "plt.show()"
   ]
  },
  {
   "cell_type": "code",
   "execution_count": null,
   "metadata": {},
   "outputs": [],
   "source": [
    "#pause\n",
    "ani.event_source.stop()"
   ]
  },
  {
   "cell_type": "code",
   "execution_count": null,
   "metadata": {},
   "outputs": [],
   "source": [
    "#unpause\n",
    "ani.event_source.start()"
   ]
  },
  {
   "cell_type": "code",
   "execution_count": null,
   "metadata": {},
   "outputs": [],
   "source": [
    "S=-1;beta=2;h=0;Ea=.1"
   ]
  },
  {
   "cell_type": "code",
   "execution_count": null,
   "metadata": {},
   "outputs": [],
   "source": [
    "docor=True"
   ]
  },
  {
   "cell_type": "code",
   "execution_count": null,
   "metadata": {},
   "outputs": [],
   "source": [
    "#gn=g.copy()\n",
    "(np.min(g-gn),np.max(g-gn))\n",
    "#ci.get_extent()\n",
    "g[215]"
   ]
  },
  {
   "cell_type": "code",
   "execution_count": null,
   "metadata": {},
   "outputs": [],
   "source": [
    "np.bitwise_xor([0,1],[2,3])"
   ]
  },
  {
   "cell_type": "code",
   "execution_count": null,
   "metadata": {},
   "outputs": [],
   "source": [
    "nbs=np.arange(32)"
   ]
  },
  {
   "cell_type": "code",
   "execution_count": null,
   "metadata": {},
   "outputs": [],
   "source": [
    "s1=np.left_shift(nbs,1)"
   ]
  },
  {
   "cell_type": "code",
   "execution_count": null,
   "metadata": {},
   "outputs": [],
   "source": [
    "[np.binary_repr(x,8) for x in s1]"
   ]
  },
  {
   "cell_type": "code",
   "execution_count": null,
   "metadata": {},
   "outputs": [],
   "source": [
    "s2=np.bitwise_or(np.bitwise_and(s1,31),np.right_shift(np.bitwise_and(s1,255-31),4))\n"
   ]
  },
  {
   "cell_type": "code",
   "execution_count": null,
   "metadata": {},
   "outputs": [],
   "source": [
    "s3=np.bitwise_xor(np.right_shift(nbs,1),nbs)"
   ]
  },
  {
   "cell_type": "code",
   "execution_count": null,
   "metadata": {},
   "outputs": [],
   "source": [
    "[np.binary_repr(np.bitwise_and(x,15),4) for x in s3]"
   ]
  },
  {
   "cell_type": "code",
   "execution_count": null,
   "metadata": {},
   "outputs": [],
   "source": [
    "s3"
   ]
  },
  {
   "cell_type": "code",
   "execution_count": null,
   "metadata": {},
   "outputs": [],
   "source": [
    "import sympy as sc\n",
    "from sympy.abc import m,p,b,H,x,n\n",
    "from sympy import oo\n",
    "sc.init_printing()\n",
    "Z=sc.Function('Z')\n",
    "J1,J2,x1,x2=sc.symbols('J1 J2 x1 x2')\n",
    "s1=sc.symbols(r'sigma_j')\n",
    "s2=sc.symbols(r'sigma_j+N')\n"
   ]
  },
  {
   "cell_type": "code",
   "execution_count": null,
   "metadata": {},
   "outputs": [],
   "source": [
    "sc.expand((m+p)**4)"
   ]
  },
  {
   "cell_type": "code",
   "execution_count": null,
   "metadata": {},
   "outputs": [],
   "source": [
    "Z=sc.Sum(sc.exp(-b*H+J1*x1+J2*x2),(n,0,oo))\n",
    "Z"
   ]
  },
  {
   "cell_type": "code",
   "execution_count": null,
   "metadata": {},
   "outputs": [],
   "source": [
    "Ex=sc.log(Z).diff(J1).diff(J2)\n",
    "Ex"
   ]
  },
  {
   "cell_type": "code",
   "execution_count": null,
   "metadata": {},
   "outputs": [],
   "source": [
    "Ex.subs(J1,0).subs(J2,0)"
   ]
  },
  {
   "cell_type": "markdown",
   "metadata": {},
   "source": [
    "Why is\n",
    "\n",
    "$$\\left\\langle \\sigma_j \\sigma_{j+N} \\right\\rangle = \\left[ \\frac{e^{\\beta J}-e^{-\\beta J}}{e^{\\beta J}+e^{-\\beta J}} \\right]^N$$\n",
    "?"
   ]
  },
  {
   "cell_type": "code",
   "execution_count": null,
   "metadata": {},
   "outputs": [],
   "source": [
    "#from sympy.assumptions import assuming,Q\n",
    "#Q.is_true(J>0)\n",
    "J=sc.Symbol('J',positive=True)\n",
    "sc.limit((sc.exp(b*J)-sc.exp(-b*J))/(sc.exp(b*J)+sc.exp(-b*J)),b,oo)"
   ]
  },
  {
   "cell_type": "code",
   "execution_count": null,
   "metadata": {},
   "outputs": [],
   "source": [
    "sc.sinh(0)"
   ]
  },
  {
   "cell_type": "code",
   "execution_count": null,
   "metadata": {},
   "outputs": [],
   "source": [
    "(112015*12-800000)/5717462"
   ]
  },
  {
   "cell_type": "code",
   "execution_count": null,
   "metadata": {},
   "outputs": [],
   "source": [
    "(88664*12-800000)/5717462"
   ]
  },
  {
   "cell_type": "markdown",
   "metadata": {},
   "source": [
    "$Z\\left(\\beta\\right) = \\sum_{\\sigma \\dotsc \\sigma} Z\\left(\\beta\\right)=\\sum_{\\sigma_{1}\\ldots\\sigma_{L}}\\mathrm{e}^{\\beta J\\sigma_{1}\\sigma_{2}}$"
   ]
  },
  {
   "cell_type": "code",
   "execution_count": null,
   "metadata": {},
   "outputs": [],
   "source": [
    "T=sc.MatrixSymbol('T',2,2)\n",
    "s=sc.MatrixSymbol('s',2,2)"
   ]
  },
  {
   "cell_type": "code",
   "execution_count": null,
   "metadata": {},
   "outputs": [],
   "source": [
    "(T*T*s)[0,0]\n"
   ]
  },
  {
   "cell_type": "code",
   "execution_count": null,
   "metadata": {},
   "outputs": [],
   "source": [
    "T=sc.Matrix((\n",
    "    (sc.exp(b*(p+J)),sc.exp(-b*(J))),\n",
    "    (sc.exp(-b*(J)),sc.exp(-b*(p-J)))))\n",
    "s3=sc.Matrix(((1,0),(0,-1)))\n",
    "s1=sc.Matrix(((0,1),(1,0)))"
   ]
  },
  {
   "cell_type": "code",
   "execution_count": null,
   "metadata": {},
   "outputs": [],
   "source": [
    "T.subs(p,0)"
   ]
  },
  {
   "cell_type": "code",
   "execution_count": null,
   "metadata": {},
   "outputs": [],
   "source": [
    "v=T*s\n",
    "sc.simplify((v[0,0]+v[1,1]).subs(p,0))"
   ]
  },
  {
   "cell_type": "code",
   "execution_count": null,
   "metadata": {},
   "outputs": [],
   "source": [
    "sc.simplify((T).subs(p,0).eigenvals())"
   ]
  },
  {
   "cell_type": "code",
   "execution_count": null,
   "metadata": {},
   "outputs": [],
   "source": [
    "sc.simplify((T*T*T*T*s3*s3).subs(p,0))"
   ]
  },
  {
   "cell_type": "code",
   "execution_count": null,
   "metadata": {},
   "outputs": [],
   "source": [
    "sc.simplify((T*T*s3*T*T*s3).subs(p,0))"
   ]
  },
  {
   "cell_type": "code",
   "execution_count": null,
   "metadata": {},
   "outputs": [],
   "source": [
    "T*T"
   ]
  },
  {
   "cell_type": "code",
   "execution_count": null,
   "metadata": {},
   "outputs": [],
   "source": [
    "vs=T.subs(p,0).eigenvects()"
   ]
  },
  {
   "cell_type": "code",
   "execution_count": null,
   "metadata": {},
   "outputs": [],
   "source": [
    "a=vs[0][2][0]\n",
    "b=vs[1][2][0]"
   ]
  },
  {
   "cell_type": "code",
   "execution_count": null,
   "metadata": {},
   "outputs": [],
   "source": [
    "sc.simplify(((a.T)*s3*b))"
   ]
  },
  {
   "cell_type": "code",
   "execution_count": null,
   "metadata": {},
   "outputs": [],
   "source": [
    "sc.simplify(((b.T)*s3*a))"
   ]
  },
  {
   "cell_type": "code",
   "execution_count": null,
   "metadata": {},
   "outputs": [],
   "source": [
    "sc.simplify(sc.Matrix(b).T*sc.Matrix(a))"
   ]
  },
  {
   "cell_type": "code",
   "execution_count": null,
   "metadata": {},
   "outputs": [],
   "source": [
    "sc.Matrix(((1,-1),(-1,1)))*sc.Matrix(((1,0),(0,-1)))"
   ]
  },
  {
   "cell_type": "code",
   "execution_count": null,
   "metadata": {},
   "outputs": [],
   "source": [
    "sc.Matrix(((1,0),(0,-1)))*sc.Matrix(((1,-1),(-1,1)))"
   ]
  },
  {
   "cell_type": "code",
   "execution_count": null,
   "metadata": {},
   "outputs": [],
   "source": [
    "dQ,dV,dT,ddUT,ddUV,P,dU=sc.symbols(\"dQ,dV,dT,dU_T,dU_V,P,dU\")"
   ]
  },
  {
   "cell_type": "code",
   "execution_count": null,
   "metadata": {},
   "outputs": [],
   "source": [
    "eq1=sc.Eq(dU,dT*ddUT+dV*ddUV)\n",
    "eq1"
   ]
  },
  {
   "cell_type": "code",
   "execution_count": null,
   "metadata": {},
   "outputs": [],
   "source": [
    "eq2=sc.Eq(dU,dQ-P*dV)\n",
    "eq2"
   ]
  },
  {
   "cell_type": "code",
   "execution_count": null,
   "metadata": {},
   "outputs": [],
   "source": [
    "sol=sc.solve([eq1.subs(dT,0),eq2],[dQ,dU])"
   ]
  },
  {
   "cell_type": "code",
   "execution_count": null,
   "metadata": {},
   "outputs": [],
   "source": [
    "sc.Eq(ddUV,sc.solve(sc.Eq(dQ,sol[dQ].subs(dU,sol[dU])),ddUV)[0])"
   ]
  },
  {
   "cell_type": "code",
   "execution_count": null,
   "metadata": {},
   "outputs": [],
   "source": []
  }
 ],
 "metadata": {
  "kernelspec": {
   "display_name": "Python 3",
   "language": "python",
   "name": "python3"
  },
  "language_info": {
   "codemirror_mode": {
    "name": "ipython",
    "version": 3
   },
   "file_extension": ".py",
   "mimetype": "text/x-python",
   "name": "python",
   "nbconvert_exporter": "python",
   "pygments_lexer": "ipython3",
   "version": "3.4.6"
  }
 },
 "nbformat": 4,
 "nbformat_minor": 2
}
