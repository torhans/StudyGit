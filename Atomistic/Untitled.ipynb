{
 "cells": [
  {
   "cell_type": "code",
   "execution_count": 9,
   "metadata": {},
   "outputs": [],
   "source": [
    "from sympy.functions import conjugate\n",
    "from sympy import Function, init_printing, integrate,diff,I,Eq\n",
    "from sympy.abc import x,a,b,t,m"
   ]
  },
  {
   "cell_type": "code",
   "execution_count": 10,
   "metadata": {},
   "outputs": [],
   "source": [
    "init_printing()"
   ]
  },
  {
   "cell_type": "code",
   "execution_count": 11,
   "metadata": {},
   "outputs": [],
   "source": [
    "f=Function('f')(x,t)\n",
    "g=Function('g')(x,t)\n",
    "V=Function('V')(x)"
   ]
  },
  {
   "cell_type": "code",
   "execution_count": null,
   "metadata": {},
   "outputs": [],
   "source": []
  },
  {
   "cell_type": "code",
   "execution_count": null,
   "metadata": {},
   "outputs": [],
   "source": []
  },
  {
   "cell_type": "code",
   "execution_count": 13,
   "metadata": {},
   "outputs": [
    {
     "data": {
      "image/png": "[encoded data removed]",
      "text/latex": [
       "$$\\int_{a}^{b} \\left(f{\\left (x,t \\right )} \\frac{\\partial}{\\partial t} \\overline{f{\\left (x,t \\right )}} + \\overline{f{\\left (x,t \\right )}} \\frac{\\partial}{\\partial t} f{\\left (x,t \\right )}\\right)\\, dx$$"
      ],
      "text/plain": [
       "b                                               \n",
       "⌠                                               \n",
       "⎮ ⎛        ∂ ⎛_______⎞   _______ ∂          ⎞   \n",
       "⎮ ⎜f(x, t)⋅──⎝f(x, t)⎠ + f(x, t)⋅──(f(x, t))⎟ dx\n",
       "⎮ ⎝        ∂t                    ∂t         ⎠   \n",
       "⌡                                               \n",
       "a                                               "
      ]
     },
     "execution_count": 13,
     "metadata": {},
     "output_type": "execute_result"
    }
   ],
   "source": [
    "diff(integrate(conjugate(f)*f,(x,a,b)),t)"
   ]
  },
  {
   "cell_type": "code",
   "execution_count": 25,
   "metadata": {},
   "outputs": [
    {
     "data": {
      "image/png": "[encoded data removed]",
      "text/latex": [
       "$$\\int_{a}^{b} \\left(f{\\left (x,t \\right )} \\frac{\\partial}{\\partial t} \\overline{f{\\left (x,t \\right )}} + \\overline{f{\\left (x,t \\right )}} \\frac{\\partial}{\\partial t} f{\\left (x,t \\right )}\\right)\\, dx$$"
      ],
      "text/plain": [
       "b                                               \n",
       "⌠                                               \n",
       "⎮ ⎛        ∂ ⎛_______⎞   _______ ∂          ⎞   \n",
       "⎮ ⎜f(x, t)⋅──⎝f(x, t)⎠ + f(x, t)⋅──(f(x, t))⎟ dx\n",
       "⎮ ⎝        ∂t                    ∂t         ⎠   \n",
       "⌡                                               \n",
       "a                                               "
      ]
     },
     "execution_count": 25,
     "metadata": {},
     "output_type": "execute_result"
    }
   ],
   "source": [
    "_.subs(diff(f,t),diff(f,x))"
   ]
  },
  {
   "cell_type": "code",
   "execution_count": 26,
   "metadata": {},
   "outputs": [],
   "source": [
    "from sympy.physics.quantum.constants import hbar"
   ]
  },
  {
   "cell_type": "code",
   "execution_count": 43,
   "metadata": {},
   "outputs": [],
   "source": [
    "dft=-I/hbar*(-(hbar**2/(2*m))*diff(f,x,x)+V*f)\n",
    "dftc=-I/hbar*(-(hbar**2/(2*m))*diff(conjugate(f),x,x)+V*conjugate(f))"
   ]
  },
  {
   "cell_type": "code",
   "execution_count": 1,
   "metadata": {},
   "outputs": [
    {
     "ename": "NameError",
     "evalue": "name 'dft' is not defined",
     "output_type": "error",
     "traceback": [
      "\u001b[0;31m---------------------------------------------------------------------------\u001b[0m",
      "\u001b[0;31mNameError\u001b[0m                                 Traceback (most recent call last)",
      "\u001b[0;32m<ipython-input-1-442c3e6a9e06>\u001b[0m in \u001b[0;36m<module>\u001b[0;34m()\u001b[0m\n\u001b[0;32m----> 1\u001b[0;31m \u001b[0mdft\u001b[0m\u001b[0;34m\u001b[0m\u001b[0m\n\u001b[0m",
      "\u001b[0;31mNameError\u001b[0m: name 'dft' is not defined"
     ]
    }
   ],
   "source": [
    "dft"
   ]
  },
  {
   "cell_type": "code",
   "execution_count": 50,
   "metadata": {},
   "outputs": [
    {
     "data": {
      "image/png": "[encoded data removed]",
      "text/latex": [
       "$$- \\frac{i}{\\hbar} \\left(V{\\left (x \\right )} \\overline{f{\\left (x,t \\right )}} - \\frac{\\hbar^{2}}{2 m} \\frac{\\partial^{2}}{\\partial x^{2}}  \\overline{f{\\left (x,t \\right )}}\\right)$$"
      ],
      "text/plain": [
       "   ⎛                    2         ⎞ \n",
       "   ⎜                2  ∂ ⎛_______⎞⎟ \n",
       "   ⎜               ℏ ⋅───⎝f(x, t)⎠⎟ \n",
       "   ⎜                    2         ⎟ \n",
       "   ⎜     _______      ∂x          ⎟ \n",
       "-ⅈ⋅⎜V(x)⋅f(x, t) - ───────────────⎟ \n",
       "   ⎝                     2⋅m      ⎠ \n",
       "────────────────────────────────────\n",
       "                 ℏ                  "
      ]
     },
     "execution_count": 50,
     "metadata": {},
     "output_type": "execute_result"
    }
   ],
   "source": [
    "dftc"
   ]
  },
  {
   "cell_type": "markdown",
   "metadata": {},
   "source": [
    "$\\frac{\\partial}{\\partial t} \\int^b_a \\phi^* \\phi dx$"
   ]
  },
  {
   "cell_type": "markdown",
   "metadata": {},
   "source": [
    "$\\int_a^b \\left( \\frac{\\partial}{\\partial t} \\phi^* \\right) \\phi + \\phi^* \\frac{\\partial}{\\partial t} \\phi dx$"
   ]
  },
  {
   "cell_type": "markdown",
   "metadata": {},
   "source": [
    "$i \\hbar \\frac{\\partial}{\\partial t} \\phi =  -\\left( \\frac{\\hbar^2}{2m} \\frac{\\partial^2}{\\partial x^2}+ \\hat V \\left( x \\right) \\right) \\phi $"
   ]
  },
  {
   "cell_type": "markdown",
   "metadata": {},
   "source": [
    "$\\left( i \\hbar \\frac{\\partial}{\\partial t} \\phi \\right)^* = \\left(-\\left( \\frac{\\hbar^2}{2m} \\frac{\\partial^2}{\\partial x^2}+ \\hat V \\left( x \\right) \\right) \\phi \\right)^* $\n",
    "\n",
    "$-i \\hbar \\frac{\\partial}{\\partial t} \\phi^* = -\\left( \\frac{\\hbar^2}{2m} \\frac{\\partial^2}{\\partial x^2}+ \\hat V \\left( x \\right) \\right) \\phi^* $"
   ]
  },
  {
   "cell_type": "markdown",
   "metadata": {},
   "source": [
    "$\\frac{1}{i \\hbar} \\int_a^b\n",
    "\\left( \\left( \\frac{\\hbar^2}{2m} \\frac{\\partial^2}{\\partial x^2}+ \\hat V \\left( x \\right) \\right) \\phi^* \\right) \\phi - \n",
    "\\phi^* \\left( \\frac{\\hbar^2}{2m} \\frac{\\partial^2}{\\partial x^2}+ \\hat V \\left( x \\right) \\right) \\phi\n",
    "dx$"
   ]
  },
  {
   "cell_type": "markdown",
   "metadata": {},
   "source": [
    "$\\frac{1}{i \\hbar}  \\int_a^b\n",
    "\\left( \\frac{\\hbar^2}{2m} \\frac{\\partial^2}{\\partial x^2}  \\phi^* \\right) \\phi +\n",
    "\\hat V \\left( x \\right) \\phi^* \\phi -\n",
    "\\phi^*  \\frac{\\hbar^2}{2m} \\frac{\\partial^2}{\\partial x^2} \\phi -\n",
    "\\phi^*   \\hat V \\left( x \\right)  \\phi\n",
    "dx$"
   ]
  },
  {
   "cell_type": "markdown",
   "metadata": {},
   "source": [
    "$\\frac{1}{i \\hbar} \\int_a^b\n",
    "\\left( \\frac{\\hbar^2}{2m} \\frac{\\partial^2}{\\partial x^2} \\phi^* \\right)  \\phi +\n",
    "\\hat V \\left( x \\right) \\phi^* \\phi -\n",
    "\\phi^*  \\frac{\\hbar^2}{2m} \\frac{\\partial^2}{\\partial x^2} \\phi -\n",
    "\\hat V \\left( x \\right)  \\phi^* \\phi\n",
    "dx$"
   ]
  },
  {
   "cell_type": "markdown",
   "metadata": {},
   "source": [
    "$\\frac{1}{i \\hbar}  \\int_a^b\n",
    "\\left( \\frac{\\hbar^2}{2m} \\frac{\\partial^2}{\\partial x^2} \\phi^* \\right) \\phi \n",
    " -\n",
    "\\phi^* \\frac{\\hbar^2}{2m} \\frac{\\partial^2}{\\partial x^2} \\phi \n",
    "dx$"
   ]
  },
  {
   "cell_type": "markdown",
   "metadata": {},
   "source": [
    "$\\frac{i \\hbar}{2m} \\int_a^b\n",
    "\\phi^*  \\frac{\\partial^2}{\\partial x^2} \\phi \n",
    "-\n",
    "\\left(  \\frac{\\partial^2}{\\partial x^2}  \\phi^*  \\right) \\phi \n",
    "dx$"
   ]
  },
  {
   "cell_type": "markdown",
   "metadata": {},
   "source": [
    "$\\frac{i \\hbar}{2m} \\int_a^b\n",
    "\\phi^*  \\frac{\\partial^2}{\\partial x^2} \\phi \n",
    "-\n",
    "\\phi \\frac{\\partial^2}{\\partial x^2}  \\phi^*\n",
    "dx$"
   ]
  },
  {
   "cell_type": "code",
   "execution_count": 8,
   "metadata": {},
   "outputs": [],
   "source": [
    "from sympy import Mul,srepr,collect,Add,expand\n",
    "from sympy.abc import A,B,C"
   ]
  },
  {
   "cell_type": "code",
   "execution_count": 60,
   "metadata": {},
   "outputs": [
    {
     "data": {
      "image/png": "[encoded data removed]",
      "text/latex": [
       "$$C \\left(A + B\\right)$$"
      ],
      "text/plain": [
       "C⋅(A + B)"
      ]
     },
     "execution_count": 60,
     "metadata": {},
     "output_type": "execute_result"
    }
   ],
   "source": [
    "collect(Mul(B,C)+Mul(A,C),C)"
   ]
  },
  {
   "cell_type": "code",
   "execution_count": 61,
   "metadata": {},
   "outputs": [
    {
     "data": {
      "image/png": "[encoded data removed]",
      "text/latex": [
       "$$A C + B C$$"
      ],
      "text/plain": [
       "A⋅C + B⋅C"
      ]
     },
     "execution_count": 61,
     "metadata": {},
     "output_type": "execute_result"
    }
   ],
   "source": [
    "Mul(B,C)+Mul(A,C)"
   ]
  },
  {
   "cell_type": "code",
   "execution_count": 113,
   "metadata": {},
   "outputs": [],
   "source": [
    "from sympy.printing.dot import dotprint"
   ]
  },
  {
   "cell_type": "code",
   "execution_count": 64,
   "metadata": {},
   "outputs": [
    {
     "data": {
      "text/plain": [
       "'digraph{\\n\\n# Graph style\\n\"ordering\"=\"out\"\\n\"rankdir\"=\"TD\"\\n\\n#########\\n# Nodes #\\n#########\\n\\n\"Add(Mul(Symbol(A), Symbol(C)), Mul(Symbol(B), Symbol(C)))_()\" [\"color\"=\"black\", \"label\"=\"Add\", \"shape\"=\"ellipse\"];\\n\"Mul(Symbol(A), Symbol(C))_(0,)\" [\"color\"=\"black\", \"label\"=\"Mul\", \"shape\"=\"ellipse\"];\\n\"Symbol(A)_(0, 0)\" [\"color\"=\"black\", \"label\"=\"A\", \"shape\"=\"ellipse\"];\\n\"Symbol(C)_(0, 1)\" [\"color\"=\"black\", \"label\"=\"C\", \"shape\"=\"ellipse\"];\\n\"Mul(Symbol(B), Symbol(C))_(1,)\" [\"color\"=\"black\", \"label\"=\"Mul\", \"shape\"=\"ellipse\"];\\n\"Symbol(B)_(1, 0)\" [\"color\"=\"black\", \"label\"=\"B\", \"shape\"=\"ellipse\"];\\n\"Symbol(C)_(1, 1)\" [\"color\"=\"black\", \"label\"=\"C\", \"shape\"=\"ellipse\"];\\n\\n#########\\n# Edges #\\n#########\\n\\n\"Add(Mul(Symbol(A), Symbol(C)), Mul(Symbol(B), Symbol(C)))_()\" -> \"Mul(Symbol(A), Symbol(C))_(0,)\";\\n\"Add(Mul(Symbol(A), Symbol(C)), Mul(Symbol(B), Symbol(C)))_()\" -> \"Mul(Symbol(B), Symbol(C))_(1,)\";\\n\"Mul(Symbol(A), Symbol(C))_(0,)\" -> \"Symbol(A)_(0, 0)\";\\n\"Mul(Symbol(A), Symbol(C))_(0,)\" -> \"Symbol(C)_(0, 1)\";\\n\"Mul(Symbol(B), Symbol(C))_(1,)\" -> \"Symbol(B)_(1, 0)\";\\n\"Mul(Symbol(B), Symbol(C))_(1,)\" -> \"Symbol(C)_(1, 1)\";\\n}'"
      ]
     },
     "execution_count": 64,
     "metadata": {},
     "output_type": "execute_result"
    }
   ],
   "source": [
    "dotprint(Mul(B,C)+Mul(A,C))"
   ]
  },
  {
   "cell_type": "code",
   "execution_count": 111,
   "metadata": {},
   "outputs": [],
   "source": [
    "from graphviz import Digraph, Source"
   ]
  },
  {
   "cell_type": "code",
   "execution_count": 72,
   "metadata": {},
   "outputs": [],
   "source": [
    "dd=Digraph(Mul(B,C)+Mul(A,C))"
   ]
  },
  {
   "cell_type": "code",
   "execution_count": 75,
   "metadata": {},
   "outputs": [],
   "source": [
    "dd=Source(dotprint(Mul(B,C)+Mul(A,C)))"
   ]
  },
  {
   "cell_type": "code",
   "execution_count": 77,
   "metadata": {},
   "outputs": [
    {
     "data": {
      "image/svg+xml": [
       "<?xml version=\"1.0\" encoding=\"UTF-8\" standalone=\"no\"?>\n",
       "<!DOCTYPE svg PUBLIC \"-//W3C//DTD SVG 1.1//EN\"\n",
       " \"http://www.w3.org/Graphics/SVG/1.1/DTD/svg11.dtd\">\n",
       "<!-- Generated by graphviz version 2.40.1 (20161225.0304)\n",
       " -->\n",
       "<!-- Title: %3 Pages: 1 -->\n",
       "<svg width=\"278pt\" height=\"188pt\"\n",
       " viewBox=\"0.00 0.00 278.00 188.00\" xmlns=\"http://www.w3.org/2000/svg\" xmlns:xlink=\"http://www.w3.org/1999/xlink\">\n",
       "<g id=\"graph0\" class=\"graph\" transform=\"scale(1 1) rotate(0) translate(4 184)\">\n",
       "<title>%3</title>\n",
       "<polygon fill=\"#ffffff\" stroke=\"transparent\" points=\"-4,4 -4,-184 274,-184 274,4 -4,4\"/>\n",
       "<!-- Add(Mul(Symbol(A), Symbol(C)), Mul(Symbol(B), Symbol(C)))_() -->\n",
       "<g id=\"node1\" class=\"node\">\n",
       "<title>Add(Mul(Symbol(A), Symbol(C)), Mul(Symbol(B), Symbol(C)))_()</title>\n",
       "<ellipse fill=\"none\" stroke=\"#000000\" cx=\"135\" cy=\"-162\" rx=\"27.0966\" ry=\"18\"/>\n",
       "<text text-anchor=\"middle\" x=\"135\" y=\"-158.3\" font-family=\"Times,serif\" font-size=\"14.00\" fill=\"#000000\">Add</text>\n",
       "</g>\n",
       "<!-- Mul(Symbol(A), Symbol(C))_(0,) -->\n",
       "<g id=\"node2\" class=\"node\">\n",
       "<title>Mul(Symbol(A), Symbol(C))_(0,)</title>\n",
       "<ellipse fill=\"none\" stroke=\"#000000\" cx=\"99\" cy=\"-90\" rx=\"27\" ry=\"18\"/>\n",
       "<text text-anchor=\"middle\" x=\"99\" y=\"-86.3\" font-family=\"Times,serif\" font-size=\"14.00\" fill=\"#000000\">Mul</text>\n",
       "</g>\n",
       "<!-- Add(Mul(Symbol(A), Symbol(C)), Mul(Symbol(B), Symbol(C)))_()&#45;&gt;Mul(Symbol(A), Symbol(C))_(0,) -->\n",
       "<g id=\"edge1\" class=\"edge\">\n",
       "<title>Add(Mul(Symbol(A), Symbol(C)), Mul(Symbol(B), Symbol(C)))_()&#45;&gt;Mul(Symbol(A), Symbol(C))_(0,)</title>\n",
       "<path fill=\"none\" stroke=\"#000000\" d=\"M126.2854,-144.5708C122.0403,-136.0807 116.8464,-125.6929 112.1337,-116.2674\"/>\n",
       "<polygon fill=\"#000000\" stroke=\"#000000\" points=\"115.237,-114.6477 107.6343,-107.2687 108.976,-117.7782 115.237,-114.6477\"/>\n",
       "</g>\n",
       "<!-- Mul(Symbol(B), Symbol(C))_(1,) -->\n",
       "<g id=\"node5\" class=\"node\">\n",
       "<title>Mul(Symbol(B), Symbol(C))_(1,)</title>\n",
       "<ellipse fill=\"none\" stroke=\"#000000\" cx=\"171\" cy=\"-90\" rx=\"27\" ry=\"18\"/>\n",
       "<text text-anchor=\"middle\" x=\"171\" y=\"-86.3\" font-family=\"Times,serif\" font-size=\"14.00\" fill=\"#000000\">Mul</text>\n",
       "</g>\n",
       "<!-- Add(Mul(Symbol(A), Symbol(C)), Mul(Symbol(B), Symbol(C)))_()&#45;&gt;Mul(Symbol(B), Symbol(C))_(1,) -->\n",
       "<g id=\"edge2\" class=\"edge\">\n",
       "<title>Add(Mul(Symbol(A), Symbol(C)), Mul(Symbol(B), Symbol(C)))_()&#45;&gt;Mul(Symbol(B), Symbol(C))_(1,)</title>\n",
       "<path fill=\"none\" stroke=\"#000000\" d=\"M143.7146,-144.5708C147.9597,-136.0807 153.1536,-125.6929 157.8663,-116.2674\"/>\n",
       "<polygon fill=\"#000000\" stroke=\"#000000\" points=\"161.024,-117.7782 162.3657,-107.2687 154.763,-114.6477 161.024,-117.7782\"/>\n",
       "</g>\n",
       "<!-- Symbol(A)_(0, 0) -->\n",
       "<g id=\"node3\" class=\"node\">\n",
       "<title>Symbol(A)_(0, 0)</title>\n",
       "<ellipse fill=\"none\" stroke=\"#000000\" cx=\"27\" cy=\"-18\" rx=\"27\" ry=\"18\"/>\n",
       "<text text-anchor=\"middle\" x=\"27\" y=\"-14.3\" font-family=\"Times,serif\" font-size=\"14.00\" fill=\"#000000\">A</text>\n",
       "</g>\n",
       "<!-- Mul(Symbol(A), Symbol(C))_(0,)&#45;&gt;Symbol(A)_(0, 0) -->\n",
       "<g id=\"edge3\" class=\"edge\">\n",
       "<title>Mul(Symbol(A), Symbol(C))_(0,)&#45;&gt;Symbol(A)_(0, 0)</title>\n",
       "<path fill=\"none\" stroke=\"#000000\" d=\"M83.7307,-74.7307C73.803,-64.803 60.6847,-51.6847 49.5637,-40.5637\"/>\n",
       "<polygon fill=\"#000000\" stroke=\"#000000\" points=\"51.7933,-37.8436 42.2473,-33.2473 46.8436,-42.7933 51.7933,-37.8436\"/>\n",
       "</g>\n",
       "<!-- Symbol(C)_(0, 1) -->\n",
       "<g id=\"node4\" class=\"node\">\n",
       "<title>Symbol(C)_(0, 1)</title>\n",
       "<ellipse fill=\"none\" stroke=\"#000000\" cx=\"99\" cy=\"-18\" rx=\"27\" ry=\"18\"/>\n",
       "<text text-anchor=\"middle\" x=\"99\" y=\"-14.3\" font-family=\"Times,serif\" font-size=\"14.00\" fill=\"#000000\">C</text>\n",
       "</g>\n",
       "<!-- Mul(Symbol(A), Symbol(C))_(0,)&#45;&gt;Symbol(C)_(0, 1) -->\n",
       "<g id=\"edge4\" class=\"edge\">\n",
       "<title>Mul(Symbol(A), Symbol(C))_(0,)&#45;&gt;Symbol(C)_(0, 1)</title>\n",
       "<path fill=\"none\" stroke=\"#000000\" d=\"M99,-71.8314C99,-64.131 99,-54.9743 99,-46.4166\"/>\n",
       "<polygon fill=\"#000000\" stroke=\"#000000\" points=\"102.5001,-46.4132 99,-36.4133 95.5001,-46.4133 102.5001,-46.4132\"/>\n",
       "</g>\n",
       "<!-- Symbol(B)_(1, 0) -->\n",
       "<g id=\"node6\" class=\"node\">\n",
       "<title>Symbol(B)_(1, 0)</title>\n",
       "<ellipse fill=\"none\" stroke=\"#000000\" cx=\"171\" cy=\"-18\" rx=\"27\" ry=\"18\"/>\n",
       "<text text-anchor=\"middle\" x=\"171\" y=\"-14.3\" font-family=\"Times,serif\" font-size=\"14.00\" fill=\"#000000\">B</text>\n",
       "</g>\n",
       "<!-- Mul(Symbol(B), Symbol(C))_(1,)&#45;&gt;Symbol(B)_(1, 0) -->\n",
       "<g id=\"edge5\" class=\"edge\">\n",
       "<title>Mul(Symbol(B), Symbol(C))_(1,)&#45;&gt;Symbol(B)_(1, 0)</title>\n",
       "<path fill=\"none\" stroke=\"#000000\" d=\"M171,-71.8314C171,-64.131 171,-54.9743 171,-46.4166\"/>\n",
       "<polygon fill=\"#000000\" stroke=\"#000000\" points=\"174.5001,-46.4132 171,-36.4133 167.5001,-46.4133 174.5001,-46.4132\"/>\n",
       "</g>\n",
       "<!-- Symbol(C)_(1, 1) -->\n",
       "<g id=\"node7\" class=\"node\">\n",
       "<title>Symbol(C)_(1, 1)</title>\n",
       "<ellipse fill=\"none\" stroke=\"#000000\" cx=\"243\" cy=\"-18\" rx=\"27\" ry=\"18\"/>\n",
       "<text text-anchor=\"middle\" x=\"243\" y=\"-14.3\" font-family=\"Times,serif\" font-size=\"14.00\" fill=\"#000000\">C</text>\n",
       "</g>\n",
       "<!-- Mul(Symbol(B), Symbol(C))_(1,)&#45;&gt;Symbol(C)_(1, 1) -->\n",
       "<g id=\"edge6\" class=\"edge\">\n",
       "<title>Mul(Symbol(B), Symbol(C))_(1,)&#45;&gt;Symbol(C)_(1, 1)</title>\n",
       "<path fill=\"none\" stroke=\"#000000\" d=\"M186.2693,-74.7307C196.197,-64.803 209.3153,-51.6847 220.4363,-40.5637\"/>\n",
       "<polygon fill=\"#000000\" stroke=\"#000000\" points=\"223.1564,-42.7933 227.7527,-33.2473 218.2067,-37.8436 223.1564,-42.7933\"/>\n",
       "</g>\n",
       "</g>\n",
       "</svg>\n"
      ],
      "text/plain": [
       "<graphviz.files.Source at 0x7f60b165c400>"
      ]
     },
     "execution_count": 77,
     "metadata": {},
     "output_type": "execute_result"
    }
   ],
   "source": [
    "dd"
   ]
  },
  {
   "cell_type": "code",
   "execution_count": 78,
   "metadata": {},
   "outputs": [],
   "source": [
    "d2=Source(dotprint(dftc))"
   ]
  },
  {
   "cell_type": "code",
   "execution_count": 79,
   "metadata": {},
   "outputs": [
    {
     "data": {
      "image/svg+xml": [
       "<?xml version=\"1.0\" encoding=\"UTF-8\" standalone=\"no\"?>\n",
       "<!DOCTYPE svg PUBLIC \"-//W3C//DTD SVG 1.1//EN\"\n",
       " \"http://www.w3.org/Graphics/SVG/1.1/DTD/svg11.dtd\">\n",
       "<!-- Generated by graphviz version 2.40.1 (20161225.0304)\n",
       " -->\n",
       "<!-- Title: %3 Pages: 1 -->\n",
       "<svg width=\"842pt\" height=\"476pt\"\n",
       " viewBox=\"0.00 0.00 842.00 476.00\" xmlns=\"http://www.w3.org/2000/svg\" xmlns:xlink=\"http://www.w3.org/1999/xlink\">\n",
       "<g id=\"graph0\" class=\"graph\" transform=\"scale(1 1) rotate(0) translate(4 472)\">\n",
       "<title>%3</title>\n",
       "<polygon fill=\"#ffffff\" stroke=\"transparent\" points=\"-4,4 -4,-472 838,-472 838,4 -4,4\"/>\n",
       "<!-- Mul(NegativeOne(), Pow(HBar(), NegativeOne()), ImaginaryUnit(), Add(Mul(V(Symbol(x)), conjugate(f(Symbol(x), Symbol(t)))), Mul(Rational(&#45;1, 2), Pow(HBar(), Integer(2)), Pow(Symbol(m), NegativeOne()), Derivative(conjugate(f(Symbol(x), Symbol(t))), Symbol(x), Symbol(x)))))_() -->\n",
       "<g id=\"node1\" class=\"node\">\n",
       "<title>Mul(NegativeOne(), Pow(HBar(), NegativeOne()), ImaginaryUnit(), Add(Mul(V(Symbol(x)), conjugate(f(Symbol(x), Symbol(t)))), Mul(Rational(&#45;1, 2), Pow(HBar(), Integer(2)), Pow(Symbol(m), NegativeOne()), Derivative(conjugate(f(Symbol(x), Symbol(t))), Symbol(x), Symbol(x)))))_()</title>\n",
       "<ellipse fill=\"none\" stroke=\"#000000\" cx=\"135\" cy=\"-450\" rx=\"27\" ry=\"18\"/>\n",
       "<text text-anchor=\"middle\" x=\"135\" y=\"-446.3\" font-family=\"Times,serif\" font-size=\"14.00\" fill=\"#000000\">Mul</text>\n",
       "</g>\n",
       "<!-- NegativeOne()_(0,) -->\n",
       "<g id=\"node2\" class=\"node\">\n",
       "<title>NegativeOne()_(0,)</title>\n",
       "<ellipse fill=\"none\" stroke=\"#000000\" cx=\"27\" cy=\"-378\" rx=\"27\" ry=\"18\"/>\n",
       "<text text-anchor=\"middle\" x=\"27\" y=\"-374.3\" font-family=\"Times,serif\" font-size=\"14.00\" fill=\"#000000\">&#45;1</text>\n",
       "</g>\n",
       "<!-- Mul(NegativeOne(), Pow(HBar(), NegativeOne()), ImaginaryUnit(), Add(Mul(V(Symbol(x)), conjugate(f(Symbol(x), Symbol(t)))), Mul(Rational(&#45;1, 2), Pow(HBar(), Integer(2)), Pow(Symbol(m), NegativeOne()), Derivative(conjugate(f(Symbol(x), Symbol(t))), Symbol(x), Symbol(x)))))_()&#45;&gt;NegativeOne()_(0,) -->\n",
       "<g id=\"edge1\" class=\"edge\">\n",
       "<title>Mul(NegativeOne(), Pow(HBar(), NegativeOne()), ImaginaryUnit(), Add(Mul(V(Symbol(x)), conjugate(f(Symbol(x), Symbol(t)))), Mul(Rational(&#45;1, 2), Pow(HBar(), Integer(2)), Pow(Symbol(m), NegativeOne()), Derivative(conjugate(f(Symbol(x), Symbol(t))), Symbol(x), Symbol(x)))))_()&#45;&gt;NegativeOne()_(0,)</title>\n",
       "<path fill=\"none\" stroke=\"#000000\" d=\"M115.6918,-437.1278C98.6445,-425.763 73.5981,-409.0654 54.4656,-396.3104\"/>\n",
       "<polygon fill=\"#000000\" stroke=\"#000000\" points=\"56.4031,-393.3956 46.1411,-390.7607 52.5201,-399.2199 56.4031,-393.3956\"/>\n",
       "</g>\n",
       "<!-- ImaginaryUnit()_(1,) -->\n",
       "<g id=\"node3\" class=\"node\">\n",
       "<title>ImaginaryUnit()_(1,)</title>\n",
       "<ellipse fill=\"none\" stroke=\"#000000\" cx=\"99\" cy=\"-378\" rx=\"27\" ry=\"18\"/>\n",
       "<text text-anchor=\"middle\" x=\"99\" y=\"-374.3\" font-family=\"Times,serif\" font-size=\"14.00\" fill=\"#000000\">I</text>\n",
       "</g>\n",
       "<!-- Mul(NegativeOne(), Pow(HBar(), NegativeOne()), ImaginaryUnit(), Add(Mul(V(Symbol(x)), conjugate(f(Symbol(x), Symbol(t)))), Mul(Rational(&#45;1, 2), Pow(HBar(), Integer(2)), Pow(Symbol(m), NegativeOne()), Derivative(conjugate(f(Symbol(x), Symbol(t))), Symbol(x), Symbol(x)))))_()&#45;&gt;ImaginaryUnit()_(1,) -->\n",
       "<g id=\"edge2\" class=\"edge\">\n",
       "<title>Mul(NegativeOne(), Pow(HBar(), NegativeOne()), ImaginaryUnit(), Add(Mul(V(Symbol(x)), conjugate(f(Symbol(x), Symbol(t)))), Mul(Rational(&#45;1, 2), Pow(HBar(), Integer(2)), Pow(Symbol(m), NegativeOne()), Derivative(conjugate(f(Symbol(x), Symbol(t))), Symbol(x), Symbol(x)))))_()&#45;&gt;ImaginaryUnit()_(1,)</title>\n",
       "<path fill=\"none\" stroke=\"#000000\" d=\"M126.2854,-432.5708C122.0403,-424.0807 116.8464,-413.6929 112.1337,-404.2674\"/>\n",
       "<polygon fill=\"#000000\" stroke=\"#000000\" points=\"115.237,-402.6477 107.6343,-395.2687 108.976,-405.7782 115.237,-402.6477\"/>\n",
       "</g>\n",
       "<!-- Pow(HBar(), NegativeOne())_(2,) -->\n",
       "<g id=\"node4\" class=\"node\">\n",
       "<title>Pow(HBar(), NegativeOne())_(2,)</title>\n",
       "<ellipse fill=\"none\" stroke=\"#000000\" cx=\"171\" cy=\"-378\" rx=\"27.0966\" ry=\"18\"/>\n",
       "<text text-anchor=\"middle\" x=\"171\" y=\"-374.3\" font-family=\"Times,serif\" font-size=\"14.00\" fill=\"#000000\">Pow</text>\n",
       "</g>\n",
       "<!-- Mul(NegativeOne(), Pow(HBar(), NegativeOne()), ImaginaryUnit(), Add(Mul(V(Symbol(x)), conjugate(f(Symbol(x), Symbol(t)))), Mul(Rational(&#45;1, 2), Pow(HBar(), Integer(2)), Pow(Symbol(m), NegativeOne()), Derivative(conjugate(f(Symbol(x), Symbol(t))), Symbol(x), Symbol(x)))))_()&#45;&gt;Pow(HBar(), NegativeOne())_(2,) -->\n",
       "<g id=\"edge3\" class=\"edge\">\n",
       "<title>Mul(NegativeOne(), Pow(HBar(), NegativeOne()), ImaginaryUnit(), Add(Mul(V(Symbol(x)), conjugate(f(Symbol(x), Symbol(t)))), Mul(Rational(&#45;1, 2), Pow(HBar(), Integer(2)), Pow(Symbol(m), NegativeOne()), Derivative(conjugate(f(Symbol(x), Symbol(t))), Symbol(x), Symbol(x)))))_()&#45;&gt;Pow(HBar(), NegativeOne())_(2,)</title>\n",
       "<path fill=\"none\" stroke=\"#000000\" d=\"M143.7146,-432.5708C147.9597,-424.0807 153.1536,-413.6929 157.8663,-404.2674\"/>\n",
       "<polygon fill=\"#000000\" stroke=\"#000000\" points=\"161.024,-405.7782 162.3657,-395.2687 154.763,-402.6477 161.024,-405.7782\"/>\n",
       "</g>\n",
       "<!-- Add(Mul(V(Symbol(x)), conjugate(f(Symbol(x), Symbol(t)))), Mul(Rational(&#45;1, 2), Pow(HBar(), Integer(2)), Pow(Symbol(m), NegativeOne()), Derivative(conjugate(f(Symbol(x), Symbol(t))), Symbol(x), Symbol(x))))_(3,) -->\n",
       "<g id=\"node7\" class=\"node\">\n",
       "<title>Add(Mul(V(Symbol(x)), conjugate(f(Symbol(x), Symbol(t)))), Mul(Rational(&#45;1, 2), Pow(HBar(), Integer(2)), Pow(Symbol(m), NegativeOne()), Derivative(conjugate(f(Symbol(x), Symbol(t))), Symbol(x), Symbol(x))))_(3,)</title>\n",
       "<ellipse fill=\"none\" stroke=\"#000000\" cx=\"244\" cy=\"-378\" rx=\"27.0966\" ry=\"18\"/>\n",
       "<text text-anchor=\"middle\" x=\"244\" y=\"-374.3\" font-family=\"Times,serif\" font-size=\"14.00\" fill=\"#000000\">Add</text>\n",
       "</g>\n",
       "<!-- Mul(NegativeOne(), Pow(HBar(), NegativeOne()), ImaginaryUnit(), Add(Mul(V(Symbol(x)), conjugate(f(Symbol(x), Symbol(t)))), Mul(Rational(&#45;1, 2), Pow(HBar(), Integer(2)), Pow(Symbol(m), NegativeOne()), Derivative(conjugate(f(Symbol(x), Symbol(t))), Symbol(x), Symbol(x)))))_()&#45;&gt;Add(Mul(V(Symbol(x)), conjugate(f(Symbol(x), Symbol(t)))), Mul(Rational(&#45;1, 2), Pow(HBar(), Integer(2)), Pow(Symbol(m), NegativeOne()), Derivative(conjugate(f(Symbol(x), Symbol(t))), Symbol(x), Symbol(x))))_(3,) -->\n",
       "<g id=\"edge4\" class=\"edge\">\n",
       "<title>Mul(NegativeOne(), Pow(HBar(), NegativeOne()), ImaginaryUnit(), Add(Mul(V(Symbol(x)), conjugate(f(Symbol(x), Symbol(t)))), Mul(Rational(&#45;1, 2), Pow(HBar(), Integer(2)), Pow(Symbol(m), NegativeOne()), Derivative(conjugate(f(Symbol(x), Symbol(t))), Symbol(x), Symbol(x)))))_()&#45;&gt;Add(Mul(V(Symbol(x)), conjugate(f(Symbol(x), Symbol(t)))), Mul(Rational(&#45;1, 2), Pow(HBar(), Integer(2)), Pow(Symbol(m), NegativeOne()), Derivative(conjugate(f(Symbol(x), Symbol(t))), Symbol(x), Symbol(x))))_(3,)</title>\n",
       "<path fill=\"none\" stroke=\"#000000\" d=\"M154.2361,-437.2936C171.408,-425.9507 196.7651,-409.201 216.1527,-396.3946\"/>\n",
       "<polygon fill=\"#000000\" stroke=\"#000000\" points=\"218.1746,-399.2536 224.5896,-390.8216 214.3165,-393.4128 218.1746,-399.2536\"/>\n",
       "</g>\n",
       "<!-- HBar()_(2, 0) -->\n",
       "<g id=\"node5\" class=\"node\">\n",
       "<title>HBar()_(2, 0)</title>\n",
       "<ellipse fill=\"none\" stroke=\"#000000\" cx=\"99\" cy=\"-306\" rx=\"27\" ry=\"18\"/>\n",
       "<text text-anchor=\"middle\" x=\"99\" y=\"-302.3\" font-family=\"Times,serif\" font-size=\"14.00\" fill=\"#000000\">hbar</text>\n",
       "</g>\n",
       "<!-- Pow(HBar(), NegativeOne())_(2,)&#45;&gt;HBar()_(2, 0) -->\n",
       "<g id=\"edge5\" class=\"edge\">\n",
       "<title>Pow(HBar(), NegativeOne())_(2,)&#45;&gt;HBar()_(2, 0)</title>\n",
       "<path fill=\"none\" stroke=\"#000000\" d=\"M155.7307,-362.7307C145.803,-352.803 132.6847,-339.6847 121.5637,-328.5637\"/>\n",
       "<polygon fill=\"#000000\" stroke=\"#000000\" points=\"123.7933,-325.8436 114.2473,-321.2473 118.8436,-330.7933 123.7933,-325.8436\"/>\n",
       "</g>\n",
       "<!-- NegativeOne()_(2, 1) -->\n",
       "<g id=\"node6\" class=\"node\">\n",
       "<title>NegativeOne()_(2, 1)</title>\n",
       "<ellipse fill=\"none\" stroke=\"#000000\" cx=\"171\" cy=\"-306\" rx=\"27\" ry=\"18\"/>\n",
       "<text text-anchor=\"middle\" x=\"171\" y=\"-302.3\" font-family=\"Times,serif\" font-size=\"14.00\" fill=\"#000000\">&#45;1</text>\n",
       "</g>\n",
       "<!-- Pow(HBar(), NegativeOne())_(2,)&#45;&gt;NegativeOne()_(2, 1) -->\n",
       "<g id=\"edge6\" class=\"edge\">\n",
       "<title>Pow(HBar(), NegativeOne())_(2,)&#45;&gt;NegativeOne()_(2, 1)</title>\n",
       "<path fill=\"none\" stroke=\"#000000\" d=\"M171,-359.8314C171,-352.131 171,-342.9743 171,-334.4166\"/>\n",
       "<polygon fill=\"#000000\" stroke=\"#000000\" points=\"174.5001,-334.4132 171,-324.4133 167.5001,-334.4133 174.5001,-334.4132\"/>\n",
       "</g>\n",
       "<!-- Mul(V(Symbol(x)), conjugate(f(Symbol(x), Symbol(t))))_(3, 0) -->\n",
       "<g id=\"node8\" class=\"node\">\n",
       "<title>Mul(V(Symbol(x)), conjugate(f(Symbol(x), Symbol(t))))_(3, 0)</title>\n",
       "<ellipse fill=\"none\" stroke=\"#000000\" cx=\"243\" cy=\"-306\" rx=\"27\" ry=\"18\"/>\n",
       "<text text-anchor=\"middle\" x=\"243\" y=\"-302.3\" font-family=\"Times,serif\" font-size=\"14.00\" fill=\"#000000\">Mul</text>\n",
       "</g>\n",
       "<!-- Add(Mul(V(Symbol(x)), conjugate(f(Symbol(x), Symbol(t)))), Mul(Rational(&#45;1, 2), Pow(HBar(), Integer(2)), Pow(Symbol(m), NegativeOne()), Derivative(conjugate(f(Symbol(x), Symbol(t))), Symbol(x), Symbol(x))))_(3,)&#45;&gt;Mul(V(Symbol(x)), conjugate(f(Symbol(x), Symbol(t))))_(3, 0) -->\n",
       "<g id=\"edge7\" class=\"edge\">\n",
       "<title>Add(Mul(V(Symbol(x)), conjugate(f(Symbol(x), Symbol(t)))), Mul(Rational(&#45;1, 2), Pow(HBar(), Integer(2)), Pow(Symbol(m), NegativeOne()), Derivative(conjugate(f(Symbol(x), Symbol(t))), Symbol(x), Symbol(x))))_(3,)&#45;&gt;Mul(V(Symbol(x)), conjugate(f(Symbol(x), Symbol(t))))_(3, 0)</title>\n",
       "<path fill=\"none\" stroke=\"#000000\" d=\"M243.7477,-359.8314C243.6407,-352.131 243.5135,-342.9743 243.3947,-334.4166\"/>\n",
       "<polygon fill=\"#000000\" stroke=\"#000000\" points=\"246.8944,-334.3637 243.2557,-324.4133 239.8951,-334.4609 246.8944,-334.3637\"/>\n",
       "</g>\n",
       "<!-- Mul(Rational(&#45;1, 2), Pow(HBar(), Integer(2)), Pow(Symbol(m), NegativeOne()), Derivative(conjugate(f(Symbol(x), Symbol(t))), Symbol(x), Symbol(x)))_(3, 1) -->\n",
       "<g id=\"node15\" class=\"node\">\n",
       "<title>Mul(Rational(&#45;1, 2), Pow(HBar(), Integer(2)), Pow(Symbol(m), NegativeOne()), Derivative(conjugate(f(Symbol(x), Symbol(t))), Symbol(x), Symbol(x)))_(3, 1)</title>\n",
       "<ellipse fill=\"none\" stroke=\"#000000\" cx=\"407\" cy=\"-306\" rx=\"27\" ry=\"18\"/>\n",
       "<text text-anchor=\"middle\" x=\"407\" y=\"-302.3\" font-family=\"Times,serif\" font-size=\"14.00\" fill=\"#000000\">Mul</text>\n",
       "</g>\n",
       "<!-- Add(Mul(V(Symbol(x)), conjugate(f(Symbol(x), Symbol(t)))), Mul(Rational(&#45;1, 2), Pow(HBar(), Integer(2)), Pow(Symbol(m), NegativeOne()), Derivative(conjugate(f(Symbol(x), Symbol(t))), Symbol(x), Symbol(x))))_(3,)&#45;&gt;Mul(Rational(&#45;1, 2), Pow(HBar(), Integer(2)), Pow(Symbol(m), NegativeOne()), Derivative(conjugate(f(Symbol(x), Symbol(t))), Symbol(x), Symbol(x)))_(3, 1) -->\n",
       "<g id=\"edge8\" class=\"edge\">\n",
       "<title>Add(Mul(V(Symbol(x)), conjugate(f(Symbol(x), Symbol(t)))), Mul(Rational(&#45;1, 2), Pow(HBar(), Integer(2)), Pow(Symbol(m), NegativeOne()), Derivative(conjugate(f(Symbol(x), Symbol(t))), Symbol(x), Symbol(x))))_(3,)&#45;&gt;Mul(Rational(&#45;1, 2), Pow(HBar(), Integer(2)), Pow(Symbol(m), NegativeOne()), Derivative(conjugate(f(Symbol(x), Symbol(t))), Symbol(x), Symbol(x)))_(3, 1)</title>\n",
       "<path fill=\"none\" stroke=\"#000000\" d=\"M267.0082,-367.8369C295.2409,-355.366 343.2665,-334.1522 375.0638,-320.1068\"/>\n",
       "<polygon fill=\"#000000\" stroke=\"#000000\" points=\"376.6379,-323.2378 384.371,-315.9956 373.8095,-316.8347 376.6379,-323.2378\"/>\n",
       "</g>\n",
       "<!-- V(Symbol(x))_(3, 0, 0) -->\n",
       "<g id=\"node9\" class=\"node\">\n",
       "<title>V(Symbol(x))_(3, 0, 0)</title>\n",
       "<ellipse fill=\"none\" stroke=\"#000000\" cx=\"151\" cy=\"-234\" rx=\"27\" ry=\"18\"/>\n",
       "<text text-anchor=\"middle\" x=\"151\" y=\"-230.3\" font-family=\"Times,serif\" font-size=\"14.00\" fill=\"#000000\">V</text>\n",
       "</g>\n",
       "<!-- Mul(V(Symbol(x)), conjugate(f(Symbol(x), Symbol(t))))_(3, 0)&#45;&gt;V(Symbol(x))_(3, 0, 0) -->\n",
       "<g id=\"edge9\" class=\"edge\">\n",
       "<title>Mul(V(Symbol(x)), conjugate(f(Symbol(x), Symbol(t))))_(3, 0)&#45;&gt;V(Symbol(x))_(3, 0, 0)</title>\n",
       "<path fill=\"none\" stroke=\"#000000\" d=\"M225.2615,-292.1177C211.5158,-281.3602 192.2733,-266.3009 176.8203,-254.2072\"/>\n",
       "<polygon fill=\"#000000\" stroke=\"#000000\" points=\"178.7162,-251.2466 168.6841,-247.8397 174.402,-256.7591 178.7162,-251.2466\"/>\n",
       "</g>\n",
       "<!-- conjugate(f(Symbol(x), Symbol(t)))_(3, 0, 1) -->\n",
       "<g id=\"node11\" class=\"node\">\n",
       "<title>conjugate(f(Symbol(x), Symbol(t)))_(3, 0, 1)</title>\n",
       "<ellipse fill=\"none\" stroke=\"#000000\" cx=\"243\" cy=\"-234\" rx=\"47.3916\" ry=\"18\"/>\n",
       "<text text-anchor=\"middle\" x=\"243\" y=\"-230.3\" font-family=\"Times,serif\" font-size=\"14.00\" fill=\"#000000\">conjugate</text>\n",
       "</g>\n",
       "<!-- Mul(V(Symbol(x)), conjugate(f(Symbol(x), Symbol(t))))_(3, 0)&#45;&gt;conjugate(f(Symbol(x), Symbol(t)))_(3, 0, 1) -->\n",
       "<g id=\"edge10\" class=\"edge\">\n",
       "<title>Mul(V(Symbol(x)), conjugate(f(Symbol(x), Symbol(t))))_(3, 0)&#45;&gt;conjugate(f(Symbol(x), Symbol(t)))_(3, 0, 1)</title>\n",
       "<path fill=\"none\" stroke=\"#000000\" d=\"M243,-287.8314C243,-280.131 243,-270.9743 243,-262.4166\"/>\n",
       "<polygon fill=\"#000000\" stroke=\"#000000\" points=\"246.5001,-262.4132 243,-252.4133 239.5001,-262.4133 246.5001,-262.4132\"/>\n",
       "</g>\n",
       "<!-- Symbol(x)_(3, 0, 0, 0) -->\n",
       "<g id=\"node10\" class=\"node\">\n",
       "<title>Symbol(x)_(3, 0, 0, 0)</title>\n",
       "<ellipse fill=\"none\" stroke=\"#000000\" cx=\"151\" cy=\"-162\" rx=\"27\" ry=\"18\"/>\n",
       "<text text-anchor=\"middle\" x=\"151\" y=\"-158.3\" font-family=\"Times,serif\" font-size=\"14.00\" fill=\"#000000\">x</text>\n",
       "</g>\n",
       "<!-- V(Symbol(x))_(3, 0, 0)&#45;&gt;Symbol(x)_(3, 0, 0, 0) -->\n",
       "<g id=\"edge11\" class=\"edge\">\n",
       "<title>V(Symbol(x))_(3, 0, 0)&#45;&gt;Symbol(x)_(3, 0, 0, 0)</title>\n",
       "<path fill=\"none\" stroke=\"#000000\" d=\"M151,-215.8314C151,-208.131 151,-198.9743 151,-190.4166\"/>\n",
       "<polygon fill=\"#000000\" stroke=\"#000000\" points=\"154.5001,-190.4132 151,-180.4133 147.5001,-190.4133 154.5001,-190.4132\"/>\n",
       "</g>\n",
       "<!-- f(Symbol(x), Symbol(t))_(3, 0, 1, 0) -->\n",
       "<g id=\"node12\" class=\"node\">\n",
       "<title>f(Symbol(x), Symbol(t))_(3, 0, 1, 0)</title>\n",
       "<ellipse fill=\"none\" stroke=\"#000000\" cx=\"243\" cy=\"-162\" rx=\"27\" ry=\"18\"/>\n",
       "<text text-anchor=\"middle\" x=\"243\" y=\"-158.3\" font-family=\"Times,serif\" font-size=\"14.00\" fill=\"#000000\">f</text>\n",
       "</g>\n",
       "<!-- conjugate(f(Symbol(x), Symbol(t)))_(3, 0, 1)&#45;&gt;f(Symbol(x), Symbol(t))_(3, 0, 1, 0) -->\n",
       "<g id=\"edge12\" class=\"edge\">\n",
       "<title>conjugate(f(Symbol(x), Symbol(t)))_(3, 0, 1)&#45;&gt;f(Symbol(x), Symbol(t))_(3, 0, 1, 0)</title>\n",
       "<path fill=\"none\" stroke=\"#000000\" d=\"M243,-215.8314C243,-208.131 243,-198.9743 243,-190.4166\"/>\n",
       "<polygon fill=\"#000000\" stroke=\"#000000\" points=\"246.5001,-190.4132 243,-180.4133 239.5001,-190.4133 246.5001,-190.4132\"/>\n",
       "</g>\n",
       "<!-- Symbol(x)_(3, 0, 1, 0, 0) -->\n",
       "<g id=\"node13\" class=\"node\">\n",
       "<title>Symbol(x)_(3, 0, 1, 0, 0)</title>\n",
       "<ellipse fill=\"none\" stroke=\"#000000\" cx=\"207\" cy=\"-90\" rx=\"27\" ry=\"18\"/>\n",
       "<text text-anchor=\"middle\" x=\"207\" y=\"-86.3\" font-family=\"Times,serif\" font-size=\"14.00\" fill=\"#000000\">x</text>\n",
       "</g>\n",
       "<!-- f(Symbol(x), Symbol(t))_(3, 0, 1, 0)&#45;&gt;Symbol(x)_(3, 0, 1, 0, 0) -->\n",
       "<g id=\"edge13\" class=\"edge\">\n",
       "<title>f(Symbol(x), Symbol(t))_(3, 0, 1, 0)&#45;&gt;Symbol(x)_(3, 0, 1, 0, 0)</title>\n",
       "<path fill=\"none\" stroke=\"#000000\" d=\"M234.2854,-144.5708C230.0403,-136.0807 224.8464,-125.6929 220.1337,-116.2674\"/>\n",
       "<polygon fill=\"#000000\" stroke=\"#000000\" points=\"223.237,-114.6477 215.6343,-107.2687 216.976,-117.7782 223.237,-114.6477\"/>\n",
       "</g>\n",
       "<!-- Symbol(t)_(3, 0, 1, 0, 1) -->\n",
       "<g id=\"node14\" class=\"node\">\n",
       "<title>Symbol(t)_(3, 0, 1, 0, 1)</title>\n",
       "<ellipse fill=\"none\" stroke=\"#000000\" cx=\"279\" cy=\"-90\" rx=\"27\" ry=\"18\"/>\n",
       "<text text-anchor=\"middle\" x=\"279\" y=\"-86.3\" font-family=\"Times,serif\" font-size=\"14.00\" fill=\"#000000\">t</text>\n",
       "</g>\n",
       "<!-- f(Symbol(x), Symbol(t))_(3, 0, 1, 0)&#45;&gt;Symbol(t)_(3, 0, 1, 0, 1) -->\n",
       "<g id=\"edge14\" class=\"edge\">\n",
       "<title>f(Symbol(x), Symbol(t))_(3, 0, 1, 0)&#45;&gt;Symbol(t)_(3, 0, 1, 0, 1)</title>\n",
       "<path fill=\"none\" stroke=\"#000000\" d=\"M251.7146,-144.5708C255.9597,-136.0807 261.1536,-125.6929 265.8663,-116.2674\"/>\n",
       "<polygon fill=\"#000000\" stroke=\"#000000\" points=\"269.024,-117.7782 270.3657,-107.2687 262.763,-114.6477 269.024,-117.7782\"/>\n",
       "</g>\n",
       "<!-- Rational(&#45;1, 2)_(3, 1, 0) -->\n",
       "<g id=\"node16\" class=\"node\">\n",
       "<title>Rational(&#45;1, 2)_(3, 1, 0)</title>\n",
       "<ellipse fill=\"none\" stroke=\"#000000\" cx=\"335\" cy=\"-234\" rx=\"27\" ry=\"18\"/>\n",
       "<text text-anchor=\"middle\" x=\"335\" y=\"-230.3\" font-family=\"Times,serif\" font-size=\"14.00\" fill=\"#000000\">&#45;1/2</text>\n",
       "</g>\n",
       "<!-- Mul(Rational(&#45;1, 2), Pow(HBar(), Integer(2)), Pow(Symbol(m), NegativeOne()), Derivative(conjugate(f(Symbol(x), Symbol(t))), Symbol(x), Symbol(x)))_(3, 1)&#45;&gt;Rational(&#45;1, 2)_(3, 1, 0) -->\n",
       "<g id=\"edge15\" class=\"edge\">\n",
       "<title>Mul(Rational(&#45;1, 2), Pow(HBar(), Integer(2)), Pow(Symbol(m), NegativeOne()), Derivative(conjugate(f(Symbol(x), Symbol(t))), Symbol(x), Symbol(x)))_(3, 1)&#45;&gt;Rational(&#45;1, 2)_(3, 1, 0)</title>\n",
       "<path fill=\"none\" stroke=\"#000000\" d=\"M391.7307,-290.7307C381.803,-280.803 368.6847,-267.6847 357.5637,-256.5637\"/>\n",
       "<polygon fill=\"#000000\" stroke=\"#000000\" points=\"359.7933,-253.8436 350.2473,-249.2473 354.8436,-258.7933 359.7933,-253.8436\"/>\n",
       "</g>\n",
       "<!-- Pow(Symbol(m), NegativeOne())_(3, 1, 1) -->\n",
       "<g id=\"node17\" class=\"node\">\n",
       "<title>Pow(Symbol(m), NegativeOne())_(3, 1, 1)</title>\n",
       "<ellipse fill=\"none\" stroke=\"#000000\" cx=\"407\" cy=\"-234\" rx=\"27.0966\" ry=\"18\"/>\n",
       "<text text-anchor=\"middle\" x=\"407\" y=\"-230.3\" font-family=\"Times,serif\" font-size=\"14.00\" fill=\"#000000\">Pow</text>\n",
       "</g>\n",
       "<!-- Mul(Rational(&#45;1, 2), Pow(HBar(), Integer(2)), Pow(Symbol(m), NegativeOne()), Derivative(conjugate(f(Symbol(x), Symbol(t))), Symbol(x), Symbol(x)))_(3, 1)&#45;&gt;Pow(Symbol(m), NegativeOne())_(3, 1, 1) -->\n",
       "<g id=\"edge16\" class=\"edge\">\n",
       "<title>Mul(Rational(&#45;1, 2), Pow(HBar(), Integer(2)), Pow(Symbol(m), NegativeOne()), Derivative(conjugate(f(Symbol(x), Symbol(t))), Symbol(x), Symbol(x)))_(3, 1)&#45;&gt;Pow(Symbol(m), NegativeOne())_(3, 1, 1)</title>\n",
       "<path fill=\"none\" stroke=\"#000000\" d=\"M407,-287.8314C407,-280.131 407,-270.9743 407,-262.4166\"/>\n",
       "<polygon fill=\"#000000\" stroke=\"#000000\" points=\"410.5001,-262.4132 407,-252.4133 403.5001,-262.4133 410.5001,-262.4132\"/>\n",
       "</g>\n",
       "<!-- Pow(HBar(), Integer(2))_(3, 1, 2) -->\n",
       "<g id=\"node20\" class=\"node\">\n",
       "<title>Pow(HBar(), Integer(2))_(3, 1, 2)</title>\n",
       "<ellipse fill=\"none\" stroke=\"#000000\" cx=\"480\" cy=\"-234\" rx=\"27.0966\" ry=\"18\"/>\n",
       "<text text-anchor=\"middle\" x=\"480\" y=\"-230.3\" font-family=\"Times,serif\" font-size=\"14.00\" fill=\"#000000\">Pow</text>\n",
       "</g>\n",
       "<!-- Mul(Rational(&#45;1, 2), Pow(HBar(), Integer(2)), Pow(Symbol(m), NegativeOne()), Derivative(conjugate(f(Symbol(x), Symbol(t))), Symbol(x), Symbol(x)))_(3, 1)&#45;&gt;Pow(HBar(), Integer(2))_(3, 1, 2) -->\n",
       "<g id=\"edge17\" class=\"edge\">\n",
       "<title>Mul(Rational(&#45;1, 2), Pow(HBar(), Integer(2)), Pow(Symbol(m), NegativeOne()), Derivative(conjugate(f(Symbol(x), Symbol(t))), Symbol(x), Symbol(x)))_(3, 1)&#45;&gt;Pow(HBar(), Integer(2))_(3, 1, 2)</title>\n",
       "<path fill=\"none\" stroke=\"#000000\" d=\"M422.1256,-291.0816C432.3345,-281.0125 445.9878,-267.5463 457.4693,-256.2221\"/>\n",
       "<polygon fill=\"#000000\" stroke=\"#000000\" points=\"459.9806,-258.6611 464.6426,-249.147 455.0651,-253.6773 459.9806,-258.6611\"/>\n",
       "</g>\n",
       "<!-- Derivative(conjugate(f(Symbol(x), Symbol(t))), Symbol(x), Symbol(x))_(3, 1, 3) -->\n",
       "<g id=\"node23\" class=\"node\">\n",
       "<title>Derivative(conjugate(f(Symbol(x), Symbol(t))), Symbol(x), Symbol(x))_(3, 1, 3)</title>\n",
       "<ellipse fill=\"none\" stroke=\"#000000\" cx=\"689\" cy=\"-234\" rx=\"48.9926\" ry=\"18\"/>\n",
       "<text text-anchor=\"middle\" x=\"689\" y=\"-230.3\" font-family=\"Times,serif\" font-size=\"14.00\" fill=\"#000000\">Derivative</text>\n",
       "</g>\n",
       "<!-- Mul(Rational(&#45;1, 2), Pow(HBar(), Integer(2)), Pow(Symbol(m), NegativeOne()), Derivative(conjugate(f(Symbol(x), Symbol(t))), Symbol(x), Symbol(x)))_(3, 1)&#45;&gt;Derivative(conjugate(f(Symbol(x), Symbol(t))), Symbol(x), Symbol(x))_(3, 1, 3) -->\n",
       "<g id=\"edge18\" class=\"edge\">\n",
       "<title>Mul(Rational(&#45;1, 2), Pow(HBar(), Integer(2)), Pow(Symbol(m), NegativeOne()), Derivative(conjugate(f(Symbol(x), Symbol(t))), Symbol(x), Symbol(x)))_(3, 1)&#45;&gt;Derivative(conjugate(f(Symbol(x), Symbol(t))), Symbol(x), Symbol(x))_(3, 1, 3)</title>\n",
       "<path fill=\"none\" stroke=\"#000000\" d=\"M432.523,-299.4835C479.0147,-287.6133 578.2765,-262.2698 638.7689,-246.825\"/>\n",
       "<polygon fill=\"#000000\" stroke=\"#000000\" points=\"639.6722,-250.2067 648.4955,-244.3416 637.9404,-243.4243 639.6722,-250.2067\"/>\n",
       "</g>\n",
       "<!-- Symbol(m)_(3, 1, 1, 0) -->\n",
       "<g id=\"node18\" class=\"node\">\n",
       "<title>Symbol(m)_(3, 1, 1, 0)</title>\n",
       "<ellipse fill=\"none\" stroke=\"#000000\" cx=\"335\" cy=\"-162\" rx=\"27\" ry=\"18\"/>\n",
       "<text text-anchor=\"middle\" x=\"335\" y=\"-158.3\" font-family=\"Times,serif\" font-size=\"14.00\" fill=\"#000000\">m</text>\n",
       "</g>\n",
       "<!-- Pow(Symbol(m), NegativeOne())_(3, 1, 1)&#45;&gt;Symbol(m)_(3, 1, 1, 0) -->\n",
       "<g id=\"edge19\" class=\"edge\">\n",
       "<title>Pow(Symbol(m), NegativeOne())_(3, 1, 1)&#45;&gt;Symbol(m)_(3, 1, 1, 0)</title>\n",
       "<path fill=\"none\" stroke=\"#000000\" d=\"M391.7307,-218.7307C381.803,-208.803 368.6847,-195.6847 357.5637,-184.5637\"/>\n",
       "<polygon fill=\"#000000\" stroke=\"#000000\" points=\"359.7933,-181.8436 350.2473,-177.2473 354.8436,-186.7933 359.7933,-181.8436\"/>\n",
       "</g>\n",
       "<!-- NegativeOne()_(3, 1, 1, 1) -->\n",
       "<g id=\"node19\" class=\"node\">\n",
       "<title>NegativeOne()_(3, 1, 1, 1)</title>\n",
       "<ellipse fill=\"none\" stroke=\"#000000\" cx=\"407\" cy=\"-162\" rx=\"27\" ry=\"18\"/>\n",
       "<text text-anchor=\"middle\" x=\"407\" y=\"-158.3\" font-family=\"Times,serif\" font-size=\"14.00\" fill=\"#000000\">&#45;1</text>\n",
       "</g>\n",
       "<!-- Pow(Symbol(m), NegativeOne())_(3, 1, 1)&#45;&gt;NegativeOne()_(3, 1, 1, 1) -->\n",
       "<g id=\"edge20\" class=\"edge\">\n",
       "<title>Pow(Symbol(m), NegativeOne())_(3, 1, 1)&#45;&gt;NegativeOne()_(3, 1, 1, 1)</title>\n",
       "<path fill=\"none\" stroke=\"#000000\" d=\"M407,-215.8314C407,-208.131 407,-198.9743 407,-190.4166\"/>\n",
       "<polygon fill=\"#000000\" stroke=\"#000000\" points=\"410.5001,-190.4132 407,-180.4133 403.5001,-190.4133 410.5001,-190.4132\"/>\n",
       "</g>\n",
       "<!-- HBar()_(3, 1, 2, 0) -->\n",
       "<g id=\"node21\" class=\"node\">\n",
       "<title>HBar()_(3, 1, 2, 0)</title>\n",
       "<ellipse fill=\"none\" stroke=\"#000000\" cx=\"479\" cy=\"-162\" rx=\"27\" ry=\"18\"/>\n",
       "<text text-anchor=\"middle\" x=\"479\" y=\"-158.3\" font-family=\"Times,serif\" font-size=\"14.00\" fill=\"#000000\">hbar</text>\n",
       "</g>\n",
       "<!-- Pow(HBar(), Integer(2))_(3, 1, 2)&#45;&gt;HBar()_(3, 1, 2, 0) -->\n",
       "<g id=\"edge21\" class=\"edge\">\n",
       "<title>Pow(HBar(), Integer(2))_(3, 1, 2)&#45;&gt;HBar()_(3, 1, 2, 0)</title>\n",
       "<path fill=\"none\" stroke=\"#000000\" d=\"M479.7477,-215.8314C479.6407,-208.131 479.5135,-198.9743 479.3947,-190.4166\"/>\n",
       "<polygon fill=\"#000000\" stroke=\"#000000\" points=\"482.8944,-190.3637 479.2557,-180.4133 475.8951,-190.4609 482.8944,-190.3637\"/>\n",
       "</g>\n",
       "<!-- Integer(2)_(3, 1, 2, 1) -->\n",
       "<g id=\"node22\" class=\"node\">\n",
       "<title>Integer(2)_(3, 1, 2, 1)</title>\n",
       "<ellipse fill=\"none\" stroke=\"#000000\" cx=\"551\" cy=\"-162\" rx=\"27\" ry=\"18\"/>\n",
       "<text text-anchor=\"middle\" x=\"551\" y=\"-158.3\" font-family=\"Times,serif\" font-size=\"14.00\" fill=\"#000000\">2</text>\n",
       "</g>\n",
       "<!-- Pow(HBar(), Integer(2))_(3, 1, 2)&#45;&gt;Integer(2)_(3, 1, 2, 1) -->\n",
       "<g id=\"edge22\" class=\"edge\">\n",
       "<title>Pow(HBar(), Integer(2))_(3, 1, 2)&#45;&gt;Integer(2)_(3, 1, 2, 1)</title>\n",
       "<path fill=\"none\" stroke=\"#000000\" d=\"M495.0573,-218.7307C504.847,-208.803 517.7831,-195.6847 528.7497,-184.5637\"/>\n",
       "<polygon fill=\"#000000\" stroke=\"#000000\" points=\"531.4351,-186.8252 535.9644,-177.2473 526.4508,-181.9102 531.4351,-186.8252\"/>\n",
       "</g>\n",
       "<!-- conjugate(f(Symbol(x), Symbol(t)))_(3, 1, 3, 0) -->\n",
       "<g id=\"node24\" class=\"node\">\n",
       "<title>conjugate(f(Symbol(x), Symbol(t)))_(3, 1, 3, 0)</title>\n",
       "<ellipse fill=\"none\" stroke=\"#000000\" cx=\"643\" cy=\"-162\" rx=\"47.3916\" ry=\"18\"/>\n",
       "<text text-anchor=\"middle\" x=\"643\" y=\"-158.3\" font-family=\"Times,serif\" font-size=\"14.00\" fill=\"#000000\">conjugate</text>\n",
       "</g>\n",
       "<!-- Derivative(conjugate(f(Symbol(x), Symbol(t))), Symbol(x), Symbol(x))_(3, 1, 3)&#45;&gt;conjugate(f(Symbol(x), Symbol(t)))_(3, 1, 3, 0) -->\n",
       "<g id=\"edge23\" class=\"edge\">\n",
       "<title>Derivative(conjugate(f(Symbol(x), Symbol(t))), Symbol(x), Symbol(x))_(3, 1, 3)&#45;&gt;conjugate(f(Symbol(x), Symbol(t)))_(3, 1, 3, 0)</title>\n",
       "<path fill=\"none\" stroke=\"#000000\" d=\"M677.6292,-216.2022C672.2258,-207.7448 665.6604,-197.4685 659.705,-188.147\"/>\n",
       "<polygon fill=\"#000000\" stroke=\"#000000\" points=\"662.5734,-186.1356 654.24,-179.593 656.6745,-189.9044 662.5734,-186.1356\"/>\n",
       "</g>\n",
       "<!-- Symbol(x)_(3, 1, 3, 1) -->\n",
       "<g id=\"node28\" class=\"node\">\n",
       "<title>Symbol(x)_(3, 1, 3, 1)</title>\n",
       "<ellipse fill=\"none\" stroke=\"#000000\" cx=\"735\" cy=\"-162\" rx=\"27\" ry=\"18\"/>\n",
       "<text text-anchor=\"middle\" x=\"735\" y=\"-158.3\" font-family=\"Times,serif\" font-size=\"14.00\" fill=\"#000000\">x</text>\n",
       "</g>\n",
       "<!-- Derivative(conjugate(f(Symbol(x), Symbol(t))), Symbol(x), Symbol(x))_(3, 1, 3)&#45;&gt;Symbol(x)_(3, 1, 3, 1) -->\n",
       "<g id=\"edge24\" class=\"edge\">\n",
       "<title>Derivative(conjugate(f(Symbol(x), Symbol(t))), Symbol(x), Symbol(x))_(3, 1, 3)&#45;&gt;Symbol(x)_(3, 1, 3, 1)</title>\n",
       "<path fill=\"none\" stroke=\"#000000\" d=\"M700.3708,-216.2022C705.9355,-207.4923 712.7326,-196.8533 718.8266,-187.3149\"/>\n",
       "<polygon fill=\"#000000\" stroke=\"#000000\" points=\"721.9562,-188.9172 724.3907,-178.6058 716.0573,-185.1484 721.9562,-188.9172\"/>\n",
       "</g>\n",
       "<!-- Symbol(x)_(3, 1, 3, 2) -->\n",
       "<g id=\"node29\" class=\"node\">\n",
       "<title>Symbol(x)_(3, 1, 3, 2)</title>\n",
       "<ellipse fill=\"none\" stroke=\"#000000\" cx=\"807\" cy=\"-162\" rx=\"27\" ry=\"18\"/>\n",
       "<text text-anchor=\"middle\" x=\"807\" y=\"-158.3\" font-family=\"Times,serif\" font-size=\"14.00\" fill=\"#000000\">x</text>\n",
       "</g>\n",
       "<!-- Derivative(conjugate(f(Symbol(x), Symbol(t))), Symbol(x), Symbol(x))_(3, 1, 3)&#45;&gt;Symbol(x)_(3, 1, 3, 2) -->\n",
       "<g id=\"edge25\" class=\"edge\">\n",
       "<title>Derivative(conjugate(f(Symbol(x), Symbol(t))), Symbol(x), Symbol(x))_(3, 1, 3)&#45;&gt;Symbol(x)_(3, 1, 3, 2)</title>\n",
       "<path fill=\"none\" stroke=\"#000000\" d=\"M714.314,-218.5542C733.0214,-207.1395 758.5239,-191.5786 778.0429,-179.6687\"/>\n",
       "<polygon fill=\"#000000\" stroke=\"#000000\" points=\"780.1023,-182.5123 786.8157,-174.3159 776.4562,-176.5368 780.1023,-182.5123\"/>\n",
       "</g>\n",
       "<!-- f(Symbol(x), Symbol(t))_(3, 1, 3, 0, 0) -->\n",
       "<g id=\"node25\" class=\"node\">\n",
       "<title>f(Symbol(x), Symbol(t))_(3, 1, 3, 0, 0)</title>\n",
       "<ellipse fill=\"none\" stroke=\"#000000\" cx=\"643\" cy=\"-90\" rx=\"27\" ry=\"18\"/>\n",
       "<text text-anchor=\"middle\" x=\"643\" y=\"-86.3\" font-family=\"Times,serif\" font-size=\"14.00\" fill=\"#000000\">f</text>\n",
       "</g>\n",
       "<!-- conjugate(f(Symbol(x), Symbol(t)))_(3, 1, 3, 0)&#45;&gt;f(Symbol(x), Symbol(t))_(3, 1, 3, 0, 0) -->\n",
       "<g id=\"edge26\" class=\"edge\">\n",
       "<title>conjugate(f(Symbol(x), Symbol(t)))_(3, 1, 3, 0)&#45;&gt;f(Symbol(x), Symbol(t))_(3, 1, 3, 0, 0)</title>\n",
       "<path fill=\"none\" stroke=\"#000000\" d=\"M643,-143.8314C643,-136.131 643,-126.9743 643,-118.4166\"/>\n",
       "<polygon fill=\"#000000\" stroke=\"#000000\" points=\"646.5001,-118.4132 643,-108.4133 639.5001,-118.4133 646.5001,-118.4132\"/>\n",
       "</g>\n",
       "<!-- Symbol(x)_(3, 1, 3, 0, 0, 0) -->\n",
       "<g id=\"node26\" class=\"node\">\n",
       "<title>Symbol(x)_(3, 1, 3, 0, 0, 0)</title>\n",
       "<ellipse fill=\"none\" stroke=\"#000000\" cx=\"607\" cy=\"-18\" rx=\"27\" ry=\"18\"/>\n",
       "<text text-anchor=\"middle\" x=\"607\" y=\"-14.3\" font-family=\"Times,serif\" font-size=\"14.00\" fill=\"#000000\">x</text>\n",
       "</g>\n",
       "<!-- f(Symbol(x), Symbol(t))_(3, 1, 3, 0, 0)&#45;&gt;Symbol(x)_(3, 1, 3, 0, 0, 0) -->\n",
       "<g id=\"edge27\" class=\"edge\">\n",
       "<title>f(Symbol(x), Symbol(t))_(3, 1, 3, 0, 0)&#45;&gt;Symbol(x)_(3, 1, 3, 0, 0, 0)</title>\n",
       "<path fill=\"none\" stroke=\"#000000\" d=\"M634.2854,-72.5708C630.0403,-64.0807 624.8464,-53.6929 620.1337,-44.2674\"/>\n",
       "<polygon fill=\"#000000\" stroke=\"#000000\" points=\"623.237,-42.6477 615.6343,-35.2687 616.976,-45.7782 623.237,-42.6477\"/>\n",
       "</g>\n",
       "<!-- Symbol(t)_(3, 1, 3, 0, 0, 1) -->\n",
       "<g id=\"node27\" class=\"node\">\n",
       "<title>Symbol(t)_(3, 1, 3, 0, 0, 1)</title>\n",
       "<ellipse fill=\"none\" stroke=\"#000000\" cx=\"679\" cy=\"-18\" rx=\"27\" ry=\"18\"/>\n",
       "<text text-anchor=\"middle\" x=\"679\" y=\"-14.3\" font-family=\"Times,serif\" font-size=\"14.00\" fill=\"#000000\">t</text>\n",
       "</g>\n",
       "<!-- f(Symbol(x), Symbol(t))_(3, 1, 3, 0, 0)&#45;&gt;Symbol(t)_(3, 1, 3, 0, 0, 1) -->\n",
       "<g id=\"edge28\" class=\"edge\">\n",
       "<title>f(Symbol(x), Symbol(t))_(3, 1, 3, 0, 0)&#45;&gt;Symbol(t)_(3, 1, 3, 0, 0, 1)</title>\n",
       "<path fill=\"none\" stroke=\"#000000\" d=\"M651.7146,-72.5708C655.9597,-64.0807 661.1536,-53.6929 665.8663,-44.2674\"/>\n",
       "<polygon fill=\"#000000\" stroke=\"#000000\" points=\"669.024,-45.7782 670.3657,-35.2687 662.763,-42.6477 669.024,-45.7782\"/>\n",
       "</g>\n",
       "</g>\n",
       "</svg>\n"
      ],
      "text/plain": [
       "<graphviz.files.Source at 0x7f60b165c780>"
      ]
     },
     "execution_count": 79,
     "metadata": {},
     "output_type": "execute_result"
    }
   ],
   "source": [
    "d2"
   ]
  },
  {
   "cell_type": "code",
   "execution_count": 80,
   "metadata": {},
   "outputs": [
    {
     "data": {
      "image/svg+xml": [
       "<?xml version=\"1.0\" encoding=\"UTF-8\" standalone=\"no\"?>\n",
       "<!DOCTYPE svg PUBLIC \"-//W3C//DTD SVG 1.1//EN\"\n",
       " \"http://www.w3.org/Graphics/SVG/1.1/DTD/svg11.dtd\">\n",
       "<!-- Generated by graphviz version 2.40.1 (20161225.0304)\n",
       " -->\n",
       "<!-- Title: %3 Pages: 1 -->\n",
       "<svg width=\"629pt\" height=\"476pt\"\n",
       " viewBox=\"0.00 0.00 629.00 476.00\" xmlns=\"http://www.w3.org/2000/svg\" xmlns:xlink=\"http://www.w3.org/1999/xlink\">\n",
       "<g id=\"graph0\" class=\"graph\" transform=\"scale(1 1) rotate(0) translate(4 472)\">\n",
       "<title>%3</title>\n",
       "<polygon fill=\"#ffffff\" stroke=\"transparent\" points=\"-4,4 -4,-472 625,-472 625,4 -4,4\"/>\n",
       "<!-- Integral(Add(Mul(f(Symbol(x), Symbol(t)), Derivative(conjugate(f(Symbol(x), Symbol(t))), Symbol(t))), Mul(conjugate(f(Symbol(x), Symbol(t))), Derivative(f(Symbol(x), Symbol(t)), Symbol(t)))), Tuple(Symbol(x), Symbol(a), Symbol(b)))_() -->\n",
       "<g id=\"node1\" class=\"node\">\n",
       "<title>Integral(Add(Mul(f(Symbol(x), Symbol(t)), Derivative(conjugate(f(Symbol(x), Symbol(t))), Symbol(t))), Mul(conjugate(f(Symbol(x), Symbol(t))), Derivative(f(Symbol(x), Symbol(t)), Symbol(t)))), Tuple(Symbol(x), Symbol(a), Symbol(b)))_()</title>\n",
       "<ellipse fill=\"none\" stroke=\"#000000\" cx=\"417\" cy=\"-450\" rx=\"38.9931\" ry=\"18\"/>\n",
       "<text text-anchor=\"middle\" x=\"417\" y=\"-446.3\" font-family=\"Times,serif\" font-size=\"14.00\" fill=\"#000000\">Integral</text>\n",
       "</g>\n",
       "<!-- Add(Mul(f(Symbol(x), Symbol(t)), Derivative(conjugate(f(Symbol(x), Symbol(t))), Symbol(t))), Mul(conjugate(f(Symbol(x), Symbol(t))), Derivative(f(Symbol(x), Symbol(t)), Symbol(t))))_(0,) -->\n",
       "<g id=\"node2\" class=\"node\">\n",
       "<title>Add(Mul(f(Symbol(x), Symbol(t)), Derivative(conjugate(f(Symbol(x), Symbol(t))), Symbol(t))), Mul(conjugate(f(Symbol(x), Symbol(t))), Derivative(f(Symbol(x), Symbol(t)), Symbol(t))))_(0,)</title>\n",
       "<ellipse fill=\"none\" stroke=\"#000000\" cx=\"378\" cy=\"-378\" rx=\"27.0966\" ry=\"18\"/>\n",
       "<text text-anchor=\"middle\" x=\"378\" y=\"-374.3\" font-family=\"Times,serif\" font-size=\"14.00\" fill=\"#000000\">Add</text>\n",
       "</g>\n",
       "<!-- Integral(Add(Mul(f(Symbol(x), Symbol(t)), Derivative(conjugate(f(Symbol(x), Symbol(t))), Symbol(t))), Mul(conjugate(f(Symbol(x), Symbol(t))), Derivative(f(Symbol(x), Symbol(t)), Symbol(t)))), Tuple(Symbol(x), Symbol(a), Symbol(b)))_()&#45;&gt;Add(Mul(f(Symbol(x), Symbol(t)), Derivative(conjugate(f(Symbol(x), Symbol(t))), Symbol(t))), Mul(conjugate(f(Symbol(x), Symbol(t))), Derivative(f(Symbol(x), Symbol(t)), Symbol(t))))_(0,) -->\n",
       "<g id=\"edge1\" class=\"edge\">\n",
       "<title>Integral(Add(Mul(f(Symbol(x), Symbol(t)), Derivative(conjugate(f(Symbol(x), Symbol(t))), Symbol(t))), Mul(conjugate(f(Symbol(x), Symbol(t))), Derivative(f(Symbol(x), Symbol(t)), Symbol(t)))), Tuple(Symbol(x), Symbol(a), Symbol(b)))_()&#45;&gt;Add(Mul(f(Symbol(x), Symbol(t)), Derivative(conjugate(f(Symbol(x), Symbol(t))), Symbol(t))), Mul(conjugate(f(Symbol(x), Symbol(t))), Derivative(f(Symbol(x), Symbol(t)), Symbol(t))))_(0,)</title>\n",
       "<path fill=\"none\" stroke=\"#000000\" d=\"M407.3595,-432.2022C402.758,-423.7071 397.1624,-413.3767 392.0954,-404.0223\"/>\n",
       "<polygon fill=\"#000000\" stroke=\"#000000\" points=\"395.1014,-402.2231 387.261,-395.0972 388.9464,-405.5572 395.1014,-402.2231\"/>\n",
       "</g>\n",
       "<!-- Tuple(Symbol(x), Symbol(a), Symbol(b))_(1,) -->\n",
       "<g id=\"node23\" class=\"node\">\n",
       "<title>Tuple(Symbol(x), Symbol(a), Symbol(b))_(1,)</title>\n",
       "<ellipse fill=\"none\" stroke=\"#0000ff\" cx=\"489\" cy=\"-378\" rx=\"32.4942\" ry=\"18\"/>\n",
       "<text text-anchor=\"middle\" x=\"489\" y=\"-374.3\" font-family=\"Times,serif\" font-size=\"14.00\" fill=\"#000000\">Tuple</text>\n",
       "</g>\n",
       "<!-- Integral(Add(Mul(f(Symbol(x), Symbol(t)), Derivative(conjugate(f(Symbol(x), Symbol(t))), Symbol(t))), Mul(conjugate(f(Symbol(x), Symbol(t))), Derivative(f(Symbol(x), Symbol(t)), Symbol(t)))), Tuple(Symbol(x), Symbol(a), Symbol(b)))_()&#45;&gt;Tuple(Symbol(x), Symbol(a), Symbol(b))_(1,) -->\n",
       "<g id=\"edge2\" class=\"edge\">\n",
       "<title>Integral(Add(Mul(f(Symbol(x), Symbol(t)), Derivative(conjugate(f(Symbol(x), Symbol(t))), Symbol(t))), Mul(conjugate(f(Symbol(x), Symbol(t))), Derivative(f(Symbol(x), Symbol(t)), Symbol(t)))), Tuple(Symbol(x), Symbol(a), Symbol(b)))_()&#45;&gt;Tuple(Symbol(x), Symbol(a), Symbol(b))_(1,)</title>\n",
       "<path fill=\"none\" stroke=\"#000000\" d=\"M433.6992,-433.3008C443.1929,-423.8071 455.229,-411.771 465.6466,-401.3534\"/>\n",
       "<polygon fill=\"#000000\" stroke=\"#000000\" points=\"468.2904,-403.6594 472.8866,-394.1134 463.3406,-398.7096 468.2904,-403.6594\"/>\n",
       "</g>\n",
       "<!-- Mul(f(Symbol(x), Symbol(t)), Derivative(conjugate(f(Symbol(x), Symbol(t))), Symbol(t)))_(0, 0) -->\n",
       "<g id=\"node3\" class=\"node\">\n",
       "<title>Mul(f(Symbol(x), Symbol(t)), Derivative(conjugate(f(Symbol(x), Symbol(t))), Symbol(t)))_(0, 0)</title>\n",
       "<ellipse fill=\"none\" stroke=\"#000000\" cx=\"270\" cy=\"-306\" rx=\"27\" ry=\"18\"/>\n",
       "<text text-anchor=\"middle\" x=\"270\" y=\"-302.3\" font-family=\"Times,serif\" font-size=\"14.00\" fill=\"#000000\">Mul</text>\n",
       "</g>\n",
       "<!-- Add(Mul(f(Symbol(x), Symbol(t)), Derivative(conjugate(f(Symbol(x), Symbol(t))), Symbol(t))), Mul(conjugate(f(Symbol(x), Symbol(t))), Derivative(f(Symbol(x), Symbol(t)), Symbol(t))))_(0,)&#45;&gt;Mul(f(Symbol(x), Symbol(t)), Derivative(conjugate(f(Symbol(x), Symbol(t))), Symbol(t)))_(0, 0) -->\n",
       "<g id=\"edge3\" class=\"edge\">\n",
       "<title>Add(Mul(f(Symbol(x), Symbol(t)), Derivative(conjugate(f(Symbol(x), Symbol(t))), Symbol(t))), Mul(conjugate(f(Symbol(x), Symbol(t))), Derivative(f(Symbol(x), Symbol(t)), Symbol(t))))_(0,)&#45;&gt;Mul(f(Symbol(x), Symbol(t)), Derivative(conjugate(f(Symbol(x), Symbol(t))), Symbol(t)))_(0, 0)</title>\n",
       "<path fill=\"none\" stroke=\"#000000\" d=\"M358.6918,-365.1278C341.6445,-353.763 316.5981,-337.0654 297.4656,-324.3104\"/>\n",
       "<polygon fill=\"#000000\" stroke=\"#000000\" points=\"299.4031,-321.3956 289.1411,-318.7607 295.5201,-327.2199 299.4031,-321.3956\"/>\n",
       "</g>\n",
       "<!-- Mul(conjugate(f(Symbol(x), Symbol(t))), Derivative(f(Symbol(x), Symbol(t)), Symbol(t)))_(0, 1) -->\n",
       "<g id=\"node13\" class=\"node\">\n",
       "<title>Mul(conjugate(f(Symbol(x), Symbol(t))), Derivative(f(Symbol(x), Symbol(t)), Symbol(t)))_(0, 1)</title>\n",
       "<ellipse fill=\"none\" stroke=\"#000000\" cx=\"378\" cy=\"-306\" rx=\"27\" ry=\"18\"/>\n",
       "<text text-anchor=\"middle\" x=\"378\" y=\"-302.3\" font-family=\"Times,serif\" font-size=\"14.00\" fill=\"#000000\">Mul</text>\n",
       "</g>\n",
       "<!-- Add(Mul(f(Symbol(x), Symbol(t)), Derivative(conjugate(f(Symbol(x), Symbol(t))), Symbol(t))), Mul(conjugate(f(Symbol(x), Symbol(t))), Derivative(f(Symbol(x), Symbol(t)), Symbol(t))))_(0,)&#45;&gt;Mul(conjugate(f(Symbol(x), Symbol(t))), Derivative(f(Symbol(x), Symbol(t)), Symbol(t)))_(0, 1) -->\n",
       "<g id=\"edge4\" class=\"edge\">\n",
       "<title>Add(Mul(f(Symbol(x), Symbol(t)), Derivative(conjugate(f(Symbol(x), Symbol(t))), Symbol(t))), Mul(conjugate(f(Symbol(x), Symbol(t))), Derivative(f(Symbol(x), Symbol(t)), Symbol(t))))_(0,)&#45;&gt;Mul(conjugate(f(Symbol(x), Symbol(t))), Derivative(f(Symbol(x), Symbol(t)), Symbol(t)))_(0, 1)</title>\n",
       "<path fill=\"none\" stroke=\"#000000\" d=\"M378,-359.8314C378,-352.131 378,-342.9743 378,-334.4166\"/>\n",
       "<polygon fill=\"#000000\" stroke=\"#000000\" points=\"381.5001,-334.4132 378,-324.4133 374.5001,-334.4133 381.5001,-334.4132\"/>\n",
       "</g>\n",
       "<!-- Derivative(conjugate(f(Symbol(x), Symbol(t))), Symbol(t))_(0, 0, 0) -->\n",
       "<g id=\"node4\" class=\"node\">\n",
       "<title>Derivative(conjugate(f(Symbol(x), Symbol(t))), Symbol(t))_(0, 0, 0)</title>\n",
       "<ellipse fill=\"none\" stroke=\"#000000\" cx=\"155\" cy=\"-234\" rx=\"48.9926\" ry=\"18\"/>\n",
       "<text text-anchor=\"middle\" x=\"155\" y=\"-230.3\" font-family=\"Times,serif\" font-size=\"14.00\" fill=\"#000000\">Derivative</text>\n",
       "</g>\n",
       "<!-- Mul(f(Symbol(x), Symbol(t)), Derivative(conjugate(f(Symbol(x), Symbol(t))), Symbol(t)))_(0, 0)&#45;&gt;Derivative(conjugate(f(Symbol(x), Symbol(t))), Symbol(t))_(0, 0, 0) -->\n",
       "<g id=\"edge5\" class=\"edge\">\n",
       "<title>Mul(f(Symbol(x), Symbol(t)), Derivative(conjugate(f(Symbol(x), Symbol(t))), Symbol(t)))_(0, 0)&#45;&gt;Derivative(conjugate(f(Symbol(x), Symbol(t))), Symbol(t))_(0, 0, 0)</title>\n",
       "<path fill=\"none\" stroke=\"#000000\" d=\"M250.2308,-293.6228C233.3366,-283.0456 208.6623,-267.5973 188.6629,-255.0759\"/>\n",
       "<polygon fill=\"#000000\" stroke=\"#000000\" points=\"190.4649,-252.0748 180.1317,-249.7347 186.7503,-258.0079 190.4649,-252.0748\"/>\n",
       "</g>\n",
       "<!-- f(Symbol(x), Symbol(t))_(0, 0, 1) -->\n",
       "<g id=\"node10\" class=\"node\">\n",
       "<title>f(Symbol(x), Symbol(t))_(0, 0, 1)</title>\n",
       "<ellipse fill=\"none\" stroke=\"#000000\" cx=\"270\" cy=\"-234\" rx=\"27\" ry=\"18\"/>\n",
       "<text text-anchor=\"middle\" x=\"270\" y=\"-230.3\" font-family=\"Times,serif\" font-size=\"14.00\" fill=\"#000000\">f</text>\n",
       "</g>\n",
       "<!-- Mul(f(Symbol(x), Symbol(t)), Derivative(conjugate(f(Symbol(x), Symbol(t))), Symbol(t)))_(0, 0)&#45;&gt;f(Symbol(x), Symbol(t))_(0, 0, 1) -->\n",
       "<g id=\"edge6\" class=\"edge\">\n",
       "<title>Mul(f(Symbol(x), Symbol(t)), Derivative(conjugate(f(Symbol(x), Symbol(t))), Symbol(t)))_(0, 0)&#45;&gt;f(Symbol(x), Symbol(t))_(0, 0, 1)</title>\n",
       "<path fill=\"none\" stroke=\"#000000\" d=\"M270,-287.8314C270,-280.131 270,-270.9743 270,-262.4166\"/>\n",
       "<polygon fill=\"#000000\" stroke=\"#000000\" points=\"273.5001,-262.4132 270,-252.4133 266.5001,-262.4133 273.5001,-262.4132\"/>\n",
       "</g>\n",
       "<!-- conjugate(f(Symbol(x), Symbol(t)))_(0, 0, 0, 0) -->\n",
       "<g id=\"node5\" class=\"node\">\n",
       "<title>conjugate(f(Symbol(x), Symbol(t)))_(0, 0, 0, 0)</title>\n",
       "<ellipse fill=\"none\" stroke=\"#000000\" cx=\"63\" cy=\"-162\" rx=\"47.3916\" ry=\"18\"/>\n",
       "<text text-anchor=\"middle\" x=\"63\" y=\"-158.3\" font-family=\"Times,serif\" font-size=\"14.00\" fill=\"#000000\">conjugate</text>\n",
       "</g>\n",
       "<!-- Derivative(conjugate(f(Symbol(x), Symbol(t))), Symbol(t))_(0, 0, 0)&#45;&gt;conjugate(f(Symbol(x), Symbol(t)))_(0, 0, 0, 0) -->\n",
       "<g id=\"edge7\" class=\"edge\">\n",
       "<title>Derivative(conjugate(f(Symbol(x), Symbol(t))), Symbol(t))_(0, 0, 0)&#45;&gt;conjugate(f(Symbol(x), Symbol(t)))_(0, 0, 0, 0)</title>\n",
       "<path fill=\"none\" stroke=\"#000000\" d=\"M134.1238,-217.6621C121.6552,-207.9041 105.6342,-195.3659 91.9553,-184.6607\"/>\n",
       "<polygon fill=\"#000000\" stroke=\"#000000\" points=\"93.8258,-181.6801 83.7936,-178.2733 89.5116,-187.1927 93.8258,-181.6801\"/>\n",
       "</g>\n",
       "<!-- Symbol(t)_(0, 0, 0, 1) -->\n",
       "<g id=\"node9\" class=\"node\">\n",
       "<title>Symbol(t)_(0, 0, 0, 1)</title>\n",
       "<ellipse fill=\"none\" stroke=\"#000000\" cx=\"155\" cy=\"-162\" rx=\"27\" ry=\"18\"/>\n",
       "<text text-anchor=\"middle\" x=\"155\" y=\"-158.3\" font-family=\"Times,serif\" font-size=\"14.00\" fill=\"#000000\">t</text>\n",
       "</g>\n",
       "<!-- Derivative(conjugate(f(Symbol(x), Symbol(t))), Symbol(t))_(0, 0, 0)&#45;&gt;Symbol(t)_(0, 0, 0, 1) -->\n",
       "<g id=\"edge8\" class=\"edge\">\n",
       "<title>Derivative(conjugate(f(Symbol(x), Symbol(t))), Symbol(t))_(0, 0, 0)&#45;&gt;Symbol(t)_(0, 0, 0, 1)</title>\n",
       "<path fill=\"none\" stroke=\"#000000\" d=\"M155,-215.8314C155,-208.131 155,-198.9743 155,-190.4166\"/>\n",
       "<polygon fill=\"#000000\" stroke=\"#000000\" points=\"158.5001,-190.4132 155,-180.4133 151.5001,-190.4133 158.5001,-190.4132\"/>\n",
       "</g>\n",
       "<!-- f(Symbol(x), Symbol(t))_(0, 0, 0, 0, 0) -->\n",
       "<g id=\"node6\" class=\"node\">\n",
       "<title>f(Symbol(x), Symbol(t))_(0, 0, 0, 0, 0)</title>\n",
       "<ellipse fill=\"none\" stroke=\"#000000\" cx=\"63\" cy=\"-90\" rx=\"27\" ry=\"18\"/>\n",
       "<text text-anchor=\"middle\" x=\"63\" y=\"-86.3\" font-family=\"Times,serif\" font-size=\"14.00\" fill=\"#000000\">f</text>\n",
       "</g>\n",
       "<!-- conjugate(f(Symbol(x), Symbol(t)))_(0, 0, 0, 0)&#45;&gt;f(Symbol(x), Symbol(t))_(0, 0, 0, 0, 0) -->\n",
       "<g id=\"edge9\" class=\"edge\">\n",
       "<title>conjugate(f(Symbol(x), Symbol(t)))_(0, 0, 0, 0)&#45;&gt;f(Symbol(x), Symbol(t))_(0, 0, 0, 0, 0)</title>\n",
       "<path fill=\"none\" stroke=\"#000000\" d=\"M63,-143.8314C63,-136.131 63,-126.9743 63,-118.4166\"/>\n",
       "<polygon fill=\"#000000\" stroke=\"#000000\" points=\"66.5001,-118.4132 63,-108.4133 59.5001,-118.4133 66.5001,-118.4132\"/>\n",
       "</g>\n",
       "<!-- Symbol(x)_(0, 0, 0, 0, 0, 0) -->\n",
       "<g id=\"node7\" class=\"node\">\n",
       "<title>Symbol(x)_(0, 0, 0, 0, 0, 0)</title>\n",
       "<ellipse fill=\"none\" stroke=\"#000000\" cx=\"27\" cy=\"-18\" rx=\"27\" ry=\"18\"/>\n",
       "<text text-anchor=\"middle\" x=\"27\" y=\"-14.3\" font-family=\"Times,serif\" font-size=\"14.00\" fill=\"#000000\">x</text>\n",
       "</g>\n",
       "<!-- f(Symbol(x), Symbol(t))_(0, 0, 0, 0, 0)&#45;&gt;Symbol(x)_(0, 0, 0, 0, 0, 0) -->\n",
       "<g id=\"edge10\" class=\"edge\">\n",
       "<title>f(Symbol(x), Symbol(t))_(0, 0, 0, 0, 0)&#45;&gt;Symbol(x)_(0, 0, 0, 0, 0, 0)</title>\n",
       "<path fill=\"none\" stroke=\"#000000\" d=\"M54.2854,-72.5708C50.0403,-64.0807 44.8464,-53.6929 40.1337,-44.2674\"/>\n",
       "<polygon fill=\"#000000\" stroke=\"#000000\" points=\"43.237,-42.6477 35.6343,-35.2687 36.976,-45.7782 43.237,-42.6477\"/>\n",
       "</g>\n",
       "<!-- Symbol(t)_(0, 0, 0, 0, 0, 1) -->\n",
       "<g id=\"node8\" class=\"node\">\n",
       "<title>Symbol(t)_(0, 0, 0, 0, 0, 1)</title>\n",
       "<ellipse fill=\"none\" stroke=\"#000000\" cx=\"99\" cy=\"-18\" rx=\"27\" ry=\"18\"/>\n",
       "<text text-anchor=\"middle\" x=\"99\" y=\"-14.3\" font-family=\"Times,serif\" font-size=\"14.00\" fill=\"#000000\">t</text>\n",
       "</g>\n",
       "<!-- f(Symbol(x), Symbol(t))_(0, 0, 0, 0, 0)&#45;&gt;Symbol(t)_(0, 0, 0, 0, 0, 1) -->\n",
       "<g id=\"edge11\" class=\"edge\">\n",
       "<title>f(Symbol(x), Symbol(t))_(0, 0, 0, 0, 0)&#45;&gt;Symbol(t)_(0, 0, 0, 0, 0, 1)</title>\n",
       "<path fill=\"none\" stroke=\"#000000\" d=\"M71.7146,-72.5708C75.9597,-64.0807 81.1536,-53.6929 85.8663,-44.2674\"/>\n",
       "<polygon fill=\"#000000\" stroke=\"#000000\" points=\"89.024,-45.7782 90.3657,-35.2687 82.763,-42.6477 89.024,-45.7782\"/>\n",
       "</g>\n",
       "<!-- Symbol(x)_(0, 0, 1, 0) -->\n",
       "<g id=\"node11\" class=\"node\">\n",
       "<title>Symbol(x)_(0, 0, 1, 0)</title>\n",
       "<ellipse fill=\"none\" stroke=\"#000000\" cx=\"227\" cy=\"-162\" rx=\"27\" ry=\"18\"/>\n",
       "<text text-anchor=\"middle\" x=\"227\" y=\"-158.3\" font-family=\"Times,serif\" font-size=\"14.00\" fill=\"#000000\">x</text>\n",
       "</g>\n",
       "<!-- f(Symbol(x), Symbol(t))_(0, 0, 1)&#45;&gt;Symbol(x)_(0, 0, 1, 0) -->\n",
       "<g id=\"edge12\" class=\"edge\">\n",
       "<title>f(Symbol(x), Symbol(t))_(0, 0, 1)&#45;&gt;Symbol(x)_(0, 0, 1, 0)</title>\n",
       "<path fill=\"none\" stroke=\"#000000\" d=\"M259.8096,-216.937C254.6151,-208.2393 248.1894,-197.4799 242.4052,-187.7948\"/>\n",
       "<polygon fill=\"#000000\" stroke=\"#000000\" points=\"245.2496,-185.7314 237.1173,-178.9405 239.2398,-189.3206 245.2496,-185.7314\"/>\n",
       "</g>\n",
       "<!-- Symbol(t)_(0, 0, 1, 1) -->\n",
       "<g id=\"node12\" class=\"node\">\n",
       "<title>Symbol(t)_(0, 0, 1, 1)</title>\n",
       "<ellipse fill=\"none\" stroke=\"#000000\" cx=\"299\" cy=\"-162\" rx=\"27\" ry=\"18\"/>\n",
       "<text text-anchor=\"middle\" x=\"299\" y=\"-158.3\" font-family=\"Times,serif\" font-size=\"14.00\" fill=\"#000000\">t</text>\n",
       "</g>\n",
       "<!-- f(Symbol(x), Symbol(t))_(0, 0, 1)&#45;&gt;Symbol(t)_(0, 0, 1, 1) -->\n",
       "<g id=\"edge13\" class=\"edge\">\n",
       "<title>f(Symbol(x), Symbol(t))_(0, 0, 1)&#45;&gt;Symbol(t)_(0, 0, 1, 1)</title>\n",
       "<path fill=\"none\" stroke=\"#000000\" d=\"M277.0201,-216.5708C280.3439,-208.3187 284.3897,-198.2738 288.0999,-189.0623\"/>\n",
       "<polygon fill=\"#000000\" stroke=\"#000000\" points=\"291.4544,-190.1018 291.944,-179.5182 284.9613,-187.4864 291.4544,-190.1018\"/>\n",
       "</g>\n",
       "<!-- Derivative(f(Symbol(x), Symbol(t)), Symbol(t))_(0, 1, 0) -->\n",
       "<g id=\"node14\" class=\"node\">\n",
       "<title>Derivative(f(Symbol(x), Symbol(t)), Symbol(t))_(0, 1, 0)</title>\n",
       "<ellipse fill=\"none\" stroke=\"#000000\" cx=\"378\" cy=\"-234\" rx=\"48.9926\" ry=\"18\"/>\n",
       "<text text-anchor=\"middle\" x=\"378\" y=\"-230.3\" font-family=\"Times,serif\" font-size=\"14.00\" fill=\"#000000\">Derivative</text>\n",
       "</g>\n",
       "<!-- Mul(conjugate(f(Symbol(x), Symbol(t))), Derivative(f(Symbol(x), Symbol(t)), Symbol(t)))_(0, 1)&#45;&gt;Derivative(f(Symbol(x), Symbol(t)), Symbol(t))_(0, 1, 0) -->\n",
       "<g id=\"edge14\" class=\"edge\">\n",
       "<title>Mul(conjugate(f(Symbol(x), Symbol(t))), Derivative(f(Symbol(x), Symbol(t)), Symbol(t)))_(0, 1)&#45;&gt;Derivative(f(Symbol(x), Symbol(t)), Symbol(t))_(0, 1, 0)</title>\n",
       "<path fill=\"none\" stroke=\"#000000\" d=\"M378,-287.8314C378,-280.131 378,-270.9743 378,-262.4166\"/>\n",
       "<polygon fill=\"#000000\" stroke=\"#000000\" points=\"381.5001,-262.4132 378,-252.4133 374.5001,-262.4133 381.5001,-262.4132\"/>\n",
       "</g>\n",
       "<!-- conjugate(f(Symbol(x), Symbol(t)))_(0, 1, 1) -->\n",
       "<g id=\"node19\" class=\"node\">\n",
       "<title>conjugate(f(Symbol(x), Symbol(t)))_(0, 1, 1)</title>\n",
       "<ellipse fill=\"none\" stroke=\"#000000\" cx=\"507\" cy=\"-234\" rx=\"47.3916\" ry=\"18\"/>\n",
       "<text text-anchor=\"middle\" x=\"507\" y=\"-230.3\" font-family=\"Times,serif\" font-size=\"14.00\" fill=\"#000000\">conjugate</text>\n",
       "</g>\n",
       "<!-- Mul(conjugate(f(Symbol(x), Symbol(t))), Derivative(f(Symbol(x), Symbol(t)), Symbol(t)))_(0, 1)&#45;&gt;conjugate(f(Symbol(x), Symbol(t)))_(0, 1, 1) -->\n",
       "<g id=\"edge15\" class=\"edge\">\n",
       "<title>Mul(conjugate(f(Symbol(x), Symbol(t))), Derivative(f(Symbol(x), Symbol(t)), Symbol(t)))_(0, 1)&#45;&gt;conjugate(f(Symbol(x), Symbol(t)))_(0, 1, 1)</title>\n",
       "<path fill=\"none\" stroke=\"#000000\" d=\"M398.7261,-294.432C418.2174,-283.5531 447.8064,-267.0383 471.1297,-254.0206\"/>\n",
       "<polygon fill=\"#000000\" stroke=\"#000000\" points=\"473.022,-256.9728 480.0482,-249.0429 469.6104,-250.8604 473.022,-256.9728\"/>\n",
       "</g>\n",
       "<!-- f(Symbol(x), Symbol(t))_(0, 1, 0, 0) -->\n",
       "<g id=\"node15\" class=\"node\">\n",
       "<title>f(Symbol(x), Symbol(t))_(0, 1, 0, 0)</title>\n",
       "<ellipse fill=\"none\" stroke=\"#000000\" cx=\"371\" cy=\"-162\" rx=\"27\" ry=\"18\"/>\n",
       "<text text-anchor=\"middle\" x=\"371\" y=\"-158.3\" font-family=\"Times,serif\" font-size=\"14.00\" fill=\"#000000\">f</text>\n",
       "</g>\n",
       "<!-- Derivative(f(Symbol(x), Symbol(t)), Symbol(t))_(0, 1, 0)&#45;&gt;f(Symbol(x), Symbol(t))_(0, 1, 0, 0) -->\n",
       "<g id=\"edge16\" class=\"edge\">\n",
       "<title>Derivative(f(Symbol(x), Symbol(t)), Symbol(t))_(0, 1, 0)&#45;&gt;f(Symbol(x), Symbol(t))_(0, 1, 0, 0)</title>\n",
       "<path fill=\"none\" stroke=\"#000000\" d=\"M376.2336,-215.8314C375.485,-208.131 374.5947,-198.9743 373.7627,-190.4166\"/>\n",
       "<polygon fill=\"#000000\" stroke=\"#000000\" points=\"377.2415,-190.0276 372.7902,-180.4133 370.2744,-190.7051 377.2415,-190.0276\"/>\n",
       "</g>\n",
       "<!-- Symbol(t)_(0, 1, 0, 1) -->\n",
       "<g id=\"node18\" class=\"node\">\n",
       "<title>Symbol(t)_(0, 1, 0, 1)</title>\n",
       "<ellipse fill=\"none\" stroke=\"#000000\" cx=\"443\" cy=\"-162\" rx=\"27\" ry=\"18\"/>\n",
       "<text text-anchor=\"middle\" x=\"443\" y=\"-158.3\" font-family=\"Times,serif\" font-size=\"14.00\" fill=\"#000000\">t</text>\n",
       "</g>\n",
       "<!-- Derivative(f(Symbol(x), Symbol(t)), Symbol(t))_(0, 1, 0)&#45;&gt;Symbol(t)_(0, 1, 0, 1) -->\n",
       "<g id=\"edge17\" class=\"edge\">\n",
       "<title>Derivative(f(Symbol(x), Symbol(t)), Symbol(t))_(0, 1, 0)&#45;&gt;Symbol(t)_(0, 1, 0, 1)</title>\n",
       "<path fill=\"none\" stroke=\"#000000\" d=\"M393.7347,-216.5708C402.1544,-207.2444 412.6413,-195.6281 421.773,-185.513\"/>\n",
       "<polygon fill=\"#000000\" stroke=\"#000000\" points=\"424.6374,-187.5632 428.7405,-177.7951 419.4415,-182.8725 424.6374,-187.5632\"/>\n",
       "</g>\n",
       "<!-- Symbol(x)_(0, 1, 0, 0, 0) -->\n",
       "<g id=\"node16\" class=\"node\">\n",
       "<title>Symbol(x)_(0, 1, 0, 0, 0)</title>\n",
       "<ellipse fill=\"none\" stroke=\"#000000\" cx=\"317\" cy=\"-90\" rx=\"27\" ry=\"18\"/>\n",
       "<text text-anchor=\"middle\" x=\"317\" y=\"-86.3\" font-family=\"Times,serif\" font-size=\"14.00\" fill=\"#000000\">x</text>\n",
       "</g>\n",
       "<!-- f(Symbol(x), Symbol(t))_(0, 1, 0, 0)&#45;&gt;Symbol(x)_(0, 1, 0, 0, 0) -->\n",
       "<g id=\"edge18\" class=\"edge\">\n",
       "<title>f(Symbol(x), Symbol(t))_(0, 1, 0, 0)&#45;&gt;Symbol(x)_(0, 1, 0, 0, 0)</title>\n",
       "<path fill=\"none\" stroke=\"#000000\" d=\"M358.7466,-145.6621C351.8423,-136.4564 343.0823,-124.7764 335.3715,-114.4953\"/>\n",
       "<polygon fill=\"#000000\" stroke=\"#000000\" points=\"338.005,-112.1733 329.2049,-106.2733 332.405,-116.3733 338.005,-112.1733\"/>\n",
       "</g>\n",
       "<!-- Symbol(t)_(0, 1, 0, 0, 1) -->\n",
       "<g id=\"node17\" class=\"node\">\n",
       "<title>Symbol(t)_(0, 1, 0, 0, 1)</title>\n",
       "<ellipse fill=\"none\" stroke=\"#000000\" cx=\"389\" cy=\"-90\" rx=\"27\" ry=\"18\"/>\n",
       "<text text-anchor=\"middle\" x=\"389\" y=\"-86.3\" font-family=\"Times,serif\" font-size=\"14.00\" fill=\"#000000\">t</text>\n",
       "</g>\n",
       "<!-- f(Symbol(x), Symbol(t))_(0, 1, 0, 0)&#45;&gt;Symbol(t)_(0, 1, 0, 0, 1) -->\n",
       "<g id=\"edge19\" class=\"edge\">\n",
       "<title>f(Symbol(x), Symbol(t))_(0, 1, 0, 0)&#45;&gt;Symbol(t)_(0, 1, 0, 0, 1)</title>\n",
       "<path fill=\"none\" stroke=\"#000000\" d=\"M375.4494,-144.2022C377.4398,-136.2406 379.8332,-126.6671 382.0511,-117.7957\"/>\n",
       "<polygon fill=\"#000000\" stroke=\"#000000\" points=\"385.5094,-118.3929 384.5394,-107.8425 378.7184,-116.6951 385.5094,-118.3929\"/>\n",
       "</g>\n",
       "<!-- f(Symbol(x), Symbol(t))_(0, 1, 1, 0) -->\n",
       "<g id=\"node20\" class=\"node\">\n",
       "<title>f(Symbol(x), Symbol(t))_(0, 1, 1, 0)</title>\n",
       "<ellipse fill=\"none\" stroke=\"#000000\" cx=\"515\" cy=\"-162\" rx=\"27\" ry=\"18\"/>\n",
       "<text text-anchor=\"middle\" x=\"515\" y=\"-158.3\" font-family=\"Times,serif\" font-size=\"14.00\" fill=\"#000000\">f</text>\n",
       "</g>\n",
       "<!-- conjugate(f(Symbol(x), Symbol(t)))_(0, 1, 1)&#45;&gt;f(Symbol(x), Symbol(t))_(0, 1, 1, 0) -->\n",
       "<g id=\"edge20\" class=\"edge\">\n",
       "<title>conjugate(f(Symbol(x), Symbol(t)))_(0, 1, 1)&#45;&gt;f(Symbol(x), Symbol(t))_(0, 1, 1, 0)</title>\n",
       "<path fill=\"none\" stroke=\"#000000\" d=\"M509.0187,-215.8314C509.8743,-208.131 510.8917,-198.9743 511.8426,-190.4166\"/>\n",
       "<polygon fill=\"#000000\" stroke=\"#000000\" points=\"515.3283,-190.7386 512.9541,-180.4133 508.3711,-189.9656 515.3283,-190.7386\"/>\n",
       "</g>\n",
       "<!-- Symbol(x)_(0, 1, 1, 0, 0) -->\n",
       "<g id=\"node21\" class=\"node\">\n",
       "<title>Symbol(x)_(0, 1, 1, 0, 0)</title>\n",
       "<ellipse fill=\"none\" stroke=\"#000000\" cx=\"497\" cy=\"-90\" rx=\"27\" ry=\"18\"/>\n",
       "<text text-anchor=\"middle\" x=\"497\" y=\"-86.3\" font-family=\"Times,serif\" font-size=\"14.00\" fill=\"#000000\">x</text>\n",
       "</g>\n",
       "<!-- f(Symbol(x), Symbol(t))_(0, 1, 1, 0)&#45;&gt;Symbol(x)_(0, 1, 1, 0, 0) -->\n",
       "<g id=\"edge21\" class=\"edge\">\n",
       "<title>f(Symbol(x), Symbol(t))_(0, 1, 1, 0)&#45;&gt;Symbol(x)_(0, 1, 1, 0, 0)</title>\n",
       "<path fill=\"none\" stroke=\"#000000\" d=\"M510.5506,-144.2022C508.5602,-136.2406 506.1668,-126.6671 503.9489,-117.7957\"/>\n",
       "<polygon fill=\"#000000\" stroke=\"#000000\" points=\"507.2816,-116.6951 501.4606,-107.8425 500.4906,-118.3929 507.2816,-116.6951\"/>\n",
       "</g>\n",
       "<!-- Symbol(t)_(0, 1, 1, 0, 1) -->\n",
       "<g id=\"node22\" class=\"node\">\n",
       "<title>Symbol(t)_(0, 1, 1, 0, 1)</title>\n",
       "<ellipse fill=\"none\" stroke=\"#000000\" cx=\"569\" cy=\"-90\" rx=\"27\" ry=\"18\"/>\n",
       "<text text-anchor=\"middle\" x=\"569\" y=\"-86.3\" font-family=\"Times,serif\" font-size=\"14.00\" fill=\"#000000\">t</text>\n",
       "</g>\n",
       "<!-- f(Symbol(x), Symbol(t))_(0, 1, 1, 0)&#45;&gt;Symbol(t)_(0, 1, 1, 0, 1) -->\n",
       "<g id=\"edge22\" class=\"edge\">\n",
       "<title>f(Symbol(x), Symbol(t))_(0, 1, 1, 0)&#45;&gt;Symbol(t)_(0, 1, 1, 0, 1)</title>\n",
       "<path fill=\"none\" stroke=\"#000000\" d=\"M527.2534,-145.6621C534.1577,-136.4564 542.9177,-124.7764 550.6285,-114.4953\"/>\n",
       "<polygon fill=\"#000000\" stroke=\"#000000\" points=\"553.595,-116.3733 556.7951,-106.2733 547.995,-112.1733 553.595,-116.3733\"/>\n",
       "</g>\n",
       "<!-- Symbol(x)_(1, 0) -->\n",
       "<g id=\"node24\" class=\"node\">\n",
       "<title>Symbol(x)_(1, 0)</title>\n",
       "<ellipse fill=\"none\" stroke=\"#000000\" cx=\"450\" cy=\"-306\" rx=\"27\" ry=\"18\"/>\n",
       "<text text-anchor=\"middle\" x=\"450\" y=\"-302.3\" font-family=\"Times,serif\" font-size=\"14.00\" fill=\"#000000\">x</text>\n",
       "</g>\n",
       "<!-- Tuple(Symbol(x), Symbol(a), Symbol(b))_(1,)&#45;&gt;Symbol(x)_(1, 0) -->\n",
       "<g id=\"edge23\" class=\"edge\">\n",
       "<title>Tuple(Symbol(x), Symbol(a), Symbol(b))_(1,)&#45;&gt;Symbol(x)_(1, 0)</title>\n",
       "<path fill=\"none\" stroke=\"#000000\" d=\"M479.5592,-360.5708C474.9604,-352.0807 469.3336,-341.6929 464.2282,-332.2674\"/>\n",
       "<polygon fill=\"#000000\" stroke=\"#000000\" points=\"467.1943,-330.3946 459.3539,-323.2687 461.0392,-333.7286 467.1943,-330.3946\"/>\n",
       "</g>\n",
       "<!-- Symbol(a)_(1, 1) -->\n",
       "<g id=\"node25\" class=\"node\">\n",
       "<title>Symbol(a)_(1, 1)</title>\n",
       "<ellipse fill=\"none\" stroke=\"#000000\" cx=\"522\" cy=\"-306\" rx=\"27\" ry=\"18\"/>\n",
       "<text text-anchor=\"middle\" x=\"522\" y=\"-302.3\" font-family=\"Times,serif\" font-size=\"14.00\" fill=\"#000000\">a</text>\n",
       "</g>\n",
       "<!-- Tuple(Symbol(x), Symbol(a), Symbol(b))_(1,)&#45;&gt;Symbol(a)_(1, 1) -->\n",
       "<g id=\"edge24\" class=\"edge\">\n",
       "<title>Tuple(Symbol(x), Symbol(a), Symbol(b))_(1,)&#45;&gt;Symbol(a)_(1, 1)</title>\n",
       "<path fill=\"none\" stroke=\"#000000\" d=\"M497.1573,-360.2022C500.982,-351.8574 505.6184,-341.7417 509.8451,-332.5197\"/>\n",
       "<polygon fill=\"#000000\" stroke=\"#000000\" points=\"513.0655,-333.8936 514.0504,-323.3446 506.7021,-330.9769 513.0655,-333.8936\"/>\n",
       "</g>\n",
       "<!-- Symbol(b)_(1, 2) -->\n",
       "<g id=\"node26\" class=\"node\">\n",
       "<title>Symbol(b)_(1, 2)</title>\n",
       "<ellipse fill=\"none\" stroke=\"#000000\" cx=\"594\" cy=\"-306\" rx=\"27\" ry=\"18\"/>\n",
       "<text text-anchor=\"middle\" x=\"594\" y=\"-302.3\" font-family=\"Times,serif\" font-size=\"14.00\" fill=\"#000000\">b</text>\n",
       "</g>\n",
       "<!-- Tuple(Symbol(x), Symbol(a), Symbol(b))_(1,)&#45;&gt;Symbol(b)_(1, 2) -->\n",
       "<g id=\"edge25\" class=\"edge\">\n",
       "<title>Tuple(Symbol(x), Symbol(a), Symbol(b))_(1,)&#45;&gt;Symbol(b)_(1, 2)</title>\n",
       "<path fill=\"none\" stroke=\"#000000\" d=\"M509.4943,-363.9468C525.8041,-352.7629 548.7781,-337.0093 566.6557,-324.7504\"/>\n",
       "<polygon fill=\"#000000\" stroke=\"#000000\" points=\"568.7031,-327.5903 574.971,-319.0484 564.7444,-321.8172 568.7031,-327.5903\"/>\n",
       "</g>\n",
       "</g>\n",
       "</svg>\n"
      ],
      "text/plain": [
       "<graphviz.files.Source at 0x7f60b1adf9e8>"
      ]
     },
     "execution_count": 80,
     "metadata": {},
     "output_type": "execute_result"
    }
   ],
   "source": [
    "di=Source(dotprint(diff(integrate(conjugate(f)*f,(x,a,b)),t)))\n",
    "di"
   ]
  },
  {
   "cell_type": "code",
   "execution_count": 81,
   "metadata": {},
   "outputs": [
    {
     "ename": "NameError",
     "evalue": "name 'Add' is not defined",
     "output_type": "error",
     "traceback": [
      "\u001b[0;31m---------------------------------------------------------------------------\u001b[0m",
      "\u001b[0;31mNameError\u001b[0m                                 Traceback (most recent call last)",
      "\u001b[0;32m<ipython-input-81-33dafcedf9cf>\u001b[0m in \u001b[0;36m<module>\u001b[0;34m()\u001b[0m\n\u001b[0;32m----> 1\u001b[0;31m \u001b[0mAdd\u001b[0m\u001b[0;34m(\u001b[0m\u001b[0;36m1\u001b[0m\u001b[0;34m,\u001b[0m\u001b[0;36m2\u001b[0m\u001b[0;34m)\u001b[0m\u001b[0;34m\u001b[0m\u001b[0m\n\u001b[0m",
      "\u001b[0;31mNameError\u001b[0m: name 'Add' is not defined"
     ]
    }
   ],
   "source": [
    "Add(1,2)"
   ]
  },
  {
   "cell_type": "code",
   "execution_count": 114,
   "metadata": {},
   "outputs": [
    {
     "data": {
      "image/png": "[encoded data removed]",
      "text/latex": [
       "$$1 + 2 + 4$$"
      ],
      "text/plain": [
       "1 + 2 + 4"
      ]
     },
     "execution_count": 114,
     "metadata": {},
     "output_type": "execute_result"
    }
   ],
   "source": [
    "e1=False\n",
    "ex=Add(Add(1,2,evaluate=e1),4,evaluate=False)\n",
    "ex"
   ]
  },
  {
   "cell_type": "code",
   "execution_count": 118,
   "metadata": {},
   "outputs": [
    {
     "data": {
      "image/png": "[encoded data removed]",
      "text/latex": [
       "$$1 + 2 + 4$$"
      ],
      "text/plain": [
       "1 + 2 + 4"
      ]
     },
     "execution_count": 118,
     "metadata": {},
     "output_type": "execute_result"
    }
   ],
   "source": [
    "e1=True\n",
    "ex"
   ]
  },
  {
   "cell_type": "code",
   "execution_count": 102,
   "metadata": {},
   "outputs": [
    {
     "data": {
      "text/plain": [
       "sympy.core.add.Add"
      ]
     },
     "execution_count": 102,
     "metadata": {},
     "output_type": "execute_result"
    }
   ],
   "source": [
    "ex.func"
   ]
  },
  {
   "cell_type": "code",
   "execution_count": 13,
   "metadata": {},
   "outputs": [
    {
     "data": {
      "image/png": "[encoded data removed]",
      "text/latex": [
       "$$\\int \\left(f{\\left (x,t \\right )} + 1\\right) g{\\left (x,t \\right )}\\, dx$$"
      ],
      "text/plain": [
       "⌠                         \n",
       "⎮ (f(x, t) + 1)⋅g(x, t) dx\n",
       "⌡                         "
      ]
     },
     "execution_count": 13,
     "metadata": {},
     "output_type": "execute_result"
    }
   ],
   "source": [
    "integrate(f*g+g,x)"
   ]
  },
  {
   "cell_type": "code",
   "execution_count": 14,
   "metadata": {},
   "outputs": [
    {
     "data": {
      "image/png": "[encoded data removed]",
      "text/latex": [
       "$$\\int f{\\left (x,t \\right )} g{\\left (x,t \\right )}\\, dx + \\int g{\\left (x,t \\right )}\\, dx$$"
      ],
      "text/plain": [
       "⌠                      ⌠           \n",
       "⎮ f(x, t)⋅g(x, t) dx + ⎮ g(x, t) dx\n",
       "⌡                      ⌡           "
      ]
     },
     "execution_count": 14,
     "metadata": {},
     "output_type": "execute_result"
    }
   ],
   "source": [
    "expand(_)"
   ]
  },
  {
   "cell_type": "code",
   "execution_count": 16,
   "metadata": {},
   "outputs": [
    {
     "ename": "ImportError",
     "evalue": "cannot import name 'latex'",
     "output_type": "error",
     "traceback": [
      "\u001b[0;31m---------------------------------------------------------------------------\u001b[0m",
      "\u001b[0;31mImportError\u001b[0m                               Traceback (most recent call last)",
      "\u001b[0;32m<ipython-input-16-50d15c935b43>\u001b[0m in \u001b[0;36m<module>\u001b[0;34m()\u001b[0m\n\u001b[0;32m----> 1\u001b[0;31m \u001b[0;32mfrom\u001b[0m \u001b[0msympy\u001b[0m\u001b[0;34m.\u001b[0m\u001b[0mparsing\u001b[0m \u001b[0;32mimport\u001b[0m \u001b[0mlatex\u001b[0m\u001b[0;34m\u001b[0m\u001b[0m\n\u001b[0m",
      "\u001b[0;31mImportError\u001b[0m: cannot import name 'latex'"
     ]
    }
   ],
   "source": [
    "from sympy.parsing import latex"
   ]
  },
  {
   "cell_type": "code",
   "execution_count": 18,
   "metadata": {},
   "outputs": [],
   "source": [
    "import sympy"
   ]
  },
  {
   "cell_type": "code",
   "execution_count": 19,
   "metadata": {},
   "outputs": [
    {
     "data": {
      "text/plain": [
       "'1.1.1'"
      ]
     },
     "execution_count": 19,
     "metadata": {},
     "output_type": "execute_result"
    }
   ],
   "source": [
    "sympy.__version__"
   ]
  },
  {
   "cell_type": "code",
   "execution_count": 21,
   "metadata": {},
   "outputs": [
    {
     "data": {
      "image/png": "[encoded data removed]",
      "text/latex": [
       "$$\\sin{\\left (x \\right )}$$"
      ],
      "text/plain": [
       "sin(x)"
      ]
     },
     "execution_count": 21,
     "metadata": {},
     "output_type": "execute_result"
    }
   ],
   "source": [
    "sympy.sin(x)"
   ]
  },
  {
   "cell_type": "code",
   "execution_count": 24,
   "metadata": {},
   "outputs": [
    {
     "ename": "AttributeError",
     "evalue": "'list' object has no attribute 'is_Number'",
     "output_type": "error",
     "traceback": [
      "\u001b[0;31m---------------------------------------------------------------------------\u001b[0m",
      "\u001b[0;31mTypeError\u001b[0m                                 Traceback (most recent call last)",
      "\u001b[0;32m/usr/lib/python3.6/site-packages/sympy/core/cache.py\u001b[0m in \u001b[0;36mwrapper\u001b[0;34m(*args, **kwargs)\u001b[0m\n\u001b[1;32m     92\u001b[0m                 \u001b[0;32mtry\u001b[0m\u001b[0;34m:\u001b[0m\u001b[0;34m\u001b[0m\u001b[0m\n\u001b[0;32m---> 93\u001b[0;31m                     \u001b[0mretval\u001b[0m \u001b[0;34m=\u001b[0m \u001b[0mcfunc\u001b[0m\u001b[0;34m(\u001b[0m\u001b[0;34m*\u001b[0m\u001b[0margs\u001b[0m\u001b[0;34m,\u001b[0m \u001b[0;34m**\u001b[0m\u001b[0mkwargs\u001b[0m\u001b[0;34m)\u001b[0m\u001b[0;34m\u001b[0m\u001b[0m\n\u001b[0m\u001b[1;32m     94\u001b[0m                 \u001b[0;32mexcept\u001b[0m \u001b[0mTypeError\u001b[0m\u001b[0;34m:\u001b[0m\u001b[0;34m\u001b[0m\u001b[0m\n",
      "\u001b[0;31mTypeError\u001b[0m: unhashable type: 'list'",
      "\nDuring handling of the above exception, another exception occurred:\n",
      "\u001b[0;31mTypeError\u001b[0m                                 Traceback (most recent call last)",
      "\u001b[0;32m/usr/lib/python3.6/site-packages/sympy/core/cache.py\u001b[0m in \u001b[0;36mwrapper\u001b[0;34m(*args, **kwargs)\u001b[0m\n\u001b[1;32m     92\u001b[0m                 \u001b[0;32mtry\u001b[0m\u001b[0;34m:\u001b[0m\u001b[0;34m\u001b[0m\u001b[0m\n\u001b[0;32m---> 93\u001b[0;31m                     \u001b[0mretval\u001b[0m \u001b[0;34m=\u001b[0m \u001b[0mcfunc\u001b[0m\u001b[0;34m(\u001b[0m\u001b[0;34m*\u001b[0m\u001b[0margs\u001b[0m\u001b[0;34m,\u001b[0m \u001b[0;34m**\u001b[0m\u001b[0mkwargs\u001b[0m\u001b[0;34m)\u001b[0m\u001b[0;34m\u001b[0m\u001b[0m\n\u001b[0m\u001b[1;32m     94\u001b[0m                 \u001b[0;32mexcept\u001b[0m \u001b[0mTypeError\u001b[0m\u001b[0;34m:\u001b[0m\u001b[0;34m\u001b[0m\u001b[0m\n",
      "\u001b[0;31mTypeError\u001b[0m: unhashable type: 'list'",
      "\nDuring handling of the above exception, another exception occurred:\n",
      "\u001b[0;31mAttributeError\u001b[0m                            Traceback (most recent call last)",
      "\u001b[0;32m<ipython-input-24-d7ecba5d5811>\u001b[0m in \u001b[0;36m<module>\u001b[0;34m()\u001b[0m\n\u001b[0;32m----> 1\u001b[0;31m \u001b[0msympy\u001b[0m\u001b[0;34m.\u001b[0m\u001b[0msin\u001b[0m\u001b[0;34m(\u001b[0m\u001b[0;34m[\u001b[0m\u001b[0;34m]\u001b[0m\u001b[0;34m)\u001b[0m\u001b[0;34m\u001b[0m\u001b[0m\n\u001b[0m",
      "\u001b[0;32m/usr/lib/python3.6/site-packages/sympy/core/cache.py\u001b[0m in \u001b[0;36mwrapper\u001b[0;34m(*args, **kwargs)\u001b[0m\n\u001b[1;32m     93\u001b[0m                     \u001b[0mretval\u001b[0m \u001b[0;34m=\u001b[0m \u001b[0mcfunc\u001b[0m\u001b[0;34m(\u001b[0m\u001b[0;34m*\u001b[0m\u001b[0margs\u001b[0m\u001b[0;34m,\u001b[0m \u001b[0;34m**\u001b[0m\u001b[0mkwargs\u001b[0m\u001b[0;34m)\u001b[0m\u001b[0;34m\u001b[0m\u001b[0m\n\u001b[1;32m     94\u001b[0m                 \u001b[0;32mexcept\u001b[0m \u001b[0mTypeError\u001b[0m\u001b[0;34m:\u001b[0m\u001b[0;34m\u001b[0m\u001b[0m\n\u001b[0;32m---> 95\u001b[0;31m                     \u001b[0mretval\u001b[0m \u001b[0;34m=\u001b[0m \u001b[0mfunc\u001b[0m\u001b[0;34m(\u001b[0m\u001b[0;34m*\u001b[0m\u001b[0margs\u001b[0m\u001b[0;34m,\u001b[0m \u001b[0;34m**\u001b[0m\u001b[0mkwargs\u001b[0m\u001b[0;34m)\u001b[0m\u001b[0;34m\u001b[0m\u001b[0m\n\u001b[0m\u001b[1;32m     96\u001b[0m                 \u001b[0;32mreturn\u001b[0m \u001b[0mretval\u001b[0m\u001b[0;34m\u001b[0m\u001b[0m\n\u001b[1;32m     97\u001b[0m \u001b[0;34m\u001b[0m\u001b[0m\n",
      "\u001b[0;32m/usr/lib/python3.6/site-packages/sympy/core/function.py\u001b[0m in \u001b[0;36m__new__\u001b[0;34m(cls, *args, **options)\u001b[0m\n\u001b[1;32m    425\u001b[0m \u001b[0;34m\u001b[0m\u001b[0m\n\u001b[1;32m    426\u001b[0m         \u001b[0mevaluate\u001b[0m \u001b[0;34m=\u001b[0m \u001b[0moptions\u001b[0m\u001b[0;34m.\u001b[0m\u001b[0mget\u001b[0m\u001b[0;34m(\u001b[0m\u001b[0;34m'evaluate'\u001b[0m\u001b[0;34m,\u001b[0m \u001b[0mglobal_evaluate\u001b[0m\u001b[0;34m[\u001b[0m\u001b[0;36m0\u001b[0m\u001b[0;34m]\u001b[0m\u001b[0;34m)\u001b[0m\u001b[0;34m\u001b[0m\u001b[0m\n\u001b[0;32m--> 427\u001b[0;31m         \u001b[0mresult\u001b[0m \u001b[0;34m=\u001b[0m \u001b[0msuper\u001b[0m\u001b[0;34m(\u001b[0m\u001b[0mFunction\u001b[0m\u001b[0;34m,\u001b[0m \u001b[0mcls\u001b[0m\u001b[0;34m)\u001b[0m\u001b[0;34m.\u001b[0m\u001b[0m__new__\u001b[0m\u001b[0;34m(\u001b[0m\u001b[0mcls\u001b[0m\u001b[0;34m,\u001b[0m \u001b[0;34m*\u001b[0m\u001b[0margs\u001b[0m\u001b[0;34m,\u001b[0m \u001b[0;34m**\u001b[0m\u001b[0moptions\u001b[0m\u001b[0;34m)\u001b[0m\u001b[0;34m\u001b[0m\u001b[0m\n\u001b[0m\u001b[1;32m    428\u001b[0m         \u001b[0;32mif\u001b[0m \u001b[0;32mnot\u001b[0m \u001b[0mevaluate\u001b[0m \u001b[0;32mor\u001b[0m \u001b[0;32mnot\u001b[0m \u001b[0misinstance\u001b[0m\u001b[0;34m(\u001b[0m\u001b[0mresult\u001b[0m\u001b[0;34m,\u001b[0m \u001b[0mcls\u001b[0m\u001b[0;34m)\u001b[0m\u001b[0;34m:\u001b[0m\u001b[0;34m\u001b[0m\u001b[0m\n\u001b[1;32m    429\u001b[0m             \u001b[0;32mreturn\u001b[0m \u001b[0mresult\u001b[0m\u001b[0;34m\u001b[0m\u001b[0m\n",
      "\u001b[0;32m/usr/lib/python3.6/site-packages/sympy/core/cache.py\u001b[0m in \u001b[0;36mwrapper\u001b[0;34m(*args, **kwargs)\u001b[0m\n\u001b[1;32m     93\u001b[0m                     \u001b[0mretval\u001b[0m \u001b[0;34m=\u001b[0m \u001b[0mcfunc\u001b[0m\u001b[0;34m(\u001b[0m\u001b[0;34m*\u001b[0m\u001b[0margs\u001b[0m\u001b[0;34m,\u001b[0m \u001b[0;34m**\u001b[0m\u001b[0mkwargs\u001b[0m\u001b[0;34m)\u001b[0m\u001b[0;34m\u001b[0m\u001b[0m\n\u001b[1;32m     94\u001b[0m                 \u001b[0;32mexcept\u001b[0m \u001b[0mTypeError\u001b[0m\u001b[0;34m:\u001b[0m\u001b[0;34m\u001b[0m\u001b[0m\n\u001b[0;32m---> 95\u001b[0;31m                     \u001b[0mretval\u001b[0m \u001b[0;34m=\u001b[0m \u001b[0mfunc\u001b[0m\u001b[0;34m(\u001b[0m\u001b[0;34m*\u001b[0m\u001b[0margs\u001b[0m\u001b[0;34m,\u001b[0m \u001b[0;34m**\u001b[0m\u001b[0mkwargs\u001b[0m\u001b[0;34m)\u001b[0m\u001b[0;34m\u001b[0m\u001b[0m\n\u001b[0m\u001b[1;32m     96\u001b[0m                 \u001b[0;32mreturn\u001b[0m \u001b[0mretval\u001b[0m\u001b[0;34m\u001b[0m\u001b[0m\n\u001b[1;32m     97\u001b[0m \u001b[0;34m\u001b[0m\u001b[0m\n",
      "\u001b[0;32m/usr/lib/python3.6/site-packages/sympy/core/function.py\u001b[0m in \u001b[0;36m__new__\u001b[0;34m(cls, *args, **options)\u001b[0m\n\u001b[1;32m    248\u001b[0m \u001b[0;34m\u001b[0m\u001b[0m\n\u001b[1;32m    249\u001b[0m         \u001b[0;32mif\u001b[0m \u001b[0mevaluate\u001b[0m\u001b[0;34m:\u001b[0m\u001b[0;34m\u001b[0m\u001b[0m\n\u001b[0;32m--> 250\u001b[0;31m             \u001b[0mevaluated\u001b[0m \u001b[0;34m=\u001b[0m \u001b[0mcls\u001b[0m\u001b[0;34m.\u001b[0m\u001b[0meval\u001b[0m\u001b[0;34m(\u001b[0m\u001b[0;34m*\u001b[0m\u001b[0margs\u001b[0m\u001b[0;34m)\u001b[0m\u001b[0;34m\u001b[0m\u001b[0m\n\u001b[0m\u001b[1;32m    251\u001b[0m             \u001b[0;32mif\u001b[0m \u001b[0mevaluated\u001b[0m \u001b[0;32mis\u001b[0m \u001b[0;32mnot\u001b[0m \u001b[0;32mNone\u001b[0m\u001b[0;34m:\u001b[0m\u001b[0;34m\u001b[0m\u001b[0m\n\u001b[1;32m    252\u001b[0m                 \u001b[0;32mreturn\u001b[0m \u001b[0mevaluated\u001b[0m\u001b[0;34m\u001b[0m\u001b[0m\n",
      "\u001b[0;32m/usr/lib/python3.6/site-packages/sympy/functions/elementary/trigonometric.py\u001b[0m in \u001b[0;36meval\u001b[0;34m(cls, arg)\u001b[0m\n\u001b[1;32m    255\u001b[0m     \u001b[0;32mdef\u001b[0m \u001b[0meval\u001b[0m\u001b[0;34m(\u001b[0m\u001b[0mcls\u001b[0m\u001b[0;34m,\u001b[0m \u001b[0marg\u001b[0m\u001b[0;34m)\u001b[0m\u001b[0;34m:\u001b[0m\u001b[0;34m\u001b[0m\u001b[0m\n\u001b[1;32m    256\u001b[0m         \u001b[0;32mfrom\u001b[0m \u001b[0msympy\u001b[0m\u001b[0;34m.\u001b[0m\u001b[0mcalculus\u001b[0m \u001b[0;32mimport\u001b[0m \u001b[0mAccumBounds\u001b[0m\u001b[0;34m\u001b[0m\u001b[0m\n\u001b[0;32m--> 257\u001b[0;31m         \u001b[0;32mif\u001b[0m \u001b[0marg\u001b[0m\u001b[0;34m.\u001b[0m\u001b[0mis_Number\u001b[0m\u001b[0;34m:\u001b[0m\u001b[0;34m\u001b[0m\u001b[0m\n\u001b[0m\u001b[1;32m    258\u001b[0m             \u001b[0;32mif\u001b[0m \u001b[0marg\u001b[0m \u001b[0;32mis\u001b[0m \u001b[0mS\u001b[0m\u001b[0;34m.\u001b[0m\u001b[0mNaN\u001b[0m\u001b[0;34m:\u001b[0m\u001b[0;34m\u001b[0m\u001b[0m\n\u001b[1;32m    259\u001b[0m                 \u001b[0;32mreturn\u001b[0m \u001b[0mS\u001b[0m\u001b[0;34m.\u001b[0m\u001b[0mNaN\u001b[0m\u001b[0;34m\u001b[0m\u001b[0m\n",
      "\u001b[0;31mAttributeError\u001b[0m: 'list' object has no attribute 'is_Number'"
     ]
    }
   ],
   "source": [
    "sympy.sin([])"
   ]
  },
  {
   "cell_type": "code",
   "execution_count": 107,
   "metadata": {},
   "outputs": [],
   "source": [
    "s1=sympy.Symbol('\\color{lightgrey} \\square')\n",
    "s2=sympy.Symbol('\\color{lightgrey}  \\square')\n",
    "s3=sympy.Symbol('\\color{lightgrey}   \\square')\n",
    "s4=sympy.Symbol('\\color{lightgrey}    \\square')\n",
    "s5=sympy.Symbol('\\color{lightgrey}     \\square')\n",
    "s6=sympy.Symbol('\\color{lightgrey}      \\square')\n",
    "s7=sympy.Symbol('\\color{lightgrey}       \\square')\n",
    "s8=sympy.Symbol('\\color{lightgrey}     \\square ')"
   ]
  },
  {
   "cell_type": "code",
   "execution_count": 109,
   "metadata": {},
   "outputs": [
    {
     "data": {
      "text/latex": [
       "$$\\color{lightgrey}       \\square \\color{lightgrey}      \\square \\color{lightgrey}     \\square \\color{lightgrey}     \\square  \\color{lightgrey}    \\square \\sin^{2}{\\left (\\color{lightgrey} \\square^{\\color{lightgrey}  \\square^{\\color{lightgrey}   \\square}} \\right )}$$"
      ],
      "text/plain": [
       "                                                                              \n",
       "                                                                              \n",
       "\\color{lightgrey}       \\square⋅\\color{lightgrey}      \\square⋅\\color{lightgre\n",
       "\n",
       "                                                                              \n",
       "                                                                              \n",
       "y}     \\square⋅\\color{lightgrey}     \\square ⋅\\color{lightgrey}    \\square⋅sin\n",
       "\n",
       " ⎛                         ⎛                          \\color{lightgrey}   \\squ\n",
       "2⎜                         ⎝\\color{lightgrey}  \\square                        \n",
       " ⎝\\color{lightgrey} \\square                                                   \n",
       "\n",
       "are⎞⎞\n",
       "   ⎠⎟\n",
       "    ⎠"
      ]
     },
     "execution_count": 109,
     "metadata": {},
     "output_type": "execute_result"
    }
   ],
   "source": [
    "ex=sympy.sin(s1**s2**s3)**2 * s4*s5*s6*s7*s8\n",
    "ex"
   ]
  },
  {
   "cell_type": "code",
   "execution_count": 114,
   "metadata": {},
   "outputs": [
    {
     "data": {
      "image/svg+xml": [
       "<?xml version=\"1.0\" encoding=\"UTF-8\" standalone=\"no\"?>\n",
       "<!DOCTYPE svg PUBLIC \"-//W3C//DTD SVG 1.1//EN\"\n",
       " \"http://www.w3.org/Graphics/SVG/1.1/DTD/svg11.dtd\">\n",
       "<!-- Generated by graphviz version 2.40.1 (20161225.0304)\n",
       " -->\n",
       "<!-- Title: %3 Pages: 1 -->\n",
       "<svg width=\"1480pt\" height=\"404pt\"\n",
       " viewBox=\"0.00 0.00 1479.73 404.00\" xmlns=\"http://www.w3.org/2000/svg\" xmlns:xlink=\"http://www.w3.org/1999/xlink\">\n",
       "<g id=\"graph0\" class=\"graph\" transform=\"scale(1 1) rotate(0) translate(4 400)\">\n",
       "<title>%3</title>\n",
       "<polygon fill=\"#ffffff\" stroke=\"transparent\" points=\"-4,4 -4,-400 1475.7307,-400 1475.7307,4 -4,4\"/>\n",
       "<!-- Mul(Symbol(\\color{lightgrey} &#160;&#160;&#160;&#160;&#160;&#160;\\square), Symbol(\\color{lightgrey} &#160;&#160;&#160;&#160;&#160;\\square), Symbol(\\color{lightgrey} &#160;&#160;&#160;&#160;\\square), Symbol(\\color{lightgrey} &#160;&#160;&#160;&#160;\\square ), Symbol(\\color{lightgrey} &#160;&#160;&#160;\\square), Pow(sin(Pow(Symbol(\\color{lightgrey} \\square), Pow(Symbol(\\color{lightgrey} &#160;\\square), Symbol(\\color{lightgrey} &#160;&#160;\\square)))), Integer(2)))_() -->\n",
       "<g id=\"node1\" class=\"node\">\n",
       "<title>Mul(Symbol(\\color{lightgrey} &#160;&#160;&#160;&#160;&#160;&#160;\\square), Symbol(\\color{lightgrey} &#160;&#160;&#160;&#160;&#160;\\square), Symbol(\\color{lightgrey} &#160;&#160;&#160;&#160;\\square), Symbol(\\color{lightgrey} &#160;&#160;&#160;&#160;\\square ), Symbol(\\color{lightgrey} &#160;&#160;&#160;\\square), Pow(sin(Pow(Symbol(\\color{lightgrey} \\square), Pow(Symbol(\\color{lightgrey} &#160;\\square), Symbol(\\color{lightgrey} &#160;&#160;\\square)))), Integer(2)))_()</title>\n",
       "<ellipse fill=\"none\" stroke=\"#000000\" cx=\"713.7399\" cy=\"-378\" rx=\"27\" ry=\"18\"/>\n",
       "<text text-anchor=\"middle\" x=\"713.7399\" y=\"-374.3\" font-family=\"Times,serif\" font-size=\"14.00\" fill=\"#000000\">Mul</text>\n",
       "</g>\n",
       "<!-- Symbol(\\color{lightgrey} &#160;&#160;&#160;&#160;&#160;&#160;\\square)_(0,) -->\n",
       "<g id=\"node2\" class=\"node\">\n",
       "<title>Symbol(\\color{lightgrey} &#160;&#160;&#160;&#160;&#160;&#160;\\square)_(0,)</title>\n",
       "<ellipse fill=\"none\" stroke=\"#000000\" cx=\"113.7399\" cy=\"-306\" rx=\"113.9803\" ry=\"18\"/>\n",
       "<text text-anchor=\"middle\" x=\"113.7399\" y=\"-302.3\" font-family=\"Times,serif\" font-size=\"14.00\" fill=\"#000000\">color{lightgrey} &#160;&#160;&#160;&#160;&#160;&#160;square</text>\n",
       "</g>\n",
       "<!-- Mul(Symbol(\\color{lightgrey} &#160;&#160;&#160;&#160;&#160;&#160;\\square), Symbol(\\color{lightgrey} &#160;&#160;&#160;&#160;&#160;\\square), Symbol(\\color{lightgrey} &#160;&#160;&#160;&#160;\\square), Symbol(\\color{lightgrey} &#160;&#160;&#160;&#160;\\square ), Symbol(\\color{lightgrey} &#160;&#160;&#160;\\square), Pow(sin(Pow(Symbol(\\color{lightgrey} \\square), Pow(Symbol(\\color{lightgrey} &#160;\\square), Symbol(\\color{lightgrey} &#160;&#160;\\square)))), Integer(2)))_()&#45;&gt;Symbol(\\color{lightgrey} &#160;&#160;&#160;&#160;&#160;&#160;\\square)_(0,) -->\n",
       "<g id=\"edge1\" class=\"edge\">\n",
       "<title>Mul(Symbol(\\color{lightgrey} &#160;&#160;&#160;&#160;&#160;&#160;\\square), Symbol(\\color{lightgrey} &#160;&#160;&#160;&#160;&#160;\\square), Symbol(\\color{lightgrey} &#160;&#160;&#160;&#160;\\square), Symbol(\\color{lightgrey} &#160;&#160;&#160;&#160;\\square ), Symbol(\\color{lightgrey} &#160;&#160;&#160;\\square), Pow(sin(Pow(Symbol(\\color{lightgrey} \\square), Pow(Symbol(\\color{lightgrey} &#160;\\square), Symbol(\\color{lightgrey} &#160;&#160;\\square)))), Integer(2)))_()&#45;&gt;Symbol(\\color{lightgrey} &#160;&#160;&#160;&#160;&#160;&#160;\\square)_(0,)</title>\n",
       "<path fill=\"none\" stroke=\"#000000\" d=\"M686.8067,-375.2618C614.1066,-367.8035 407.8229,-346.1962 236.7399,-324 226.7653,-322.7059 216.3459,-321.2864 205.9742,-319.8301\"/>\n",
       "<polygon fill=\"#000000\" stroke=\"#000000\" points=\"206.4531,-316.3631 196.0609,-318.4254 205.471,-323.2938 206.4531,-316.3631\"/>\n",
       "</g>\n",
       "<!-- Symbol(\\color{lightgrey} &#160;&#160;&#160;&#160;&#160;\\square)_(1,) -->\n",
       "<g id=\"node3\" class=\"node\">\n",
       "<title>Symbol(\\color{lightgrey} &#160;&#160;&#160;&#160;&#160;\\square)_(1,)</title>\n",
       "<ellipse fill=\"none\" stroke=\"#000000\" cx=\"356.7399\" cy=\"-306\" rx=\"111.2805\" ry=\"18\"/>\n",
       "<text text-anchor=\"middle\" x=\"356.7399\" y=\"-302.3\" font-family=\"Times,serif\" font-size=\"14.00\" fill=\"#000000\">color{lightgrey} &#160;&#160;&#160;&#160;&#160;square</text>\n",
       "</g>\n",
       "<!-- Mul(Symbol(\\color{lightgrey} &#160;&#160;&#160;&#160;&#160;&#160;\\square), Symbol(\\color{lightgrey} &#160;&#160;&#160;&#160;&#160;\\square), Symbol(\\color{lightgrey} &#160;&#160;&#160;&#160;\\square), Symbol(\\color{lightgrey} &#160;&#160;&#160;&#160;\\square ), Symbol(\\color{lightgrey} &#160;&#160;&#160;\\square), Pow(sin(Pow(Symbol(\\color{lightgrey} \\square), Pow(Symbol(\\color{lightgrey} &#160;\\square), Symbol(\\color{lightgrey} &#160;&#160;\\square)))), Integer(2)))_()&#45;&gt;Symbol(\\color{lightgrey} &#160;&#160;&#160;&#160;&#160;\\square)_(1,) -->\n",
       "<g id=\"edge2\" class=\"edge\">\n",
       "<title>Mul(Symbol(\\color{lightgrey} &#160;&#160;&#160;&#160;&#160;&#160;\\square), Symbol(\\color{lightgrey} &#160;&#160;&#160;&#160;&#160;\\square), Symbol(\\color{lightgrey} &#160;&#160;&#160;&#160;\\square), Symbol(\\color{lightgrey} &#160;&#160;&#160;&#160;\\square ), Symbol(\\color{lightgrey} &#160;&#160;&#160;\\square), Pow(sin(Pow(Symbol(\\color{lightgrey} \\square), Pow(Symbol(\\color{lightgrey} &#160;\\square), Symbol(\\color{lightgrey} &#160;&#160;\\square)))), Integer(2)))_()&#45;&gt;Symbol(\\color{lightgrey} &#160;&#160;&#160;&#160;&#160;\\square)_(1,)</title>\n",
       "<path fill=\"none\" stroke=\"#000000\" d=\"M687.7778,-372.7639C635.7691,-362.2748 516.9351,-338.3083 436.7318,-322.1328\"/>\n",
       "<polygon fill=\"#000000\" stroke=\"#000000\" points=\"437.1558,-318.6479 426.6612,-320.1018 435.7719,-325.5098 437.1558,-318.6479\"/>\n",
       "</g>\n",
       "<!-- Symbol(\\color{lightgrey} &#160;&#160;&#160;&#160;\\square)_(2,) -->\n",
       "<g id=\"node4\" class=\"node\">\n",
       "<title>Symbol(\\color{lightgrey} &#160;&#160;&#160;&#160;\\square)_(2,)</title>\n",
       "<ellipse fill=\"none\" stroke=\"#000000\" cx=\"594.7399\" cy=\"-306\" rx=\"108.5808\" ry=\"18\"/>\n",
       "<text text-anchor=\"middle\" x=\"594.7399\" y=\"-302.3\" font-family=\"Times,serif\" font-size=\"14.00\" fill=\"#000000\">color{lightgrey} &#160;&#160;&#160;&#160;square</text>\n",
       "</g>\n",
       "<!-- Mul(Symbol(\\color{lightgrey} &#160;&#160;&#160;&#160;&#160;&#160;\\square), Symbol(\\color{lightgrey} &#160;&#160;&#160;&#160;&#160;\\square), Symbol(\\color{lightgrey} &#160;&#160;&#160;&#160;\\square), Symbol(\\color{lightgrey} &#160;&#160;&#160;&#160;\\square ), Symbol(\\color{lightgrey} &#160;&#160;&#160;\\square), Pow(sin(Pow(Symbol(\\color{lightgrey} \\square), Pow(Symbol(\\color{lightgrey} &#160;\\square), Symbol(\\color{lightgrey} &#160;&#160;\\square)))), Integer(2)))_()&#45;&gt;Symbol(\\color{lightgrey} &#160;&#160;&#160;&#160;\\square)_(2,) -->\n",
       "<g id=\"edge3\" class=\"edge\">\n",
       "<title>Mul(Symbol(\\color{lightgrey} &#160;&#160;&#160;&#160;&#160;&#160;\\square), Symbol(\\color{lightgrey} &#160;&#160;&#160;&#160;&#160;\\square), Symbol(\\color{lightgrey} &#160;&#160;&#160;&#160;\\square), Symbol(\\color{lightgrey} &#160;&#160;&#160;&#160;\\square ), Symbol(\\color{lightgrey} &#160;&#160;&#160;\\square), Pow(sin(Pow(Symbol(\\color{lightgrey} \\square), Pow(Symbol(\\color{lightgrey} &#160;\\square), Symbol(\\color{lightgrey} &#160;&#160;\\square)))), Integer(2)))_()&#45;&gt;Symbol(\\color{lightgrey} &#160;&#160;&#160;&#160;\\square)_(2,)</title>\n",
       "<path fill=\"none\" stroke=\"#000000\" d=\"M693.5532,-365.7862C676.8019,-355.6509 652.5258,-340.9629 632.2281,-328.6819\"/>\n",
       "<polygon fill=\"#000000\" stroke=\"#000000\" points=\"633.8834,-325.5927 623.5157,-323.4105 630.2597,-331.5818 633.8834,-325.5927\"/>\n",
       "</g>\n",
       "<!-- Symbol(\\color{lightgrey} &#160;&#160;&#160;&#160;\\square )_(3,) -->\n",
       "<g id=\"node5\" class=\"node\">\n",
       "<title>Symbol(\\color{lightgrey} &#160;&#160;&#160;&#160;\\square )_(3,)</title>\n",
       "<ellipse fill=\"none\" stroke=\"#000000\" cx=\"832.7399\" cy=\"-306\" rx=\"111.2805\" ry=\"18\"/>\n",
       "<text text-anchor=\"middle\" x=\"832.7399\" y=\"-302.3\" font-family=\"Times,serif\" font-size=\"14.00\" fill=\"#000000\">color{lightgrey} &#160;&#160;&#160;&#160;square </text>\n",
       "</g>\n",
       "<!-- Mul(Symbol(\\color{lightgrey} &#160;&#160;&#160;&#160;&#160;&#160;\\square), Symbol(\\color{lightgrey} &#160;&#160;&#160;&#160;&#160;\\square), Symbol(\\color{lightgrey} &#160;&#160;&#160;&#160;\\square), Symbol(\\color{lightgrey} &#160;&#160;&#160;&#160;\\square ), Symbol(\\color{lightgrey} &#160;&#160;&#160;\\square), Pow(sin(Pow(Symbol(\\color{lightgrey} \\square), Pow(Symbol(\\color{lightgrey} &#160;\\square), Symbol(\\color{lightgrey} &#160;&#160;\\square)))), Integer(2)))_()&#45;&gt;Symbol(\\color{lightgrey} &#160;&#160;&#160;&#160;\\square )_(3,) -->\n",
       "<g id=\"edge4\" class=\"edge\">\n",
       "<title>Mul(Symbol(\\color{lightgrey} &#160;&#160;&#160;&#160;&#160;&#160;\\square), Symbol(\\color{lightgrey} &#160;&#160;&#160;&#160;&#160;\\square), Symbol(\\color{lightgrey} &#160;&#160;&#160;&#160;\\square), Symbol(\\color{lightgrey} &#160;&#160;&#160;&#160;\\square ), Symbol(\\color{lightgrey} &#160;&#160;&#160;\\square), Pow(sin(Pow(Symbol(\\color{lightgrey} \\square), Pow(Symbol(\\color{lightgrey} &#160;\\square), Symbol(\\color{lightgrey} &#160;&#160;\\square)))), Integer(2)))_()&#45;&gt;Symbol(\\color{lightgrey} &#160;&#160;&#160;&#160;\\square )_(3,)</title>\n",
       "<path fill=\"none\" stroke=\"#000000\" d=\"M733.9266,-365.7862C750.6779,-355.6509 774.9541,-340.9629 795.2517,-328.6819\"/>\n",
       "<polygon fill=\"#000000\" stroke=\"#000000\" points=\"797.2201,-331.5818 803.9642,-323.4105 793.5965,-325.5927 797.2201,-331.5818\"/>\n",
       "</g>\n",
       "<!-- Symbol(\\color{lightgrey} &#160;&#160;&#160;\\square)_(4,) -->\n",
       "<g id=\"node6\" class=\"node\">\n",
       "<title>Symbol(\\color{lightgrey} &#160;&#160;&#160;\\square)_(4,)</title>\n",
       "<ellipse fill=\"none\" stroke=\"#000000\" cx=\"1068.7399\" cy=\"-306\" rx=\"106.6812\" ry=\"18\"/>\n",
       "<text text-anchor=\"middle\" x=\"1068.7399\" y=\"-302.3\" font-family=\"Times,serif\" font-size=\"14.00\" fill=\"#000000\">color{lightgrey} &#160;&#160;&#160;square</text>\n",
       "</g>\n",
       "<!-- Mul(Symbol(\\color{lightgrey} &#160;&#160;&#160;&#160;&#160;&#160;\\square), Symbol(\\color{lightgrey} &#160;&#160;&#160;&#160;&#160;\\square), Symbol(\\color{lightgrey} &#160;&#160;&#160;&#160;\\square), Symbol(\\color{lightgrey} &#160;&#160;&#160;&#160;\\square ), Symbol(\\color{lightgrey} &#160;&#160;&#160;\\square), Pow(sin(Pow(Symbol(\\color{lightgrey} \\square), Pow(Symbol(\\color{lightgrey} &#160;\\square), Symbol(\\color{lightgrey} &#160;&#160;\\square)))), Integer(2)))_()&#45;&gt;Symbol(\\color{lightgrey} &#160;&#160;&#160;\\square)_(4,) -->\n",
       "<g id=\"edge5\" class=\"edge\">\n",
       "<title>Mul(Symbol(\\color{lightgrey} &#160;&#160;&#160;&#160;&#160;&#160;\\square), Symbol(\\color{lightgrey} &#160;&#160;&#160;&#160;&#160;\\square), Symbol(\\color{lightgrey} &#160;&#160;&#160;&#160;\\square), Symbol(\\color{lightgrey} &#160;&#160;&#160;&#160;\\square ), Symbol(\\color{lightgrey} &#160;&#160;&#160;\\square), Pow(sin(Pow(Symbol(\\color{lightgrey} \\square), Pow(Symbol(\\color{lightgrey} &#160;\\square), Symbol(\\color{lightgrey} &#160;&#160;\\square)))), Integer(2)))_()&#45;&gt;Symbol(\\color{lightgrey} &#160;&#160;&#160;\\square)_(4,)</title>\n",
       "<path fill=\"none\" stroke=\"#000000\" d=\"M739.8439,-372.7057C791.9759,-362.1324 910.7983,-338.0332 990.4158,-321.8854\"/>\n",
       "<polygon fill=\"#000000\" stroke=\"#000000\" points=\"991.3034,-325.2768 1000.4081,-319.8588 989.9119,-318.4165 991.3034,-325.2768\"/>\n",
       "</g>\n",
       "<!-- Pow(sin(Pow(Symbol(\\color{lightgrey} \\square), Pow(Symbol(\\color{lightgrey} &#160;\\square), Symbol(\\color{lightgrey} &#160;&#160;\\square)))), Integer(2))_(5,) -->\n",
       "<g id=\"node7\" class=\"node\">\n",
       "<title>Pow(sin(Pow(Symbol(\\color{lightgrey} \\square), Pow(Symbol(\\color{lightgrey} &#160;\\square), Symbol(\\color{lightgrey} &#160;&#160;\\square)))), Integer(2))_(5,)</title>\n",
       "<ellipse fill=\"none\" stroke=\"#000000\" cx=\"1220.7399\" cy=\"-306\" rx=\"27.0966\" ry=\"18\"/>\n",
       "<text text-anchor=\"middle\" x=\"1220.7399\" y=\"-302.3\" font-family=\"Times,serif\" font-size=\"14.00\" fill=\"#000000\">Pow</text>\n",
       "</g>\n",
       "<!-- Mul(Symbol(\\color{lightgrey} &#160;&#160;&#160;&#160;&#160;&#160;\\square), Symbol(\\color{lightgrey} &#160;&#160;&#160;&#160;&#160;\\square), Symbol(\\color{lightgrey} &#160;&#160;&#160;&#160;\\square), Symbol(\\color{lightgrey} &#160;&#160;&#160;&#160;\\square ), Symbol(\\color{lightgrey} &#160;&#160;&#160;\\square), Pow(sin(Pow(Symbol(\\color{lightgrey} \\square), Pow(Symbol(\\color{lightgrey} &#160;\\square), Symbol(\\color{lightgrey} &#160;&#160;\\square)))), Integer(2)))_()&#45;&gt;Pow(sin(Pow(Symbol(\\color{lightgrey} \\square), Pow(Symbol(\\color{lightgrey} &#160;\\square), Symbol(\\color{lightgrey} &#160;&#160;\\square)))), Integer(2))_(5,) -->\n",
       "<g id=\"edge6\" class=\"edge\">\n",
       "<title>Mul(Symbol(\\color{lightgrey} &#160;&#160;&#160;&#160;&#160;&#160;\\square), Symbol(\\color{lightgrey} &#160;&#160;&#160;&#160;&#160;\\square), Symbol(\\color{lightgrey} &#160;&#160;&#160;&#160;\\square), Symbol(\\color{lightgrey} &#160;&#160;&#160;&#160;\\square ), Symbol(\\color{lightgrey} &#160;&#160;&#160;\\square), Pow(sin(Pow(Symbol(\\color{lightgrey} \\square), Pow(Symbol(\\color{lightgrey} &#160;\\square), Symbol(\\color{lightgrey} &#160;&#160;\\square)))), Integer(2)))_()&#45;&gt;Pow(sin(Pow(Symbol(\\color{lightgrey} \\square), Pow(Symbol(\\color{lightgrey} &#160;\\square), Symbol(\\color{lightgrey} &#160;&#160;\\square)))), Integer(2))_(5,)</title>\n",
       "<path fill=\"none\" stroke=\"#000000\" d=\"M740.7963,-376.1425C827.9094,-369.9675 1100.3217,-349.0903 1184.7399,-324 1186.6489,-323.4326 1188.579,-322.7685 1190.5019,-322.0362\"/>\n",
       "<polygon fill=\"#000000\" stroke=\"#000000\" points=\"1192.1499,-325.1362 1199.9247,-317.9387 1189.3585,-318.7168 1192.1499,-325.1362\"/>\n",
       "</g>\n",
       "<!-- sin(Pow(Symbol(\\color{lightgrey} \\square), Pow(Symbol(\\color{lightgrey} &#160;\\square), Symbol(\\color{lightgrey} &#160;&#160;\\square))))_(5, 0) -->\n",
       "<g id=\"node8\" class=\"node\">\n",
       "<title>sin(Pow(Symbol(\\color{lightgrey} \\square), Pow(Symbol(\\color{lightgrey} &#160;\\square), Symbol(\\color{lightgrey} &#160;&#160;\\square))))_(5, 0)</title>\n",
       "<ellipse fill=\"none\" stroke=\"#000000\" cx=\"1184.7399\" cy=\"-234\" rx=\"27\" ry=\"18\"/>\n",
       "<text text-anchor=\"middle\" x=\"1184.7399\" y=\"-230.3\" font-family=\"Times,serif\" font-size=\"14.00\" fill=\"#000000\">sin</text>\n",
       "</g>\n",
       "<!-- Pow(sin(Pow(Symbol(\\color{lightgrey} \\square), Pow(Symbol(\\color{lightgrey} &#160;\\square), Symbol(\\color{lightgrey} &#160;&#160;\\square)))), Integer(2))_(5,)&#45;&gt;sin(Pow(Symbol(\\color{lightgrey} \\square), Pow(Symbol(\\color{lightgrey} &#160;\\square), Symbol(\\color{lightgrey} &#160;&#160;\\square))))_(5, 0) -->\n",
       "<g id=\"edge7\" class=\"edge\">\n",
       "<title>Pow(sin(Pow(Symbol(\\color{lightgrey} \\square), Pow(Symbol(\\color{lightgrey} &#160;\\square), Symbol(\\color{lightgrey} &#160;&#160;\\square)))), Integer(2))_(5,)&#45;&gt;sin(Pow(Symbol(\\color{lightgrey} \\square), Pow(Symbol(\\color{lightgrey} &#160;\\square), Symbol(\\color{lightgrey} &#160;&#160;\\square))))_(5, 0)</title>\n",
       "<path fill=\"none\" stroke=\"#000000\" d=\"M1212.0253,-288.5708C1207.7802,-280.0807 1202.5863,-269.6929 1197.8736,-260.2674\"/>\n",
       "<polygon fill=\"#000000\" stroke=\"#000000\" points=\"1200.9769,-258.6477 1193.3743,-251.2687 1194.7159,-261.7782 1200.9769,-258.6477\"/>\n",
       "</g>\n",
       "<!-- Integer(2)_(5, 1) -->\n",
       "<g id=\"node14\" class=\"node\">\n",
       "<title>Integer(2)_(5, 1)</title>\n",
       "<ellipse fill=\"none\" stroke=\"#000000\" cx=\"1256.7399\" cy=\"-234\" rx=\"27\" ry=\"18\"/>\n",
       "<text text-anchor=\"middle\" x=\"1256.7399\" y=\"-230.3\" font-family=\"Times,serif\" font-size=\"14.00\" fill=\"#000000\">2</text>\n",
       "</g>\n",
       "<!-- Pow(sin(Pow(Symbol(\\color{lightgrey} \\square), Pow(Symbol(\\color{lightgrey} &#160;\\square), Symbol(\\color{lightgrey} &#160;&#160;\\square)))), Integer(2))_(5,)&#45;&gt;Integer(2)_(5, 1) -->\n",
       "<g id=\"edge8\" class=\"edge\">\n",
       "<title>Pow(sin(Pow(Symbol(\\color{lightgrey} \\square), Pow(Symbol(\\color{lightgrey} &#160;\\square), Symbol(\\color{lightgrey} &#160;&#160;\\square)))), Integer(2))_(5,)&#45;&gt;Integer(2)_(5, 1)</title>\n",
       "<path fill=\"none\" stroke=\"#000000\" d=\"M1229.4545,-288.5708C1233.6996,-280.0807 1238.8935,-269.6929 1243.6062,-260.2674\"/>\n",
       "<polygon fill=\"#000000\" stroke=\"#000000\" points=\"1246.7639,-261.7782 1248.1056,-251.2687 1240.5029,-258.6477 1246.7639,-261.7782\"/>\n",
       "</g>\n",
       "<!-- Pow(Symbol(\\color{lightgrey} \\square), Pow(Symbol(\\color{lightgrey} &#160;\\square), Symbol(\\color{lightgrey} &#160;&#160;\\square)))_(5, 0, 0) -->\n",
       "<g id=\"node9\" class=\"node\">\n",
       "<title>Pow(Symbol(\\color{lightgrey} \\square), Pow(Symbol(\\color{lightgrey} &#160;\\square), Symbol(\\color{lightgrey} &#160;&#160;\\square)))_(5, 0, 0)</title>\n",
       "<ellipse fill=\"none\" stroke=\"#000000\" cx=\"1184.7399\" cy=\"-162\" rx=\"27.0966\" ry=\"18\"/>\n",
       "<text text-anchor=\"middle\" x=\"1184.7399\" y=\"-158.3\" font-family=\"Times,serif\" font-size=\"14.00\" fill=\"#000000\">Pow</text>\n",
       "</g>\n",
       "<!-- sin(Pow(Symbol(\\color{lightgrey} \\square), Pow(Symbol(\\color{lightgrey} &#160;\\square), Symbol(\\color{lightgrey} &#160;&#160;\\square))))_(5, 0)&#45;&gt;Pow(Symbol(\\color{lightgrey} \\square), Pow(Symbol(\\color{lightgrey} &#160;\\square), Symbol(\\color{lightgrey} &#160;&#160;\\square)))_(5, 0, 0) -->\n",
       "<g id=\"edge9\" class=\"edge\">\n",
       "<title>sin(Pow(Symbol(\\color{lightgrey} \\square), Pow(Symbol(\\color{lightgrey} &#160;\\square), Symbol(\\color{lightgrey} &#160;&#160;\\square))))_(5, 0)&#45;&gt;Pow(Symbol(\\color{lightgrey} \\square), Pow(Symbol(\\color{lightgrey} &#160;\\square), Symbol(\\color{lightgrey} &#160;&#160;\\square)))_(5, 0, 0)</title>\n",
       "<path fill=\"none\" stroke=\"#000000\" d=\"M1184.7399,-215.8314C1184.7399,-208.131 1184.7399,-198.9743 1184.7399,-190.4166\"/>\n",
       "<polygon fill=\"#000000\" stroke=\"#000000\" points=\"1188.24,-190.4132 1184.7399,-180.4133 1181.24,-190.4133 1188.24,-190.4132\"/>\n",
       "</g>\n",
       "<!-- Symbol(\\color{lightgrey} \\square)_(5, 0, 0, 0) -->\n",
       "<g id=\"node10\" class=\"node\">\n",
       "<title>Symbol(\\color{lightgrey} \\square)_(5, 0, 0, 0)</title>\n",
       "<ellipse fill=\"none\" stroke=\"#000000\" cx=\"1112.7399\" cy=\"-90\" rx=\"98.5829\" ry=\"18\"/>\n",
       "<text text-anchor=\"middle\" x=\"1112.7399\" y=\"-86.3\" font-family=\"Times,serif\" font-size=\"14.00\" fill=\"#000000\">color{lightgrey} square</text>\n",
       "</g>\n",
       "<!-- Pow(Symbol(\\color{lightgrey} \\square), Pow(Symbol(\\color{lightgrey} &#160;\\square), Symbol(\\color{lightgrey} &#160;&#160;\\square)))_(5, 0, 0)&#45;&gt;Symbol(\\color{lightgrey} \\square)_(5, 0, 0, 0) -->\n",
       "<g id=\"edge10\" class=\"edge\">\n",
       "<title>Pow(Symbol(\\color{lightgrey} \\square), Pow(Symbol(\\color{lightgrey} &#160;\\square), Symbol(\\color{lightgrey} &#160;&#160;\\square)))_(5, 0, 0)&#45;&gt;Symbol(\\color{lightgrey} \\square)_(5, 0, 0, 0)</title>\n",
       "<path fill=\"none\" stroke=\"#000000\" d=\"M1169.4706,-146.7307C1160.3027,-137.5628 1148.4139,-125.674 1137.8897,-115.1498\"/>\n",
       "<polygon fill=\"#000000\" stroke=\"#000000\" points=\"1140.0721,-112.3824 1130.5261,-107.7862 1135.1223,-117.3322 1140.0721,-112.3824\"/>\n",
       "</g>\n",
       "<!-- Pow(Symbol(\\color{lightgrey} &#160;\\square), Symbol(\\color{lightgrey} &#160;&#160;\\square))_(5, 0, 0, 1) -->\n",
       "<g id=\"node11\" class=\"node\">\n",
       "<title>Pow(Symbol(\\color{lightgrey} &#160;\\square), Symbol(\\color{lightgrey} &#160;&#160;\\square))_(5, 0, 0, 1)</title>\n",
       "<ellipse fill=\"none\" stroke=\"#000000\" cx=\"1256.7399\" cy=\"-90\" rx=\"27.0966\" ry=\"18\"/>\n",
       "<text text-anchor=\"middle\" x=\"1256.7399\" y=\"-86.3\" font-family=\"Times,serif\" font-size=\"14.00\" fill=\"#000000\">Pow</text>\n",
       "</g>\n",
       "<!-- Pow(Symbol(\\color{lightgrey} \\square), Pow(Symbol(\\color{lightgrey} &#160;\\square), Symbol(\\color{lightgrey} &#160;&#160;\\square)))_(5, 0, 0)&#45;&gt;Pow(Symbol(\\color{lightgrey} &#160;\\square), Symbol(\\color{lightgrey} &#160;&#160;\\square))_(5, 0, 0, 1) -->\n",
       "<g id=\"edge11\" class=\"edge\">\n",
       "<title>Pow(Symbol(\\color{lightgrey} \\square), Pow(Symbol(\\color{lightgrey} &#160;\\square), Symbol(\\color{lightgrey} &#160;&#160;\\square)))_(5, 0, 0)&#45;&gt;Pow(Symbol(\\color{lightgrey} &#160;\\square), Symbol(\\color{lightgrey} &#160;&#160;\\square))_(5, 0, 0, 1)</title>\n",
       "<path fill=\"none\" stroke=\"#000000\" d=\"M1200.0093,-146.7307C1209.9369,-136.803 1223.0552,-123.6847 1234.1762,-112.5637\"/>\n",
       "<polygon fill=\"#000000\" stroke=\"#000000\" points=\"1236.8964,-114.7933 1241.4926,-105.2473 1231.9466,-109.8436 1236.8964,-114.7933\"/>\n",
       "</g>\n",
       "<!-- Symbol(\\color{lightgrey} &#160;\\square)_(5, 0, 0, 1, 0) -->\n",
       "<g id=\"node12\" class=\"node\">\n",
       "<title>Symbol(\\color{lightgrey} &#160;\\square)_(5, 0, 0, 1, 0)</title>\n",
       "<ellipse fill=\"none\" stroke=\"#000000\" cx=\"1144.7399\" cy=\"-18\" rx=\"101.2821\" ry=\"18\"/>\n",
       "<text text-anchor=\"middle\" x=\"1144.7399\" y=\"-14.3\" font-family=\"Times,serif\" font-size=\"14.00\" fill=\"#000000\">color{lightgrey} &#160;square</text>\n",
       "</g>\n",
       "<!-- Pow(Symbol(\\color{lightgrey} &#160;\\square), Symbol(\\color{lightgrey} &#160;&#160;\\square))_(5, 0, 0, 1)&#45;&gt;Symbol(\\color{lightgrey} &#160;\\square)_(5, 0, 0, 1, 0) -->\n",
       "<g id=\"edge12\" class=\"edge\">\n",
       "<title>Pow(Symbol(\\color{lightgrey} &#160;\\square), Symbol(\\color{lightgrey} &#160;&#160;\\square))_(5, 0, 0, 1)&#45;&gt;Symbol(\\color{lightgrey} &#160;\\square)_(5, 0, 0, 1, 0)</title>\n",
       "<path fill=\"none\" stroke=\"#000000\" d=\"M1236.9744,-77.2936C1221.361,-67.2564 1199.162,-52.9857 1180.455,-40.9597\"/>\n",
       "<polygon fill=\"#000000\" stroke=\"#000000\" points=\"1182.1743,-37.9042 1171.8698,-35.4407 1178.389,-43.7924 1182.1743,-37.9042\"/>\n",
       "</g>\n",
       "<!-- Symbol(\\color{lightgrey} &#160;&#160;\\square)_(5, 0, 0, 1, 1) -->\n",
       "<g id=\"node13\" class=\"node\">\n",
       "<title>Symbol(\\color{lightgrey} &#160;&#160;\\square)_(5, 0, 0, 1, 1)</title>\n",
       "<ellipse fill=\"none\" stroke=\"#000000\" cx=\"1367.7399\" cy=\"-18\" rx=\"103.9815\" ry=\"18\"/>\n",
       "<text text-anchor=\"middle\" x=\"1367.7399\" y=\"-14.3\" font-family=\"Times,serif\" font-size=\"14.00\" fill=\"#000000\">color{lightgrey} &#160;&#160;square</text>\n",
       "</g>\n",
       "<!-- Pow(Symbol(\\color{lightgrey} &#160;\\square), Symbol(\\color{lightgrey} &#160;&#160;\\square))_(5, 0, 0, 1)&#45;&gt;Symbol(\\color{lightgrey} &#160;&#160;\\square)_(5, 0, 0, 1, 1) -->\n",
       "<g id=\"edge13\" class=\"edge\">\n",
       "<title>Pow(Symbol(\\color{lightgrey} &#160;\\square), Symbol(\\color{lightgrey} &#160;&#160;\\square))_(5, 0, 0, 1)&#45;&gt;Symbol(\\color{lightgrey} &#160;&#160;\\square)_(5, 0, 0, 1, 1)</title>\n",
       "<path fill=\"none\" stroke=\"#000000\" d=\"M1276.329,-77.2936C1291.8029,-67.2564 1313.8037,-52.9857 1332.3437,-40.9597\"/>\n",
       "<polygon fill=\"#000000\" stroke=\"#000000\" points=\"1334.3673,-43.819 1340.8522,-35.4407 1330.5579,-37.9463 1334.3673,-43.819\"/>\n",
       "</g>\n",
       "</g>\n",
       "</svg>\n"
      ],
      "text/plain": [
       "<graphviz.files.Source at 0x7faf877b1a20>"
      ]
     },
     "execution_count": 114,
     "metadata": {},
     "output_type": "execute_result"
    }
   ],
   "source": [
    "di=Source(dotprint(ex))\n",
    "di"
   ]
  },
  {
   "cell_type": "code",
   "execution_count": 115,
   "metadata": {},
   "outputs": [
    {
     "data": {
      "text/plain": [
       "'digraph{\\n\\n# Graph style\\n\"ordering\"=\"out\"\\n\"rankdir\"=\"TD\"\\n\\n#########\\n# Nodes #\\n#########\\n\\n\"Mul(Symbol(\\\\color{lightgrey}       \\\\square), Symbol(\\\\color{lightgrey}      \\\\square), Symbol(\\\\color{lightgrey}     \\\\square), Symbol(\\\\color{lightgrey}     \\\\square ), Symbol(\\\\color{lightgrey}    \\\\square), Pow(sin(Pow(Symbol(\\\\color{lightgrey} \\\\square), Pow(Symbol(\\\\color{lightgrey}  \\\\square), Symbol(\\\\color{lightgrey}   \\\\square)))), Integer(2)))_()\" [\"color\"=\"black\", \"label\"=\"Mul\", \"shape\"=\"ellipse\"];\\n\"Symbol(\\\\color{lightgrey}       \\\\square)_(0,)\" [\"color\"=\"black\", \"label\"=\"\\\\color{lightgrey}       \\\\square\", \"shape\"=\"ellipse\"];\\n\"Symbol(\\\\color{lightgrey}      \\\\square)_(1,)\" [\"color\"=\"black\", \"label\"=\"\\\\color{lightgrey}      \\\\square\", \"shape\"=\"ellipse\"];\\n\"Symbol(\\\\color{lightgrey}     \\\\square)_(2,)\" [\"color\"=\"black\", \"label\"=\"\\\\color{lightgrey}     \\\\square\", \"shape\"=\"ellipse\"];\\n\"Symbol(\\\\color{lightgrey}     \\\\square )_(3,)\" [\"color\"=\"black\", \"label\"=\"\\\\color{lightgrey}     \\\\square \", \"shape\"=\"ellipse\"];\\n\"Symbol(\\\\color{lightgrey}    \\\\square)_(4,)\" [\"color\"=\"black\", \"label\"=\"\\\\color{lightgrey}    \\\\square\", \"shape\"=\"ellipse\"];\\n\"Pow(sin(Pow(Symbol(\\\\color{lightgrey} \\\\square), Pow(Symbol(\\\\color{lightgrey}  \\\\square), Symbol(\\\\color{lightgrey}   \\\\square)))), Integer(2))_(5,)\" [\"color\"=\"black\", \"label\"=\"Pow\", \"shape\"=\"ellipse\"];\\n\"sin(Pow(Symbol(\\\\color{lightgrey} \\\\square), Pow(Symbol(\\\\color{lightgrey}  \\\\square), Symbol(\\\\color{lightgrey}   \\\\square))))_(5, 0)\" [\"color\"=\"black\", \"label\"=\"sin\", \"shape\"=\"ellipse\"];\\n\"Pow(Symbol(\\\\color{lightgrey} \\\\square), Pow(Symbol(\\\\color{lightgrey}  \\\\square), Symbol(\\\\color{lightgrey}   \\\\square)))_(5, 0, 0)\" [\"color\"=\"black\", \"label\"=\"Pow\", \"shape\"=\"ellipse\"];\\n\"Symbol(\\\\color{lightgrey} \\\\square)_(5, 0, 0, 0)\" [\"color\"=\"black\", \"label\"=\"\\\\color{lightgrey} \\\\square\", \"shape\"=\"ellipse\"];\\n\"Pow(Symbol(\\\\color{lightgrey}  \\\\square), Symbol(\\\\color{lightgrey}   \\\\square))_(5, 0, 0, 1)\" [\"color\"=\"black\", \"label\"=\"Pow\", \"shape\"=\"ellipse\"];\\n\"Symbol(\\\\color{lightgrey}  \\\\square)_(5, 0, 0, 1, 0)\" [\"color\"=\"black\", \"label\"=\"\\\\color{lightgrey}  \\\\square\", \"shape\"=\"ellipse\"];\\n\"Symbol(\\\\color{lightgrey}   \\\\square)_(5, 0, 0, 1, 1)\" [\"color\"=\"black\", \"label\"=\"\\\\color{lightgrey}   \\\\square\", \"shape\"=\"ellipse\"];\\n\"Integer(2)_(5, 1)\" [\"color\"=\"black\", \"label\"=\"2\", \"shape\"=\"ellipse\"];\\n\\n#########\\n# Edges #\\n#########\\n\\n\"Mul(Symbol(\\\\color{lightgrey}       \\\\square), Symbol(\\\\color{lightgrey}      \\\\square), Symbol(\\\\color{lightgrey}     \\\\square), Symbol(\\\\color{lightgrey}     \\\\square ), Symbol(\\\\color{lightgrey}    \\\\square), Pow(sin(Pow(Symbol(\\\\color{lightgrey} \\\\square), Pow(Symbol(\\\\color{lightgrey}  \\\\square), Symbol(\\\\color{lightgrey}   \\\\square)))), Integer(2)))_()\" -> \"Symbol(\\\\color{lightgrey}       \\\\square)_(0,)\";\\n\"Mul(Symbol(\\\\color{lightgrey}       \\\\square), Symbol(\\\\color{lightgrey}      \\\\square), Symbol(\\\\color{lightgrey}     \\\\square), Symbol(\\\\color{lightgrey}     \\\\square ), Symbol(\\\\color{lightgrey}    \\\\square), Pow(sin(Pow(Symbol(\\\\color{lightgrey} \\\\square), Pow(Symbol(\\\\color{lightgrey}  \\\\square), Symbol(\\\\color{lightgrey}   \\\\square)))), Integer(2)))_()\" -> \"Symbol(\\\\color{lightgrey}      \\\\square)_(1,)\";\\n\"Mul(Symbol(\\\\color{lightgrey}       \\\\square), Symbol(\\\\color{lightgrey}      \\\\square), Symbol(\\\\color{lightgrey}     \\\\square), Symbol(\\\\color{lightgrey}     \\\\square ), Symbol(\\\\color{lightgrey}    \\\\square), Pow(sin(Pow(Symbol(\\\\color{lightgrey} \\\\square), Pow(Symbol(\\\\color{lightgrey}  \\\\square), Symbol(\\\\color{lightgrey}   \\\\square)))), Integer(2)))_()\" -> \"Symbol(\\\\color{lightgrey}     \\\\square)_(2,)\";\\n\"Mul(Symbol(\\\\color{lightgrey}       \\\\square), Symbol(\\\\color{lightgrey}      \\\\square), Symbol(\\\\color{lightgrey}     \\\\square), Symbol(\\\\color{lightgrey}     \\\\square ), Symbol(\\\\color{lightgrey}    \\\\square), Pow(sin(Pow(Symbol(\\\\color{lightgrey} \\\\square), Pow(Symbol(\\\\color{lightgrey}  \\\\square), Symbol(\\\\color{lightgrey}   \\\\square)))), Integer(2)))_()\" -> \"Symbol(\\\\color{lightgrey}     \\\\square )_(3,)\";\\n\"Mul(Symbol(\\\\color{lightgrey}       \\\\square), Symbol(\\\\color{lightgrey}      \\\\square), Symbol(\\\\color{lightgrey}     \\\\square), Symbol(\\\\color{lightgrey}     \\\\square ), Symbol(\\\\color{lightgrey}    \\\\square), Pow(sin(Pow(Symbol(\\\\color{lightgrey} \\\\square), Pow(Symbol(\\\\color{lightgrey}  \\\\square), Symbol(\\\\color{lightgrey}   \\\\square)))), Integer(2)))_()\" -> \"Symbol(\\\\color{lightgrey}    \\\\square)_(4,)\";\\n\"Mul(Symbol(\\\\color{lightgrey}       \\\\square), Symbol(\\\\color{lightgrey}      \\\\square), Symbol(\\\\color{lightgrey}     \\\\square), Symbol(\\\\color{lightgrey}     \\\\square ), Symbol(\\\\color{lightgrey}    \\\\square), Pow(sin(Pow(Symbol(\\\\color{lightgrey} \\\\square), Pow(Symbol(\\\\color{lightgrey}  \\\\square), Symbol(\\\\color{lightgrey}   \\\\square)))), Integer(2)))_()\" -> \"Pow(sin(Pow(Symbol(\\\\color{lightgrey} \\\\square), Pow(Symbol(\\\\color{lightgrey}  \\\\square), Symbol(\\\\color{lightgrey}   \\\\square)))), Integer(2))_(5,)\";\\n\"Pow(sin(Pow(Symbol(\\\\color{lightgrey} \\\\square), Pow(Symbol(\\\\color{lightgrey}  \\\\square), Symbol(\\\\color{lightgrey}   \\\\square)))), Integer(2))_(5,)\" -> \"sin(Pow(Symbol(\\\\color{lightgrey} \\\\square), Pow(Symbol(\\\\color{lightgrey}  \\\\square), Symbol(\\\\color{lightgrey}   \\\\square))))_(5, 0)\";\\n\"Pow(sin(Pow(Symbol(\\\\color{lightgrey} \\\\square), Pow(Symbol(\\\\color{lightgrey}  \\\\square), Symbol(\\\\color{lightgrey}   \\\\square)))), Integer(2))_(5,)\" -> \"Integer(2)_(5, 1)\";\\n\"sin(Pow(Symbol(\\\\color{lightgrey} \\\\square), Pow(Symbol(\\\\color{lightgrey}  \\\\square), Symbol(\\\\color{lightgrey}   \\\\square))))_(5, 0)\" -> \"Pow(Symbol(\\\\color{lightgrey} \\\\square), Pow(Symbol(\\\\color{lightgrey}  \\\\square), Symbol(\\\\color{lightgrey}   \\\\square)))_(5, 0, 0)\";\\n\"Pow(Symbol(\\\\color{lightgrey} \\\\square), Pow(Symbol(\\\\color{lightgrey}  \\\\square), Symbol(\\\\color{lightgrey}   \\\\square)))_(5, 0, 0)\" -> \"Symbol(\\\\color{lightgrey} \\\\square)_(5, 0, 0, 0)\";\\n\"Pow(Symbol(\\\\color{lightgrey} \\\\square), Pow(Symbol(\\\\color{lightgrey}  \\\\square), Symbol(\\\\color{lightgrey}   \\\\square)))_(5, 0, 0)\" -> \"Pow(Symbol(\\\\color{lightgrey}  \\\\square), Symbol(\\\\color{lightgrey}   \\\\square))_(5, 0, 0, 1)\";\\n\"Pow(Symbol(\\\\color{lightgrey}  \\\\square), Symbol(\\\\color{lightgrey}   \\\\square))_(5, 0, 0, 1)\" -> \"Symbol(\\\\color{lightgrey}  \\\\square)_(5, 0, 0, 1, 0)\";\\n\"Pow(Symbol(\\\\color{lightgrey}  \\\\square), Symbol(\\\\color{lightgrey}   \\\\square))_(5, 0, 0, 1)\" -> \"Symbol(\\\\color{lightgrey}   \\\\square)_(5, 0, 0, 1, 1)\";\\n}'"
      ]
     },
     "execution_count": 115,
     "metadata": {},
     "output_type": "execute_result"
    }
   ],
   "source": [
    "dotprint(ex)"
   ]
  },
  {
   "cell_type": "code",
   "execution_count": 117,
   "metadata": {},
   "outputs": [
    {
     "ename": "AttributeError",
     "evalue": "module 'plotly.graph_objs' has no attribute 'FigureWidget'",
     "output_type": "error",
     "traceback": [
      "\u001b[0;31m---------------------------------------------------------------------------\u001b[0m",
      "\u001b[0;31mAttributeError\u001b[0m                            Traceback (most recent call last)",
      "\u001b[0;32m<ipython-input-117-1e035bf213cb>\u001b[0m in \u001b[0;36m<module>\u001b[0;34m()\u001b[0m\n\u001b[1;32m      1\u001b[0m \u001b[0;32mimport\u001b[0m \u001b[0mplotly\u001b[0m\u001b[0;34m.\u001b[0m\u001b[0mgraph_objs\u001b[0m \u001b[0;32mas\u001b[0m \u001b[0mgo\u001b[0m\u001b[0;34m\u001b[0m\u001b[0m\n\u001b[0;32m----> 2\u001b[0;31m \u001b[0mfig\u001b[0m \u001b[0;34m=\u001b[0m \u001b[0mgo\u001b[0m\u001b[0;34m.\u001b[0m\u001b[0mFigureWidget\u001b[0m\u001b[0;34m(\u001b[0m\u001b[0;34m)\u001b[0m\u001b[0;34m\u001b[0m\u001b[0m\n\u001b[0m\u001b[1;32m      3\u001b[0m \u001b[0;31m# Display an empty figure\u001b[0m\u001b[0;34m\u001b[0m\u001b[0;34m\u001b[0m\u001b[0m\n\u001b[1;32m      4\u001b[0m \u001b[0mfig\u001b[0m\u001b[0;34m\u001b[0m\u001b[0m\n\u001b[1;32m      5\u001b[0m \u001b[0;34m\u001b[0m\u001b[0m\n",
      "\u001b[0;31mAttributeError\u001b[0m: module 'plotly.graph_objs' has no attribute 'FigureWidget'"
     ]
    }
   ],
   "source": [
    "import plotly.graph_objs as go\n",
    "fig = go.FigureWidget()\n",
    "# Display an empty figure\n",
    "fig\n",
    "\n",
    "# Add a scatter chart\n",
    "fig.add_scatter(y=[2, 1, 4, 3])\n",
    "# Add a bar chart\n",
    "fig.add_bar(y=[1, 4, 3, 2])\n",
    "# Add a title\n",
    "fig.layout.title = 'Hello FigureWidget'"
   ]
  },
  {
   "cell_type": "code",
   "execution_count": 118,
   "metadata": {},
   "outputs": [
    {
     "ename": "ModuleNotFoundError",
     "evalue": "No module named 'dash'",
     "output_type": "error",
     "traceback": [
      "\u001b[0;31m---------------------------------------------------------------------------\u001b[0m",
      "\u001b[0;31mModuleNotFoundError\u001b[0m                       Traceback (most recent call last)",
      "\u001b[0;32m<ipython-input-118-d98a9ca30d6d>\u001b[0m in \u001b[0;36m<module>\u001b[0;34m()\u001b[0m\n\u001b[0;32m----> 1\u001b[0;31m \u001b[0;32mimport\u001b[0m \u001b[0mdash\u001b[0m\u001b[0;34m\u001b[0m\u001b[0m\n\u001b[0m\u001b[1;32m      2\u001b[0m \u001b[0;32mfrom\u001b[0m \u001b[0mdash\u001b[0m\u001b[0;34m.\u001b[0m\u001b[0mdependencies\u001b[0m \u001b[0;32mimport\u001b[0m \u001b[0mInput\u001b[0m\u001b[0;34m,\u001b[0m \u001b[0mOutput\u001b[0m\u001b[0;34m\u001b[0m\u001b[0m\n\u001b[1;32m      3\u001b[0m \u001b[0;32mimport\u001b[0m \u001b[0mdash_core_components\u001b[0m \u001b[0;32mas\u001b[0m \u001b[0mdcc\u001b[0m\u001b[0;34m\u001b[0m\u001b[0m\n\u001b[1;32m      4\u001b[0m \u001b[0;32mimport\u001b[0m \u001b[0mdash_html_components\u001b[0m \u001b[0;32mas\u001b[0m \u001b[0mhtml\u001b[0m\u001b[0;34m\u001b[0m\u001b[0m\n\u001b[1;32m      5\u001b[0m \u001b[0;32mfrom\u001b[0m \u001b[0mpandas_datareader\u001b[0m \u001b[0;32mimport\u001b[0m \u001b[0mdata\u001b[0m \u001b[0;32mas\u001b[0m \u001b[0mweb\u001b[0m\u001b[0;34m\u001b[0m\u001b[0m\n",
      "\u001b[0;31mModuleNotFoundError\u001b[0m: No module named 'dash'"
     ]
    }
   ],
   "source": [
    "import dash\n",
    "from dash.dependencies import Input, Output\n",
    "import dash_core_components as dcc\n",
    "import dash_html_components as html\n",
    "from pandas_datareader import data as web\n",
    "from datetime import datetime as dt\n",
    "\n",
    "app = dash.Dash()\n",
    "\n",
    "app.layout = html.Div([\n",
    "    html.H1('Stock Tickers'),\n",
    "    dcc.Dropdown(\n",
    "        id='my-dropdown',\n",
    "        options=[\n",
    "            {'label': 'Coke', 'value': 'COKE'},\n",
    "            {'label': 'Tesla', 'value': 'TSLA'},\n",
    "            {'label': 'Apple', 'value': 'AAPL'}\n",
    "        ],\n",
    "        value='COKE'\n",
    "    ),\n",
    "    dcc.Graph(id='my-graph')\n",
    "])"
   ]
  },
  {
   "cell_type": "code",
   "execution_count": 129,
   "metadata": {},
   "outputs": [
    {
     "ename": "ModuleNotFoundError",
     "evalue": "No module named 'cufflinks'",
     "output_type": "error",
     "traceback": [
      "\u001b[0;31m---------------------------------------------------------------------------\u001b[0m",
      "\u001b[0;31mModuleNotFoundError\u001b[0m                       Traceback (most recent call last)",
      "\u001b[0;32m<ipython-input-129-579a71043cf0>\u001b[0m in \u001b[0;36m<module>\u001b[0;34m()\u001b[0m\n\u001b[1;32m      2\u001b[0m \u001b[0;32mimport\u001b[0m \u001b[0mplotly\u001b[0m\u001b[0;34m.\u001b[0m\u001b[0mgraph_objs\u001b[0m \u001b[0;32mas\u001b[0m \u001b[0mgo\u001b[0m\u001b[0;34m\u001b[0m\u001b[0m\n\u001b[1;32m      3\u001b[0m \u001b[0;32mimport\u001b[0m \u001b[0mplotly\u001b[0m\u001b[0;34m\u001b[0m\u001b[0m\n\u001b[0;32m----> 4\u001b[0;31m \u001b[0;32mimport\u001b[0m \u001b[0mcufflinks\u001b[0m \u001b[0;32mas\u001b[0m \u001b[0mcf\u001b[0m\u001b[0;34m\u001b[0m\u001b[0m\n\u001b[0m\u001b[1;32m      5\u001b[0m \u001b[0mcf\u001b[0m\u001b[0;34m.\u001b[0m\u001b[0mgo_offline\u001b[0m\u001b[0;34m(\u001b[0m\u001b[0;34m)\u001b[0m\u001b[0;34m\u001b[0m\u001b[0m\n\u001b[1;32m      6\u001b[0m trace1 = go.Scatter(x=[1,2,3], y=[4,5,6], marker={'color': 'red', 'symbol': 104, 'size': \"10\"}, \n",
      "\u001b[0;31mModuleNotFoundError\u001b[0m: No module named 'cufflinks'"
     ]
    }
   ],
   "source": [
    "import plotly.plotly as py\n",
    "import plotly.graph_objs as go\n",
    "import plotly\n",
    "import cufflinks as cf\n",
    "cf.go_offline()\n",
    "trace1 = go.Scatter(x=[1,2,3], y=[4,5,6], marker={'color': 'red', 'symbol': 104, 'size': \"10\"}, \n",
    "                    mode=\"markers+lines\",  text=[\"one\",\"two\",\"three\"], name='1st Trace')\n",
    "                                               \n",
    "\n"
   ]
  },
  {
   "cell_type": "code",
   "execution_count": 128,
   "metadata": {},
   "outputs": [
    {
     "name": "stdout",
     "output_type": "stream",
     "text": [
      "Aw, snap! We didn't get a username with your request.\n",
      "\n",
      "Don't have an account? https://plot.ly/api_signup\n",
      "\n",
      "Questions? accounts@plot.ly\n"
     ]
    },
    {
     "ename": "PlotlyError",
     "evalue": "Because you didn't supply a 'file_id' in the call, we're assuming you're trying to snag a figure from a url. You supplied the url, '', we expected it to start with 'https://plot.ly'.\nRun help on this function for more information.",
     "output_type": "error",
     "traceback": [
      "\u001b[0;31m---------------------------------------------------------------------------\u001b[0m",
      "\u001b[0;31mPlotlyError\u001b[0m                               Traceback (most recent call last)",
      "\u001b[0;32m<ipython-input-128-6699b25092fb>\u001b[0m in \u001b[0;36m<module>\u001b[0;34m()\u001b[0m\n\u001b[1;32m      2\u001b[0m \u001b[0mlayout\u001b[0m\u001b[0;34m=\u001b[0m\u001b[0mgo\u001b[0m\u001b[0;34m.\u001b[0m\u001b[0mLayout\u001b[0m\u001b[0;34m(\u001b[0m\u001b[0mtitle\u001b[0m\u001b[0;34m=\u001b[0m\u001b[0;34m\"First Plot\"\u001b[0m\u001b[0;34m,\u001b[0m \u001b[0mxaxis\u001b[0m\u001b[0;34m=\u001b[0m\u001b[0;34m{\u001b[0m\u001b[0;34m'title'\u001b[0m\u001b[0;34m:\u001b[0m\u001b[0;34m'x1'\u001b[0m\u001b[0;34m}\u001b[0m\u001b[0;34m,\u001b[0m \u001b[0myaxis\u001b[0m\u001b[0;34m=\u001b[0m\u001b[0;34m{\u001b[0m\u001b[0;34m'title'\u001b[0m\u001b[0;34m:\u001b[0m\u001b[0;34m'x2'\u001b[0m\u001b[0;34m}\u001b[0m\u001b[0;34m)\u001b[0m\u001b[0;34m\u001b[0m\u001b[0m\n\u001b[1;32m      3\u001b[0m \u001b[0mfigure\u001b[0m\u001b[0;34m=\u001b[0m\u001b[0mgo\u001b[0m\u001b[0;34m.\u001b[0m\u001b[0mFigure\u001b[0m\u001b[0;34m(\u001b[0m\u001b[0mdata\u001b[0m\u001b[0;34m=\u001b[0m\u001b[0mdata\u001b[0m\u001b[0;34m,\u001b[0m\u001b[0mlayout\u001b[0m\u001b[0;34m=\u001b[0m\u001b[0mlayout\u001b[0m\u001b[0;34m)\u001b[0m\u001b[0;34m\u001b[0m\u001b[0m\n\u001b[0;32m----> 4\u001b[0;31m \u001b[0mpy\u001b[0m\u001b[0;34m.\u001b[0m\u001b[0miplot\u001b[0m\u001b[0;34m(\u001b[0m\u001b[0mfigure\u001b[0m\u001b[0;34m,\u001b[0m \u001b[0mfilename\u001b[0m\u001b[0;34m=\u001b[0m\u001b[0;34m'pyguide_1'\u001b[0m\u001b[0;34m)\u001b[0m\u001b[0;34m\u001b[0m\u001b[0m\n\u001b[0m",
      "\u001b[0;32m/usr/lib/python3.6/site-packages/plotly/plotly/plotly.py\u001b[0m in \u001b[0;36miplot\u001b[0;34m(figure_or_data, **plot_options)\u001b[0m\n\u001b[1;32m    162\u001b[0m         \u001b[0membed_options\u001b[0m\u001b[0;34m[\u001b[0m\u001b[0;34m'height'\u001b[0m\u001b[0;34m]\u001b[0m \u001b[0;34m=\u001b[0m \u001b[0mstr\u001b[0m\u001b[0;34m(\u001b[0m\u001b[0membed_options\u001b[0m\u001b[0;34m[\u001b[0m\u001b[0;34m'height'\u001b[0m\u001b[0;34m]\u001b[0m\u001b[0;34m)\u001b[0m \u001b[0;34m+\u001b[0m \u001b[0;34m'px'\u001b[0m\u001b[0;34m\u001b[0m\u001b[0m\n\u001b[1;32m    163\u001b[0m \u001b[0;34m\u001b[0m\u001b[0m\n\u001b[0;32m--> 164\u001b[0;31m     \u001b[0;32mreturn\u001b[0m \u001b[0mtools\u001b[0m\u001b[0;34m.\u001b[0m\u001b[0membed\u001b[0m\u001b[0;34m(\u001b[0m\u001b[0murl\u001b[0m\u001b[0;34m,\u001b[0m \u001b[0;34m**\u001b[0m\u001b[0membed_options\u001b[0m\u001b[0;34m)\u001b[0m\u001b[0;34m\u001b[0m\u001b[0m\n\u001b[0m\u001b[1;32m    165\u001b[0m \u001b[0;34m\u001b[0m\u001b[0m\n\u001b[1;32m    166\u001b[0m \u001b[0;34m\u001b[0m\u001b[0m\n",
      "\u001b[0;32m/usr/lib/python3.6/site-packages/plotly/tools.py\u001b[0m in \u001b[0;36membed\u001b[0;34m(file_owner_or_url, file_id, width, height)\u001b[0m\n\u001b[1;32m    388\u001b[0m         \u001b[0;32melse\u001b[0m\u001b[0;34m:\u001b[0m\u001b[0;34m\u001b[0m\u001b[0m\n\u001b[1;32m    389\u001b[0m             \u001b[0murl\u001b[0m \u001b[0;34m=\u001b[0m \u001b[0mfile_owner_or_url\u001b[0m\u001b[0;34m\u001b[0m\u001b[0m\n\u001b[0;32m--> 390\u001b[0;31m         \u001b[0;32mreturn\u001b[0m \u001b[0mPlotlyDisplay\u001b[0m\u001b[0;34m(\u001b[0m\u001b[0murl\u001b[0m\u001b[0;34m,\u001b[0m \u001b[0mwidth\u001b[0m\u001b[0;34m,\u001b[0m \u001b[0mheight\u001b[0m\u001b[0;34m)\u001b[0m\u001b[0;34m\u001b[0m\u001b[0m\n\u001b[0m\u001b[1;32m    391\u001b[0m     \u001b[0;32melse\u001b[0m\u001b[0;34m:\u001b[0m\u001b[0;34m\u001b[0m\u001b[0m\n\u001b[1;32m    392\u001b[0m         if (get_config_defaults()['plotly_domain']\n",
      "\u001b[0;32m/usr/lib/python3.6/site-packages/plotly/tools.py\u001b[0m in \u001b[0;36m__init__\u001b[0;34m(self, url, width, height)\u001b[0m\n\u001b[1;32m   1432\u001b[0m         \u001b[0;32mdef\u001b[0m \u001b[0m__init__\u001b[0m\u001b[0;34m(\u001b[0m\u001b[0mself\u001b[0m\u001b[0;34m,\u001b[0m \u001b[0murl\u001b[0m\u001b[0;34m,\u001b[0m \u001b[0mwidth\u001b[0m\u001b[0;34m,\u001b[0m \u001b[0mheight\u001b[0m\u001b[0;34m)\u001b[0m\u001b[0;34m:\u001b[0m\u001b[0;34m\u001b[0m\u001b[0m\n\u001b[1;32m   1433\u001b[0m             \u001b[0mself\u001b[0m\u001b[0;34m.\u001b[0m\u001b[0mresource\u001b[0m \u001b[0;34m=\u001b[0m \u001b[0murl\u001b[0m\u001b[0;34m\u001b[0m\u001b[0m\n\u001b[0;32m-> 1434\u001b[0;31m             \u001b[0mself\u001b[0m\u001b[0;34m.\u001b[0m\u001b[0membed_code\u001b[0m \u001b[0;34m=\u001b[0m \u001b[0mget_embed\u001b[0m\u001b[0;34m(\u001b[0m\u001b[0murl\u001b[0m\u001b[0;34m,\u001b[0m \u001b[0mwidth\u001b[0m\u001b[0;34m=\u001b[0m\u001b[0mwidth\u001b[0m\u001b[0;34m,\u001b[0m \u001b[0mheight\u001b[0m\u001b[0;34m=\u001b[0m\u001b[0mheight\u001b[0m\u001b[0;34m)\u001b[0m\u001b[0;34m\u001b[0m\u001b[0m\n\u001b[0m\u001b[1;32m   1435\u001b[0m             \u001b[0msuper\u001b[0m\u001b[0;34m(\u001b[0m\u001b[0mPlotlyDisplay\u001b[0m\u001b[0;34m,\u001b[0m \u001b[0mself\u001b[0m\u001b[0;34m)\u001b[0m\u001b[0;34m.\u001b[0m\u001b[0m__init__\u001b[0m\u001b[0;34m(\u001b[0m\u001b[0mdata\u001b[0m\u001b[0;34m=\u001b[0m\u001b[0mself\u001b[0m\u001b[0;34m.\u001b[0m\u001b[0membed_code\u001b[0m\u001b[0;34m)\u001b[0m\u001b[0;34m\u001b[0m\u001b[0m\n\u001b[1;32m   1436\u001b[0m \u001b[0;34m\u001b[0m\u001b[0m\n",
      "\u001b[0;32m/usr/lib/python3.6/site-packages/plotly/tools.py\u001b[0m in \u001b[0;36mget_embed\u001b[0;34m(file_owner_or_url, file_id, width, height)\u001b[0m\n\u001b[1;32m    293\u001b[0m                 \u001b[0;34m\"'{1}'.\"\u001b[0m\u001b[0;34m\u001b[0m\u001b[0m\n\u001b[1;32m    294\u001b[0m                 \u001b[0;34m\"\\nRun help on this function for more information.\"\u001b[0m\u001b[0;34m\u001b[0m\u001b[0m\n\u001b[0;32m--> 295\u001b[0;31m                 \"\".format(url, plotly_rest_url))\n\u001b[0m\u001b[1;32m    296\u001b[0m         \u001b[0murlsplit\u001b[0m \u001b[0;34m=\u001b[0m \u001b[0msix\u001b[0m\u001b[0;34m.\u001b[0m\u001b[0mmoves\u001b[0m\u001b[0;34m.\u001b[0m\u001b[0murllib\u001b[0m\u001b[0;34m.\u001b[0m\u001b[0mparse\u001b[0m\u001b[0;34m.\u001b[0m\u001b[0murlparse\u001b[0m\u001b[0;34m(\u001b[0m\u001b[0murl\u001b[0m\u001b[0;34m)\u001b[0m\u001b[0;34m\u001b[0m\u001b[0m\n\u001b[1;32m    297\u001b[0m         \u001b[0mfile_owner\u001b[0m \u001b[0;34m=\u001b[0m \u001b[0murlsplit\u001b[0m\u001b[0;34m.\u001b[0m\u001b[0mpath\u001b[0m\u001b[0;34m.\u001b[0m\u001b[0msplit\u001b[0m\u001b[0;34m(\u001b[0m\u001b[0;34m'/'\u001b[0m\u001b[0;34m)\u001b[0m\u001b[0;34m[\u001b[0m\u001b[0;36m1\u001b[0m\u001b[0;34m]\u001b[0m\u001b[0;34m.\u001b[0m\u001b[0msplit\u001b[0m\u001b[0;34m(\u001b[0m\u001b[0;34m'~'\u001b[0m\u001b[0;34m)\u001b[0m\u001b[0;34m[\u001b[0m\u001b[0;36m1\u001b[0m\u001b[0;34m]\u001b[0m\u001b[0;34m\u001b[0m\u001b[0m\n",
      "\u001b[0;31mPlotlyError\u001b[0m: Because you didn't supply a 'file_id' in the call, we're assuming you're trying to snag a figure from a url. You supplied the url, '', we expected it to start with 'https://plot.ly'.\nRun help on this function for more information."
     ]
    }
   ],
   "source": [
    "data=go.Data([trace1])\n",
    "layout=go.Layout(title=\"First Plot\", xaxis={'title':'x1'}, yaxis={'title':'x2'})\n",
    "figure=go.Figure(data=data,layout=layout)\n",
    "py.iplot(figure, filename='pyguide_1')"
   ]
  },
  {
   "cell_type": "code",
   "execution_count": 127,
   "metadata": {},
   "outputs": [
    {
     "data": {
      "text/html": [
       "<script>requirejs.config({paths: { 'plotly': ['https://cdn.plot.ly/plotly-latest.min']},});if(!window.Plotly) {{require(['plotly'],function(plotly) {window.Plotly=plotly;});}}</script>"
      ],
      "text/vnd.plotly.v1+html": [
       "<script>requirejs.config({paths: { 'plotly': ['https://cdn.plot.ly/plotly-latest.min']},});if(!window.Plotly) {{require(['plotly'],function(plotly) {window.Plotly=plotly;});}}</script>"
      ]
     },
     "metadata": {},
     "output_type": "display_data"
    },
    {
     "data": {
      "application/vnd.plotly.v1+json": {
       "data": [
        {
         "type": "scatter",
         "x": [
          1,
          2,
          3,
          4
         ],
         "y": [
          4,
          3,
          2,
          1
         ]
        }
       ],
       "layout": {
        "title": "hello world"
       }
      },
      "text/html": [
       "<div id=\"d718f3e1-2678-44f0-8a94-55f80ebdf2fd\" style=\"height: 525px; width: 100%;\" class=\"plotly-graph-div\"></div><script type=\"text/javascript\">require([\"plotly\"], function(Plotly) { window.PLOTLYENV=window.PLOTLYENV || {};window.PLOTLYENV.BASE_URL=\"https://plot.ly\";Plotly.newPlot(\"d718f3e1-2678-44f0-8a94-55f80ebdf2fd\", [{\"type\": \"scatter\", \"x\": [1, 2, 3, 4], \"y\": [4, 3, 2, 1]}], {\"title\": \"hello world\"}, {\"showLink\": true, \"linkText\": \"Export to plot.ly\"})});</script>"
      ],
      "text/vnd.plotly.v1+html": [
       "<div id=\"d718f3e1-2678-44f0-8a94-55f80ebdf2fd\" style=\"height: 525px; width: 100%;\" class=\"plotly-graph-div\"></div><script type=\"text/javascript\">require([\"plotly\"], function(Plotly) { window.PLOTLYENV=window.PLOTLYENV || {};window.PLOTLYENV.BASE_URL=\"https://plot.ly\";Plotly.newPlot(\"d718f3e1-2678-44f0-8a94-55f80ebdf2fd\", [{\"type\": \"scatter\", \"x\": [1, 2, 3, 4], \"y\": [4, 3, 2, 1]}], {\"title\": \"hello world\"}, {\"showLink\": true, \"linkText\": \"Export to plot.ly\"})});</script>"
      ]
     },
     "metadata": {},
     "output_type": "display_data"
    }
   ],
   "source": [
    "import plotly\n",
    "import plotly.graph_objs as go\n",
    "\n",
    "plotly.offline.init_notebook_mode(connected=True)\n",
    "\n",
    "plotly.offline.iplot({\n",
    "    \"data\": [go.Scatter(x=[1, 2, 3, 4], y=[4, 3, 2, 1])],\n",
    "    \"layout\": go.Layout(title=\"hello world\")\n",
    "})"
   ]
  },
  {
   "cell_type": "code",
   "execution_count": 14,
   "metadata": {},
   "outputs": [
    {
     "ename": "SyntaxError",
     "evalue": "invalid character in identifier (<ipython-input-14-fd5ce34bbf5b>, line 1)",
     "output_type": "error",
     "traceback": [
      "\u001b[0;36m  File \u001b[0;32m\"<ipython-input-14-fd5ce34bbf5b>\"\u001b[0;36m, line \u001b[0;32m1\u001b[0m\n\u001b[0;31m    ∂∂tf(x,t)\u001b[0m\n\u001b[0m       ^\u001b[0m\n\u001b[0;31mSyntaxError\u001b[0m\u001b[0;31m:\u001b[0m invalid character in identifier\n"
     ]
    }
   ],
   "source": [
    "∂∂tf(x,t)"
   ]
  },
  {
   "cell_type": "code",
   "execution_count": null,
   "metadata": {},
   "outputs": [],
   "source": []
  }
 ],
 "metadata": {
  "kernelspec": {
   "display_name": "Python 3.6",
   "language": "python",
   "name": "python_3.6"
  },
  "language_info": {
   "codemirror_mode": {
    "name": "ipython",
    "version": 3
   },
   "file_extension": ".py",
   "mimetype": "text/x-python",
   "name": "python",
   "nbconvert_exporter": "python",
   "pygments_lexer": "ipython3",
   "version": "3.6.5"
  }
 },
 "nbformat": 4,
 "nbformat_minor": 2
}
