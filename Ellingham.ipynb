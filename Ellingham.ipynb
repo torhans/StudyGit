{
 "cells": [
  {
   "cell_type": "code",
   "execution_count": null,
   "metadata": {},
   "outputs": [],
   "source": [
    "from scipy.constants import R\n",
    "import numpy as np\n",
    "import matplotlib.pyplot as plt\n",
    "import matplotlib.animation as animation\n",
    "from matplotlib.ticker import EngFormatter,StrMethodFormatter"
   ]
  },
  {
   "cell_type": "code",
   "execution_count": null,
   "metadata": {},
   "outputs": [],
   "source": [
    "S_O2=205.028552\n",
    "S_Pb=64.76832\n",
    "H_PbO=-219000\n",
    "S_PbO=66.5\n",
    "S_Fe=27.27968\n",
    "H_Fe3O4=-1118.3832e3\n",
    "S_Fe3O4=146.44\n",
    "H_Fe2O3=-824.248e3\n",
    "S_Fe2O3=87.40376\n",
    "S_Ni=29.87376\n",
    "H_NiO=-239.7432e3\n",
    "S_NiO=37.99072\n",
    "H_ZrO2=-1097.46e3\n",
    "S_ZrO2=50.34\n",
    "S_Zr=39.0"
   ]
  },
  {
   "cell_type": "code",
   "execution_count": null,
   "metadata": {},
   "outputs": [],
   "source": [
    "T=np.linspace(0,2000+273.15,1000)"
   ]
  },
  {
   "cell_type": "code",
   "execution_count": null,
   "metadata": {},
   "outputs": [],
   "source": [
    "%matplotlib notebook\n",
    "plt.semilogy(T-273.15,np.exp((2*H_NiO-(2*S_NiO-S_O2-2*S_Ni)*(T))/(R*T)))\n",
    "plt.ylim(1e-20,1e-11)\n",
    "plt.xlim(500,800)\n",
    "plt.grid()"
   ]
  },
  {
   "cell_type": "code",
   "execution_count": null,
   "metadata": {},
   "outputs": [],
   "source": [
    "%matplotlib notebook\n",
    "fig, ax = plt.subplots()\n",
    "formatterJ = EngFormatter(unit='J/mole')\n",
    "formatterT = StrMethodFormatter('{x:.0f}C')\n",
    "#formatterT = EngFormatter(unit='K')\n",
    "ax.yaxis.set_major_formatter(formatterJ)\n",
    "ax.xaxis.set_major_formatter(formatterT)\n",
    "\n",
    "#ax.plot(T-273.15,2*H_PbO-(2*S_PbO-S_O2-2*S_Pb)*(T),label=r\"Pb+O$_2$ = PbO\")\n",
    "#ax.plot(T-273.15,6*H_Fe2O3-4*H_Fe3O4-(6*S_Fe2O3-4*S_Fe3O4-S_O2)*T,label=r\"4Fe$_3$O$_4$+O$_2$ = 6Fe$_2$O$_3$\")\n",
    "ax.plot(T-273.15,2*H_NiO-(2*S_NiO-2*S_Ni-S_O2)*T,label=r\"2Ni+O$_2$ = 2NiO\")\n",
    "ax.plot(T-273.15,H_ZrO2-(S_ZrO2-S_Zr-S_O2)*T,label=r\"Zr+O$_2$ = ZrO$_2$\")\n",
    "ax.plot(T-273.15,np.log((10**(-2)))*R*T,\"--\",color=\"lightgrey\",label=\"pO$_2$ atm\")\n",
    "for oc in range(-2,-32,-2):\n",
    "    ax.plot(T-273.15,np.log((10**oc))*R*T,\"--\",color=\"lightgrey\")\n",
    "    ax.text(1800,np.log((10**oc))*R*(1800+273.15),r\"10$^{\"+str(oc)+\"}$\")\n",
    "for oc in [-34,-40,-48,-58,-70,-90,-120,-170,-300]:\n",
    "    ax.plot(T-273.15,np.log((10**oc))*R*T,\"--\",color=\"lightgrey\")\n",
    "    ax.text(-1.18e6/(np.log((10**oc))*R)-273.15,-1.18e6,r\"10$^{\"+str(oc)+\"}$\")\n",
    "plt.ylim(-1.2e6,0)\n",
    "plt.xlim(-273.15,2000)\n",
    "ax.grid()\n",
    "ax.legend(loc=2)"
   ]
  },
  {
   "cell_type": "code",
   "execution_count": null,
   "metadata": {},
   "outputs": [],
   "source": [
    "HPbO-SPbO*300+205/2*300+64*300"
   ]
  },
  {
   "cell_type": "code",
   "execution_count": null,
   "metadata": {},
   "outputs": [],
   "source": [
    "T0=273.15+26\n",
    "print(H_Fe2O3-(S_Fe2O3-2*S_Fe-1.5*S_O2)*T0)\n",
    "T0=298\n",
    "print(H_Fe2O3-(S_Fe2O3-2*S_Fe-1.5*S_O2)*T0)\n",
    "T0=298.6\n",
    "print(H_Fe2O3-(S_Fe2O3-2*S_Fe-1.5*S_O2)*T0)"
   ]
  },
  {
   "cell_type": "code",
   "execution_count": null,
   "metadata": {},
   "outputs": [],
   "source": [
    "T0=298.6\n",
    "print(H_Fe3O4-(S_Fe3O4-3*S_Fe-2*S_O2)*T0)"
   ]
  },
  {
   "cell_type": "code",
   "execution_count": null,
   "metadata": {},
   "outputs": [],
   "source": [
    "[x for x in range(-2,-40,-2)]"
   ]
  },
  {
   "cell_type": "code",
   "execution_count": null,
   "metadata": {},
   "outputs": [],
   "source": [
    "R"
   ]
  },
  {
   "cell_type": "code",
   "execution_count": null,
   "metadata": {},
   "outputs": [],
   "source": []
  }
 ],
 "metadata": {
  "kernelspec": {
   "display_name": "Python 3",
   "language": "python",
   "name": "python3"
  },
  "language_info": {
   "codemirror_mode": {
    "name": "ipython",
    "version": 3
   },
   "file_extension": ".py",
   "mimetype": "text/x-python",
   "name": "python",
   "nbconvert_exporter": "python",
   "pygments_lexer": "ipython3",
   "version": "3.4.6"
  }
 },
 "nbformat": 4,
 "nbformat_minor": 2
}
